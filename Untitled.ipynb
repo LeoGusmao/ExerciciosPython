{
 "cells": [
  {
   "cell_type": "code",
   "execution_count": 1,
   "id": "d20f9b38",
   "metadata": {},
   "outputs": [],
   "source": [
    "import yfinance as yf\n",
    "import pandas as pd"
   ]
  },
  {
   "cell_type": "code",
   "execution_count": 7,
   "id": "41809005",
   "metadata": {},
   "outputs": [],
   "source": [
    "itub4 = yf.Ticker('ITUB4.SA')"
   ]
  },
  {
   "cell_type": "code",
   "execution_count": 9,
   "id": "b5c56e24",
   "metadata": {},
   "outputs": [
    {
     "data": {
      "text/html": [
       "<div>\n",
       "<style scoped>\n",
       "    .dataframe tbody tr th:only-of-type {\n",
       "        vertical-align: middle;\n",
       "    }\n",
       "\n",
       "    .dataframe tbody tr th {\n",
       "        vertical-align: top;\n",
       "    }\n",
       "\n",
       "    .dataframe thead th {\n",
       "        text-align: right;\n",
       "    }\n",
       "</style>\n",
       "<table border=\"1\" class=\"dataframe\">\n",
       "  <thead>\n",
       "    <tr style=\"text-align: right;\">\n",
       "      <th></th>\n",
       "      <th>Open</th>\n",
       "      <th>High</th>\n",
       "      <th>Low</th>\n",
       "      <th>Close</th>\n",
       "      <th>Volume</th>\n",
       "      <th>Dividends</th>\n",
       "      <th>Stock Splits</th>\n",
       "    </tr>\n",
       "    <tr>\n",
       "      <th>Date</th>\n",
       "      <th></th>\n",
       "      <th></th>\n",
       "      <th></th>\n",
       "      <th></th>\n",
       "      <th></th>\n",
       "      <th></th>\n",
       "      <th></th>\n",
       "    </tr>\n",
       "  </thead>\n",
       "  <tbody>\n",
       "    <tr>\n",
       "      <th>2023-06-26</th>\n",
       "      <td>28.612219</td>\n",
       "      <td>28.922028</td>\n",
       "      <td>28.412344</td>\n",
       "      <td>28.612219</td>\n",
       "      <td>13589700</td>\n",
       "      <td>0.00000</td>\n",
       "      <td>0</td>\n",
       "    </tr>\n",
       "    <tr>\n",
       "      <th>2023-06-27</th>\n",
       "      <td>28.762127</td>\n",
       "      <td>28.812095</td>\n",
       "      <td>27.962623</td>\n",
       "      <td>28.292418</td>\n",
       "      <td>26027100</td>\n",
       "      <td>0.00000</td>\n",
       "      <td>0</td>\n",
       "    </tr>\n",
       "    <tr>\n",
       "      <th>2023-06-28</th>\n",
       "      <td>28.282425</td>\n",
       "      <td>28.352383</td>\n",
       "      <td>27.982612</td>\n",
       "      <td>28.132519</td>\n",
       "      <td>18710300</td>\n",
       "      <td>0.00000</td>\n",
       "      <td>0</td>\n",
       "    </tr>\n",
       "    <tr>\n",
       "      <th>2023-06-29</th>\n",
       "      <td>28.212468</td>\n",
       "      <td>28.532269</td>\n",
       "      <td>28.192480</td>\n",
       "      <td>28.472307</td>\n",
       "      <td>61907700</td>\n",
       "      <td>0.00000</td>\n",
       "      <td>0</td>\n",
       "    </tr>\n",
       "    <tr>\n",
       "      <th>2023-06-30</th>\n",
       "      <td>28.752134</td>\n",
       "      <td>28.902041</td>\n",
       "      <td>28.332395</td>\n",
       "      <td>28.402351</td>\n",
       "      <td>27856400</td>\n",
       "      <td>0.00000</td>\n",
       "      <td>0</td>\n",
       "    </tr>\n",
       "    <tr>\n",
       "      <th>2023-07-03</th>\n",
       "      <td>28.540001</td>\n",
       "      <td>29.010000</td>\n",
       "      <td>28.360001</td>\n",
       "      <td>28.959999</td>\n",
       "      <td>17644300</td>\n",
       "      <td>0.01765</td>\n",
       "      <td>0</td>\n",
       "    </tr>\n",
       "    <tr>\n",
       "      <th>2023-07-04</th>\n",
       "      <td>28.870001</td>\n",
       "      <td>29.020000</td>\n",
       "      <td>28.730000</td>\n",
       "      <td>28.780001</td>\n",
       "      <td>8159900</td>\n",
       "      <td>0.00000</td>\n",
       "      <td>0</td>\n",
       "    </tr>\n",
       "    <tr>\n",
       "      <th>2023-07-05</th>\n",
       "      <td>28.719999</td>\n",
       "      <td>29.200001</td>\n",
       "      <td>28.660000</td>\n",
       "      <td>29.030001</td>\n",
       "      <td>17651100</td>\n",
       "      <td>0.00000</td>\n",
       "      <td>0</td>\n",
       "    </tr>\n",
       "    <tr>\n",
       "      <th>2023-07-06</th>\n",
       "      <td>28.830000</td>\n",
       "      <td>28.910000</td>\n",
       "      <td>28.600000</td>\n",
       "      <td>28.600000</td>\n",
       "      <td>28309400</td>\n",
       "      <td>0.00000</td>\n",
       "      <td>0</td>\n",
       "    </tr>\n",
       "    <tr>\n",
       "      <th>2023-07-07</th>\n",
       "      <td>28.770000</td>\n",
       "      <td>29.459999</td>\n",
       "      <td>28.650000</td>\n",
       "      <td>29.139999</td>\n",
       "      <td>27781200</td>\n",
       "      <td>0.00000</td>\n",
       "      <td>0</td>\n",
       "    </tr>\n",
       "    <tr>\n",
       "      <th>2023-07-10</th>\n",
       "      <td>29.370001</td>\n",
       "      <td>29.370001</td>\n",
       "      <td>28.850000</td>\n",
       "      <td>28.950001</td>\n",
       "      <td>13239400</td>\n",
       "      <td>0.00000</td>\n",
       "      <td>0</td>\n",
       "    </tr>\n",
       "    <tr>\n",
       "      <th>2023-07-11</th>\n",
       "      <td>28.809999</td>\n",
       "      <td>28.860001</td>\n",
       "      <td>28.100000</td>\n",
       "      <td>28.440001</td>\n",
       "      <td>28049700</td>\n",
       "      <td>0.00000</td>\n",
       "      <td>0</td>\n",
       "    </tr>\n",
       "    <tr>\n",
       "      <th>2023-07-12</th>\n",
       "      <td>28.500000</td>\n",
       "      <td>28.650000</td>\n",
       "      <td>28.200001</td>\n",
       "      <td>28.270000</td>\n",
       "      <td>18432600</td>\n",
       "      <td>0.00000</td>\n",
       "      <td>0</td>\n",
       "    </tr>\n",
       "    <tr>\n",
       "      <th>2023-07-13</th>\n",
       "      <td>28.219999</td>\n",
       "      <td>28.790001</td>\n",
       "      <td>28.160000</td>\n",
       "      <td>28.580000</td>\n",
       "      <td>21869200</td>\n",
       "      <td>0.00000</td>\n",
       "      <td>0</td>\n",
       "    </tr>\n",
       "    <tr>\n",
       "      <th>2023-07-14</th>\n",
       "      <td>28.650000</td>\n",
       "      <td>28.790001</td>\n",
       "      <td>28.160000</td>\n",
       "      <td>28.280001</td>\n",
       "      <td>24637900</td>\n",
       "      <td>0.00000</td>\n",
       "      <td>0</td>\n",
       "    </tr>\n",
       "    <tr>\n",
       "      <th>2023-07-17</th>\n",
       "      <td>28.230000</td>\n",
       "      <td>28.830000</td>\n",
       "      <td>28.160000</td>\n",
       "      <td>28.830000</td>\n",
       "      <td>15935400</td>\n",
       "      <td>0.00000</td>\n",
       "      <td>0</td>\n",
       "    </tr>\n",
       "    <tr>\n",
       "      <th>2023-07-18</th>\n",
       "      <td>28.830000</td>\n",
       "      <td>28.940001</td>\n",
       "      <td>28.170000</td>\n",
       "      <td>28.270000</td>\n",
       "      <td>39090200</td>\n",
       "      <td>0.00000</td>\n",
       "      <td>0</td>\n",
       "    </tr>\n",
       "    <tr>\n",
       "      <th>2023-07-19</th>\n",
       "      <td>28.270000</td>\n",
       "      <td>28.410000</td>\n",
       "      <td>27.889999</td>\n",
       "      <td>27.969999</td>\n",
       "      <td>39310700</td>\n",
       "      <td>0.00000</td>\n",
       "      <td>0</td>\n",
       "    </tr>\n",
       "    <tr>\n",
       "      <th>2023-07-20</th>\n",
       "      <td>28.110001</td>\n",
       "      <td>28.490000</td>\n",
       "      <td>27.700001</td>\n",
       "      <td>28.490000</td>\n",
       "      <td>37782800</td>\n",
       "      <td>0.00000</td>\n",
       "      <td>0</td>\n",
       "    </tr>\n",
       "    <tr>\n",
       "      <th>2023-07-21</th>\n",
       "      <td>0.000000</td>\n",
       "      <td>29.000000</td>\n",
       "      <td>29.000000</td>\n",
       "      <td>29.000000</td>\n",
       "      <td>0</td>\n",
       "      <td>0.00000</td>\n",
       "      <td>0</td>\n",
       "    </tr>\n",
       "  </tbody>\n",
       "</table>\n",
       "</div>"
      ],
      "text/plain": [
       "                 Open       High        Low      Close    Volume  Dividends  \\\n",
       "Date                                                                          \n",
       "2023-06-26  28.612219  28.922028  28.412344  28.612219  13589700    0.00000   \n",
       "2023-06-27  28.762127  28.812095  27.962623  28.292418  26027100    0.00000   \n",
       "2023-06-28  28.282425  28.352383  27.982612  28.132519  18710300    0.00000   \n",
       "2023-06-29  28.212468  28.532269  28.192480  28.472307  61907700    0.00000   \n",
       "2023-06-30  28.752134  28.902041  28.332395  28.402351  27856400    0.00000   \n",
       "2023-07-03  28.540001  29.010000  28.360001  28.959999  17644300    0.01765   \n",
       "2023-07-04  28.870001  29.020000  28.730000  28.780001   8159900    0.00000   \n",
       "2023-07-05  28.719999  29.200001  28.660000  29.030001  17651100    0.00000   \n",
       "2023-07-06  28.830000  28.910000  28.600000  28.600000  28309400    0.00000   \n",
       "2023-07-07  28.770000  29.459999  28.650000  29.139999  27781200    0.00000   \n",
       "2023-07-10  29.370001  29.370001  28.850000  28.950001  13239400    0.00000   \n",
       "2023-07-11  28.809999  28.860001  28.100000  28.440001  28049700    0.00000   \n",
       "2023-07-12  28.500000  28.650000  28.200001  28.270000  18432600    0.00000   \n",
       "2023-07-13  28.219999  28.790001  28.160000  28.580000  21869200    0.00000   \n",
       "2023-07-14  28.650000  28.790001  28.160000  28.280001  24637900    0.00000   \n",
       "2023-07-17  28.230000  28.830000  28.160000  28.830000  15935400    0.00000   \n",
       "2023-07-18  28.830000  28.940001  28.170000  28.270000  39090200    0.00000   \n",
       "2023-07-19  28.270000  28.410000  27.889999  27.969999  39310700    0.00000   \n",
       "2023-07-20  28.110001  28.490000  27.700001  28.490000  37782800    0.00000   \n",
       "2023-07-21   0.000000  29.000000  29.000000  29.000000         0    0.00000   \n",
       "\n",
       "            Stock Splits  \n",
       "Date                      \n",
       "2023-06-26             0  \n",
       "2023-06-27             0  \n",
       "2023-06-28             0  \n",
       "2023-06-29             0  \n",
       "2023-06-30             0  \n",
       "2023-07-03             0  \n",
       "2023-07-04             0  \n",
       "2023-07-05             0  \n",
       "2023-07-06             0  \n",
       "2023-07-07             0  \n",
       "2023-07-10             0  \n",
       "2023-07-11             0  \n",
       "2023-07-12             0  \n",
       "2023-07-13             0  \n",
       "2023-07-14             0  \n",
       "2023-07-17             0  \n",
       "2023-07-18             0  \n",
       "2023-07-19             0  \n",
       "2023-07-20             0  \n",
       "2023-07-21             0  "
      ]
     },
     "execution_count": 9,
     "metadata": {},
     "output_type": "execute_result"
    }
   ],
   "source": [
    "itub4.history()"
   ]
  },
  {
   "cell_type": "code",
   "execution_count": 3,
   "id": "cda59b1e",
   "metadata": {
    "scrolled": true
   },
   "outputs": [
    {
     "data": {
      "text/plain": [
       "['ITUB4.SA', 'BBAS3.SA', 'GRND3.SA', 'KLBN3.SA']"
      ]
     },
     "execution_count": 3,
     "metadata": {},
     "output_type": "execute_result"
    }
   ],
   "source": [
    "ativos = ['ITUB4.SA', 'BBAS3.SA', 'GRND3.SA', 'KLBN3.SA']\n",
    "ativos"
   ]
  },
  {
   "cell_type": "code",
   "execution_count": 15,
   "id": "376d54f8",
   "metadata": {},
   "outputs": [
    {
     "name": "stdout",
     "output_type": "stream",
     "text": [
      "2023-07-21 00:00:00 29.0\n"
     ]
    }
   ],
   "source": [
    "ativo = 'ITUB4.SA'\n",
    "preco = yf.Ticker(ativo).history(period='5d', interval=\"5d\")['Close']\n",
    "print(preco.index[-1], preco[-1])"
   ]
  },
  {
   "cell_type": "code",
   "execution_count": 16,
   "id": "f6d8a1dd",
   "metadata": {},
   "outputs": [
    {
     "data": {
      "text/plain": [
       "Date\n",
       "2023-07-18    28.27\n",
       "2023-07-21    29.00\n",
       "Name: Close, dtype: float64"
      ]
     },
     "execution_count": 16,
     "metadata": {},
     "output_type": "execute_result"
    }
   ],
   "source": [
    "preco"
   ]
  },
  {
   "cell_type": "code",
   "execution_count": 93,
   "id": "00b3be56",
   "metadata": {},
   "outputs": [
    {
     "data": {
      "text/plain": [
       "Timestamp('2023-07-21 00:00:00')"
      ]
     },
     "execution_count": 93,
     "metadata": {},
     "output_type": "execute_result"
    }
   ],
   "source": [
    "pd.to_datetime(preco.index[-1], 'dd/mm/yyyy')"
   ]
  },
  {
   "cell_type": "code",
   "execution_count": 17,
   "id": "45b0af6a",
   "metadata": {
    "scrolled": true
   },
   "outputs": [
    {
     "data": {
      "text/html": [
       "<div>\n",
       "<style scoped>\n",
       "    .dataframe tbody tr th:only-of-type {\n",
       "        vertical-align: middle;\n",
       "    }\n",
       "\n",
       "    .dataframe tbody tr th {\n",
       "        vertical-align: top;\n",
       "    }\n",
       "\n",
       "    .dataframe thead th {\n",
       "        text-align: right;\n",
       "    }\n",
       "</style>\n",
       "<table border=\"1\" class=\"dataframe\">\n",
       "  <thead>\n",
       "    <tr style=\"text-align: right;\">\n",
       "      <th></th>\n",
       "      <th>Ativo</th>\n",
       "      <th>Data</th>\n",
       "      <th>Preço</th>\n",
       "    </tr>\n",
       "  </thead>\n",
       "  <tbody>\n",
       "    <tr>\n",
       "      <th>0</th>\n",
       "      <td>ITUB4.SA</td>\n",
       "      <td>2023-07-21</td>\n",
       "      <td>29.00</td>\n",
       "    </tr>\n",
       "    <tr>\n",
       "      <th>1</th>\n",
       "      <td>BBAS3.SA</td>\n",
       "      <td>2023-07-21</td>\n",
       "      <td>48.52</td>\n",
       "    </tr>\n",
       "    <tr>\n",
       "      <th>2</th>\n",
       "      <td>GRND3.SA</td>\n",
       "      <td>2023-07-21</td>\n",
       "      <td>7.57</td>\n",
       "    </tr>\n",
       "    <tr>\n",
       "      <th>3</th>\n",
       "      <td>KLBN3.SA</td>\n",
       "      <td>2023-07-24</td>\n",
       "      <td>4.22</td>\n",
       "    </tr>\n",
       "  </tbody>\n",
       "</table>\n",
       "</div>"
      ],
      "text/plain": [
       "      Ativo       Data  Preço\n",
       "0  ITUB4.SA 2023-07-21  29.00\n",
       "1  BBAS3.SA 2023-07-21  48.52\n",
       "2  GRND3.SA 2023-07-21   7.57\n",
       "3  KLBN3.SA 2023-07-24   4.22"
      ]
     },
     "execution_count": 17,
     "metadata": {},
     "output_type": "execute_result"
    }
   ],
   "source": [
    "cotacoes=pd.DataFrame(columns=['Ativo', 'Data', 'Preço'])\n",
    "for ativo in ativos:\n",
    "    dado = yf.Ticker(ativo).history(period='5d', interval=\"5d\")['Close']\n",
    "    cotacoes= cotacoes.append({'Ativo': ativo, 'Data': dado.index[-1], 'Preço': dado[-1]}, ignore_index=True)\n",
    "cotacoes"
   ]
  },
  {
   "cell_type": "code",
   "execution_count": 21,
   "id": "e604ddf8",
   "metadata": {},
   "outputs": [],
   "source": [
    "def listarCotacoes(ativos):\n",
    "    cotacoes=pd.DataFrame(columns=['Ativo', 'Data', 'Preço'])\n",
    "    for ativo in ativos:\n",
    "        dado = yf.Ticker(ativo).history(period='5d', interval=\"1d\")['Close']\n",
    "        cotacoes= cotacoes.append({'Ativo': ativo, 'Data': dado.index[-1], 'Preço': dado[-1]}, ignore_index=True)\n",
    "    return cotacoes"
   ]
  },
  {
   "cell_type": "code",
   "execution_count": 22,
   "id": "d12ac6e4",
   "metadata": {},
   "outputs": [
    {
     "data": {
      "text/html": [
       "<div>\n",
       "<style scoped>\n",
       "    .dataframe tbody tr th:only-of-type {\n",
       "        vertical-align: middle;\n",
       "    }\n",
       "\n",
       "    .dataframe tbody tr th {\n",
       "        vertical-align: top;\n",
       "    }\n",
       "\n",
       "    .dataframe thead th {\n",
       "        text-align: right;\n",
       "    }\n",
       "</style>\n",
       "<table border=\"1\" class=\"dataframe\">\n",
       "  <thead>\n",
       "    <tr style=\"text-align: right;\">\n",
       "      <th></th>\n",
       "      <th>Ativo</th>\n",
       "      <th>Data</th>\n",
       "      <th>Preço</th>\n",
       "    </tr>\n",
       "  </thead>\n",
       "  <tbody>\n",
       "    <tr>\n",
       "      <th>0</th>\n",
       "      <td>ITUB4.SA</td>\n",
       "      <td>2023-07-21</td>\n",
       "      <td>29.00</td>\n",
       "    </tr>\n",
       "    <tr>\n",
       "      <th>1</th>\n",
       "      <td>BBAS3.SA</td>\n",
       "      <td>2023-07-21</td>\n",
       "      <td>48.52</td>\n",
       "    </tr>\n",
       "    <tr>\n",
       "      <th>2</th>\n",
       "      <td>GRND3.SA</td>\n",
       "      <td>2023-07-24</td>\n",
       "      <td>7.55</td>\n",
       "    </tr>\n",
       "    <tr>\n",
       "      <th>3</th>\n",
       "      <td>KLBN3.SA</td>\n",
       "      <td>2023-07-24</td>\n",
       "      <td>4.21</td>\n",
       "    </tr>\n",
       "  </tbody>\n",
       "</table>\n",
       "</div>"
      ],
      "text/plain": [
       "      Ativo       Data  Preço\n",
       "0  ITUB4.SA 2023-07-21  29.00\n",
       "1  BBAS3.SA 2023-07-21  48.52\n",
       "2  GRND3.SA 2023-07-24   7.55\n",
       "3  KLBN3.SA 2023-07-24   4.21"
      ]
     },
     "execution_count": 22,
     "metadata": {},
     "output_type": "execute_result"
    }
   ],
   "source": [
    "listarCotacoes(ativos)"
   ]
  },
  {
   "cell_type": "code",
   "execution_count": 102,
   "id": "da2626a2",
   "metadata": {},
   "outputs": [
    {
     "data": {
      "text/plain": [
       "['ITUB4.SA', 'BBAS3.SA', 'GRND3.SA', 'KLBN3.SA']"
      ]
     },
     "execution_count": 102,
     "metadata": {},
     "output_type": "execute_result"
    }
   ],
   "source": [
    "ativos"
   ]
  },
  {
   "cell_type": "code",
   "execution_count": 47,
   "id": "9f6b6699",
   "metadata": {},
   "outputs": [
    {
     "data": {
      "text/plain": [
       "Date\n",
       "2023-07-21    4.24\n",
       "Name: Close, dtype: float64"
      ]
     },
     "execution_count": 47,
     "metadata": {},
     "output_type": "execute_result"
    }
   ],
   "source": [
    "yf.Ticker(ativo).history(period='1d', interval=\"1d\")['Close']"
   ]
  },
  {
   "cell_type": "code",
   "execution_count": 48,
   "id": "ebb14104",
   "metadata": {},
   "outputs": [],
   "source": [
    "cotacoes['Ativo'] = ativo"
   ]
  },
  {
   "cell_type": "code",
   "execution_count": 49,
   "id": "79e6095c",
   "metadata": {},
   "outputs": [
    {
     "data": {
      "text/html": [
       "<div>\n",
       "<style scoped>\n",
       "    .dataframe tbody tr th:only-of-type {\n",
       "        vertical-align: middle;\n",
       "    }\n",
       "\n",
       "    .dataframe tbody tr th {\n",
       "        vertical-align: top;\n",
       "    }\n",
       "\n",
       "    .dataframe thead th {\n",
       "        text-align: right;\n",
       "    }\n",
       "</style>\n",
       "<table border=\"1\" class=\"dataframe\">\n",
       "  <thead>\n",
       "    <tr style=\"text-align: right;\">\n",
       "      <th></th>\n",
       "      <th>Ativo</th>\n",
       "      <th>Preço</th>\n",
       "    </tr>\n",
       "    <tr>\n",
       "      <th>Date</th>\n",
       "      <th></th>\n",
       "      <th></th>\n",
       "    </tr>\n",
       "  </thead>\n",
       "  <tbody>\n",
       "    <tr>\n",
       "      <th>2023-07-21</th>\n",
       "      <td>KLBN3.SA</td>\n",
       "      <td>4.24</td>\n",
       "    </tr>\n",
       "  </tbody>\n",
       "</table>\n",
       "</div>"
      ],
      "text/plain": [
       "               Ativo  Preço\n",
       "Date                       \n",
       "2023-07-21  KLBN3.SA   4.24"
      ]
     },
     "execution_count": 49,
     "metadata": {},
     "output_type": "execute_result"
    }
   ],
   "source": [
    "cotacoes"
   ]
  },
  {
   "cell_type": "code",
   "execution_count": 25,
   "id": "f358cf0f",
   "metadata": {},
   "outputs": [
    {
     "name": "stdout",
     "output_type": "stream",
     "text": [
      "Requirement already satisfied: numpy in c:\\users\\leonardo\\anaconda3\\lib\\site-packages (1.24.4)\n",
      "Note: you may need to restart the kernel to use updated packages.\n"
     ]
    },
    {
     "name": "stderr",
     "output_type": "stream",
     "text": [
      "DEPRECATION: pyodbc 4.0.0-unsupported has a non-standard version number. pip 23.3 will enforce this behaviour change. A possible replacement is to upgrade to a newer version of pyodbc or contact the author to suggest that they release a version with a conforming version number. Discussion can be found at https://github.com/pypa/pip/issues/12063\n"
     ]
    }
   ],
   "source": [
    "pip install numpy --upgrade"
   ]
  },
  {
   "cell_type": "code",
   "execution_count": 24,
   "id": "7d4a4564",
   "metadata": {},
   "outputs": [
    {
     "name": "stdout",
     "output_type": "stream",
     "text": [
      "1.20.1\n"
     ]
    }
   ],
   "source": [
    "import numpy as np\n",
    "print(np.__version__)"
   ]
  },
  {
   "cell_type": "code",
   "execution_count": null,
   "id": "e8e882d3",
   "metadata": {},
   "outputs": [],
   "source": []
  }
 ],
 "metadata": {
  "kernelspec": {
   "display_name": "Python 3",
   "language": "python",
   "name": "python3"
  },
  "language_info": {
   "codemirror_mode": {
    "name": "ipython",
    "version": 3
   },
   "file_extension": ".py",
   "mimetype": "text/x-python",
   "name": "python",
   "nbconvert_exporter": "python",
   "pygments_lexer": "ipython3",
   "version": "3.8.8"
  }
 },
 "nbformat": 4,
 "nbformat_minor": 5
}
