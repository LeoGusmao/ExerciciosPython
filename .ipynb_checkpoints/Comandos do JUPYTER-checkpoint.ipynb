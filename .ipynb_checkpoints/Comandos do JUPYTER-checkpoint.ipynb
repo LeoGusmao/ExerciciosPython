{
 "cells": [
  {
   "cell_type": "markdown",
   "id": "ccaeca91",
   "metadata": {},
   "source": [
    "# Comandos do Jupyter"
   ]
  },
  {
   "cell_type": "markdown",
   "id": "bf86651e",
   "metadata": {},
   "source": [
    "### Mudar entre Code e Markdown"
   ]
  },
  {
   "cell_type": "markdown",
   "id": "c6b11e4c",
   "metadata": {},
   "source": [
    "[esc][m] - markdown"
   ]
  },
  {
   "cell_type": "markdown",
   "id": "59fc76f3",
   "metadata": {},
   "source": [
    "[esc][y] - code"
   ]
  },
  {
   "cell_type": "markdown",
   "id": "8152f0e2",
   "metadata": {},
   "source": [
    "### Alternar entre título, subtítulo, formatação normal"
   ]
  },
  {
   "cell_type": "markdown",
   "id": "ff38e4e4",
   "metadata": {},
   "source": [
    "A quantidade de '#' definem a hierarquia do título, ausência de '#' significa texto normal"
   ]
  },
  {
   "cell_type": "markdown",
   "id": "21c34c2f",
   "metadata": {},
   "source": [
    "### Navegação nas células"
   ]
  },
  {
   "cell_type": "markdown",
   "id": "f037a191",
   "metadata": {},
   "source": [
    "[esc][k] Rolar para Célula acima\n",
    "\n",
    "[esc][j] Rolar para Célula abaixo\n",
    "\n",
    "[esc][a] Inserir Célula acima\n",
    "\n",
    "[esc][b] Inserir Célula abaixo\n",
    "\n",
    "[esc][x] Cortar\n",
    "\n",
    "[esc][c] Copiar\n",
    "\n",
    "[esc][v] Colar"
   ]
  },
  {
   "cell_type": "markdown",
   "id": "d9186165",
   "metadata": {},
   "source": [
    "### Completar Código"
   ]
  },
  {
   "cell_type": "markdown",
   "id": "42692ced",
   "metadata": {},
   "source": [
    "digito a função, o ponto, depois tab"
   ]
  },
  {
   "cell_type": "markdown",
   "id": "b11b3f6b",
   "metadata": {},
   "source": [
    "### Outros atalhos"
   ]
  },
  {
   "cell_type": "markdown",
   "id": "756bc3d6",
   "metadata": {},
   "source": [
    "Menu - Help - Keybord Shortcuts ou [esc] [h]"
   ]
  },
  {
   "cell_type": "code",
   "execution_count": null,
   "id": "62ea3f52",
   "metadata": {},
   "outputs": [],
   "source": []
  }
 ],
 "metadata": {
  "kernelspec": {
   "display_name": "Python 3",
   "language": "python",
   "name": "python3"
  },
  "language_info": {
   "codemirror_mode": {
    "name": "ipython",
    "version": 3
   },
   "file_extension": ".py",
   "mimetype": "text/x-python",
   "name": "python",
   "nbconvert_exporter": "python",
   "pygments_lexer": "ipython3",
   "version": "3.8.8"
  }
 },
 "nbformat": 4,
 "nbformat_minor": 5
}
