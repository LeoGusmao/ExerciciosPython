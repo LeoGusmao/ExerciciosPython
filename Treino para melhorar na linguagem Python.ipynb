{
 "cells": [
  {
   "cell_type": "markdown",
   "metadata": {
    "id": "C1kXrKiwe3ae"
   },
   "source": [
    "Treino para melhorar na linguagem Python"
   ]
  },
  {
   "cell_type": "markdown",
   "metadata": {
    "id": "8OJSZjHUfAi5"
   },
   "source": [
    "- Anotar aqui os atalhos, lembretes e funções principais que vivo esquecendo\n",
    "- Repetir as funções abaixo com frequência no intuito de primeiro decorar e depois fixar\n",
    "- Parece perda de tempo, pois não vai gerar nada útil, mas não consegui engrenar no Python porque demoro a voltar a usar, e quando pego, já esqueci o básico. Preciso fixar os conteúdos primeiro para depois ter agilidade e conseguir usar no dia a dia\n"
   ]
  },
  {
   "cell_type": "code",
   "execution_count": 145,
   "metadata": {
    "colab": {
     "base_uri": "https://localhost:8080/"
    },
    "executionInfo": {
     "elapsed": 5,
     "status": "ok",
     "timestamp": 1653262520888,
     "user": {
      "displayName": "Leo Gusmao",
      "userId": "01421071286696610646"
     },
     "user_tz": 180
    },
    "id": "uacuWPBEWU0b",
    "outputId": "c7eb3b0e-af94-4bdd-fa29-e067742004a2"
   },
   "outputs": [
    {
     "data": {
      "text/plain": [
       "()"
      ]
     },
     "execution_count": 145,
     "metadata": {},
     "output_type": "execute_result"
    }
   ],
   "source": [
    "()\n"
   ]
  },
  {
   "cell_type": "code",
   "execution_count": 146,
   "metadata": {
    "colab": {
     "base_uri": "https://localhost:8080/"
    },
    "executionInfo": {
     "elapsed": 467,
     "status": "ok",
     "timestamp": 1653262522001,
     "user": {
      "displayName": "Leo Gusmao",
      "userId": "01421071286696610646"
     },
     "user_tz": 180
    },
    "id": "H9X15JM1WzGc",
    "outputId": "95796305-5194-4b04-fe8b-9e2e117d730b"
   },
   "outputs": [
    {
     "data": {
      "text/plain": [
       "(1, 2, 3)"
      ]
     },
     "execution_count": 146,
     "metadata": {},
     "output_type": "execute_result"
    }
   ],
   "source": [
    "1, 2, 3"
   ]
  },
  {
   "cell_type": "code",
   "execution_count": 147,
   "metadata": {
    "colab": {
     "base_uri": "https://localhost:8080/"
    },
    "executionInfo": {
     "elapsed": 31,
     "status": "ok",
     "timestamp": 1653262522002,
     "user": {
      "displayName": "Leo Gusmao",
      "userId": "01421071286696610646"
     },
     "user_tz": 180
    },
    "id": "o0MFr95AW5CP",
    "outputId": "f548497c-c327-4008-b58b-b0be33a723a4"
   },
   "outputs": [
    {
     "data": {
      "text/plain": [
       "(1, 2, 3)"
      ]
     },
     "execution_count": 147,
     "metadata": {},
     "output_type": "execute_result"
    }
   ],
   "source": [
    "(1, 2, 3)"
   ]
  },
  {
   "cell_type": "code",
   "execution_count": 148,
   "metadata": {
    "colab": {
     "base_uri": "https://localhost:8080/"
    },
    "executionInfo": {
     "elapsed": 28,
     "status": "ok",
     "timestamp": 1653262522002,
     "user": {
      "displayName": "Leo Gusmao",
      "userId": "01421071286696610646"
     },
     "user_tz": 180
    },
    "id": "jwYltyMCW7V3",
    "outputId": "1627b14d-9313-4daa-a650-8ace2e0b3226"
   },
   "outputs": [
    {
     "data": {
      "text/plain": [
       "('Passat', 153000)"
      ]
     },
     "execution_count": 148,
     "metadata": {},
     "output_type": "execute_result"
    }
   ],
   "source": [
    "nome = 'Passat'\n",
    "valor = 153000\n",
    "(nome, valor)"
   ]
  },
  {
   "cell_type": "code",
   "execution_count": 149,
   "metadata": {
    "colab": {
     "base_uri": "https://localhost:8080/"
    },
    "executionInfo": {
     "elapsed": 27,
     "status": "ok",
     "timestamp": 1653262522003,
     "user": {
      "displayName": "Leo Gusmao",
      "userId": "01421071286696610646"
     },
     "user_tz": 180
    },
    "id": "5aoFPaCOXBgd",
    "outputId": "6ce860dc-ca4d-4432-f16b-162d86116d44"
   },
   "outputs": [
    {
     "data": {
      "text/plain": [
       "('Fusca', 'Crossfox', 'HB20')"
      ]
     },
     "execution_count": 149,
     "metadata": {},
     "output_type": "execute_result"
    }
   ],
   "source": [
    "nomes_carros = tuple(['Fusca', 'Crossfox', 'HB20'])\n",
    "nomes_carros"
   ]
  },
  {
   "cell_type": "code",
   "execution_count": 150,
   "metadata": {
    "colab": {
     "base_uri": "https://localhost:8080/"
    },
    "executionInfo": {
     "elapsed": 24,
     "status": "ok",
     "timestamp": 1653262522003,
     "user": {
      "displayName": "Leo Gusmao",
      "userId": "01421071286696610646"
     },
     "user_tz": 180
    },
    "id": "7cKJAjvgXShv",
    "outputId": "54e4aeb9-0f40-45ab-8068-24f42c8ca172"
   },
   "outputs": [
    {
     "data": {
      "text/plain": [
       "tuple"
      ]
     },
     "execution_count": 150,
     "metadata": {},
     "output_type": "execute_result"
    }
   ],
   "source": [
    "type(nomes_carros)"
   ]
  },
  {
   "cell_type": "code",
   "execution_count": 151,
   "metadata": {
    "colab": {
     "base_uri": "https://localhost:8080/",
     "height": 35
    },
    "executionInfo": {
     "elapsed": 22,
     "status": "ok",
     "timestamp": 1653262522003,
     "user": {
      "displayName": "Leo Gusmao",
      "userId": "01421071286696610646"
     },
     "user_tz": 180
    },
    "id": "w-KsdFt9XXLW",
    "outputId": "8b2b2df6-e338-4554-9148-958099ab2745"
   },
   "outputs": [
    {
     "data": {
      "text/plain": [
       "'Fusca'"
      ]
     },
     "execution_count": 151,
     "metadata": {},
     "output_type": "execute_result"
    }
   ],
   "source": [
    "nomes_carros[0]"
   ]
  },
  {
   "cell_type": "code",
   "execution_count": 152,
   "metadata": {
    "colab": {
     "base_uri": "https://localhost:8080/",
     "height": 35
    },
    "executionInfo": {
     "elapsed": 22,
     "status": "ok",
     "timestamp": 1653262522004,
     "user": {
      "displayName": "Leo Gusmao",
      "userId": "01421071286696610646"
     },
     "user_tz": 180
    },
    "id": "5d0ohdf_XnG_",
    "outputId": "55c4c244-434a-412f-f6d7-c2fe32278ec1"
   },
   "outputs": [
    {
     "data": {
      "text/plain": [
       "'Crossfox'"
      ]
     },
     "execution_count": 152,
     "metadata": {},
     "output_type": "execute_result"
    }
   ],
   "source": [
    "nomes_carros[1]"
   ]
  },
  {
   "cell_type": "code",
   "execution_count": 153,
   "metadata": {
    "colab": {
     "base_uri": "https://localhost:8080/",
     "height": 35
    },
    "executionInfo": {
     "elapsed": 21,
     "status": "ok",
     "timestamp": 1653262522004,
     "user": {
      "displayName": "Leo Gusmao",
      "userId": "01421071286696610646"
     },
     "user_tz": 180
    },
    "id": "lPyHtzX_XpxJ",
    "outputId": "d8cab857-9286-45b1-c55c-82378ae87688"
   },
   "outputs": [
    {
     "data": {
      "text/plain": [
       "'HB20'"
      ]
     },
     "execution_count": 153,
     "metadata": {},
     "output_type": "execute_result"
    }
   ],
   "source": [
    "nomes_carros[-1]"
   ]
  },
  {
   "cell_type": "code",
   "execution_count": 154,
   "metadata": {
    "colab": {
     "base_uri": "https://localhost:8080/"
    },
    "executionInfo": {
     "elapsed": 21,
     "status": "ok",
     "timestamp": 1653262522005,
     "user": {
      "displayName": "Leo Gusmao",
      "userId": "01421071286696610646"
     },
     "user_tz": 180
    },
    "id": "kmkEd5H4Xr9c",
    "outputId": "0f32b1d8-3e55-435f-a0e3-6e71bc926a02"
   },
   "outputs": [
    {
     "data": {
      "text/plain": [
       "str"
      ]
     },
     "execution_count": 154,
     "metadata": {},
     "output_type": "execute_result"
    }
   ],
   "source": [
    "type(nomes_carros[-1])"
   ]
  },
  {
   "cell_type": "code",
   "execution_count": 155,
   "metadata": {
    "colab": {
     "base_uri": "https://localhost:8080/"
    },
    "executionInfo": {
     "elapsed": 19,
     "status": "ok",
     "timestamp": 1653262522005,
     "user": {
      "displayName": "Leo Gusmao",
      "userId": "01421071286696610646"
     },
     "user_tz": 180
    },
    "id": "qJlLXeecXyIE",
    "outputId": "683c2b54-ae23-49c1-d7d4-a34911846dd0"
   },
   "outputs": [
    {
     "data": {
      "text/plain": [
       "('Crossfox',)"
      ]
     },
     "execution_count": 155,
     "metadata": {},
     "output_type": "execute_result"
    }
   ],
   "source": [
    "nomes_carros[1:2]"
   ]
  },
  {
   "cell_type": "code",
   "execution_count": 156,
   "metadata": {
    "colab": {
     "base_uri": "https://localhost:8080/"
    },
    "executionInfo": {
     "elapsed": 18,
     "status": "ok",
     "timestamp": 1653262522005,
     "user": {
      "displayName": "Leo Gusmao",
      "userId": "01421071286696610646"
     },
     "user_tz": 180
    },
    "id": "xD-3YWdaX3gr",
    "outputId": "3ca04afa-8394-43a2-d63f-45d0fc2bbc1a"
   },
   "outputs": [
    {
     "data": {
      "text/plain": [
       "('Fusca', 'Crossfox')"
      ]
     },
     "execution_count": 156,
     "metadata": {},
     "output_type": "execute_result"
    }
   ],
   "source": [
    "nomes_carros[0:2]"
   ]
  },
  {
   "cell_type": "code",
   "execution_count": 157,
   "metadata": {
    "colab": {
     "base_uri": "https://localhost:8080/"
    },
    "executionInfo": {
     "elapsed": 16,
     "status": "ok",
     "timestamp": 1653262522005,
     "user": {
      "displayName": "Leo Gusmao",
      "userId": "01421071286696610646"
     },
     "user_tz": 180
    },
    "id": "9wY3SKQ1YBug",
    "outputId": "1b1c2109-c3dd-456b-c5ae-8d32034442a3"
   },
   "outputs": [
    {
     "data": {
      "text/plain": [
       "('Fusca', 'Crossfox', 'HB20')"
      ]
     },
     "execution_count": 157,
     "metadata": {},
     "output_type": "execute_result"
    }
   ],
   "source": [
    "nomes_carros"
   ]
  },
  {
   "cell_type": "code",
   "execution_count": 158,
   "metadata": {
    "executionInfo": {
     "elapsed": 15,
     "status": "ok",
     "timestamp": 1653262522006,
     "user": {
      "displayName": "Leo Gusmao",
      "userId": "01421071286696610646"
     },
     "user_tz": 180
    },
    "id": "2p3lglm1YX5L"
   },
   "outputs": [],
   "source": [
    "nomes_carros = ('Fusca', 'Crossfox', 'HB20', ('Gol', 'C4', 'Passat'))"
   ]
  },
  {
   "cell_type": "code",
   "execution_count": 159,
   "metadata": {
    "colab": {
     "base_uri": "https://localhost:8080/"
    },
    "executionInfo": {
     "elapsed": 14,
     "status": "ok",
     "timestamp": 1653262522006,
     "user": {
      "displayName": "Leo Gusmao",
      "userId": "01421071286696610646"
     },
     "user_tz": 180
    },
    "id": "TgPDnGWOYncf",
    "outputId": "3bcfd70a-007c-45e3-d414-7dd947eb8131"
   },
   "outputs": [
    {
     "data": {
      "text/plain": [
       "('Fusca', 'Crossfox', 'HB20', ('Gol', 'C4', 'Passat'))"
      ]
     },
     "execution_count": 159,
     "metadata": {},
     "output_type": "execute_result"
    }
   ],
   "source": [
    "nomes_carros"
   ]
  },
  {
   "cell_type": "code",
   "execution_count": 160,
   "metadata": {
    "colab": {
     "base_uri": "https://localhost:8080/",
     "height": 35
    },
    "executionInfo": {
     "elapsed": 12,
     "status": "ok",
     "timestamp": 1653262522006,
     "user": {
      "displayName": "Leo Gusmao",
      "userId": "01421071286696610646"
     },
     "user_tz": 180
    },
    "id": "0LHlsAK6YpUr",
    "outputId": "eb250b5a-5da4-4881-dd2f-0e89256d21f7"
   },
   "outputs": [
    {
     "data": {
      "text/plain": [
       "'C4'"
      ]
     },
     "execution_count": 160,
     "metadata": {},
     "output_type": "execute_result"
    }
   ],
   "source": [
    "nomes_carros[-1][1]"
   ]
  },
  {
   "cell_type": "code",
   "execution_count": 161,
   "metadata": {
    "colab": {
     "base_uri": "https://localhost:8080/"
    },
    "executionInfo": {
     "elapsed": 642,
     "status": "ok",
     "timestamp": 1653262522637,
     "user": {
      "displayName": "Leo Gusmao",
      "userId": "01421071286696610646"
     },
     "user_tz": 180
    },
    "id": "P3ZGZc9dY0ml",
    "outputId": "4a37591d-ef2b-46f7-e654-e6b6481dcddd"
   },
   "outputs": [
    {
     "name": "stdout",
     "output_type": "stream",
     "text": [
      "Fusca\n",
      "Crossfox\n",
      "HB20\n",
      "('Gol', 'C4', 'Passat')\n"
     ]
    }
   ],
   "source": [
    "for item in nomes_carros:\n",
    "  print(item)"
   ]
  },
  {
   "cell_type": "code",
   "execution_count": 162,
   "metadata": {
    "executionInfo": {
     "elapsed": 85,
     "status": "ok",
     "timestamp": 1653262522638,
     "user": {
      "displayName": "Leo Gusmao",
      "userId": "01421071286696610646"
     },
     "user_tz": 180
    },
    "id": "yVeH85Y2ZCnU"
   },
   "outputs": [],
   "source": [
    "carro_q, carro_2, carro_3, carro_4 = nomes_carros"
   ]
  },
  {
   "cell_type": "code",
   "execution_count": 163,
   "metadata": {
    "colab": {
     "base_uri": "https://localhost:8080/",
     "height": 35
    },
    "executionInfo": {
     "elapsed": 84,
     "status": "ok",
     "timestamp": 1653262522638,
     "user": {
      "displayName": "Leo Gusmao",
      "userId": "01421071286696610646"
     },
     "user_tz": 180
    },
    "id": "8NFVKXroZPYC",
    "outputId": "18dc6672-7699-4af8-997e-841e7f837d7e"
   },
   "outputs": [
    {
     "data": {
      "text/plain": [
       "'Fusca'"
      ]
     },
     "execution_count": 163,
     "metadata": {},
     "output_type": "execute_result"
    }
   ],
   "source": [
    "carro_q"
   ]
  },
  {
   "cell_type": "code",
   "execution_count": 164,
   "metadata": {
    "colab": {
     "base_uri": "https://localhost:8080/"
    },
    "executionInfo": {
     "elapsed": 83,
     "status": "ok",
     "timestamp": 1653262522639,
     "user": {
      "displayName": "Leo Gusmao",
      "userId": "01421071286696610646"
     },
     "user_tz": 180
    },
    "id": "IlbDO-vjZXXH",
    "outputId": "209d5538-9798-43dd-eaa4-a3ff2cd64d0d"
   },
   "outputs": [
    {
     "data": {
      "text/plain": [
       "('Gol', 'C4', 'Passat')"
      ]
     },
     "execution_count": 164,
     "metadata": {},
     "output_type": "execute_result"
    }
   ],
   "source": [
    "carro_4"
   ]
  },
  {
   "cell_type": "code",
   "execution_count": 165,
   "metadata": {
    "executionInfo": {
     "elapsed": 77,
     "status": "ok",
     "timestamp": 1653262522639,
     "user": {
      "displayName": "Leo Gusmao",
      "userId": "01421071286696610646"
     },
     "user_tz": 180
    },
    "id": "QoEEmENkZZzr"
   },
   "outputs": [],
   "source": [
    "_, a, _, b = nomes_carros"
   ]
  },
  {
   "cell_type": "code",
   "execution_count": 166,
   "metadata": {
    "colab": {
     "base_uri": "https://localhost:8080/"
    },
    "executionInfo": {
     "elapsed": 76,
     "status": "ok",
     "timestamp": 1653262522639,
     "user": {
      "displayName": "Leo Gusmao",
      "userId": "01421071286696610646"
     },
     "user_tz": 180
    },
    "id": "8WHj13nFZnv5",
    "outputId": "49d85be5-f562-4b2d-985d-31ea4581fcab"
   },
   "outputs": [
    {
     "data": {
      "text/plain": [
       "('Gol', 'C4', 'Passat')"
      ]
     },
     "execution_count": 166,
     "metadata": {},
     "output_type": "execute_result"
    }
   ],
   "source": [
    "b"
   ]
  },
  {
   "cell_type": "code",
   "execution_count": 167,
   "metadata": {
    "executionInfo": {
     "elapsed": 73,
     "status": "ok",
     "timestamp": 1653262522640,
     "user": {
      "displayName": "Leo Gusmao",
      "userId": "01421071286696610646"
     },
     "user_tz": 180
    },
    "id": "bhHo492IZpHg"
   },
   "outputs": [],
   "source": [
    "_, c, *_ = nomes_carros"
   ]
  },
  {
   "cell_type": "code",
   "execution_count": 168,
   "metadata": {
    "colab": {
     "base_uri": "https://localhost:8080/",
     "height": 35
    },
    "executionInfo": {
     "elapsed": 73,
     "status": "ok",
     "timestamp": 1653262522640,
     "user": {
      "displayName": "Leo Gusmao",
      "userId": "01421071286696610646"
     },
     "user_tz": 180
    },
    "id": "5wJL7X1tZy0x",
    "outputId": "bb51b4d7-6a5f-4045-fcc6-e0b62c30a74a"
   },
   "outputs": [
    {
     "data": {
      "text/plain": [
       "'Crossfox'"
      ]
     },
     "execution_count": 168,
     "metadata": {},
     "output_type": "execute_result"
    }
   ],
   "source": [
    "c"
   ]
  },
  {
   "cell_type": "code",
   "execution_count": 169,
   "metadata": {
    "executionInfo": {
     "elapsed": 71,
     "status": "ok",
     "timestamp": 1653262522640,
     "user": {
      "displayName": "Leo Gusmao",
      "userId": "01421071286696610646"
     },
     "user_tz": 180
    },
    "id": "qkZm4z1kZzXm"
   },
   "outputs": [],
   "source": [
    "valores = [9477, 2894, 4893,3928]\n",
    "carros = ['Gol', 'C4', 'Passat', 'Fusca']"
   ]
  },
  {
   "cell_type": "code",
   "execution_count": 170,
   "metadata": {
    "colab": {
     "base_uri": "https://localhost:8080/"
    },
    "executionInfo": {
     "elapsed": 70,
     "status": "ok",
     "timestamp": 1653262522640,
     "user": {
      "displayName": "Leo Gusmao",
      "userId": "01421071286696610646"
     },
     "user_tz": 180
    },
    "id": "wM5hDlvgaG8p",
    "outputId": "716908eb-22ae-4a60-daf7-7dfe7177cf6c"
   },
   "outputs": [
    {
     "data": {
      "text/plain": [
       "['Gol', 'C4', 'Passat', 'Fusca']"
      ]
     },
     "execution_count": 170,
     "metadata": {},
     "output_type": "execute_result"
    }
   ],
   "source": [
    "valores\n",
    "carros"
   ]
  },
  {
   "cell_type": "code",
   "execution_count": 171,
   "metadata": {
    "colab": {
     "base_uri": "https://localhost:8080/"
    },
    "executionInfo": {
     "elapsed": 68,
     "status": "ok",
     "timestamp": 1653262522641,
     "user": {
      "displayName": "Leo Gusmao",
      "userId": "01421071286696610646"
     },
     "user_tz": 180
    },
    "id": "NOrQw_eHaIQY",
    "outputId": "a7b29f02-5cac-402a-ef7a-6c64670c2bf2"
   },
   "outputs": [
    {
     "data": {
      "text/plain": [
       "[9477, 2894, 4893, 3928]"
      ]
     },
     "execution_count": 171,
     "metadata": {},
     "output_type": "execute_result"
    }
   ],
   "source": [
    "valores"
   ]
  },
  {
   "cell_type": "code",
   "execution_count": 172,
   "metadata": {
    "colab": {
     "base_uri": "https://localhost:8080/"
    },
    "executionInfo": {
     "elapsed": 65,
     "status": "ok",
     "timestamp": 1653262522641,
     "user": {
      "displayName": "Leo Gusmao",
      "userId": "01421071286696610646"
     },
     "user_tz": 180
    },
    "id": "C2zs5mkpaLcN",
    "outputId": "c6ee3a3d-92c7-4b70-ac21-67757a0d8945"
   },
   "outputs": [
    {
     "data": {
      "text/plain": [
       "[('Gol', 9477), ('C4', 2894), ('Passat', 4893), ('Fusca', 3928)]"
      ]
     },
     "execution_count": 172,
     "metadata": {},
     "output_type": "execute_result"
    }
   ],
   "source": [
    "list(zip(carros, valores))"
   ]
  },
  {
   "cell_type": "code",
   "execution_count": 173,
   "metadata": {
    "colab": {
     "base_uri": "https://localhost:8080/"
    },
    "executionInfo": {
     "elapsed": 63,
     "status": "ok",
     "timestamp": 1653262522641,
     "user": {
      "displayName": "Leo Gusmao",
      "userId": "01421071286696610646"
     },
     "user_tz": 180
    },
    "id": "9wtGidr1aRL3",
    "outputId": "dfbe0f2e-1405-41df-d380-e941bf74d556"
   },
   "outputs": [
    {
     "name": "stdout",
     "output_type": "stream",
     "text": [
      "('Gol', 9477)\n",
      "('C4', 2894)\n",
      "('Passat', 4893)\n",
      "('Fusca', 3928)\n"
     ]
    }
   ],
   "source": [
    "for item in zip(carros, valores):\n",
    "  print(item)"
   ]
  },
  {
   "cell_type": "code",
   "execution_count": 174,
   "metadata": {
    "colab": {
     "base_uri": "https://localhost:8080/"
    },
    "executionInfo": {
     "elapsed": 60,
     "status": "ok",
     "timestamp": 1653262522641,
     "user": {
      "displayName": "Leo Gusmao",
      "userId": "01421071286696610646"
     },
     "user_tz": 180
    },
    "id": "4vlW3t3qanlI",
    "outputId": "dd2d436f-9baa-4730-9301-5e8d8ad3095f"
   },
   "outputs": [
    {
     "name": "stdout",
     "output_type": "stream",
     "text": [
      "Gol 9477\n",
      "C4 2894\n",
      "Passat 4893\n",
      "Fusca 3928\n"
     ]
    }
   ],
   "source": [
    "for carro, valor in zip(carros, valores):\n",
    "  print(carro, valor)"
   ]
  },
  {
   "cell_type": "code",
   "execution_count": 175,
   "metadata": {
    "colab": {
     "base_uri": "https://localhost:8080/"
    },
    "executionInfo": {
     "elapsed": 58,
     "status": "ok",
     "timestamp": 1653262522642,
     "user": {
      "displayName": "Leo Gusmao",
      "userId": "01421071286696610646"
     },
     "user_tz": 180
    },
    "id": "lBNDKWFabAE2",
    "outputId": "894370b0-a183-4bd5-f061-bd9769a28d1f"
   },
   "outputs": [
    {
     "name": "stdout",
     "output_type": "stream",
     "text": [
      "Gol\n",
      "Passat\n",
      "Fusca\n"
     ]
    }
   ],
   "source": [
    "for carro, valor in zip(carros, valores):\n",
    "  if(valor > 3000):\n",
    "    print(carro)"
   ]
  },
  {
   "cell_type": "code",
   "execution_count": null,
   "metadata": {
    "executionInfo": {
     "elapsed": 56,
     "status": "ok",
     "timestamp": 1653262522642,
     "user": {
      "displayName": "Leo Gusmao",
      "userId": "01421071286696610646"
     },
     "user_tz": 180
    },
    "id": "iNSvzwFgbios"
   },
   "outputs": [],
   "source": []
  },
  {
   "cell_type": "markdown",
   "metadata": {
    "id": "1DcVMLZufSgI"
   },
   "source": [
    "## Trabalhando com dicionários"
   ]
  },
  {
   "cell_type": "code",
   "execution_count": 176,
   "metadata": {
    "colab": {
     "base_uri": "https://localhost:8080/"
    },
    "executionInfo": {
     "elapsed": 56,
     "status": "ok",
     "timestamp": 1653262522642,
     "user": {
      "displayName": "Leo Gusmao",
      "userId": "01421071286696610646"
     },
     "user_tz": 180
    },
    "id": "9cq7YigzfVYz",
    "outputId": "8598d0a3-b13d-4334-d850-dedfd40a8bb9"
   },
   "outputs": [
    {
     "data": {
      "text/plain": [
       "['Jetta', 'Passat', 'Crossfox']"
      ]
     },
     "execution_count": 176,
     "metadata": {},
     "output_type": "execute_result"
    }
   ],
   "source": [
    "carros = ['Jetta', 'Passat', 'Crossfox']\n",
    "carros"
   ]
  },
  {
   "cell_type": "code",
   "execution_count": 177,
   "metadata": {
    "colab": {
     "base_uri": "https://localhost:8080/"
    },
    "executionInfo": {
     "elapsed": 54,
     "status": "ok",
     "timestamp": 1653262522642,
     "user": {
      "displayName": "Leo Gusmao",
      "userId": "01421071286696610646"
     },
     "user_tz": 180
    },
    "id": "p75SgQ5jfiWt",
    "outputId": "b68808d4-55c1-40c0-fce1-d73d9a27a5e7"
   },
   "outputs": [
    {
     "data": {
      "text/plain": [
       "[88078.64, 106161.94, 72832.16]"
      ]
     },
     "execution_count": 177,
     "metadata": {},
     "output_type": "execute_result"
    }
   ],
   "source": [
    "valores = [88078.64, 106161.94, 72832.16]\n",
    "valores "
   ]
  },
  {
   "cell_type": "code",
   "execution_count": 178,
   "metadata": {
    "colab": {
     "base_uri": "https://localhost:8080/"
    },
    "executionInfo": {
     "elapsed": 52,
     "status": "ok",
     "timestamp": 1653262522643,
     "user": {
      "displayName": "Leo Gusmao",
      "userId": "01421071286696610646"
     },
     "user_tz": 180
    },
    "id": "6jqf3VU5fv2I",
    "outputId": "8d1c323d-6e49-4c10-b1db-ec841077b51f"
   },
   "outputs": [
    {
     "data": {
      "text/plain": [
       "1"
      ]
     },
     "execution_count": 178,
     "metadata": {},
     "output_type": "execute_result"
    }
   ],
   "source": [
    "carros.index('Passat')"
   ]
  },
  {
   "cell_type": "code",
   "execution_count": 179,
   "metadata": {
    "colab": {
     "base_uri": "https://localhost:8080/"
    },
    "executionInfo": {
     "elapsed": 50,
     "status": "ok",
     "timestamp": 1653262522643,
     "user": {
      "displayName": "Leo Gusmao",
      "userId": "01421071286696610646"
     },
     "user_tz": 180
    },
    "id": "C-IKrM7_fzB5",
    "outputId": "29bbf6c1-ea06-48cf-9b6a-865de1dd0d34"
   },
   "outputs": [
    {
     "data": {
      "text/plain": [
       "106161.94"
      ]
     },
     "execution_count": 179,
     "metadata": {},
     "output_type": "execute_result"
    }
   ],
   "source": [
    "valores[carros.index('Passat')]"
   ]
  },
  {
   "cell_type": "code",
   "execution_count": 180,
   "metadata": {
    "colab": {
     "base_uri": "https://localhost:8080/"
    },
    "executionInfo": {
     "elapsed": 48,
     "status": "ok",
     "timestamp": 1653262522643,
     "user": {
      "displayName": "Leo Gusmao",
      "userId": "01421071286696610646"
     },
     "user_tz": 180
    },
    "id": "liQNnqbPgIQT",
    "outputId": "76fe08dc-52c7-43d9-a3d8-109f39a0d1b9"
   },
   "outputs": [
    {
     "data": {
      "text/plain": [
       "['Jetta', 'Passat', 'Crossfox']"
      ]
     },
     "execution_count": 180,
     "metadata": {},
     "output_type": "execute_result"
    }
   ],
   "source": [
    "carros"
   ]
  },
  {
   "cell_type": "code",
   "execution_count": 181,
   "metadata": {
    "colab": {
     "base_uri": "https://localhost:8080/"
    },
    "executionInfo": {
     "elapsed": 46,
     "status": "ok",
     "timestamp": 1653262522643,
     "user": {
      "displayName": "Leo Gusmao",
      "userId": "01421071286696610646"
     },
     "user_tz": 180
    },
    "id": "bHoHmy_UgPWQ",
    "outputId": "de487fcb-a37f-478c-c523-0ae14aceb6b0"
   },
   "outputs": [
    {
     "data": {
      "text/plain": [
       "[88078.64, 106161.94, 72832.16]"
      ]
     },
     "execution_count": 181,
     "metadata": {},
     "output_type": "execute_result"
    }
   ],
   "source": [
    "valores"
   ]
  },
  {
   "cell_type": "code",
   "execution_count": 182,
   "metadata": {
    "colab": {
     "base_uri": "https://localhost:8080/"
    },
    "executionInfo": {
     "elapsed": 45,
     "status": "ok",
     "timestamp": 1653262522644,
     "user": {
      "displayName": "Leo Gusmao",
      "userId": "01421071286696610646"
     },
     "user_tz": 180
    },
    "id": "X8y8srH4gQYT",
    "outputId": "d2afed64-8a97-4766-b602-294fd6a69644"
   },
   "outputs": [
    {
     "data": {
      "text/plain": [
       "{'Jetta': 88078.64, 'Passat': 106161.94, 'Crossfox': 72832.16}"
      ]
     },
     "execution_count": 182,
     "metadata": {},
     "output_type": "execute_result"
    }
   ],
   "source": [
    "dados = {'Jetta': 88078.64, 'Passat': 106161.94, 'Crossfox': 72832.16}\n",
    "dados"
   ]
  },
  {
   "cell_type": "code",
   "execution_count": 183,
   "metadata": {
    "colab": {
     "base_uri": "https://localhost:8080/"
    },
    "executionInfo": {
     "elapsed": 43,
     "status": "ok",
     "timestamp": 1653262522644,
     "user": {
      "displayName": "Leo Gusmao",
      "userId": "01421071286696610646"
     },
     "user_tz": 180
    },
    "id": "WLHjeSyyggtp",
    "outputId": "953d4ce0-e88a-4f8d-e097-34fdb7d362c1"
   },
   "outputs": [
    {
     "data": {
      "text/plain": [
       "dict"
      ]
     },
     "execution_count": 183,
     "metadata": {},
     "output_type": "execute_result"
    }
   ],
   "source": [
    "type(dados)"
   ]
  },
  {
   "cell_type": "code",
   "execution_count": 184,
   "metadata": {
    "colab": {
     "base_uri": "https://localhost:8080/"
    },
    "executionInfo": {
     "elapsed": 42,
     "status": "ok",
     "timestamp": 1653262522644,
     "user": {
      "displayName": "Leo Gusmao",
      "userId": "01421071286696610646"
     },
     "user_tz": 180
    },
    "id": "YcCZqUH1gk8N",
    "outputId": "212678af-85ea-4f63-fe3e-45235c49dfb9"
   },
   "outputs": [
    {
     "data": {
      "text/plain": [
       "[('Jetta', 88078.64), ('Passat', 106161.94), ('Crossfox', 72832.16)]"
      ]
     },
     "execution_count": 184,
     "metadata": {},
     "output_type": "execute_result"
    }
   ],
   "source": [
    "list(zip(carros, valores))"
   ]
  },
  {
   "cell_type": "code",
   "execution_count": 185,
   "metadata": {
    "colab": {
     "base_uri": "https://localhost:8080/"
    },
    "executionInfo": {
     "elapsed": 41,
     "status": "ok",
     "timestamp": 1653262522645,
     "user": {
      "displayName": "Leo Gusmao",
      "userId": "01421071286696610646"
     },
     "user_tz": 180
    },
    "id": "ZbBE1hBqgr4s",
    "outputId": "d6d9be1e-0474-45d0-eb9a-b8ed5d454a6e"
   },
   "outputs": [
    {
     "data": {
      "text/plain": [
       "{'Jetta': 88078.64, 'Passat': 106161.94, 'Crossfox': 72832.16}"
      ]
     },
     "execution_count": 185,
     "metadata": {},
     "output_type": "execute_result"
    }
   ],
   "source": [
    "dados = dict(zip(carros, valores))\n",
    "dados"
   ]
  },
  {
   "cell_type": "code",
   "execution_count": 186,
   "metadata": {
    "colab": {
     "base_uri": "https://localhost:8080/"
    },
    "executionInfo": {
     "elapsed": 39,
     "status": "ok",
     "timestamp": 1653262522645,
     "user": {
      "displayName": "Leo Gusmao",
      "userId": "01421071286696610646"
     },
     "user_tz": 180
    },
    "id": "ekivn3CXgyB2",
    "outputId": "abb9f97e-38c6-4ae4-db4b-933c0ed4f77c"
   },
   "outputs": [
    {
     "data": {
      "text/plain": [
       "106161.94"
      ]
     },
     "execution_count": 186,
     "metadata": {},
     "output_type": "execute_result"
    }
   ],
   "source": [
    "dados['Passat']"
   ]
  },
  {
   "cell_type": "code",
   "execution_count": 187,
   "metadata": {
    "colab": {
     "base_uri": "https://localhost:8080/"
    },
    "executionInfo": {
     "elapsed": 38,
     "status": "ok",
     "timestamp": 1653262522646,
     "user": {
      "displayName": "Leo Gusmao",
      "userId": "01421071286696610646"
     },
     "user_tz": 180
    },
    "id": "s4FjM_TZheHd",
    "outputId": "1c47f6b1-6b0c-47cf-a209-904d94e3f5f9"
   },
   "outputs": [
    {
     "data": {
      "text/plain": [
       "True"
      ]
     },
     "execution_count": 187,
     "metadata": {},
     "output_type": "execute_result"
    }
   ],
   "source": [
    "'Passat' in dados"
   ]
  },
  {
   "cell_type": "code",
   "execution_count": 188,
   "metadata": {
    "colab": {
     "base_uri": "https://localhost:8080/"
    },
    "executionInfo": {
     "elapsed": 37,
     "status": "ok",
     "timestamp": 1653262522646,
     "user": {
      "displayName": "Leo Gusmao",
      "userId": "01421071286696610646"
     },
     "user_tz": 180
    },
    "id": "OQKKgQwChn9W",
    "outputId": "9cb45ef7-14d3-4891-8f51-446e1cc93484"
   },
   "outputs": [
    {
     "data": {
      "text/plain": [
       "False"
      ]
     },
     "execution_count": 188,
     "metadata": {},
     "output_type": "execute_result"
    }
   ],
   "source": [
    "'Fusca' in dados"
   ]
  },
  {
   "cell_type": "code",
   "execution_count": 189,
   "metadata": {
    "colab": {
     "base_uri": "https://localhost:8080/"
    },
    "executionInfo": {
     "elapsed": 36,
     "status": "ok",
     "timestamp": 1653262522647,
     "user": {
      "displayName": "Leo Gusmao",
      "userId": "01421071286696610646"
     },
     "user_tz": 180
    },
    "id": "_mRTYeMJhqJj",
    "outputId": "6fc3e20c-c680-4c6d-951f-82963158282d"
   },
   "outputs": [
    {
     "data": {
      "text/plain": [
       "3"
      ]
     },
     "execution_count": 189,
     "metadata": {},
     "output_type": "execute_result"
    }
   ],
   "source": [
    "len(dados)"
   ]
  },
  {
   "cell_type": "code",
   "execution_count": 190,
   "metadata": {
    "colab": {
     "base_uri": "https://localhost:8080/"
    },
    "executionInfo": {
     "elapsed": 34,
     "status": "ok",
     "timestamp": 1653262522647,
     "user": {
      "displayName": "Leo Gusmao",
      "userId": "01421071286696610646"
     },
     "user_tz": 180
    },
    "id": "q8NeX1oFhu6S",
    "outputId": "322f87f6-ece7-4fda-ab11-793350fe6d48"
   },
   "outputs": [
    {
     "data": {
      "text/plain": [
       "{'Jetta': 88078.64,\n",
       " 'Passat': 106161.94,\n",
       " 'Crossfox': 72832.16,\n",
       " 'DS5': 124549.07}"
      ]
     },
     "execution_count": 190,
     "metadata": {},
     "output_type": "execute_result"
    }
   ],
   "source": [
    "dados['DS5'] = 124549.07\n",
    "dados"
   ]
  },
  {
   "cell_type": "code",
   "execution_count": 191,
   "metadata": {
    "colab": {
     "base_uri": "https://localhost:8080/"
    },
    "executionInfo": {
     "elapsed": 32,
     "status": "ok",
     "timestamp": 1653262522647,
     "user": {
      "displayName": "Leo Gusmao",
      "userId": "01421071286696610646"
     },
     "user_tz": 180
    },
    "id": "Mkp1emdWh_XG",
    "outputId": "594142c7-61c2-4646-9538-80b6929c1dba"
   },
   "outputs": [
    {
     "data": {
      "text/plain": [
       "{'Jetta': 88078.64, 'Crossfox': 72832.16, 'DS5': 124549.07}"
      ]
     },
     "execution_count": 191,
     "metadata": {},
     "output_type": "execute_result"
    }
   ],
   "source": [
    "del dados['Passat']\n",
    "dados"
   ]
  },
  {
   "cell_type": "code",
   "execution_count": null,
   "metadata": {
    "executionInfo": {
     "elapsed": 32,
     "status": "ok",
     "timestamp": 1653262522648,
     "user": {
      "displayName": "Leo Gusmao",
      "userId": "01421071286696610646"
     },
     "user_tz": 180
    },
    "id": "jD3y-TpoiNXa"
   },
   "outputs": [],
   "source": []
  },
  {
   "cell_type": "markdown",
   "metadata": {
    "id": "sR_sKk7AiccM"
   },
   "source": [
    "## Métodos de dicionários"
   ]
  },
  {
   "cell_type": "code",
   "execution_count": 192,
   "metadata": {
    "colab": {
     "base_uri": "https://localhost:8080/"
    },
    "executionInfo": {
     "elapsed": 31,
     "status": "ok",
     "timestamp": 1653262522648,
     "user": {
      "displayName": "Leo Gusmao",
      "userId": "01421071286696610646"
     },
     "user_tz": 180
    },
    "id": "tE9kLaxHifZB",
    "outputId": "8e6d1523-0cb5-46bf-b67e-b973d2b6a9dd"
   },
   "outputs": [
    {
     "data": {
      "text/plain": [
       "{'Jetta': 88078.64,\n",
       " 'Crossfox': 72832.16,\n",
       " 'DS5': 124549.07,\n",
       " 'Passat': 106161.94}"
      ]
     },
     "execution_count": 192,
     "metadata": {},
     "output_type": "execute_result"
    }
   ],
   "source": [
    "dados.update({'Passat': 106161.94})\n",
    "dados"
   ]
  },
  {
   "cell_type": "code",
   "execution_count": 193,
   "metadata": {
    "colab": {
     "base_uri": "https://localhost:8080/"
    },
    "executionInfo": {
     "elapsed": 31,
     "status": "ok",
     "timestamp": 1653262522649,
     "user": {
      "displayName": "Leo Gusmao",
      "userId": "01421071286696610646"
     },
     "user_tz": 180
    },
    "id": "oRTA6BcQipAm",
    "outputId": "9981bb4a-c8a4-449b-a247-8729c77943c3"
   },
   "outputs": [
    {
     "data": {
      "text/plain": [
       "{'Jetta': 88078.64,\n",
       " 'Crossfox': 72832.16,\n",
       " 'DS5': 124549.07,\n",
       " 'Passat': 106161.05,\n",
       " 'Fusca': 150000}"
      ]
     },
     "execution_count": 193,
     "metadata": {},
     "output_type": "execute_result"
    }
   ],
   "source": [
    "dados.update({'Passat': 106161.05, 'Fusca': 150000})\n",
    "dados"
   ]
  },
  {
   "cell_type": "markdown",
   "metadata": {
    "id": "DYEfZXIqi_-w"
   },
   "source": [
    "Se eu quiser uma cópia, não basta criar uma igualdade, que faria só uma instancia. Preciso usar função copy"
   ]
  },
  {
   "cell_type": "code",
   "execution_count": 194,
   "metadata": {
    "executionInfo": {
     "elapsed": 29,
     "status": "ok",
     "timestamp": 1653262522649,
     "user": {
      "displayName": "Leo Gusmao",
      "userId": "01421071286696610646"
     },
     "user_tz": 180
    },
    "id": "xYDmIDOzizrr"
   },
   "outputs": [],
   "source": [
    "dadosCopy = dados.copy()"
   ]
  },
  {
   "cell_type": "code",
   "execution_count": 195,
   "metadata": {
    "colab": {
     "base_uri": "https://localhost:8080/"
    },
    "executionInfo": {
     "elapsed": 29,
     "status": "ok",
     "timestamp": 1653262522649,
     "user": {
      "displayName": "Leo Gusmao",
      "userId": "01421071286696610646"
     },
     "user_tz": 180
    },
    "id": "D0J6qUeHjRqT",
    "outputId": "a31b79fb-c677-490a-e7ad-62e90edcaf70"
   },
   "outputs": [
    {
     "data": {
      "text/plain": [
       "{'Jetta': 88078.64,\n",
       " 'Crossfox': 72832.16,\n",
       " 'DS5': 124549.07,\n",
       " 'Passat': 106161.05,\n",
       " 'Fusca': 150000}"
      ]
     },
     "execution_count": 195,
     "metadata": {},
     "output_type": "execute_result"
    }
   ],
   "source": [
    "dadosCopy"
   ]
  },
  {
   "cell_type": "code",
   "execution_count": 196,
   "metadata": {
    "colab": {
     "base_uri": "https://localhost:8080/"
    },
    "executionInfo": {
     "elapsed": 27,
     "status": "ok",
     "timestamp": 1653262522650,
     "user": {
      "displayName": "Leo Gusmao",
      "userId": "01421071286696610646"
     },
     "user_tz": 180
    },
    "id": "H4pAzxb2jT19",
    "outputId": "f0bf3262-3c14-43c5-f586-a75133fe3464"
   },
   "outputs": [
    {
     "data": {
      "text/plain": [
       "{'Jetta': 88078.64,\n",
       " 'Crossfox': 72832.16,\n",
       " 'DS5': 124549.07,\n",
       " 'Passat': 106161.05,\n",
       " 'Fusca': 150000}"
      ]
     },
     "execution_count": 196,
     "metadata": {},
     "output_type": "execute_result"
    }
   ],
   "source": [
    "dadosinstancia = dados\n",
    "dadosinstancia"
   ]
  },
  {
   "cell_type": "markdown",
   "metadata": {
    "id": "FR2o6dYojyD2"
   },
   "source": [
    "Se eu apagar um dado a instancia vai sofrer a alteração porque está apontada para o mesmo local, mas a copia não"
   ]
  },
  {
   "cell_type": "code",
   "execution_count": 197,
   "metadata": {
    "executionInfo": {
     "elapsed": 26,
     "status": "ok",
     "timestamp": 1653262522650,
     "user": {
      "displayName": "Leo Gusmao",
      "userId": "01421071286696610646"
     },
     "user_tz": 180
    },
    "id": "zNDYgMfojbgB"
   },
   "outputs": [],
   "source": [
    "del dados['Fusca']"
   ]
  },
  {
   "cell_type": "code",
   "execution_count": 198,
   "metadata": {
    "colab": {
     "base_uri": "https://localhost:8080/"
    },
    "executionInfo": {
     "elapsed": 25,
     "status": "ok",
     "timestamp": 1653262522650,
     "user": {
      "displayName": "Leo Gusmao",
      "userId": "01421071286696610646"
     },
     "user_tz": 180
    },
    "id": "xTR40k_xjoL5",
    "outputId": "f07e3c96-b471-4837-ae60-7ec6791c487b"
   },
   "outputs": [
    {
     "data": {
      "text/plain": [
       "{'Jetta': 88078.64,\n",
       " 'Crossfox': 72832.16,\n",
       " 'DS5': 124549.07,\n",
       " 'Passat': 106161.05}"
      ]
     },
     "execution_count": 198,
     "metadata": {},
     "output_type": "execute_result"
    }
   ],
   "source": [
    "dadosinstancia"
   ]
  },
  {
   "cell_type": "code",
   "execution_count": 199,
   "metadata": {
    "colab": {
     "base_uri": "https://localhost:8080/"
    },
    "executionInfo": {
     "elapsed": 590,
     "status": "ok",
     "timestamp": 1653262523216,
     "user": {
      "displayName": "Leo Gusmao",
      "userId": "01421071286696610646"
     },
     "user_tz": 180
    },
    "id": "WnWnq5MljqZQ",
    "outputId": "2df835c6-66a7-44f3-e8bc-5e5b34793539"
   },
   "outputs": [
    {
     "data": {
      "text/plain": [
       "{'Jetta': 88078.64,\n",
       " 'Crossfox': 72832.16,\n",
       " 'DS5': 124549.07,\n",
       " 'Passat': 106161.05,\n",
       " 'Fusca': 150000}"
      ]
     },
     "execution_count": 199,
     "metadata": {},
     "output_type": "execute_result"
    }
   ],
   "source": [
    "dadosCopy"
   ]
  },
  {
   "cell_type": "code",
   "execution_count": 200,
   "metadata": {
    "executionInfo": {
     "elapsed": 90,
     "status": "ok",
     "timestamp": 1653262523217,
     "user": {
      "displayName": "Leo Gusmao",
      "userId": "01421071286696610646"
     },
     "user_tz": 180
    },
    "id": "g7lQKGSNjtaV"
   },
   "outputs": [],
   "source": [
    "dados = dadosCopy.copy()"
   ]
  },
  {
   "cell_type": "code",
   "execution_count": 201,
   "metadata": {
    "colab": {
     "base_uri": "https://localhost:8080/"
    },
    "executionInfo": {
     "elapsed": 89,
     "status": "ok",
     "timestamp": 1653262523217,
     "user": {
      "displayName": "Leo Gusmao",
      "userId": "01421071286696610646"
     },
     "user_tz": 180
    },
    "id": "DHeVPOM4oVOv",
    "outputId": "3dd6b081-d31e-4450-afa1-68b1e7b328ba"
   },
   "outputs": [
    {
     "data": {
      "text/plain": [
       "{'Jetta': 88078.64,\n",
       " 'Crossfox': 72832.16,\n",
       " 'DS5': 124549.07,\n",
       " 'Passat': 106161.05,\n",
       " 'Fusca': 150000}"
      ]
     },
     "execution_count": 201,
     "metadata": {},
     "output_type": "execute_result"
    }
   ],
   "source": [
    "dados"
   ]
  },
  {
   "cell_type": "code",
   "execution_count": 202,
   "metadata": {
    "colab": {
     "base_uri": "https://localhost:8080/"
    },
    "executionInfo": {
     "elapsed": 82,
     "status": "ok",
     "timestamp": 1653262523217,
     "user": {
      "displayName": "Leo Gusmao",
      "userId": "01421071286696610646"
     },
     "user_tz": 180
    },
    "id": "K8tg9VXsoWwZ",
    "outputId": "6ba3a123-51a2-481f-f6d7-7f5c79a8966b"
   },
   "outputs": [
    {
     "data": {
      "text/plain": [
       "106161.05"
      ]
     },
     "execution_count": 202,
     "metadata": {},
     "output_type": "execute_result"
    }
   ],
   "source": [
    "dadosCopy.pop('Passat')"
   ]
  },
  {
   "cell_type": "code",
   "execution_count": 203,
   "metadata": {
    "colab": {
     "base_uri": "https://localhost:8080/"
    },
    "executionInfo": {
     "elapsed": 76,
     "status": "ok",
     "timestamp": 1653262523218,
     "user": {
      "displayName": "Leo Gusmao",
      "userId": "01421071286696610646"
     },
     "user_tz": 180
    },
    "id": "NrlSx-Vooefr",
    "outputId": "5649f641-3076-4199-81ea-39604fcef488"
   },
   "outputs": [
    {
     "data": {
      "text/plain": [
       "{'Jetta': 88078.64, 'Crossfox': 72832.16, 'DS5': 124549.07, 'Fusca': 150000}"
      ]
     },
     "execution_count": 203,
     "metadata": {},
     "output_type": "execute_result"
    }
   ],
   "source": [
    "dadosCopy"
   ]
  },
  {
   "cell_type": "code",
   "execution_count": 204,
   "metadata": {
    "colab": {
     "base_uri": "https://localhost:8080/",
     "height": 35
    },
    "executionInfo": {
     "elapsed": 71,
     "status": "ok",
     "timestamp": 1653262523218,
     "user": {
      "displayName": "Leo Gusmao",
      "userId": "01421071286696610646"
     },
     "user_tz": 180
    },
    "id": "CTEHD7usogZN",
    "outputId": "17eecf98-4a4b-46e0-8283-ec8c6687848e"
   },
   "outputs": [
    {
     "data": {
      "text/plain": [
       "'Chave não encontrada'"
      ]
     },
     "execution_count": 204,
     "metadata": {},
     "output_type": "execute_result"
    }
   ],
   "source": [
    "dadosCopy.pop('Passat', 'Chave não encontrada')"
   ]
  },
  {
   "cell_type": "code",
   "execution_count": 205,
   "metadata": {
    "executionInfo": {
     "elapsed": 69,
     "status": "ok",
     "timestamp": 1653262523218,
     "user": {
      "displayName": "Leo Gusmao",
      "userId": "01421071286696610646"
     },
     "user_tz": 180
    },
    "id": "MbSgRagkotnk"
   },
   "outputs": [],
   "source": [
    "dadosCopy.clear()"
   ]
  },
  {
   "cell_type": "code",
   "execution_count": 206,
   "metadata": {
    "colab": {
     "base_uri": "https://localhost:8080/"
    },
    "executionInfo": {
     "elapsed": 68,
     "status": "ok",
     "timestamp": 1653262523218,
     "user": {
      "displayName": "Leo Gusmao",
      "userId": "01421071286696610646"
     },
     "user_tz": 180
    },
    "id": "uQKtW20no2es",
    "outputId": "da135152-b0b6-49b8-91f9-d43baecdb314"
   },
   "outputs": [
    {
     "data": {
      "text/plain": [
       "{}"
      ]
     },
     "execution_count": 206,
     "metadata": {},
     "output_type": "execute_result"
    }
   ],
   "source": [
    "dadosCopy"
   ]
  },
  {
   "cell_type": "markdown",
   "metadata": {
    "id": "AAjD1yo8pnRP"
   },
   "source": [
    "Operações com dicionários"
   ]
  },
  {
   "cell_type": "code",
   "execution_count": 207,
   "metadata": {
    "colab": {
     "base_uri": "https://localhost:8080/"
    },
    "executionInfo": {
     "elapsed": 65,
     "status": "ok",
     "timestamp": 1653262523219,
     "user": {
      "displayName": "Leo Gusmao",
      "userId": "01421071286696610646"
     },
     "user_tz": 180
    },
    "id": "lrHePHYYo4Qb",
    "outputId": "2075c420-32c5-4691-fd4c-f6f697461009"
   },
   "outputs": [
    {
     "data": {
      "text/plain": [
       "{'Jetta': 88078.64,\n",
       " 'Crossfox': 72832.16,\n",
       " 'DS5': 124549.07,\n",
       " 'Passat': 106161.05,\n",
       " 'Fusca': 150000}"
      ]
     },
     "execution_count": 207,
     "metadata": {},
     "output_type": "execute_result"
    }
   ],
   "source": [
    "dados"
   ]
  },
  {
   "cell_type": "code",
   "execution_count": 208,
   "metadata": {
    "colab": {
     "base_uri": "https://localhost:8080/"
    },
    "executionInfo": {
     "elapsed": 63,
     "status": "ok",
     "timestamp": 1653262523219,
     "user": {
      "displayName": "Leo Gusmao",
      "userId": "01421071286696610646"
     },
     "user_tz": 180
    },
    "id": "8rD_y9hPppNh",
    "outputId": "4e4e0bfa-8226-42e8-e4fd-33147d1867e1"
   },
   "outputs": [
    {
     "data": {
      "text/plain": [
       "True"
      ]
     },
     "execution_count": 208,
     "metadata": {},
     "output_type": "execute_result"
    }
   ],
   "source": [
    "'Passat' in dados"
   ]
  },
  {
   "cell_type": "code",
   "execution_count": 209,
   "metadata": {
    "colab": {
     "base_uri": "https://localhost:8080/"
    },
    "executionInfo": {
     "elapsed": 60,
     "status": "ok",
     "timestamp": 1653262523219,
     "user": {
      "displayName": "Leo Gusmao",
      "userId": "01421071286696610646"
     },
     "user_tz": 180
    },
    "id": "7vw5rWOSsZ0i",
    "outputId": "e154a2a0-952f-42da-c161-284ed91e67aa"
   },
   "outputs": [
    {
     "data": {
      "text/plain": [
       "False"
      ]
     },
     "execution_count": 209,
     "metadata": {},
     "output_type": "execute_result"
    }
   ],
   "source": [
    "'Fusca' not in dados"
   ]
  },
  {
   "cell_type": "code",
   "execution_count": 210,
   "metadata": {
    "colab": {
     "base_uri": "https://localhost:8080/"
    },
    "executionInfo": {
     "elapsed": 57,
     "status": "ok",
     "timestamp": 1653262523219,
     "user": {
      "displayName": "Leo Gusmao",
      "userId": "01421071286696610646"
     },
     "user_tz": 180
    },
    "id": "X0i_oTmDshLp",
    "outputId": "ba5d1dab-44b4-4a17-c87a-b144c2fc9d5e"
   },
   "outputs": [
    {
     "data": {
      "text/plain": [
       "{'Jetta': 88078.64,\n",
       " 'Crossfox': 72832.16,\n",
       " 'DS5': 124907,\n",
       " 'Passat': 106161.05,\n",
       " 'Fusca': 150000}"
      ]
     },
     "execution_count": 210,
     "metadata": {},
     "output_type": "execute_result"
    }
   ],
   "source": [
    "dados['DS5'] = 124907\n",
    "dados"
   ]
  },
  {
   "cell_type": "code",
   "execution_count": 211,
   "metadata": {
    "executionInfo": {
     "elapsed": 56,
     "status": "ok",
     "timestamp": 1653262523220,
     "user": {
      "displayName": "Leo Gusmao",
      "userId": "01421071286696610646"
     },
     "user_tz": 180
    },
    "id": "U7Lxkr_ZssMI"
   },
   "outputs": [],
   "source": [
    "del dados['Passat']"
   ]
  },
  {
   "cell_type": "code",
   "execution_count": 212,
   "metadata": {
    "colab": {
     "base_uri": "https://localhost:8080/"
    },
    "executionInfo": {
     "elapsed": 55,
     "status": "ok",
     "timestamp": 1653262523220,
     "user": {
      "displayName": "Leo Gusmao",
      "userId": "01421071286696610646"
     },
     "user_tz": 180
    },
    "id": "06e1GfI4s25m",
    "outputId": "d03e2a2b-ceb5-44a1-ce15-a04d31db6ad5"
   },
   "outputs": [
    {
     "data": {
      "text/plain": [
       "{'Jetta': 88078.64, 'Crossfox': 72832.16, 'DS5': 124907, 'Fusca': 150000}"
      ]
     },
     "execution_count": 212,
     "metadata": {},
     "output_type": "execute_result"
    }
   ],
   "source": [
    "dados"
   ]
  },
  {
   "cell_type": "code",
   "execution_count": 213,
   "metadata": {
    "executionInfo": {
     "elapsed": 53,
     "status": "ok",
     "timestamp": 1653262523220,
     "user": {
      "displayName": "Leo Gusmao",
      "userId": "01421071286696610646"
     },
     "user_tz": 180
    },
    "id": "O8mA8L8as34T"
   },
   "outputs": [],
   "source": [
    "dados.update({'Passat': 106161.05})"
   ]
  },
  {
   "cell_type": "code",
   "execution_count": 214,
   "metadata": {
    "colab": {
     "base_uri": "https://localhost:8080/"
    },
    "executionInfo": {
     "elapsed": 52,
     "status": "ok",
     "timestamp": 1653262523220,
     "user": {
      "displayName": "Leo Gusmao",
      "userId": "01421071286696610646"
     },
     "user_tz": 180
    },
    "id": "V9bp2S9BtQtM",
    "outputId": "b660321f-0990-4eef-e3e1-a893b9661244"
   },
   "outputs": [
    {
     "data": {
      "text/plain": [
       "dict_keys(['Jetta', 'Crossfox', 'DS5', 'Fusca', 'Passat'])"
      ]
     },
     "execution_count": 214,
     "metadata": {},
     "output_type": "execute_result"
    }
   ],
   "source": [
    "dados.keys()"
   ]
  },
  {
   "cell_type": "code",
   "execution_count": 215,
   "metadata": {
    "colab": {
     "base_uri": "https://localhost:8080/"
    },
    "executionInfo": {
     "elapsed": 51,
     "status": "ok",
     "timestamp": 1653262523221,
     "user": {
      "displayName": "Leo Gusmao",
      "userId": "01421071286696610646"
     },
     "user_tz": 180
    },
    "id": "Hj7NFmCXuM_T",
    "outputId": "0cb011b6-862b-41e7-c63c-fa733beb7f1a"
   },
   "outputs": [
    {
     "name": "stdout",
     "output_type": "stream",
     "text": [
      "88078.64\n",
      "72832.16\n",
      "124907\n",
      "150000\n",
      "106161.05\n"
     ]
    }
   ],
   "source": [
    "for keys in dados.keys():\n",
    "  print(dados[keys])"
   ]
  },
  {
   "cell_type": "code",
   "execution_count": 216,
   "metadata": {
    "colab": {
     "base_uri": "https://localhost:8080/"
    },
    "executionInfo": {
     "elapsed": 49,
     "status": "ok",
     "timestamp": 1653262523221,
     "user": {
      "displayName": "Leo Gusmao",
      "userId": "01421071286696610646"
     },
     "user_tz": 180
    },
    "id": "3oJQzKBTuYB0",
    "outputId": "22774375-44f2-4b55-9ee6-cbd36daab771"
   },
   "outputs": [
    {
     "data": {
      "text/plain": [
       "dict_values([88078.64, 72832.16, 124907, 150000, 106161.05])"
      ]
     },
     "execution_count": 216,
     "metadata": {},
     "output_type": "execute_result"
    }
   ],
   "source": [
    "dados.values()"
   ]
  },
  {
   "cell_type": "code",
   "execution_count": 217,
   "metadata": {
    "colab": {
     "base_uri": "https://localhost:8080/"
    },
    "executionInfo": {
     "elapsed": 46,
     "status": "ok",
     "timestamp": 1653262523221,
     "user": {
      "displayName": "Leo Gusmao",
      "userId": "01421071286696610646"
     },
     "user_tz": 180
    },
    "id": "CpHxBb0wuiL1",
    "outputId": "46ffb0fc-4831-4cd8-e837-ec1706d034c4"
   },
   "outputs": [
    {
     "data": {
      "text/plain": [
       "dict_items([('Jetta', 88078.64), ('Crossfox', 72832.16), ('DS5', 124907), ('Fusca', 150000), ('Passat', 106161.05)])"
      ]
     },
     "execution_count": 217,
     "metadata": {},
     "output_type": "execute_result"
    }
   ],
   "source": [
    "dados.items()"
   ]
  },
  {
   "cell_type": "code",
   "execution_count": 218,
   "metadata": {
    "colab": {
     "base_uri": "https://localhost:8080/"
    },
    "executionInfo": {
     "elapsed": 45,
     "status": "ok",
     "timestamp": 1653262523221,
     "user": {
      "displayName": "Leo Gusmao",
      "userId": "01421071286696610646"
     },
     "user_tz": 180
    },
    "id": "JRy6_K4furAs",
    "outputId": "7c5c0cbd-7fa2-4974-8d07-c0d2028c2792"
   },
   "outputs": [
    {
     "name": "stdout",
     "output_type": "stream",
     "text": [
      "('Jetta', 88078.64)\n",
      "('Crossfox', 72832.16)\n",
      "('DS5', 124907)\n",
      "('Fusca', 150000)\n",
      "('Passat', 106161.05)\n"
     ]
    }
   ],
   "source": [
    "for item in dados.items():\n",
    "  print(item)\n"
   ]
  },
  {
   "cell_type": "code",
   "execution_count": 219,
   "metadata": {
    "colab": {
     "base_uri": "https://localhost:8080/"
    },
    "executionInfo": {
     "elapsed": 44,
     "status": "ok",
     "timestamp": 1653262523222,
     "user": {
      "displayName": "Leo Gusmao",
      "userId": "01421071286696610646"
     },
     "user_tz": 180
    },
    "id": "nSKjO1kJvJA-",
    "outputId": "efb4038e-1e15-49de-b79c-9f59d9875a33"
   },
   "outputs": [
    {
     "name": "stdout",
     "output_type": "stream",
     "text": [
      "Jetta 88078.64\n",
      "Crossfox 72832.16\n",
      "DS5 124907\n",
      "Fusca 150000\n",
      "Passat 106161.05\n"
     ]
    }
   ],
   "source": [
    "for key, value in dados.items():\n",
    "  print(key, value)"
   ]
  },
  {
   "cell_type": "code",
   "execution_count": 220,
   "metadata": {
    "colab": {
     "base_uri": "https://localhost:8080/"
    },
    "executionInfo": {
     "elapsed": 42,
     "status": "ok",
     "timestamp": 1653262523222,
     "user": {
      "displayName": "Leo Gusmao",
      "userId": "01421071286696610646"
     },
     "user_tz": 180
    },
    "id": "aCExu4mXvbEm",
    "outputId": "4b633ac6-789b-4373-e694-27b6c6db4b65"
   },
   "outputs": [
    {
     "name": "stdout",
     "output_type": "stream",
     "text": [
      "DS5\n",
      "Fusca\n",
      "Passat\n"
     ]
    }
   ],
   "source": [
    "for key, value in dados.items():\n",
    "  if(value > 100000):\n",
    "    print(key)"
   ]
  },
  {
   "cell_type": "code",
   "execution_count": 221,
   "metadata": {
    "executionInfo": {
     "elapsed": 41,
     "status": "ok",
     "timestamp": 1653262523223,
     "user": {
      "displayName": "Leo Gusmao",
      "userId": "01421071286696610646"
     },
     "user_tz": 180
    },
    "id": "8pNNrW3hv1WD"
   },
   "outputs": [],
   "source": [
    "def media():\n",
    "  valor = (1 + 2 + 3) / 3\n",
    "  print(valor)"
   ]
  },
  {
   "cell_type": "code",
   "execution_count": 222,
   "metadata": {
    "colab": {
     "base_uri": "https://localhost:8080/"
    },
    "executionInfo": {
     "elapsed": 40,
     "status": "ok",
     "timestamp": 1653262523223,
     "user": {
      "displayName": "Leo Gusmao",
      "userId": "01421071286696610646"
     },
     "user_tz": 180
    },
    "id": "2kncuTy1q3-L",
    "outputId": "a8f130ce-017c-4b70-d027-2bc628f9ad90"
   },
   "outputs": [
    {
     "name": "stdout",
     "output_type": "stream",
     "text": [
      "2.0\n"
     ]
    }
   ],
   "source": [
    "media()"
   ]
  },
  {
   "cell_type": "code",
   "execution_count": 223,
   "metadata": {
    "executionInfo": {
     "elapsed": 39,
     "status": "ok",
     "timestamp": 1653262523223,
     "user": {
      "displayName": "Leo Gusmao",
      "userId": "01421071286696610646"
     },
     "user_tz": 180
    },
    "id": "FlN9kxgAq6rc"
   },
   "outputs": [],
   "source": [
    "def media(lista):\n",
    "  valor = sum(lista) / len(lista)\n",
    "  print(valor)"
   ]
  },
  {
   "cell_type": "code",
   "execution_count": 224,
   "metadata": {
    "colab": {
     "base_uri": "https://localhost:8080/"
    },
    "executionInfo": {
     "elapsed": 39,
     "status": "ok",
     "timestamp": 1653262523223,
     "user": {
      "displayName": "Leo Gusmao",
      "userId": "01421071286696610646"
     },
     "user_tz": 180
    },
    "id": "hyyDgT6ErXEq",
    "outputId": "8a129feb-6336-402f-97fb-9268d99044a9"
   },
   "outputs": [
    {
     "name": "stdout",
     "output_type": "stream",
     "text": [
      "45.0\n"
     ]
    }
   ],
   "source": [
    "media([23, 45, 67])"
   ]
  },
  {
   "cell_type": "markdown",
   "metadata": {
    "id": "QatgKE_0sWYX"
   },
   "source": [
    "A função acima apenas printa o valor, mas não retorna valor, como demonstrado abaixo:\n"
   ]
  },
  {
   "cell_type": "code",
   "execution_count": 225,
   "metadata": {
    "colab": {
     "base_uri": "https://localhost:8080/"
    },
    "executionInfo": {
     "elapsed": 38,
     "status": "ok",
     "timestamp": 1653262523224,
     "user": {
      "displayName": "Leo Gusmao",
      "userId": "01421071286696610646"
     },
     "user_tz": 180
    },
    "id": "ntr8ptbErfHu",
    "outputId": "019262fb-9891-4227-ca49-f8f58d77acac"
   },
   "outputs": [
    {
     "name": "stdout",
     "output_type": "stream",
     "text": [
      "45.0\n"
     ]
    }
   ],
   "source": [
    "resultado = media([23, 45, 67])\n"
   ]
  },
  {
   "cell_type": "code",
   "execution_count": 226,
   "metadata": {
    "executionInfo": {
     "elapsed": 36,
     "status": "ok",
     "timestamp": 1653262523224,
     "user": {
      "displayName": "Leo Gusmao",
      "userId": "01421071286696610646"
     },
     "user_tz": 180
    },
    "id": "ca971IM6slaR"
   },
   "outputs": [],
   "source": [
    "resultado"
   ]
  },
  {
   "cell_type": "code",
   "execution_count": null,
   "metadata": {
    "executionInfo": {
     "elapsed": 36,
     "status": "ok",
     "timestamp": 1653262523224,
     "user": {
      "displayName": "Leo Gusmao",
      "userId": "01421071286696610646"
     },
     "user_tz": 180
    },
    "id": "X84XdaI0spYP"
   },
   "outputs": [],
   "source": []
  },
  {
   "cell_type": "markdown",
   "metadata": {
    "id": "L-zK49H-tHYy"
   },
   "source": [
    "Usando return a função passa a retornar um valor"
   ]
  },
  {
   "cell_type": "code",
   "execution_count": 227,
   "metadata": {
    "executionInfo": {
     "elapsed": 37,
     "status": "ok",
     "timestamp": 1653262523225,
     "user": {
      "displayName": "Leo Gusmao",
      "userId": "01421071286696610646"
     },
     "user_tz": 180
    },
    "id": "RVla8EsxtKv1"
   },
   "outputs": [],
   "source": [
    "def media(lista):\n",
    "  valor = sum(lista) / len(lista)\n",
    "  return valor"
   ]
  },
  {
   "cell_type": "code",
   "execution_count": 228,
   "metadata": {
    "executionInfo": {
     "elapsed": 36,
     "status": "ok",
     "timestamp": 1653262523225,
     "user": {
      "displayName": "Leo Gusmao",
      "userId": "01421071286696610646"
     },
     "user_tz": 180
    },
    "id": "OGOOC5tvtOAo"
   },
   "outputs": [],
   "source": [
    "resultado = media([23, 45, 67])"
   ]
  },
  {
   "cell_type": "code",
   "execution_count": 229,
   "metadata": {
    "colab": {
     "base_uri": "https://localhost:8080/"
    },
    "executionInfo": {
     "elapsed": 36,
     "status": "ok",
     "timestamp": 1653262523225,
     "user": {
      "displayName": "Leo Gusmao",
      "userId": "01421071286696610646"
     },
     "user_tz": 180
    },
    "id": "jGJcF7IWtQaw",
    "outputId": "9d963a19-a69f-46bf-d2b7-ccc94d514dd8"
   },
   "outputs": [
    {
     "data": {
      "text/plain": [
       "45.0"
      ]
     },
     "execution_count": 229,
     "metadata": {},
     "output_type": "execute_result"
    }
   ],
   "source": [
    "resultado"
   ]
  },
  {
   "cell_type": "code",
   "execution_count": 230,
   "metadata": {
    "executionInfo": {
     "elapsed": 32,
     "status": "ok",
     "timestamp": 1653262523225,
     "user": {
      "displayName": "Leo Gusmao",
      "userId": "01421071286696610646"
     },
     "user_tz": 180
    },
    "id": "DWJkNnOstSGv"
   },
   "outputs": [],
   "source": [
    "def media(lista):\n",
    "  valor = sum(lista) / len(lista)\n",
    "  return (valor, len(lista))"
   ]
  },
  {
   "cell_type": "code",
   "execution_count": 231,
   "metadata": {
    "colab": {
     "base_uri": "https://localhost:8080/"
    },
    "executionInfo": {
     "elapsed": 32,
     "status": "ok",
     "timestamp": 1653262523225,
     "user": {
      "displayName": "Leo Gusmao",
      "userId": "01421071286696610646"
     },
     "user_tz": 180
    },
    "id": "mfdKa9Sht2xf",
    "outputId": "bde295cf-7ef7-4e19-a51a-fe0061f461ad"
   },
   "outputs": [
    {
     "data": {
      "text/plain": [
       "(45.0, 3)"
      ]
     },
     "execution_count": 231,
     "metadata": {},
     "output_type": "execute_result"
    }
   ],
   "source": [
    "media([23, 45, 67])"
   ]
  },
  {
   "cell_type": "code",
   "execution_count": 232,
   "metadata": {
    "colab": {
     "base_uri": "https://localhost:8080/"
    },
    "executionInfo": {
     "elapsed": 31,
     "status": "ok",
     "timestamp": 1653262523226,
     "user": {
      "displayName": "Leo Gusmao",
      "userId": "01421071286696610646"
     },
     "user_tz": 180
    },
    "id": "HTcwmzfBt6Bq",
    "outputId": "f0c6b543-688b-42ce-b392-44b225a74b40"
   },
   "outputs": [
    {
     "data": {
      "text/plain": [
       "45.0"
      ]
     },
     "execution_count": 232,
     "metadata": {},
     "output_type": "execute_result"
    }
   ],
   "source": [
    "resultado, n = media([23, 45, 67])\n",
    "resultado"
   ]
  },
  {
   "cell_type": "code",
   "execution_count": 233,
   "metadata": {
    "colab": {
     "base_uri": "https://localhost:8080/"
    },
    "executionInfo": {
     "elapsed": 29,
     "status": "ok",
     "timestamp": 1653262523226,
     "user": {
      "displayName": "Leo Gusmao",
      "userId": "01421071286696610646"
     },
     "user_tz": 180
    },
    "id": "XfWpqe_Kt_je",
    "outputId": "fe6e23ae-c0f2-4bab-a6cf-5e0932bb58a0"
   },
   "outputs": [
    {
     "data": {
      "text/plain": [
       "3"
      ]
     },
     "execution_count": 233,
     "metadata": {},
     "output_type": "execute_result"
    }
   ],
   "source": [
    "n"
   ]
  },
  {
   "cell_type": "markdown",
   "metadata": {
    "id": "1-TFGW23uo8r"
   },
   "source": [
    "Funções: https://docs.python.org/3.6/library/functions.html "
   ]
  },
  {
   "cell_type": "markdown",
   "metadata": {
    "id": "VaIQ7btEu4RT"
   },
   "source": [
    "# Pandas Básico"
   ]
  },
  {
   "cell_type": "code",
   "execution_count": 234,
   "metadata": {
    "executionInfo": {
     "elapsed": 27,
     "status": "ok",
     "timestamp": 1653262523226,
     "user": {
      "displayName": "Leo Gusmao",
      "userId": "01421071286696610646"
     },
     "user_tz": 180
    },
    "id": "asrePVS_uCxi"
   },
   "outputs": [],
   "source": [
    "import pandas as pd"
   ]
  },
  {
   "cell_type": "code",
   "execution_count": 235,
   "metadata": {
    "executionInfo": {
     "elapsed": 27,
     "status": "ok",
     "timestamp": 1653262523226,
     "user": {
      "displayName": "Leo Gusmao",
      "userId": "01421071286696610646"
     },
     "user_tz": 180
    },
    "id": "d9Hc6z7kurmS"
   },
   "outputs": [],
   "source": [
    "carros = ['Jetta', 'Passat', 'Crossfox']"
   ]
  },
  {
   "cell_type": "code",
   "execution_count": 236,
   "metadata": {
    "colab": {
     "base_uri": "https://localhost:8080/"
    },
    "executionInfo": {
     "elapsed": 26,
     "status": "ok",
     "timestamp": 1653262523226,
     "user": {
      "displayName": "Leo Gusmao",
      "userId": "01421071286696610646"
     },
     "user_tz": 180
    },
    "id": "t2iI9ckcviht",
    "outputId": "a4763a15-f6a2-4604-ba00-84b8a862b3e2"
   },
   "outputs": [
    {
     "data": {
      "text/plain": [
       "0       Jetta\n",
       "1      Passat\n",
       "2    Crossfox\n",
       "dtype: object"
      ]
     },
     "execution_count": 236,
     "metadata": {},
     "output_type": "execute_result"
    }
   ],
   "source": [
    "pd.Series(carros)"
   ]
  },
  {
   "cell_type": "code",
   "execution_count": 237,
   "metadata": {
    "executionInfo": {
     "elapsed": 26,
     "status": "ok",
     "timestamp": 1653262523227,
     "user": {
      "displayName": "Leo Gusmao",
      "userId": "01421071286696610646"
     },
     "user_tz": 180
    },
    "id": "lA4VmzU-vpB5"
   },
   "outputs": [],
   "source": [
    "dados = [\n",
    "         {'Nome': 'Passat', 'Ano': 1990},\n",
    "         {'Nome': 'Fusca', 'Ano': 1985},\n",
    "         {'Nome': 'HB20', 'Marca': 'Hyunday'}\n",
    "]"
   ]
  },
  {
   "cell_type": "code",
   "execution_count": 238,
   "metadata": {
    "executionInfo": {
     "elapsed": 25,
     "status": "ok",
     "timestamp": 1653262523227,
     "user": {
      "displayName": "Leo Gusmao",
      "userId": "01421071286696610646"
     },
     "user_tz": 180
    },
    "id": "Mhu4J5DuwiIv"
   },
   "outputs": [],
   "source": [
    "dataset = pd.DataFrame(dados)"
   ]
  },
  {
   "cell_type": "code",
   "execution_count": 239,
   "metadata": {
    "colab": {
     "base_uri": "https://localhost:8080/",
     "height": 143
    },
    "executionInfo": {
     "elapsed": 25,
     "status": "ok",
     "timestamp": 1653262523227,
     "user": {
      "displayName": "Leo Gusmao",
      "userId": "01421071286696610646"
     },
     "user_tz": 180
    },
    "id": "f_edPSg3wuwg",
    "outputId": "99abc830-d748-4ceb-9364-82b171f2a17e"
   },
   "outputs": [
    {
     "data": {
      "text/html": [
       "<div>\n",
       "<style scoped>\n",
       "    .dataframe tbody tr th:only-of-type {\n",
       "        vertical-align: middle;\n",
       "    }\n",
       "\n",
       "    .dataframe tbody tr th {\n",
       "        vertical-align: top;\n",
       "    }\n",
       "\n",
       "    .dataframe thead th {\n",
       "        text-align: right;\n",
       "    }\n",
       "</style>\n",
       "<table border=\"1\" class=\"dataframe\">\n",
       "  <thead>\n",
       "    <tr style=\"text-align: right;\">\n",
       "      <th></th>\n",
       "      <th>Nome</th>\n",
       "      <th>Ano</th>\n",
       "      <th>Marca</th>\n",
       "    </tr>\n",
       "  </thead>\n",
       "  <tbody>\n",
       "    <tr>\n",
       "      <th>0</th>\n",
       "      <td>Passat</td>\n",
       "      <td>1990.0</td>\n",
       "      <td>NaN</td>\n",
       "    </tr>\n",
       "    <tr>\n",
       "      <th>1</th>\n",
       "      <td>Fusca</td>\n",
       "      <td>1985.0</td>\n",
       "      <td>NaN</td>\n",
       "    </tr>\n",
       "    <tr>\n",
       "      <th>2</th>\n",
       "      <td>HB20</td>\n",
       "      <td>NaN</td>\n",
       "      <td>Hyunday</td>\n",
       "    </tr>\n",
       "  </tbody>\n",
       "</table>\n",
       "</div>"
      ],
      "text/plain": [
       "     Nome     Ano    Marca\n",
       "0  Passat  1990.0      NaN\n",
       "1   Fusca  1985.0      NaN\n",
       "2    HB20     NaN  Hyunday"
      ]
     },
     "execution_count": 239,
     "metadata": {},
     "output_type": "execute_result"
    }
   ],
   "source": [
    "dataset"
   ]
  },
  {
   "cell_type": "code",
   "execution_count": 240,
   "metadata": {
    "colab": {
     "base_uri": "https://localhost:8080/",
     "height": 143
    },
    "executionInfo": {
     "elapsed": 25,
     "status": "ok",
     "timestamp": 1653262523228,
     "user": {
      "displayName": "Leo Gusmao",
      "userId": "01421071286696610646"
     },
     "user_tz": 180
    },
    "id": "XXLPD5Vfwvz4",
    "outputId": "b751f4b4-c6db-4ca7-ff21-379a560d4a38"
   },
   "outputs": [
    {
     "data": {
      "text/html": [
       "<div>\n",
       "<style scoped>\n",
       "    .dataframe tbody tr th:only-of-type {\n",
       "        vertical-align: middle;\n",
       "    }\n",
       "\n",
       "    .dataframe tbody tr th {\n",
       "        vertical-align: top;\n",
       "    }\n",
       "\n",
       "    .dataframe thead th {\n",
       "        text-align: right;\n",
       "    }\n",
       "</style>\n",
       "<table border=\"1\" class=\"dataframe\">\n",
       "  <thead>\n",
       "    <tr style=\"text-align: right;\">\n",
       "      <th></th>\n",
       "      <th>Ano</th>\n",
       "      <th>Nome</th>\n",
       "      <th>Marca</th>\n",
       "    </tr>\n",
       "  </thead>\n",
       "  <tbody>\n",
       "    <tr>\n",
       "      <th>0</th>\n",
       "      <td>1990.0</td>\n",
       "      <td>Passat</td>\n",
       "      <td>NaN</td>\n",
       "    </tr>\n",
       "    <tr>\n",
       "      <th>1</th>\n",
       "      <td>1985.0</td>\n",
       "      <td>Fusca</td>\n",
       "      <td>NaN</td>\n",
       "    </tr>\n",
       "    <tr>\n",
       "      <th>2</th>\n",
       "      <td>NaN</td>\n",
       "      <td>HB20</td>\n",
       "      <td>Hyunday</td>\n",
       "    </tr>\n",
       "  </tbody>\n",
       "</table>\n",
       "</div>"
      ],
      "text/plain": [
       "      Ano    Nome    Marca\n",
       "0  1990.0  Passat      NaN\n",
       "1  1985.0   Fusca      NaN\n",
       "2     NaN    HB20  Hyunday"
      ]
     },
     "execution_count": 240,
     "metadata": {},
     "output_type": "execute_result"
    }
   ],
   "source": [
    "dataset[['Ano', 'Nome', 'Marca']]"
   ]
  },
  {
   "cell_type": "code",
   "execution_count": 241,
   "metadata": {
    "executionInfo": {
     "elapsed": 25,
     "status": "ok",
     "timestamp": 1653262523228,
     "user": {
      "displayName": "Leo Gusmao",
      "userId": "01421071286696610646"
     },
     "user_tz": 180
    },
    "id": "kn7X0vLvxKJl"
   },
   "outputs": [],
   "source": [
    "dados = {\n",
    "    'Nome': ['Passat', 'Fusca', 'HB20'],\n",
    "    'Ano': [1990, 1985, 2013]\n",
    "}"
   ]
  },
  {
   "cell_type": "code",
   "execution_count": 242,
   "metadata": {
    "executionInfo": {
     "elapsed": 25,
     "status": "ok",
     "timestamp": 1653262523228,
     "user": {
      "displayName": "Leo Gusmao",
      "userId": "01421071286696610646"
     },
     "user_tz": 180
    },
    "id": "Y_k2dkR2x8FG"
   },
   "outputs": [],
   "source": [
    "dataset = pd.DataFrame(dados)"
   ]
  },
  {
   "cell_type": "code",
   "execution_count": 243,
   "metadata": {
    "colab": {
     "base_uri": "https://localhost:8080/",
     "height": 143
    },
    "executionInfo": {
     "elapsed": 25,
     "status": "ok",
     "timestamp": 1653262523229,
     "user": {
      "displayName": "Leo Gusmao",
      "userId": "01421071286696610646"
     },
     "user_tz": 180
    },
    "id": "W_BaaKQ2yAjR",
    "outputId": "b605bb73-8fb6-4d5a-f90d-33ce27ff9b0e"
   },
   "outputs": [
    {
     "data": {
      "text/html": [
       "<div>\n",
       "<style scoped>\n",
       "    .dataframe tbody tr th:only-of-type {\n",
       "        vertical-align: middle;\n",
       "    }\n",
       "\n",
       "    .dataframe tbody tr th {\n",
       "        vertical-align: top;\n",
       "    }\n",
       "\n",
       "    .dataframe thead th {\n",
       "        text-align: right;\n",
       "    }\n",
       "</style>\n",
       "<table border=\"1\" class=\"dataframe\">\n",
       "  <thead>\n",
       "    <tr style=\"text-align: right;\">\n",
       "      <th></th>\n",
       "      <th>Nome</th>\n",
       "      <th>Ano</th>\n",
       "    </tr>\n",
       "  </thead>\n",
       "  <tbody>\n",
       "    <tr>\n",
       "      <th>0</th>\n",
       "      <td>Passat</td>\n",
       "      <td>1990</td>\n",
       "    </tr>\n",
       "    <tr>\n",
       "      <th>1</th>\n",
       "      <td>Fusca</td>\n",
       "      <td>1985</td>\n",
       "    </tr>\n",
       "    <tr>\n",
       "      <th>2</th>\n",
       "      <td>HB20</td>\n",
       "      <td>2013</td>\n",
       "    </tr>\n",
       "  </tbody>\n",
       "</table>\n",
       "</div>"
      ],
      "text/plain": [
       "     Nome   Ano\n",
       "0  Passat  1990\n",
       "1   Fusca  1985\n",
       "2    HB20  2013"
      ]
     },
     "execution_count": 243,
     "metadata": {},
     "output_type": "execute_result"
    }
   ],
   "source": [
    "dataset"
   ]
  },
  {
   "cell_type": "markdown",
   "metadata": {},
   "source": [
    "# Inserir no DataFrame"
   ]
  },
  {
   "cell_type": "code",
   "execution_count": 244,
   "metadata": {},
   "outputs": [
    {
     "data": {
      "text/html": [
       "<div>\n",
       "<style scoped>\n",
       "    .dataframe tbody tr th:only-of-type {\n",
       "        vertical-align: middle;\n",
       "    }\n",
       "\n",
       "    .dataframe tbody tr th {\n",
       "        vertical-align: top;\n",
       "    }\n",
       "\n",
       "    .dataframe thead th {\n",
       "        text-align: right;\n",
       "    }\n",
       "</style>\n",
       "<table border=\"1\" class=\"dataframe\">\n",
       "  <thead>\n",
       "    <tr style=\"text-align: right;\">\n",
       "      <th></th>\n",
       "      <th>Nome</th>\n",
       "      <th>Ano</th>\n",
       "    </tr>\n",
       "  </thead>\n",
       "  <tbody>\n",
       "    <tr>\n",
       "      <th>0</th>\n",
       "      <td>Passat</td>\n",
       "      <td>1990</td>\n",
       "    </tr>\n",
       "    <tr>\n",
       "      <th>1</th>\n",
       "      <td>Fusca</td>\n",
       "      <td>1985</td>\n",
       "    </tr>\n",
       "    <tr>\n",
       "      <th>2</th>\n",
       "      <td>HB20</td>\n",
       "      <td>2013</td>\n",
       "    </tr>\n",
       "    <tr>\n",
       "      <th>3</th>\n",
       "      <td>HB20</td>\n",
       "      <td>2012</td>\n",
       "    </tr>\n",
       "  </tbody>\n",
       "</table>\n",
       "</div>"
      ],
      "text/plain": [
       "     Nome   Ano\n",
       "0  Passat  1990\n",
       "1   Fusca  1985\n",
       "2    HB20  2013\n",
       "3    HB20  2012"
      ]
     },
     "execution_count": 244,
     "metadata": {},
     "output_type": "execute_result"
    }
   ],
   "source": [
    "dataset.append({'Nome': 'HB20', 'Ano': 2012}, ignore_index=True)"
   ]
  },
  {
   "cell_type": "code",
   "execution_count": 245,
   "metadata": {
    "executionInfo": {
     "elapsed": 25,
     "status": "ok",
     "timestamp": 1653262523229,
     "user": {
      "displayName": "Leo Gusmao",
      "userId": "01421071286696610646"
     },
     "user_tz": 180
    },
    "id": "ob1AdhMqyB5z"
   },
   "outputs": [
    {
     "data": {
      "text/html": [
       "<div>\n",
       "<style scoped>\n",
       "    .dataframe tbody tr th:only-of-type {\n",
       "        vertical-align: middle;\n",
       "    }\n",
       "\n",
       "    .dataframe tbody tr th {\n",
       "        vertical-align: top;\n",
       "    }\n",
       "\n",
       "    .dataframe thead th {\n",
       "        text-align: right;\n",
       "    }\n",
       "</style>\n",
       "<table border=\"1\" class=\"dataframe\">\n",
       "  <thead>\n",
       "    <tr style=\"text-align: right;\">\n",
       "      <th></th>\n",
       "      <th>Operação</th>\n",
       "      <th>Liquidação</th>\n",
       "      <th>Valor</th>\n",
       "      <th>Saldo Final</th>\n",
       "    </tr>\n",
       "    <tr>\n",
       "      <th>Descrição</th>\n",
       "      <th></th>\n",
       "      <th></th>\n",
       "      <th></th>\n",
       "      <th></th>\n",
       "    </tr>\n",
       "  </thead>\n",
       "  <tbody>\n",
       "    <tr>\n",
       "      <th>NOTA *      PREGÃO 31/03/2022</th>\n",
       "      <td>31/03/2022</td>\n",
       "      <td>04/04/2022</td>\n",
       "      <td>1.693,50</td>\n",
       "      <td>20.201,98</td>\n",
       "    </tr>\n",
       "    <tr>\n",
       "      <th>JUROS S/CAPITAL 500                ITUB4</th>\n",
       "      <td>01/04/2022</td>\n",
       "      <td>01/04/2022</td>\n",
       "      <td>7,50</td>\n",
       "      <td>18.508,48</td>\n",
       "    </tr>\n",
       "    <tr>\n",
       "      <th>JUROS S/CAPITAL 300                MDIA3</th>\n",
       "      <td>31/03/2022</td>\n",
       "      <td>31/03/2022</td>\n",
       "      <td>12,75</td>\n",
       "      <td>18.500,98</td>\n",
       "    </tr>\n",
       "    <tr>\n",
       "      <th>JUROS S/CAPITAL 100                BBAS3</th>\n",
       "      <td>31/03/2022</td>\n",
       "      <td>31/03/2022</td>\n",
       "      <td>17,91</td>\n",
       "      <td>18.488,23</td>\n",
       "    </tr>\n",
       "    <tr>\n",
       "      <th>NOTA *      PREGÃO 24/03/2022</th>\n",
       "      <td>24/03/2022</td>\n",
       "      <td>28/03/2022</td>\n",
       "      <td>8.567,43</td>\n",
       "      <td>18.470,32</td>\n",
       "    </tr>\n",
       "    <tr>\n",
       "      <th>RENDIMENTO 143                PAPEL XPML11</th>\n",
       "      <td>25/03/2022</td>\n",
       "      <td>25/03/2022</td>\n",
       "      <td>91,52</td>\n",
       "      <td>9.902,89</td>\n",
       "    </tr>\n",
       "    <tr>\n",
       "      <th>NOTA *      PREGÃO 23/03/2022</th>\n",
       "      <td>23/03/2022</td>\n",
       "      <td>25/03/2022</td>\n",
       "      <td>2.729,18</td>\n",
       "      <td>9.811,37</td>\n",
       "    </tr>\n",
       "    <tr>\n",
       "      <th>NOTA *      PREGÃO 17/03/2022</th>\n",
       "      <td>17/03/2022</td>\n",
       "      <td>21/03/2022</td>\n",
       "      <td>1.163,65</td>\n",
       "      <td>7.082,19</td>\n",
       "    </tr>\n",
       "    <tr>\n",
       "      <th>RENDIMENTO 72                 PAPEL XPPR11</th>\n",
       "      <td>15/03/2022</td>\n",
       "      <td>15/03/2022</td>\n",
       "      <td>32,40</td>\n",
       "      <td>5.918,54</td>\n",
       "    </tr>\n",
       "    <tr>\n",
       "      <th>RENDIMENTO 170                PAPEL XPLG11</th>\n",
       "      <td>15/03/2022</td>\n",
       "      <td>15/03/2022</td>\n",
       "      <td>112,20</td>\n",
       "      <td>5.886,14</td>\n",
       "    </tr>\n",
       "    <tr>\n",
       "      <th>RENDIMENTO 168                PAPEL VISC11</th>\n",
       "      <td>15/03/2022</td>\n",
       "      <td>15/03/2022</td>\n",
       "      <td>114,24</td>\n",
       "      <td>5.773,94</td>\n",
       "    </tr>\n",
       "    <tr>\n",
       "      <th>RENDIMENTO 316                PAPEL VINO11</th>\n",
       "      <td>15/03/2022</td>\n",
       "      <td>15/03/2022</td>\n",
       "      <td>107,44</td>\n",
       "      <td>5.659,70</td>\n",
       "    </tr>\n",
       "    <tr>\n",
       "      <th>RENDIMENTO 175                PAPEL VILG11</th>\n",
       "      <td>15/03/2022</td>\n",
       "      <td>15/03/2022</td>\n",
       "      <td>122,50</td>\n",
       "      <td>5.552,26</td>\n",
       "    </tr>\n",
       "    <tr>\n",
       "      <th>RENDIMENTO 62                 PAPEL RECT11</th>\n",
       "      <td>15/03/2022</td>\n",
       "      <td>15/03/2022</td>\n",
       "      <td>31,11</td>\n",
       "      <td>5.429,76</td>\n",
       "    </tr>\n",
       "    <tr>\n",
       "      <th>RENDIMENTO 74                 PAPEL RBFF11</th>\n",
       "      <td>15/03/2022</td>\n",
       "      <td>15/03/2022</td>\n",
       "      <td>34,78</td>\n",
       "      <td>5.398,65</td>\n",
       "    </tr>\n",
       "    <tr>\n",
       "      <th>DIVIDENDOS 1.400              JHSF3</th>\n",
       "      <td>14/03/2022</td>\n",
       "      <td>14/03/2022</td>\n",
       "      <td>224,91</td>\n",
       "      <td>5.363,87</td>\n",
       "    </tr>\n",
       "    <tr>\n",
       "      <th>JUROS S/CAPITAL 700                ITUB4</th>\n",
       "      <td>11/03/2022</td>\n",
       "      <td>11/03/2022</td>\n",
       "      <td>157,41</td>\n",
       "      <td>5.138,96</td>\n",
       "    </tr>\n",
       "    <tr>\n",
       "      <th>JUROS S/CAPITAL 100                BBAS3</th>\n",
       "      <td>11/03/2022</td>\n",
       "      <td>11/03/2022</td>\n",
       "      <td>38,61</td>\n",
       "      <td>4.981,55</td>\n",
       "    </tr>\n",
       "    <tr>\n",
       "      <th>JUROS S/CAPITAL 500                ITUB4</th>\n",
       "      <td>11/03/2022</td>\n",
       "      <td>11/03/2022</td>\n",
       "      <td>5,81</td>\n",
       "      <td>4.942,94</td>\n",
       "    </tr>\n",
       "    <tr>\n",
       "      <th>RENDIMENTO 100                PAPEL BBAS3</th>\n",
       "      <td>11/03/2022</td>\n",
       "      <td>11/03/2022</td>\n",
       "      <td>0,64</td>\n",
       "      <td>4.937,13</td>\n",
       "    </tr>\n",
       "    <tr>\n",
       "      <th>DIVIDENDOS 100                BBAS3</th>\n",
       "      <td>11/03/2022</td>\n",
       "      <td>11/03/2022</td>\n",
       "      <td>35,58</td>\n",
       "      <td>4.936,49</td>\n",
       "    </tr>\n",
       "    <tr>\n",
       "      <th>RENDIMENTO 100                PAPEL BBAS3</th>\n",
       "      <td>11/03/2022</td>\n",
       "      <td>11/03/2022</td>\n",
       "      <td>0,50</td>\n",
       "      <td>4.900,91</td>\n",
       "    </tr>\n",
       "    <tr>\n",
       "      <th>NOTA *      PREGÃO 02/03/2022</th>\n",
       "      <td>02/03/2022</td>\n",
       "      <td>04/03/2022</td>\n",
       "      <td>3.549,93</td>\n",
       "      <td>4.900,41</td>\n",
       "    </tr>\n",
       "    <tr>\n",
       "      <th>JUROS S/CAPITAL 700                ITUB4</th>\n",
       "      <td>02/03/2022</td>\n",
       "      <td>02/03/2022</td>\n",
       "      <td>10,50</td>\n",
       "      <td>1.350,48</td>\n",
       "    </tr>\n",
       "    <tr>\n",
       "      <th>RENDIMENTO 143                PAPEL XPML11</th>\n",
       "      <td>25/02/2022</td>\n",
       "      <td>25/02/2022</td>\n",
       "      <td>85,80</td>\n",
       "      <td>1.339,98</td>\n",
       "    </tr>\n",
       "    <tr>\n",
       "      <th>TED BCO 104 AGE 1642  CTA 217427  - RETIRADA EM C/C</th>\n",
       "      <td>21/02/2022</td>\n",
       "      <td>21/02/2022</td>\n",
       "      <td>-20.000,00</td>\n",
       "      <td>1.254,18</td>\n",
       "    </tr>\n",
       "    <tr>\n",
       "      <th>JUROS S/CAPITAL 300                MDIA3</th>\n",
       "      <td>18/02/2022</td>\n",
       "      <td>18/02/2022</td>\n",
       "      <td>445,39</td>\n",
       "      <td>21.254,18</td>\n",
       "    </tr>\n",
       "    <tr>\n",
       "      <th>NOTA *      PREGÃO 15/02/2022</th>\n",
       "      <td>15/02/2022</td>\n",
       "      <td>17/02/2022</td>\n",
       "      <td>2.699,18</td>\n",
       "      <td>20.808,79</td>\n",
       "    </tr>\n",
       "    <tr>\n",
       "      <th>RENDIMENTO 74                 PAPEL RBFF11</th>\n",
       "      <td>15/02/2022</td>\n",
       "      <td>15/02/2022</td>\n",
       "      <td>34,78</td>\n",
       "      <td>18.109,61</td>\n",
       "    </tr>\n",
       "    <tr>\n",
       "      <th>RENDIMENTO 72                 PAPEL XPPR11</th>\n",
       "      <td>14/02/2022</td>\n",
       "      <td>14/02/2022</td>\n",
       "      <td>32,40</td>\n",
       "      <td>18.074,83</td>\n",
       "    </tr>\n",
       "    <tr>\n",
       "      <th>RENDIMENTO 170                PAPEL XPLG11</th>\n",
       "      <td>14/02/2022</td>\n",
       "      <td>14/02/2022</td>\n",
       "      <td>108,80</td>\n",
       "      <td>18.042,43</td>\n",
       "    </tr>\n",
       "    <tr>\n",
       "      <th>RENDIMENTO 168                PAPEL VISC11</th>\n",
       "      <td>14/02/2022</td>\n",
       "      <td>14/02/2022</td>\n",
       "      <td>114,24</td>\n",
       "      <td>17.933,63</td>\n",
       "    </tr>\n",
       "    <tr>\n",
       "      <th>RENDIMENTO 316                PAPEL VINO11</th>\n",
       "      <td>14/02/2022</td>\n",
       "      <td>14/02/2022</td>\n",
       "      <td>107,44</td>\n",
       "      <td>17.819,39</td>\n",
       "    </tr>\n",
       "    <tr>\n",
       "      <th>RENDIMENTO 175                PAPEL VILG11</th>\n",
       "      <td>14/02/2022</td>\n",
       "      <td>14/02/2022</td>\n",
       "      <td>122,50</td>\n",
       "      <td>17.711,95</td>\n",
       "    </tr>\n",
       "    <tr>\n",
       "      <th>RENDIMENTO 62                 PAPEL RECT11</th>\n",
       "      <td>14/02/2022</td>\n",
       "      <td>14/02/2022</td>\n",
       "      <td>32,36</td>\n",
       "      <td>17.589,45</td>\n",
       "    </tr>\n",
       "    <tr>\n",
       "      <th>JUROS S/CAPITAL 310                RENT3</th>\n",
       "      <td>11/02/2022</td>\n",
       "      <td>11/02/2022</td>\n",
       "      <td>34,04</td>\n",
       "      <td>17.557,09</td>\n",
       "    </tr>\n",
       "    <tr>\n",
       "      <th>NOTA *      PREGÃO 07/02/2022</th>\n",
       "      <td>07/02/2022</td>\n",
       "      <td>09/02/2022</td>\n",
       "      <td>4.328,70</td>\n",
       "      <td>17.523,05</td>\n",
       "    </tr>\n",
       "    <tr>\n",
       "      <th>NOTA *      PREGÃO 03/02/2022</th>\n",
       "      <td>03/02/2022</td>\n",
       "      <td>07/02/2022</td>\n",
       "      <td>5.032,49</td>\n",
       "      <td>13.194,35</td>\n",
       "    </tr>\n",
       "    <tr>\n",
       "      <th>NOTA *      PREGÃO 02/02/2022</th>\n",
       "      <td>02/02/2022</td>\n",
       "      <td>04/02/2022</td>\n",
       "      <td>641,81</td>\n",
       "      <td>8.161,86</td>\n",
       "    </tr>\n",
       "    <tr>\n",
       "      <th>JUROS S/CAPITAL 700                ITUB4</th>\n",
       "      <td>01/02/2022</td>\n",
       "      <td>01/02/2022</td>\n",
       "      <td>10,50</td>\n",
       "      <td>7.520,05</td>\n",
       "    </tr>\n",
       "  </tbody>\n",
       "</table>\n",
       "</div>"
      ],
      "text/plain": [
       "                                                      Operação  Liquidação  \\\n",
       "Descrição                                                                    \n",
       "NOTA *      PREGÃO 31/03/2022                       31/03/2022  04/04/2022   \n",
       "JUROS S/CAPITAL 500                ITUB4            01/04/2022  01/04/2022   \n",
       "JUROS S/CAPITAL 300                MDIA3            31/03/2022  31/03/2022   \n",
       "JUROS S/CAPITAL 100                BBAS3            31/03/2022  31/03/2022   \n",
       "NOTA *      PREGÃO 24/03/2022                       24/03/2022  28/03/2022   \n",
       "RENDIMENTO 143                PAPEL XPML11          25/03/2022  25/03/2022   \n",
       "NOTA *      PREGÃO 23/03/2022                       23/03/2022  25/03/2022   \n",
       "NOTA *      PREGÃO 17/03/2022                       17/03/2022  21/03/2022   \n",
       "RENDIMENTO 72                 PAPEL XPPR11          15/03/2022  15/03/2022   \n",
       "RENDIMENTO 170                PAPEL XPLG11          15/03/2022  15/03/2022   \n",
       "RENDIMENTO 168                PAPEL VISC11          15/03/2022  15/03/2022   \n",
       "RENDIMENTO 316                PAPEL VINO11          15/03/2022  15/03/2022   \n",
       "RENDIMENTO 175                PAPEL VILG11          15/03/2022  15/03/2022   \n",
       "RENDIMENTO 62                 PAPEL RECT11          15/03/2022  15/03/2022   \n",
       "RENDIMENTO 74                 PAPEL RBFF11          15/03/2022  15/03/2022   \n",
       "DIVIDENDOS 1.400              JHSF3                 14/03/2022  14/03/2022   \n",
       "JUROS S/CAPITAL 700                ITUB4            11/03/2022  11/03/2022   \n",
       "JUROS S/CAPITAL 100                BBAS3            11/03/2022  11/03/2022   \n",
       "JUROS S/CAPITAL 500                ITUB4            11/03/2022  11/03/2022   \n",
       "RENDIMENTO 100                PAPEL BBAS3           11/03/2022  11/03/2022   \n",
       "DIVIDENDOS 100                BBAS3                 11/03/2022  11/03/2022   \n",
       "RENDIMENTO 100                PAPEL BBAS3           11/03/2022  11/03/2022   \n",
       "NOTA *      PREGÃO 02/03/2022                       02/03/2022  04/03/2022   \n",
       "JUROS S/CAPITAL 700                ITUB4            02/03/2022  02/03/2022   \n",
       "RENDIMENTO 143                PAPEL XPML11          25/02/2022  25/02/2022   \n",
       "TED BCO 104 AGE 1642  CTA 217427  - RETIRADA EM...  21/02/2022  21/02/2022   \n",
       "JUROS S/CAPITAL 300                MDIA3            18/02/2022  18/02/2022   \n",
       "NOTA *      PREGÃO 15/02/2022                       15/02/2022  17/02/2022   \n",
       "RENDIMENTO 74                 PAPEL RBFF11          15/02/2022  15/02/2022   \n",
       "RENDIMENTO 72                 PAPEL XPPR11          14/02/2022  14/02/2022   \n",
       "RENDIMENTO 170                PAPEL XPLG11          14/02/2022  14/02/2022   \n",
       "RENDIMENTO 168                PAPEL VISC11          14/02/2022  14/02/2022   \n",
       "RENDIMENTO 316                PAPEL VINO11          14/02/2022  14/02/2022   \n",
       "RENDIMENTO 175                PAPEL VILG11          14/02/2022  14/02/2022   \n",
       "RENDIMENTO 62                 PAPEL RECT11          14/02/2022  14/02/2022   \n",
       "JUROS S/CAPITAL 310                RENT3            11/02/2022  11/02/2022   \n",
       "NOTA *      PREGÃO 07/02/2022                       07/02/2022  09/02/2022   \n",
       "NOTA *      PREGÃO 03/02/2022                       03/02/2022  07/02/2022   \n",
       "NOTA *      PREGÃO 02/02/2022                       02/02/2022  04/02/2022   \n",
       "JUROS S/CAPITAL 700                ITUB4            01/02/2022  01/02/2022   \n",
       "\n",
       "                                                         Valor Saldo Final  \n",
       "Descrição                                                                   \n",
       "NOTA *      PREGÃO 31/03/2022                         1.693,50   20.201,98  \n",
       "JUROS S/CAPITAL 500                ITUB4                  7,50   18.508,48  \n",
       "JUROS S/CAPITAL 300                MDIA3                 12,75   18.500,98  \n",
       "JUROS S/CAPITAL 100                BBAS3                 17,91   18.488,23  \n",
       "NOTA *      PREGÃO 24/03/2022                         8.567,43   18.470,32  \n",
       "RENDIMENTO 143                PAPEL XPML11               91,52    9.902,89  \n",
       "NOTA *      PREGÃO 23/03/2022                         2.729,18    9.811,37  \n",
       "NOTA *      PREGÃO 17/03/2022                         1.163,65    7.082,19  \n",
       "RENDIMENTO 72                 PAPEL XPPR11               32,40    5.918,54  \n",
       "RENDIMENTO 170                PAPEL XPLG11              112,20    5.886,14  \n",
       "RENDIMENTO 168                PAPEL VISC11              114,24    5.773,94  \n",
       "RENDIMENTO 316                PAPEL VINO11              107,44    5.659,70  \n",
       "RENDIMENTO 175                PAPEL VILG11              122,50    5.552,26  \n",
       "RENDIMENTO 62                 PAPEL RECT11               31,11    5.429,76  \n",
       "RENDIMENTO 74                 PAPEL RBFF11               34,78    5.398,65  \n",
       "DIVIDENDOS 1.400              JHSF3                     224,91    5.363,87  \n",
       "JUROS S/CAPITAL 700                ITUB4                157,41    5.138,96  \n",
       "JUROS S/CAPITAL 100                BBAS3                 38,61    4.981,55  \n",
       "JUROS S/CAPITAL 500                ITUB4                  5,81    4.942,94  \n",
       "RENDIMENTO 100                PAPEL BBAS3                 0,64    4.937,13  \n",
       "DIVIDENDOS 100                BBAS3                      35,58    4.936,49  \n",
       "RENDIMENTO 100                PAPEL BBAS3                 0,50    4.900,91  \n",
       "NOTA *      PREGÃO 02/03/2022                         3.549,93    4.900,41  \n",
       "JUROS S/CAPITAL 700                ITUB4                 10,50    1.350,48  \n",
       "RENDIMENTO 143                PAPEL XPML11               85,80    1.339,98  \n",
       "TED BCO 104 AGE 1642  CTA 217427  - RETIRADA EM...  -20.000,00    1.254,18  \n",
       "JUROS S/CAPITAL 300                MDIA3                445,39   21.254,18  \n",
       "NOTA *      PREGÃO 15/02/2022                         2.699,18   20.808,79  \n",
       "RENDIMENTO 74                 PAPEL RBFF11               34,78   18.109,61  \n",
       "RENDIMENTO 72                 PAPEL XPPR11               32,40   18.074,83  \n",
       "RENDIMENTO 170                PAPEL XPLG11              108,80   18.042,43  \n",
       "RENDIMENTO 168                PAPEL VISC11              114,24   17.933,63  \n",
       "RENDIMENTO 316                PAPEL VINO11              107,44   17.819,39  \n",
       "RENDIMENTO 175                PAPEL VILG11              122,50   17.711,95  \n",
       "RENDIMENTO 62                 PAPEL RECT11               32,36   17.589,45  \n",
       "JUROS S/CAPITAL 310                RENT3                 34,04   17.557,09  \n",
       "NOTA *      PREGÃO 07/02/2022                         4.328,70   17.523,05  \n",
       "NOTA *      PREGÃO 03/02/2022                         5.032,49   13.194,35  \n",
       "NOTA *      PREGÃO 02/02/2022                           641,81    8.161,86  \n",
       "JUROS S/CAPITAL 700                ITUB4                 10,50    7.520,05  "
      ]
     },
     "execution_count": 245,
     "metadata": {},
     "output_type": "execute_result"
    }
   ],
   "source": [
    "dataset = pd.read_csv(r'C:\\Users\\Leonardo\\Desktop\\extrato-2022.02.01-2022.04.01.csv', sep = ';', index_col = 3)\n",
    "dataset"
   ]
  },
  {
   "cell_type": "markdown",
   "metadata": {
    "colab": {
     "base_uri": "https://localhost:8080/"
    },
    "executionInfo": {
     "elapsed": 1940,
     "status": "ok",
     "timestamp": 1653262525145,
     "user": {
      "displayName": "Leo Gusmao",
      "userId": "01421071286696610646"
     },
     "user_tz": 180
    },
    "id": "uQW-XVtdHE0r",
    "outputId": "95403a4a-acbe-4c55-9b3a-3e52fe14a0ef"
   },
   "source": [
    "from google.colab import drive\n",
    "drive.mount('/content/drive')"
   ]
  },
  {
   "cell_type": "markdown",
   "metadata": {
    "id": "C0_lrz7A1Yxq"
   },
   "source": [
    "## Seleções com DataFrames"
   ]
  },
  {
   "cell_type": "code",
   "execution_count": 246,
   "metadata": {
    "colab": {
     "base_uri": "https://localhost:8080/",
     "height": 238
    },
    "executionInfo": {
     "elapsed": 43,
     "status": "ok",
     "timestamp": 1653262525148,
     "user": {
      "displayName": "Leo Gusmao",
      "userId": "01421071286696610646"
     },
     "user_tz": 180
    },
    "id": "C5oA3cBf0mJZ",
    "outputId": "6d5f1432-fcf5-4656-e5e7-2dce450ff8ae"
   },
   "outputs": [
    {
     "data": {
      "text/html": [
       "<div>\n",
       "<style scoped>\n",
       "    .dataframe tbody tr th:only-of-type {\n",
       "        vertical-align: middle;\n",
       "    }\n",
       "\n",
       "    .dataframe tbody tr th {\n",
       "        vertical-align: top;\n",
       "    }\n",
       "\n",
       "    .dataframe thead th {\n",
       "        text-align: right;\n",
       "    }\n",
       "</style>\n",
       "<table border=\"1\" class=\"dataframe\">\n",
       "  <thead>\n",
       "    <tr style=\"text-align: right;\">\n",
       "      <th></th>\n",
       "      <th>Operação</th>\n",
       "      <th>Liquidação</th>\n",
       "      <th>Valor</th>\n",
       "      <th>Saldo Final</th>\n",
       "    </tr>\n",
       "    <tr>\n",
       "      <th>Descrição</th>\n",
       "      <th></th>\n",
       "      <th></th>\n",
       "      <th></th>\n",
       "      <th></th>\n",
       "    </tr>\n",
       "  </thead>\n",
       "  <tbody>\n",
       "    <tr>\n",
       "      <th>NOTA *      PREGÃO 31/03/2022</th>\n",
       "      <td>31/03/2022</td>\n",
       "      <td>04/04/2022</td>\n",
       "      <td>1.693,50</td>\n",
       "      <td>20.201,98</td>\n",
       "    </tr>\n",
       "    <tr>\n",
       "      <th>JUROS S/CAPITAL 500                ITUB4</th>\n",
       "      <td>01/04/2022</td>\n",
       "      <td>01/04/2022</td>\n",
       "      <td>7,50</td>\n",
       "      <td>18.508,48</td>\n",
       "    </tr>\n",
       "    <tr>\n",
       "      <th>JUROS S/CAPITAL 300                MDIA3</th>\n",
       "      <td>31/03/2022</td>\n",
       "      <td>31/03/2022</td>\n",
       "      <td>12,75</td>\n",
       "      <td>18.500,98</td>\n",
       "    </tr>\n",
       "    <tr>\n",
       "      <th>JUROS S/CAPITAL 100                BBAS3</th>\n",
       "      <td>31/03/2022</td>\n",
       "      <td>31/03/2022</td>\n",
       "      <td>17,91</td>\n",
       "      <td>18.488,23</td>\n",
       "    </tr>\n",
       "    <tr>\n",
       "      <th>NOTA *      PREGÃO 24/03/2022</th>\n",
       "      <td>24/03/2022</td>\n",
       "      <td>28/03/2022</td>\n",
       "      <td>8.567,43</td>\n",
       "      <td>18.470,32</td>\n",
       "    </tr>\n",
       "  </tbody>\n",
       "</table>\n",
       "</div>"
      ],
      "text/plain": [
       "                                                   Operação  Liquidação  \\\n",
       "Descrição                                                                 \n",
       "NOTA *      PREGÃO 31/03/2022                    31/03/2022  04/04/2022   \n",
       "JUROS S/CAPITAL 500                ITUB4         01/04/2022  01/04/2022   \n",
       "JUROS S/CAPITAL 300                MDIA3         31/03/2022  31/03/2022   \n",
       "JUROS S/CAPITAL 100                BBAS3         31/03/2022  31/03/2022   \n",
       "NOTA *      PREGÃO 24/03/2022                    24/03/2022  28/03/2022   \n",
       "\n",
       "                                                    Valor Saldo Final  \n",
       "Descrição                                                              \n",
       "NOTA *      PREGÃO 31/03/2022                    1.693,50   20.201,98  \n",
       "JUROS S/CAPITAL 500                ITUB4             7,50   18.508,48  \n",
       "JUROS S/CAPITAL 300                MDIA3            12,75   18.500,98  \n",
       "JUROS S/CAPITAL 100                BBAS3            17,91   18.488,23  \n",
       "NOTA *      PREGÃO 24/03/2022                    8.567,43   18.470,32  "
      ]
     },
     "execution_count": 246,
     "metadata": {},
     "output_type": "execute_result"
    }
   ],
   "source": [
    "dataset.head()"
   ]
  },
  {
   "cell_type": "code",
   "execution_count": 247,
   "metadata": {
    "colab": {
     "base_uri": "https://localhost:8080/"
    },
    "executionInfo": {
     "elapsed": 40,
     "status": "ok",
     "timestamp": 1653262525148,
     "user": {
      "displayName": "Leo Gusmao",
      "userId": "01421071286696610646"
     },
     "user_tz": 180
    },
    "id": "ivlAjyHy1kwu",
    "outputId": "7e0bb691-2c0e-4a8d-b4e0-e876443249ff"
   },
   "outputs": [
    {
     "data": {
      "text/plain": [
       "Descrição\n",
       "NOTA *      PREGÃO 31/03/2022                                                         1.693,50\n",
       "JUROS S/CAPITAL 500                ITUB4                                                  7,50\n",
       "JUROS S/CAPITAL 300                MDIA3                                                 12,75\n",
       "JUROS S/CAPITAL 100                BBAS3                                                 17,91\n",
       "NOTA *      PREGÃO 24/03/2022                                                         8.567,43\n",
       "RENDIMENTO 143                PAPEL XPML11                                               91,52\n",
       "NOTA *      PREGÃO 23/03/2022                                                         2.729,18\n",
       "NOTA *      PREGÃO 17/03/2022                                                         1.163,65\n",
       "RENDIMENTO 72                 PAPEL XPPR11                                               32,40\n",
       "RENDIMENTO 170                PAPEL XPLG11                                              112,20\n",
       "RENDIMENTO 168                PAPEL VISC11                                              114,24\n",
       "RENDIMENTO 316                PAPEL VINO11                                              107,44\n",
       "RENDIMENTO 175                PAPEL VILG11                                              122,50\n",
       "RENDIMENTO 62                 PAPEL RECT11                                               31,11\n",
       "RENDIMENTO 74                 PAPEL RBFF11                                               34,78\n",
       "DIVIDENDOS 1.400              JHSF3                                                     224,91\n",
       "JUROS S/CAPITAL 700                ITUB4                                                157,41\n",
       "JUROS S/CAPITAL 100                BBAS3                                                 38,61\n",
       "JUROS S/CAPITAL 500                ITUB4                                                  5,81\n",
       "RENDIMENTO 100                PAPEL BBAS3                                                 0,64\n",
       "DIVIDENDOS 100                BBAS3                                                      35,58\n",
       "RENDIMENTO 100                PAPEL BBAS3                                                 0,50\n",
       "NOTA *      PREGÃO 02/03/2022                                                         3.549,93\n",
       "JUROS S/CAPITAL 700                ITUB4                                                 10,50\n",
       "RENDIMENTO 143                PAPEL XPML11                                               85,80\n",
       "TED BCO 104 AGE 1642  CTA 217427  - RETIRADA EM C/C                                 -20.000,00\n",
       "JUROS S/CAPITAL 300                MDIA3                                                445,39\n",
       "NOTA *      PREGÃO 15/02/2022                                                         2.699,18\n",
       "RENDIMENTO 74                 PAPEL RBFF11                                               34,78\n",
       "RENDIMENTO 72                 PAPEL XPPR11                                               32,40\n",
       "RENDIMENTO 170                PAPEL XPLG11                                              108,80\n",
       "RENDIMENTO 168                PAPEL VISC11                                              114,24\n",
       "RENDIMENTO 316                PAPEL VINO11                                              107,44\n",
       "RENDIMENTO 175                PAPEL VILG11                                              122,50\n",
       "RENDIMENTO 62                 PAPEL RECT11                                               32,36\n",
       "JUROS S/CAPITAL 310                RENT3                                                 34,04\n",
       "NOTA *      PREGÃO 07/02/2022                                                         4.328,70\n",
       "NOTA *      PREGÃO 03/02/2022                                                         5.032,49\n",
       "NOTA *      PREGÃO 02/02/2022                                                           641,81\n",
       "JUROS S/CAPITAL 700                ITUB4                                                 10,50\n",
       "Name: Valor, dtype: object"
      ]
     },
     "execution_count": 247,
     "metadata": {},
     "output_type": "execute_result"
    }
   ],
   "source": [
    "dataset['Valor']"
   ]
  },
  {
   "cell_type": "markdown",
   "metadata": {},
   "source": [
    "O Dataframe é um conjunto de series. "
   ]
  },
  {
   "cell_type": "code",
   "execution_count": 248,
   "metadata": {
    "colab": {
     "base_uri": "https://localhost:8080/"
    },
    "executionInfo": {
     "elapsed": 33,
     "status": "ok",
     "timestamp": 1653262525148,
     "user": {
      "displayName": "Leo Gusmao",
      "userId": "01421071286696610646"
     },
     "user_tz": 180
    },
    "id": "p8hXCjpU11_z",
    "outputId": "b8461d9b-7735-40dd-ad2d-7549b01366f4"
   },
   "outputs": [
    {
     "data": {
      "text/plain": [
       "pandas.core.series.Series"
      ]
     },
     "execution_count": 248,
     "metadata": {},
     "output_type": "execute_result"
    }
   ],
   "source": [
    "type(dataset['Valor'])"
   ]
  },
  {
   "cell_type": "code",
   "execution_count": 249,
   "metadata": {
    "colab": {
     "base_uri": "https://localhost:8080/",
     "height": 677
    },
    "executionInfo": {
     "elapsed": 29,
     "status": "ok",
     "timestamp": 1653262525149,
     "user": {
      "displayName": "Leo Gusmao",
      "userId": "01421071286696610646"
     },
     "user_tz": 180
    },
    "id": "WG2tM55i2Id_",
    "outputId": "7f42d922-3266-4023-ae70-80e7f0da6fde"
   },
   "outputs": [
    {
     "data": {
      "text/html": [
       "<div>\n",
       "<style scoped>\n",
       "    .dataframe tbody tr th:only-of-type {\n",
       "        vertical-align: middle;\n",
       "    }\n",
       "\n",
       "    .dataframe tbody tr th {\n",
       "        vertical-align: top;\n",
       "    }\n",
       "\n",
       "    .dataframe thead th {\n",
       "        text-align: right;\n",
       "    }\n",
       "</style>\n",
       "<table border=\"1\" class=\"dataframe\">\n",
       "  <thead>\n",
       "    <tr style=\"text-align: right;\">\n",
       "      <th></th>\n",
       "      <th>Valor</th>\n",
       "    </tr>\n",
       "    <tr>\n",
       "      <th>Descrição</th>\n",
       "      <th></th>\n",
       "    </tr>\n",
       "  </thead>\n",
       "  <tbody>\n",
       "    <tr>\n",
       "      <th>NOTA *      PREGÃO 31/03/2022</th>\n",
       "      <td>1.693,50</td>\n",
       "    </tr>\n",
       "    <tr>\n",
       "      <th>JUROS S/CAPITAL 500                ITUB4</th>\n",
       "      <td>7,50</td>\n",
       "    </tr>\n",
       "    <tr>\n",
       "      <th>JUROS S/CAPITAL 300                MDIA3</th>\n",
       "      <td>12,75</td>\n",
       "    </tr>\n",
       "    <tr>\n",
       "      <th>JUROS S/CAPITAL 100                BBAS3</th>\n",
       "      <td>17,91</td>\n",
       "    </tr>\n",
       "    <tr>\n",
       "      <th>NOTA *      PREGÃO 24/03/2022</th>\n",
       "      <td>8.567,43</td>\n",
       "    </tr>\n",
       "    <tr>\n",
       "      <th>RENDIMENTO 143                PAPEL XPML11</th>\n",
       "      <td>91,52</td>\n",
       "    </tr>\n",
       "    <tr>\n",
       "      <th>NOTA *      PREGÃO 23/03/2022</th>\n",
       "      <td>2.729,18</td>\n",
       "    </tr>\n",
       "    <tr>\n",
       "      <th>NOTA *      PREGÃO 17/03/2022</th>\n",
       "      <td>1.163,65</td>\n",
       "    </tr>\n",
       "    <tr>\n",
       "      <th>RENDIMENTO 72                 PAPEL XPPR11</th>\n",
       "      <td>32,40</td>\n",
       "    </tr>\n",
       "    <tr>\n",
       "      <th>RENDIMENTO 170                PAPEL XPLG11</th>\n",
       "      <td>112,20</td>\n",
       "    </tr>\n",
       "    <tr>\n",
       "      <th>RENDIMENTO 168                PAPEL VISC11</th>\n",
       "      <td>114,24</td>\n",
       "    </tr>\n",
       "    <tr>\n",
       "      <th>RENDIMENTO 316                PAPEL VINO11</th>\n",
       "      <td>107,44</td>\n",
       "    </tr>\n",
       "    <tr>\n",
       "      <th>RENDIMENTO 175                PAPEL VILG11</th>\n",
       "      <td>122,50</td>\n",
       "    </tr>\n",
       "    <tr>\n",
       "      <th>RENDIMENTO 62                 PAPEL RECT11</th>\n",
       "      <td>31,11</td>\n",
       "    </tr>\n",
       "    <tr>\n",
       "      <th>RENDIMENTO 74                 PAPEL RBFF11</th>\n",
       "      <td>34,78</td>\n",
       "    </tr>\n",
       "    <tr>\n",
       "      <th>DIVIDENDOS 1.400              JHSF3</th>\n",
       "      <td>224,91</td>\n",
       "    </tr>\n",
       "    <tr>\n",
       "      <th>JUROS S/CAPITAL 700                ITUB4</th>\n",
       "      <td>157,41</td>\n",
       "    </tr>\n",
       "    <tr>\n",
       "      <th>JUROS S/CAPITAL 100                BBAS3</th>\n",
       "      <td>38,61</td>\n",
       "    </tr>\n",
       "    <tr>\n",
       "      <th>JUROS S/CAPITAL 500                ITUB4</th>\n",
       "      <td>5,81</td>\n",
       "    </tr>\n",
       "    <tr>\n",
       "      <th>RENDIMENTO 100                PAPEL BBAS3</th>\n",
       "      <td>0,64</td>\n",
       "    </tr>\n",
       "    <tr>\n",
       "      <th>DIVIDENDOS 100                BBAS3</th>\n",
       "      <td>35,58</td>\n",
       "    </tr>\n",
       "    <tr>\n",
       "      <th>RENDIMENTO 100                PAPEL BBAS3</th>\n",
       "      <td>0,50</td>\n",
       "    </tr>\n",
       "    <tr>\n",
       "      <th>NOTA *      PREGÃO 02/03/2022</th>\n",
       "      <td>3.549,93</td>\n",
       "    </tr>\n",
       "    <tr>\n",
       "      <th>JUROS S/CAPITAL 700                ITUB4</th>\n",
       "      <td>10,50</td>\n",
       "    </tr>\n",
       "    <tr>\n",
       "      <th>RENDIMENTO 143                PAPEL XPML11</th>\n",
       "      <td>85,80</td>\n",
       "    </tr>\n",
       "    <tr>\n",
       "      <th>TED BCO 104 AGE 1642  CTA 217427  - RETIRADA EM C/C</th>\n",
       "      <td>-20.000,00</td>\n",
       "    </tr>\n",
       "    <tr>\n",
       "      <th>JUROS S/CAPITAL 300                MDIA3</th>\n",
       "      <td>445,39</td>\n",
       "    </tr>\n",
       "    <tr>\n",
       "      <th>NOTA *      PREGÃO 15/02/2022</th>\n",
       "      <td>2.699,18</td>\n",
       "    </tr>\n",
       "    <tr>\n",
       "      <th>RENDIMENTO 74                 PAPEL RBFF11</th>\n",
       "      <td>34,78</td>\n",
       "    </tr>\n",
       "    <tr>\n",
       "      <th>RENDIMENTO 72                 PAPEL XPPR11</th>\n",
       "      <td>32,40</td>\n",
       "    </tr>\n",
       "    <tr>\n",
       "      <th>RENDIMENTO 170                PAPEL XPLG11</th>\n",
       "      <td>108,80</td>\n",
       "    </tr>\n",
       "    <tr>\n",
       "      <th>RENDIMENTO 168                PAPEL VISC11</th>\n",
       "      <td>114,24</td>\n",
       "    </tr>\n",
       "    <tr>\n",
       "      <th>RENDIMENTO 316                PAPEL VINO11</th>\n",
       "      <td>107,44</td>\n",
       "    </tr>\n",
       "    <tr>\n",
       "      <th>RENDIMENTO 175                PAPEL VILG11</th>\n",
       "      <td>122,50</td>\n",
       "    </tr>\n",
       "    <tr>\n",
       "      <th>RENDIMENTO 62                 PAPEL RECT11</th>\n",
       "      <td>32,36</td>\n",
       "    </tr>\n",
       "    <tr>\n",
       "      <th>JUROS S/CAPITAL 310                RENT3</th>\n",
       "      <td>34,04</td>\n",
       "    </tr>\n",
       "    <tr>\n",
       "      <th>NOTA *      PREGÃO 07/02/2022</th>\n",
       "      <td>4.328,70</td>\n",
       "    </tr>\n",
       "    <tr>\n",
       "      <th>NOTA *      PREGÃO 03/02/2022</th>\n",
       "      <td>5.032,49</td>\n",
       "    </tr>\n",
       "    <tr>\n",
       "      <th>NOTA *      PREGÃO 02/02/2022</th>\n",
       "      <td>641,81</td>\n",
       "    </tr>\n",
       "    <tr>\n",
       "      <th>JUROS S/CAPITAL 700                ITUB4</th>\n",
       "      <td>10,50</td>\n",
       "    </tr>\n",
       "  </tbody>\n",
       "</table>\n",
       "</div>"
      ],
      "text/plain": [
       "                                                         Valor\n",
       "Descrição                                                     \n",
       "NOTA *      PREGÃO 31/03/2022                         1.693,50\n",
       "JUROS S/CAPITAL 500                ITUB4                  7,50\n",
       "JUROS S/CAPITAL 300                MDIA3                 12,75\n",
       "JUROS S/CAPITAL 100                BBAS3                 17,91\n",
       "NOTA *      PREGÃO 24/03/2022                         8.567,43\n",
       "RENDIMENTO 143                PAPEL XPML11               91,52\n",
       "NOTA *      PREGÃO 23/03/2022                         2.729,18\n",
       "NOTA *      PREGÃO 17/03/2022                         1.163,65\n",
       "RENDIMENTO 72                 PAPEL XPPR11               32,40\n",
       "RENDIMENTO 170                PAPEL XPLG11              112,20\n",
       "RENDIMENTO 168                PAPEL VISC11              114,24\n",
       "RENDIMENTO 316                PAPEL VINO11              107,44\n",
       "RENDIMENTO 175                PAPEL VILG11              122,50\n",
       "RENDIMENTO 62                 PAPEL RECT11               31,11\n",
       "RENDIMENTO 74                 PAPEL RBFF11               34,78\n",
       "DIVIDENDOS 1.400              JHSF3                     224,91\n",
       "JUROS S/CAPITAL 700                ITUB4                157,41\n",
       "JUROS S/CAPITAL 100                BBAS3                 38,61\n",
       "JUROS S/CAPITAL 500                ITUB4                  5,81\n",
       "RENDIMENTO 100                PAPEL BBAS3                 0,64\n",
       "DIVIDENDOS 100                BBAS3                      35,58\n",
       "RENDIMENTO 100                PAPEL BBAS3                 0,50\n",
       "NOTA *      PREGÃO 02/03/2022                         3.549,93\n",
       "JUROS S/CAPITAL 700                ITUB4                 10,50\n",
       "RENDIMENTO 143                PAPEL XPML11               85,80\n",
       "TED BCO 104 AGE 1642  CTA 217427  - RETIRADA EM...  -20.000,00\n",
       "JUROS S/CAPITAL 300                MDIA3                445,39\n",
       "NOTA *      PREGÃO 15/02/2022                         2.699,18\n",
       "RENDIMENTO 74                 PAPEL RBFF11               34,78\n",
       "RENDIMENTO 72                 PAPEL XPPR11               32,40\n",
       "RENDIMENTO 170                PAPEL XPLG11              108,80\n",
       "RENDIMENTO 168                PAPEL VISC11              114,24\n",
       "RENDIMENTO 316                PAPEL VINO11              107,44\n",
       "RENDIMENTO 175                PAPEL VILG11              122,50\n",
       "RENDIMENTO 62                 PAPEL RECT11               32,36\n",
       "JUROS S/CAPITAL 310                RENT3                 34,04\n",
       "NOTA *      PREGÃO 07/02/2022                         4.328,70\n",
       "NOTA *      PREGÃO 03/02/2022                         5.032,49\n",
       "NOTA *      PREGÃO 02/02/2022                           641,81\n",
       "JUROS S/CAPITAL 700                ITUB4                 10,50"
      ]
     },
     "execution_count": 249,
     "metadata": {},
     "output_type": "execute_result"
    }
   ],
   "source": [
    "dataset[['Valor']]"
   ]
  },
  {
   "cell_type": "markdown",
   "metadata": {},
   "source": [
    "Inserindo dois colchetes retorna como dataframe"
   ]
  },
  {
   "cell_type": "code",
   "execution_count": 250,
   "metadata": {
    "colab": {
     "base_uri": "https://localhost:8080/"
    },
    "executionInfo": {
     "elapsed": 27,
     "status": "ok",
     "timestamp": 1653262525149,
     "user": {
      "displayName": "Leo Gusmao",
      "userId": "01421071286696610646"
     },
     "user_tz": 180
    },
    "id": "tqgXtKwy2SNZ",
    "outputId": "542d71b0-8ba5-4591-9844-d143c82f6c94"
   },
   "outputs": [
    {
     "data": {
      "text/plain": [
       "pandas.core.frame.DataFrame"
      ]
     },
     "execution_count": 250,
     "metadata": {},
     "output_type": "execute_result"
    }
   ],
   "source": [
    "type(dataset[['Valor']])"
   ]
  },
  {
   "cell_type": "code",
   "execution_count": 251,
   "metadata": {
    "colab": {
     "base_uri": "https://localhost:8080/",
     "height": 206
    },
    "executionInfo": {
     "elapsed": 24,
     "status": "ok",
     "timestamp": 1653262525149,
     "user": {
      "displayName": "Leo Gusmao",
      "userId": "01421071286696610646"
     },
     "user_tz": 180
    },
    "id": "SwXXsjzj2a0_",
    "outputId": "91c86da7-0195-4769-9c58-413dce5cc543"
   },
   "outputs": [
    {
     "data": {
      "text/html": [
       "<div>\n",
       "<style scoped>\n",
       "    .dataframe tbody tr th:only-of-type {\n",
       "        vertical-align: middle;\n",
       "    }\n",
       "\n",
       "    .dataframe tbody tr th {\n",
       "        vertical-align: top;\n",
       "    }\n",
       "\n",
       "    .dataframe thead th {\n",
       "        text-align: right;\n",
       "    }\n",
       "</style>\n",
       "<table border=\"1\" class=\"dataframe\">\n",
       "  <thead>\n",
       "    <tr style=\"text-align: right;\">\n",
       "      <th></th>\n",
       "      <th>Operação</th>\n",
       "      <th>Liquidação</th>\n",
       "      <th>Valor</th>\n",
       "      <th>Saldo Final</th>\n",
       "    </tr>\n",
       "    <tr>\n",
       "      <th>Descrição</th>\n",
       "      <th></th>\n",
       "      <th></th>\n",
       "      <th></th>\n",
       "      <th></th>\n",
       "    </tr>\n",
       "  </thead>\n",
       "  <tbody>\n",
       "    <tr>\n",
       "      <th>NOTA *      PREGÃO 31/03/2022</th>\n",
       "      <td>31/03/2022</td>\n",
       "      <td>04/04/2022</td>\n",
       "      <td>1.693,50</td>\n",
       "      <td>20.201,98</td>\n",
       "    </tr>\n",
       "    <tr>\n",
       "      <th>JUROS S/CAPITAL 500                ITUB4</th>\n",
       "      <td>01/04/2022</td>\n",
       "      <td>01/04/2022</td>\n",
       "      <td>7,50</td>\n",
       "      <td>18.508,48</td>\n",
       "    </tr>\n",
       "    <tr>\n",
       "      <th>JUROS S/CAPITAL 300                MDIA3</th>\n",
       "      <td>31/03/2022</td>\n",
       "      <td>31/03/2022</td>\n",
       "      <td>12,75</td>\n",
       "      <td>18.500,98</td>\n",
       "    </tr>\n",
       "    <tr>\n",
       "      <th>JUROS S/CAPITAL 100                BBAS3</th>\n",
       "      <td>31/03/2022</td>\n",
       "      <td>31/03/2022</td>\n",
       "      <td>17,91</td>\n",
       "      <td>18.488,23</td>\n",
       "    </tr>\n",
       "  </tbody>\n",
       "</table>\n",
       "</div>"
      ],
      "text/plain": [
       "                                                   Operação  Liquidação  \\\n",
       "Descrição                                                                 \n",
       "NOTA *      PREGÃO 31/03/2022                    31/03/2022  04/04/2022   \n",
       "JUROS S/CAPITAL 500                ITUB4         01/04/2022  01/04/2022   \n",
       "JUROS S/CAPITAL 300                MDIA3         31/03/2022  31/03/2022   \n",
       "JUROS S/CAPITAL 100                BBAS3         31/03/2022  31/03/2022   \n",
       "\n",
       "                                                    Valor Saldo Final  \n",
       "Descrição                                                              \n",
       "NOTA *      PREGÃO 31/03/2022                    1.693,50   20.201,98  \n",
       "JUROS S/CAPITAL 500                ITUB4             7,50   18.508,48  \n",
       "JUROS S/CAPITAL 300                MDIA3            12,75   18.500,98  \n",
       "JUROS S/CAPITAL 100                BBAS3            17,91   18.488,23  "
      ]
     },
     "execution_count": 251,
     "metadata": {},
     "output_type": "execute_result"
    }
   ],
   "source": [
    "dataset[0:4]"
   ]
  },
  {
   "cell_type": "code",
   "execution_count": 252,
   "metadata": {
    "colab": {
     "base_uri": "https://localhost:8080/",
     "height": 112
    },
    "executionInfo": {
     "elapsed": 24,
     "status": "ok",
     "timestamp": 1653262525150,
     "user": {
      "displayName": "Leo Gusmao",
      "userId": "01421071286696610646"
     },
     "user_tz": 180
    },
    "id": "RvP9KlEf2tqs",
    "outputId": "1f13df7d-9bbb-4f1d-9e59-0373eea69050"
   },
   "outputs": [
    {
     "data": {
      "text/html": [
       "<div>\n",
       "<style scoped>\n",
       "    .dataframe tbody tr th:only-of-type {\n",
       "        vertical-align: middle;\n",
       "    }\n",
       "\n",
       "    .dataframe tbody tr th {\n",
       "        vertical-align: top;\n",
       "    }\n",
       "\n",
       "    .dataframe thead th {\n",
       "        text-align: right;\n",
       "    }\n",
       "</style>\n",
       "<table border=\"1\" class=\"dataframe\">\n",
       "  <thead>\n",
       "    <tr style=\"text-align: right;\">\n",
       "      <th></th>\n",
       "      <th>Operação</th>\n",
       "      <th>Liquidação</th>\n",
       "      <th>Valor</th>\n",
       "      <th>Saldo Final</th>\n",
       "    </tr>\n",
       "    <tr>\n",
       "      <th>Descrição</th>\n",
       "      <th></th>\n",
       "      <th></th>\n",
       "      <th></th>\n",
       "      <th></th>\n",
       "    </tr>\n",
       "  </thead>\n",
       "  <tbody>\n",
       "    <tr>\n",
       "      <th>RENDIMENTO 143                PAPEL XPML11</th>\n",
       "      <td>25/03/2022</td>\n",
       "      <td>25/03/2022</td>\n",
       "      <td>91,52</td>\n",
       "      <td>9.902,89</td>\n",
       "    </tr>\n",
       "  </tbody>\n",
       "</table>\n",
       "</div>"
      ],
      "text/plain": [
       "                                                    Operação  Liquidação  \\\n",
       "Descrição                                                                  \n",
       "RENDIMENTO 143                PAPEL XPML11        25/03/2022  25/03/2022   \n",
       "\n",
       "                                                  Valor Saldo Final  \n",
       "Descrição                                                            \n",
       "RENDIMENTO 143                PAPEL XPML11        91,52    9.902,89  "
      ]
     },
     "execution_count": 252,
     "metadata": {},
     "output_type": "execute_result"
    }
   ],
   "source": [
    "dataset[5:6]"
   ]
  },
  {
   "cell_type": "code",
   "execution_count": 253,
   "metadata": {
    "executionInfo": {
     "elapsed": 23,
     "status": "ok",
     "timestamp": 1653262525150,
     "user": {
      "displayName": "Leo Gusmao",
      "userId": "01421071286696610646"
     },
     "user_tz": 180
    },
    "id": "Ipa0WmBU2yAL"
   },
   "outputs": [],
   "source": [
    "dataset2 = pd.DataFrame(dados)"
   ]
  },
  {
   "cell_type": "code",
   "execution_count": 254,
   "metadata": {
    "colab": {
     "base_uri": "https://localhost:8080/",
     "height": 143
    },
    "executionInfo": {
     "elapsed": 24,
     "status": "ok",
     "timestamp": 1653262525151,
     "user": {
      "displayName": "Leo Gusmao",
      "userId": "01421071286696610646"
     },
     "user_tz": 180
    },
    "id": "_6-9rTGI3ABt",
    "outputId": "10287b52-e7fe-4ee5-9b36-d5b9b162025c"
   },
   "outputs": [
    {
     "data": {
      "text/html": [
       "<div>\n",
       "<style scoped>\n",
       "    .dataframe tbody tr th:only-of-type {\n",
       "        vertical-align: middle;\n",
       "    }\n",
       "\n",
       "    .dataframe tbody tr th {\n",
       "        vertical-align: top;\n",
       "    }\n",
       "\n",
       "    .dataframe thead th {\n",
       "        text-align: right;\n",
       "    }\n",
       "</style>\n",
       "<table border=\"1\" class=\"dataframe\">\n",
       "  <thead>\n",
       "    <tr style=\"text-align: right;\">\n",
       "      <th></th>\n",
       "      <th>Nome</th>\n",
       "      <th>Ano</th>\n",
       "    </tr>\n",
       "  </thead>\n",
       "  <tbody>\n",
       "    <tr>\n",
       "      <th>0</th>\n",
       "      <td>Passat</td>\n",
       "      <td>1990</td>\n",
       "    </tr>\n",
       "    <tr>\n",
       "      <th>1</th>\n",
       "      <td>Fusca</td>\n",
       "      <td>1985</td>\n",
       "    </tr>\n",
       "    <tr>\n",
       "      <th>2</th>\n",
       "      <td>HB20</td>\n",
       "      <td>2013</td>\n",
       "    </tr>\n",
       "  </tbody>\n",
       "</table>\n",
       "</div>"
      ],
      "text/plain": [
       "     Nome   Ano\n",
       "0  Passat  1990\n",
       "1   Fusca  1985\n",
       "2    HB20  2013"
      ]
     },
     "execution_count": 254,
     "metadata": {},
     "output_type": "execute_result"
    }
   ],
   "source": [
    "dataset2"
   ]
  },
  {
   "cell_type": "code",
   "execution_count": 255,
   "metadata": {
    "colab": {
     "base_uri": "https://localhost:8080/"
    },
    "executionInfo": {
     "elapsed": 23,
     "status": "ok",
     "timestamp": 1653262525151,
     "user": {
      "displayName": "Leo Gusmao",
      "userId": "01421071286696610646"
     },
     "user_tz": 180
    },
    "id": "ZqA6rYgk3yaf",
    "outputId": "eb98a926-d858-4f72-f8b5-73506c870549"
   },
   "outputs": [
    {
     "data": {
      "text/plain": [
       "Nome    Passat\n",
       "Ano       1990\n",
       "Name: 0, dtype: object"
      ]
     },
     "execution_count": 255,
     "metadata": {},
     "output_type": "execute_result"
    }
   ],
   "source": [
    "dataset2.loc[0]"
   ]
  },
  {
   "cell_type": "code",
   "execution_count": 256,
   "metadata": {
    "colab": {
     "base_uri": "https://localhost:8080/",
     "height": 112
    },
    "executionInfo": {
     "elapsed": 19,
     "status": "ok",
     "timestamp": 1653262525151,
     "user": {
      "displayName": "Leo Gusmao",
      "userId": "01421071286696610646"
     },
     "user_tz": 180
    },
    "id": "DDWPST663sDk",
    "outputId": "c4a762fc-5f04-4ff0-fb88-8f2fa9881f81"
   },
   "outputs": [
    {
     "data": {
      "text/html": [
       "<div>\n",
       "<style scoped>\n",
       "    .dataframe tbody tr th:only-of-type {\n",
       "        vertical-align: middle;\n",
       "    }\n",
       "\n",
       "    .dataframe tbody tr th {\n",
       "        vertical-align: top;\n",
       "    }\n",
       "\n",
       "    .dataframe thead th {\n",
       "        text-align: right;\n",
       "    }\n",
       "</style>\n",
       "<table border=\"1\" class=\"dataframe\">\n",
       "  <thead>\n",
       "    <tr style=\"text-align: right;\">\n",
       "      <th></th>\n",
       "      <th>Nome</th>\n",
       "      <th>Ano</th>\n",
       "    </tr>\n",
       "  </thead>\n",
       "  <tbody>\n",
       "    <tr>\n",
       "      <th>0</th>\n",
       "      <td>Passat</td>\n",
       "      <td>1990</td>\n",
       "    </tr>\n",
       "    <tr>\n",
       "      <th>2</th>\n",
       "      <td>HB20</td>\n",
       "      <td>2013</td>\n",
       "    </tr>\n",
       "  </tbody>\n",
       "</table>\n",
       "</div>"
      ],
      "text/plain": [
       "     Nome   Ano\n",
       "0  Passat  1990\n",
       "2    HB20  2013"
      ]
     },
     "execution_count": 256,
     "metadata": {},
     "output_type": "execute_result"
    }
   ],
   "source": [
    "dataset2.loc[[0, 2]]"
   ]
  },
  {
   "cell_type": "code",
   "execution_count": 257,
   "metadata": {
    "colab": {
     "base_uri": "https://localhost:8080/",
     "height": 112
    },
    "executionInfo": {
     "elapsed": 562,
     "status": "ok",
     "timestamp": 1653262525695,
     "user": {
      "displayName": "Leo Gusmao",
      "userId": "01421071286696610646"
     },
     "user_tz": 180
    },
    "id": "HoFYO_mD5MIo",
    "outputId": "8ff1e65c-a870-467d-d7d7-7e8d82fe6b00"
   },
   "outputs": [
    {
     "data": {
      "text/html": [
       "<div>\n",
       "<style scoped>\n",
       "    .dataframe tbody tr th:only-of-type {\n",
       "        vertical-align: middle;\n",
       "    }\n",
       "\n",
       "    .dataframe tbody tr th {\n",
       "        vertical-align: top;\n",
       "    }\n",
       "\n",
       "    .dataframe thead th {\n",
       "        text-align: right;\n",
       "    }\n",
       "</style>\n",
       "<table border=\"1\" class=\"dataframe\">\n",
       "  <thead>\n",
       "    <tr style=\"text-align: right;\">\n",
       "      <th></th>\n",
       "      <th>Nome</th>\n",
       "    </tr>\n",
       "  </thead>\n",
       "  <tbody>\n",
       "    <tr>\n",
       "      <th>0</th>\n",
       "      <td>Passat</td>\n",
       "    </tr>\n",
       "    <tr>\n",
       "      <th>2</th>\n",
       "      <td>HB20</td>\n",
       "    </tr>\n",
       "  </tbody>\n",
       "</table>\n",
       "</div>"
      ],
      "text/plain": [
       "     Nome\n",
       "0  Passat\n",
       "2    HB20"
      ]
     },
     "execution_count": 257,
     "metadata": {},
     "output_type": "execute_result"
    }
   ],
   "source": [
    "dataset2.loc[[0, 2], ['Nome']]"
   ]
  },
  {
   "cell_type": "code",
   "execution_count": 258,
   "metadata": {
    "colab": {
     "base_uri": "https://localhost:8080/",
     "height": 143
    },
    "executionInfo": {
     "elapsed": 32,
     "status": "ok",
     "timestamp": 1653262525699,
     "user": {
      "displayName": "Leo Gusmao",
      "userId": "01421071286696610646"
     },
     "user_tz": 180
    },
    "id": "fjcxBztt5W1E",
    "outputId": "ad8a0818-7bef-4f7e-b4f7-a5574773348e"
   },
   "outputs": [
    {
     "data": {
      "text/html": [
       "<div>\n",
       "<style scoped>\n",
       "    .dataframe tbody tr th:only-of-type {\n",
       "        vertical-align: middle;\n",
       "    }\n",
       "\n",
       "    .dataframe tbody tr th {\n",
       "        vertical-align: top;\n",
       "    }\n",
       "\n",
       "    .dataframe thead th {\n",
       "        text-align: right;\n",
       "    }\n",
       "</style>\n",
       "<table border=\"1\" class=\"dataframe\">\n",
       "  <thead>\n",
       "    <tr style=\"text-align: right;\">\n",
       "      <th></th>\n",
       "      <th>Nome</th>\n",
       "    </tr>\n",
       "  </thead>\n",
       "  <tbody>\n",
       "    <tr>\n",
       "      <th>0</th>\n",
       "      <td>Passat</td>\n",
       "    </tr>\n",
       "    <tr>\n",
       "      <th>1</th>\n",
       "      <td>Fusca</td>\n",
       "    </tr>\n",
       "    <tr>\n",
       "      <th>2</th>\n",
       "      <td>HB20</td>\n",
       "    </tr>\n",
       "  </tbody>\n",
       "</table>\n",
       "</div>"
      ],
      "text/plain": [
       "     Nome\n",
       "0  Passat\n",
       "1   Fusca\n",
       "2    HB20"
      ]
     },
     "execution_count": 258,
     "metadata": {},
     "output_type": "execute_result"
    }
   ],
   "source": [
    "dataset2.loc[:, ['Nome']]"
   ]
  },
  {
   "cell_type": "code",
   "execution_count": 259,
   "metadata": {
    "colab": {
     "base_uri": "https://localhost:8080/",
     "height": 677
    },
    "executionInfo": {
     "elapsed": 29,
     "status": "ok",
     "timestamp": 1653262525700,
     "user": {
      "displayName": "Leo Gusmao",
      "userId": "01421071286696610646"
     },
     "user_tz": 180
    },
    "id": "ehcMf8hG5wat",
    "outputId": "27538e95-ded1-408c-97af-51fdfa68bcfa"
   },
   "outputs": [
    {
     "data": {
      "text/html": [
       "<div>\n",
       "<style scoped>\n",
       "    .dataframe tbody tr th:only-of-type {\n",
       "        vertical-align: middle;\n",
       "    }\n",
       "\n",
       "    .dataframe tbody tr th {\n",
       "        vertical-align: top;\n",
       "    }\n",
       "\n",
       "    .dataframe thead th {\n",
       "        text-align: right;\n",
       "    }\n",
       "</style>\n",
       "<table border=\"1\" class=\"dataframe\">\n",
       "  <thead>\n",
       "    <tr style=\"text-align: right;\">\n",
       "      <th></th>\n",
       "      <th>Operação</th>\n",
       "      <th>Liquidação</th>\n",
       "      <th>Valor</th>\n",
       "      <th>Saldo Final</th>\n",
       "    </tr>\n",
       "    <tr>\n",
       "      <th>Descrição</th>\n",
       "      <th></th>\n",
       "      <th></th>\n",
       "      <th></th>\n",
       "      <th></th>\n",
       "    </tr>\n",
       "  </thead>\n",
       "  <tbody>\n",
       "    <tr>\n",
       "      <th>NOTA *      PREGÃO 31/03/2022</th>\n",
       "      <td>31/03/2022</td>\n",
       "      <td>04/04/2022</td>\n",
       "      <td>1.693,50</td>\n",
       "      <td>20.201,98</td>\n",
       "    </tr>\n",
       "    <tr>\n",
       "      <th>JUROS S/CAPITAL 500                ITUB4</th>\n",
       "      <td>01/04/2022</td>\n",
       "      <td>01/04/2022</td>\n",
       "      <td>7,50</td>\n",
       "      <td>18.508,48</td>\n",
       "    </tr>\n",
       "    <tr>\n",
       "      <th>JUROS S/CAPITAL 300                MDIA3</th>\n",
       "      <td>31/03/2022</td>\n",
       "      <td>31/03/2022</td>\n",
       "      <td>12,75</td>\n",
       "      <td>18.500,98</td>\n",
       "    </tr>\n",
       "    <tr>\n",
       "      <th>JUROS S/CAPITAL 100                BBAS3</th>\n",
       "      <td>31/03/2022</td>\n",
       "      <td>31/03/2022</td>\n",
       "      <td>17,91</td>\n",
       "      <td>18.488,23</td>\n",
       "    </tr>\n",
       "    <tr>\n",
       "      <th>NOTA *      PREGÃO 24/03/2022</th>\n",
       "      <td>24/03/2022</td>\n",
       "      <td>28/03/2022</td>\n",
       "      <td>8.567,43</td>\n",
       "      <td>18.470,32</td>\n",
       "    </tr>\n",
       "    <tr>\n",
       "      <th>RENDIMENTO 143                PAPEL XPML11</th>\n",
       "      <td>25/03/2022</td>\n",
       "      <td>25/03/2022</td>\n",
       "      <td>91,52</td>\n",
       "      <td>9.902,89</td>\n",
       "    </tr>\n",
       "    <tr>\n",
       "      <th>NOTA *      PREGÃO 23/03/2022</th>\n",
       "      <td>23/03/2022</td>\n",
       "      <td>25/03/2022</td>\n",
       "      <td>2.729,18</td>\n",
       "      <td>9.811,37</td>\n",
       "    </tr>\n",
       "    <tr>\n",
       "      <th>NOTA *      PREGÃO 17/03/2022</th>\n",
       "      <td>17/03/2022</td>\n",
       "      <td>21/03/2022</td>\n",
       "      <td>1.163,65</td>\n",
       "      <td>7.082,19</td>\n",
       "    </tr>\n",
       "    <tr>\n",
       "      <th>RENDIMENTO 72                 PAPEL XPPR11</th>\n",
       "      <td>15/03/2022</td>\n",
       "      <td>15/03/2022</td>\n",
       "      <td>32,40</td>\n",
       "      <td>5.918,54</td>\n",
       "    </tr>\n",
       "    <tr>\n",
       "      <th>RENDIMENTO 170                PAPEL XPLG11</th>\n",
       "      <td>15/03/2022</td>\n",
       "      <td>15/03/2022</td>\n",
       "      <td>112,20</td>\n",
       "      <td>5.886,14</td>\n",
       "    </tr>\n",
       "    <tr>\n",
       "      <th>RENDIMENTO 168                PAPEL VISC11</th>\n",
       "      <td>15/03/2022</td>\n",
       "      <td>15/03/2022</td>\n",
       "      <td>114,24</td>\n",
       "      <td>5.773,94</td>\n",
       "    </tr>\n",
       "    <tr>\n",
       "      <th>RENDIMENTO 316                PAPEL VINO11</th>\n",
       "      <td>15/03/2022</td>\n",
       "      <td>15/03/2022</td>\n",
       "      <td>107,44</td>\n",
       "      <td>5.659,70</td>\n",
       "    </tr>\n",
       "    <tr>\n",
       "      <th>RENDIMENTO 175                PAPEL VILG11</th>\n",
       "      <td>15/03/2022</td>\n",
       "      <td>15/03/2022</td>\n",
       "      <td>122,50</td>\n",
       "      <td>5.552,26</td>\n",
       "    </tr>\n",
       "    <tr>\n",
       "      <th>RENDIMENTO 62                 PAPEL RECT11</th>\n",
       "      <td>15/03/2022</td>\n",
       "      <td>15/03/2022</td>\n",
       "      <td>31,11</td>\n",
       "      <td>5.429,76</td>\n",
       "    </tr>\n",
       "    <tr>\n",
       "      <th>RENDIMENTO 74                 PAPEL RBFF11</th>\n",
       "      <td>15/03/2022</td>\n",
       "      <td>15/03/2022</td>\n",
       "      <td>34,78</td>\n",
       "      <td>5.398,65</td>\n",
       "    </tr>\n",
       "    <tr>\n",
       "      <th>DIVIDENDOS 1.400              JHSF3</th>\n",
       "      <td>14/03/2022</td>\n",
       "      <td>14/03/2022</td>\n",
       "      <td>224,91</td>\n",
       "      <td>5.363,87</td>\n",
       "    </tr>\n",
       "    <tr>\n",
       "      <th>JUROS S/CAPITAL 700                ITUB4</th>\n",
       "      <td>11/03/2022</td>\n",
       "      <td>11/03/2022</td>\n",
       "      <td>157,41</td>\n",
       "      <td>5.138,96</td>\n",
       "    </tr>\n",
       "    <tr>\n",
       "      <th>JUROS S/CAPITAL 100                BBAS3</th>\n",
       "      <td>11/03/2022</td>\n",
       "      <td>11/03/2022</td>\n",
       "      <td>38,61</td>\n",
       "      <td>4.981,55</td>\n",
       "    </tr>\n",
       "    <tr>\n",
       "      <th>JUROS S/CAPITAL 500                ITUB4</th>\n",
       "      <td>11/03/2022</td>\n",
       "      <td>11/03/2022</td>\n",
       "      <td>5,81</td>\n",
       "      <td>4.942,94</td>\n",
       "    </tr>\n",
       "    <tr>\n",
       "      <th>RENDIMENTO 100                PAPEL BBAS3</th>\n",
       "      <td>11/03/2022</td>\n",
       "      <td>11/03/2022</td>\n",
       "      <td>0,64</td>\n",
       "      <td>4.937,13</td>\n",
       "    </tr>\n",
       "    <tr>\n",
       "      <th>DIVIDENDOS 100                BBAS3</th>\n",
       "      <td>11/03/2022</td>\n",
       "      <td>11/03/2022</td>\n",
       "      <td>35,58</td>\n",
       "      <td>4.936,49</td>\n",
       "    </tr>\n",
       "    <tr>\n",
       "      <th>RENDIMENTO 100                PAPEL BBAS3</th>\n",
       "      <td>11/03/2022</td>\n",
       "      <td>11/03/2022</td>\n",
       "      <td>0,50</td>\n",
       "      <td>4.900,91</td>\n",
       "    </tr>\n",
       "    <tr>\n",
       "      <th>NOTA *      PREGÃO 02/03/2022</th>\n",
       "      <td>02/03/2022</td>\n",
       "      <td>04/03/2022</td>\n",
       "      <td>3.549,93</td>\n",
       "      <td>4.900,41</td>\n",
       "    </tr>\n",
       "    <tr>\n",
       "      <th>JUROS S/CAPITAL 700                ITUB4</th>\n",
       "      <td>02/03/2022</td>\n",
       "      <td>02/03/2022</td>\n",
       "      <td>10,50</td>\n",
       "      <td>1.350,48</td>\n",
       "    </tr>\n",
       "    <tr>\n",
       "      <th>RENDIMENTO 143                PAPEL XPML11</th>\n",
       "      <td>25/02/2022</td>\n",
       "      <td>25/02/2022</td>\n",
       "      <td>85,80</td>\n",
       "      <td>1.339,98</td>\n",
       "    </tr>\n",
       "    <tr>\n",
       "      <th>TED BCO 104 AGE 1642  CTA 217427  - RETIRADA EM C/C</th>\n",
       "      <td>21/02/2022</td>\n",
       "      <td>21/02/2022</td>\n",
       "      <td>-20.000,00</td>\n",
       "      <td>1.254,18</td>\n",
       "    </tr>\n",
       "    <tr>\n",
       "      <th>JUROS S/CAPITAL 300                MDIA3</th>\n",
       "      <td>18/02/2022</td>\n",
       "      <td>18/02/2022</td>\n",
       "      <td>445,39</td>\n",
       "      <td>21.254,18</td>\n",
       "    </tr>\n",
       "    <tr>\n",
       "      <th>NOTA *      PREGÃO 15/02/2022</th>\n",
       "      <td>15/02/2022</td>\n",
       "      <td>17/02/2022</td>\n",
       "      <td>2.699,18</td>\n",
       "      <td>20.808,79</td>\n",
       "    </tr>\n",
       "    <tr>\n",
       "      <th>RENDIMENTO 74                 PAPEL RBFF11</th>\n",
       "      <td>15/02/2022</td>\n",
       "      <td>15/02/2022</td>\n",
       "      <td>34,78</td>\n",
       "      <td>18.109,61</td>\n",
       "    </tr>\n",
       "    <tr>\n",
       "      <th>RENDIMENTO 72                 PAPEL XPPR11</th>\n",
       "      <td>14/02/2022</td>\n",
       "      <td>14/02/2022</td>\n",
       "      <td>32,40</td>\n",
       "      <td>18.074,83</td>\n",
       "    </tr>\n",
       "    <tr>\n",
       "      <th>RENDIMENTO 170                PAPEL XPLG11</th>\n",
       "      <td>14/02/2022</td>\n",
       "      <td>14/02/2022</td>\n",
       "      <td>108,80</td>\n",
       "      <td>18.042,43</td>\n",
       "    </tr>\n",
       "    <tr>\n",
       "      <th>RENDIMENTO 168                PAPEL VISC11</th>\n",
       "      <td>14/02/2022</td>\n",
       "      <td>14/02/2022</td>\n",
       "      <td>114,24</td>\n",
       "      <td>17.933,63</td>\n",
       "    </tr>\n",
       "    <tr>\n",
       "      <th>RENDIMENTO 316                PAPEL VINO11</th>\n",
       "      <td>14/02/2022</td>\n",
       "      <td>14/02/2022</td>\n",
       "      <td>107,44</td>\n",
       "      <td>17.819,39</td>\n",
       "    </tr>\n",
       "    <tr>\n",
       "      <th>RENDIMENTO 175                PAPEL VILG11</th>\n",
       "      <td>14/02/2022</td>\n",
       "      <td>14/02/2022</td>\n",
       "      <td>122,50</td>\n",
       "      <td>17.711,95</td>\n",
       "    </tr>\n",
       "    <tr>\n",
       "      <th>RENDIMENTO 62                 PAPEL RECT11</th>\n",
       "      <td>14/02/2022</td>\n",
       "      <td>14/02/2022</td>\n",
       "      <td>32,36</td>\n",
       "      <td>17.589,45</td>\n",
       "    </tr>\n",
       "    <tr>\n",
       "      <th>JUROS S/CAPITAL 310                RENT3</th>\n",
       "      <td>11/02/2022</td>\n",
       "      <td>11/02/2022</td>\n",
       "      <td>34,04</td>\n",
       "      <td>17.557,09</td>\n",
       "    </tr>\n",
       "    <tr>\n",
       "      <th>NOTA *      PREGÃO 07/02/2022</th>\n",
       "      <td>07/02/2022</td>\n",
       "      <td>09/02/2022</td>\n",
       "      <td>4.328,70</td>\n",
       "      <td>17.523,05</td>\n",
       "    </tr>\n",
       "    <tr>\n",
       "      <th>NOTA *      PREGÃO 03/02/2022</th>\n",
       "      <td>03/02/2022</td>\n",
       "      <td>07/02/2022</td>\n",
       "      <td>5.032,49</td>\n",
       "      <td>13.194,35</td>\n",
       "    </tr>\n",
       "    <tr>\n",
       "      <th>NOTA *      PREGÃO 02/02/2022</th>\n",
       "      <td>02/02/2022</td>\n",
       "      <td>04/02/2022</td>\n",
       "      <td>641,81</td>\n",
       "      <td>8.161,86</td>\n",
       "    </tr>\n",
       "    <tr>\n",
       "      <th>JUROS S/CAPITAL 700                ITUB4</th>\n",
       "      <td>01/02/2022</td>\n",
       "      <td>01/02/2022</td>\n",
       "      <td>10,50</td>\n",
       "      <td>7.520,05</td>\n",
       "    </tr>\n",
       "  </tbody>\n",
       "</table>\n",
       "</div>"
      ],
      "text/plain": [
       "                                                      Operação  Liquidação  \\\n",
       "Descrição                                                                    \n",
       "NOTA *      PREGÃO 31/03/2022                       31/03/2022  04/04/2022   \n",
       "JUROS S/CAPITAL 500                ITUB4            01/04/2022  01/04/2022   \n",
       "JUROS S/CAPITAL 300                MDIA3            31/03/2022  31/03/2022   \n",
       "JUROS S/CAPITAL 100                BBAS3            31/03/2022  31/03/2022   \n",
       "NOTA *      PREGÃO 24/03/2022                       24/03/2022  28/03/2022   \n",
       "RENDIMENTO 143                PAPEL XPML11          25/03/2022  25/03/2022   \n",
       "NOTA *      PREGÃO 23/03/2022                       23/03/2022  25/03/2022   \n",
       "NOTA *      PREGÃO 17/03/2022                       17/03/2022  21/03/2022   \n",
       "RENDIMENTO 72                 PAPEL XPPR11          15/03/2022  15/03/2022   \n",
       "RENDIMENTO 170                PAPEL XPLG11          15/03/2022  15/03/2022   \n",
       "RENDIMENTO 168                PAPEL VISC11          15/03/2022  15/03/2022   \n",
       "RENDIMENTO 316                PAPEL VINO11          15/03/2022  15/03/2022   \n",
       "RENDIMENTO 175                PAPEL VILG11          15/03/2022  15/03/2022   \n",
       "RENDIMENTO 62                 PAPEL RECT11          15/03/2022  15/03/2022   \n",
       "RENDIMENTO 74                 PAPEL RBFF11          15/03/2022  15/03/2022   \n",
       "DIVIDENDOS 1.400              JHSF3                 14/03/2022  14/03/2022   \n",
       "JUROS S/CAPITAL 700                ITUB4            11/03/2022  11/03/2022   \n",
       "JUROS S/CAPITAL 100                BBAS3            11/03/2022  11/03/2022   \n",
       "JUROS S/CAPITAL 500                ITUB4            11/03/2022  11/03/2022   \n",
       "RENDIMENTO 100                PAPEL BBAS3           11/03/2022  11/03/2022   \n",
       "DIVIDENDOS 100                BBAS3                 11/03/2022  11/03/2022   \n",
       "RENDIMENTO 100                PAPEL BBAS3           11/03/2022  11/03/2022   \n",
       "NOTA *      PREGÃO 02/03/2022                       02/03/2022  04/03/2022   \n",
       "JUROS S/CAPITAL 700                ITUB4            02/03/2022  02/03/2022   \n",
       "RENDIMENTO 143                PAPEL XPML11          25/02/2022  25/02/2022   \n",
       "TED BCO 104 AGE 1642  CTA 217427  - RETIRADA EM...  21/02/2022  21/02/2022   \n",
       "JUROS S/CAPITAL 300                MDIA3            18/02/2022  18/02/2022   \n",
       "NOTA *      PREGÃO 15/02/2022                       15/02/2022  17/02/2022   \n",
       "RENDIMENTO 74                 PAPEL RBFF11          15/02/2022  15/02/2022   \n",
       "RENDIMENTO 72                 PAPEL XPPR11          14/02/2022  14/02/2022   \n",
       "RENDIMENTO 170                PAPEL XPLG11          14/02/2022  14/02/2022   \n",
       "RENDIMENTO 168                PAPEL VISC11          14/02/2022  14/02/2022   \n",
       "RENDIMENTO 316                PAPEL VINO11          14/02/2022  14/02/2022   \n",
       "RENDIMENTO 175                PAPEL VILG11          14/02/2022  14/02/2022   \n",
       "RENDIMENTO 62                 PAPEL RECT11          14/02/2022  14/02/2022   \n",
       "JUROS S/CAPITAL 310                RENT3            11/02/2022  11/02/2022   \n",
       "NOTA *      PREGÃO 07/02/2022                       07/02/2022  09/02/2022   \n",
       "NOTA *      PREGÃO 03/02/2022                       03/02/2022  07/02/2022   \n",
       "NOTA *      PREGÃO 02/02/2022                       02/02/2022  04/02/2022   \n",
       "JUROS S/CAPITAL 700                ITUB4            01/02/2022  01/02/2022   \n",
       "\n",
       "                                                         Valor Saldo Final  \n",
       "Descrição                                                                   \n",
       "NOTA *      PREGÃO 31/03/2022                         1.693,50   20.201,98  \n",
       "JUROS S/CAPITAL 500                ITUB4                  7,50   18.508,48  \n",
       "JUROS S/CAPITAL 300                MDIA3                 12,75   18.500,98  \n",
       "JUROS S/CAPITAL 100                BBAS3                 17,91   18.488,23  \n",
       "NOTA *      PREGÃO 24/03/2022                         8.567,43   18.470,32  \n",
       "RENDIMENTO 143                PAPEL XPML11               91,52    9.902,89  \n",
       "NOTA *      PREGÃO 23/03/2022                         2.729,18    9.811,37  \n",
       "NOTA *      PREGÃO 17/03/2022                         1.163,65    7.082,19  \n",
       "RENDIMENTO 72                 PAPEL XPPR11               32,40    5.918,54  \n",
       "RENDIMENTO 170                PAPEL XPLG11              112,20    5.886,14  \n",
       "RENDIMENTO 168                PAPEL VISC11              114,24    5.773,94  \n",
       "RENDIMENTO 316                PAPEL VINO11              107,44    5.659,70  \n",
       "RENDIMENTO 175                PAPEL VILG11              122,50    5.552,26  \n",
       "RENDIMENTO 62                 PAPEL RECT11               31,11    5.429,76  \n",
       "RENDIMENTO 74                 PAPEL RBFF11               34,78    5.398,65  \n",
       "DIVIDENDOS 1.400              JHSF3                     224,91    5.363,87  \n",
       "JUROS S/CAPITAL 700                ITUB4                157,41    5.138,96  \n",
       "JUROS S/CAPITAL 100                BBAS3                 38,61    4.981,55  \n",
       "JUROS S/CAPITAL 500                ITUB4                  5,81    4.942,94  \n",
       "RENDIMENTO 100                PAPEL BBAS3                 0,64    4.937,13  \n",
       "DIVIDENDOS 100                BBAS3                      35,58    4.936,49  \n",
       "RENDIMENTO 100                PAPEL BBAS3                 0,50    4.900,91  \n",
       "NOTA *      PREGÃO 02/03/2022                         3.549,93    4.900,41  \n",
       "JUROS S/CAPITAL 700                ITUB4                 10,50    1.350,48  \n",
       "RENDIMENTO 143                PAPEL XPML11               85,80    1.339,98  \n",
       "TED BCO 104 AGE 1642  CTA 217427  - RETIRADA EM...  -20.000,00    1.254,18  \n",
       "JUROS S/CAPITAL 300                MDIA3                445,39   21.254,18  \n",
       "NOTA *      PREGÃO 15/02/2022                         2.699,18   20.808,79  \n",
       "RENDIMENTO 74                 PAPEL RBFF11               34,78   18.109,61  \n",
       "RENDIMENTO 72                 PAPEL XPPR11               32,40   18.074,83  \n",
       "RENDIMENTO 170                PAPEL XPLG11              108,80   18.042,43  \n",
       "RENDIMENTO 168                PAPEL VISC11              114,24   17.933,63  \n",
       "RENDIMENTO 316                PAPEL VINO11              107,44   17.819,39  \n",
       "RENDIMENTO 175                PAPEL VILG11              122,50   17.711,95  \n",
       "RENDIMENTO 62                 PAPEL RECT11               32,36   17.589,45  \n",
       "JUROS S/CAPITAL 310                RENT3                 34,04   17.557,09  \n",
       "NOTA *      PREGÃO 07/02/2022                         4.328,70   17.523,05  \n",
       "NOTA *      PREGÃO 03/02/2022                         5.032,49   13.194,35  \n",
       "NOTA *      PREGÃO 02/02/2022                           641,81    8.161,86  \n",
       "JUROS S/CAPITAL 700                ITUB4                 10,50    7.520,05  "
      ]
     },
     "execution_count": 259,
     "metadata": {},
     "output_type": "execute_result"
    }
   ],
   "source": [
    "dataset"
   ]
  },
  {
   "cell_type": "code",
   "execution_count": 260,
   "metadata": {
    "colab": {
     "base_uri": "https://localhost:8080/"
    },
    "executionInfo": {
     "elapsed": 26,
     "status": "ok",
     "timestamp": 1653262525700,
     "user": {
      "displayName": "Leo Gusmao",
      "userId": "01421071286696610646"
     },
     "user_tz": 180
    },
    "id": "Fc3t-A7u5x8D",
    "outputId": "a4033e4c-09ce-4b43-bbb8-ec46225281d3"
   },
   "outputs": [
    {
     "data": {
      "text/plain": [
       "Operação       01/04/2022\n",
       "Liquidação     01/04/2022\n",
       "Valor                7,50\n",
       "Saldo Final     18.508,48\n",
       "Name: JUROS S/CAPITAL 500                ITUB4       , dtype: object"
      ]
     },
     "execution_count": 260,
     "metadata": {},
     "output_type": "execute_result"
    }
   ],
   "source": [
    "dataset.iloc[1]"
   ]
  },
  {
   "cell_type": "code",
   "execution_count": 261,
   "metadata": {
    "executionInfo": {
     "elapsed": 16,
     "status": "ok",
     "timestamp": 1653262525700,
     "user": {
      "displayName": "Leo Gusmao",
      "userId": "01421071286696610646"
     },
     "user_tz": 180
    },
    "id": "-V0Qyvwd51El"
   },
   "outputs": [
    {
     "data": {
      "text/html": [
       "<div>\n",
       "<style scoped>\n",
       "    .dataframe tbody tr th:only-of-type {\n",
       "        vertical-align: middle;\n",
       "    }\n",
       "\n",
       "    .dataframe tbody tr th {\n",
       "        vertical-align: top;\n",
       "    }\n",
       "\n",
       "    .dataframe thead th {\n",
       "        text-align: right;\n",
       "    }\n",
       "</style>\n",
       "<table border=\"1\" class=\"dataframe\">\n",
       "  <thead>\n",
       "    <tr style=\"text-align: right;\">\n",
       "      <th></th>\n",
       "      <th>Operação</th>\n",
       "      <th>Liquidação</th>\n",
       "      <th>Valor</th>\n",
       "      <th>Saldo Final</th>\n",
       "    </tr>\n",
       "    <tr>\n",
       "      <th>Descrição</th>\n",
       "      <th></th>\n",
       "      <th></th>\n",
       "      <th></th>\n",
       "      <th></th>\n",
       "    </tr>\n",
       "  </thead>\n",
       "  <tbody>\n",
       "    <tr>\n",
       "      <th>JUROS S/CAPITAL 500                ITUB4</th>\n",
       "      <td>01/04/2022</td>\n",
       "      <td>01/04/2022</td>\n",
       "      <td>7,50</td>\n",
       "      <td>18.508,48</td>\n",
       "    </tr>\n",
       "    <tr>\n",
       "      <th>JUROS S/CAPITAL 300                MDIA3</th>\n",
       "      <td>31/03/2022</td>\n",
       "      <td>31/03/2022</td>\n",
       "      <td>12,75</td>\n",
       "      <td>18.500,98</td>\n",
       "    </tr>\n",
       "  </tbody>\n",
       "</table>\n",
       "</div>"
      ],
      "text/plain": [
       "                                                   Operação  Liquidação  \\\n",
       "Descrição                                                                 \n",
       "JUROS S/CAPITAL 500                ITUB4         01/04/2022  01/04/2022   \n",
       "JUROS S/CAPITAL 300                MDIA3         31/03/2022  31/03/2022   \n",
       "\n",
       "                                                 Valor Saldo Final  \n",
       "Descrição                                                           \n",
       "JUROS S/CAPITAL 500                ITUB4          7,50   18.508,48  \n",
       "JUROS S/CAPITAL 300                MDIA3         12,75   18.500,98  "
      ]
     },
     "execution_count": 261,
     "metadata": {},
     "output_type": "execute_result"
    }
   ],
   "source": [
    "dataset.iloc[1:3]"
   ]
  },
  {
   "cell_type": "code",
   "execution_count": 262,
   "metadata": {},
   "outputs": [
    {
     "data": {
      "text/html": [
       "<div>\n",
       "<style scoped>\n",
       "    .dataframe tbody tr th:only-of-type {\n",
       "        vertical-align: middle;\n",
       "    }\n",
       "\n",
       "    .dataframe tbody tr th {\n",
       "        vertical-align: top;\n",
       "    }\n",
       "\n",
       "    .dataframe thead th {\n",
       "        text-align: right;\n",
       "    }\n",
       "</style>\n",
       "<table border=\"1\" class=\"dataframe\">\n",
       "  <thead>\n",
       "    <tr style=\"text-align: right;\">\n",
       "      <th></th>\n",
       "      <th>Operação</th>\n",
       "      <th>Saldo Final</th>\n",
       "    </tr>\n",
       "    <tr>\n",
       "      <th>Descrição</th>\n",
       "      <th></th>\n",
       "      <th></th>\n",
       "    </tr>\n",
       "  </thead>\n",
       "  <tbody>\n",
       "    <tr>\n",
       "      <th>JUROS S/CAPITAL 500                ITUB4</th>\n",
       "      <td>01/04/2022</td>\n",
       "      <td>18.508,48</td>\n",
       "    </tr>\n",
       "    <tr>\n",
       "      <th>JUROS S/CAPITAL 300                MDIA3</th>\n",
       "      <td>31/03/2022</td>\n",
       "      <td>18.500,98</td>\n",
       "    </tr>\n",
       "  </tbody>\n",
       "</table>\n",
       "</div>"
      ],
      "text/plain": [
       "                                                   Operação Saldo Final\n",
       "Descrição                                                              \n",
       "JUROS S/CAPITAL 500                ITUB4         01/04/2022   18.508,48\n",
       "JUROS S/CAPITAL 300                MDIA3         31/03/2022   18.500,98"
      ]
     },
     "execution_count": 262,
     "metadata": {},
     "output_type": "execute_result"
    }
   ],
   "source": [
    "dataset.iloc[1:3,[0,3]]"
   ]
  },
  {
   "cell_type": "markdown",
   "metadata": {},
   "source": [
    "colocando um ponto seguido da coluna dataset.Liquidação é o mesmo que dataset['Liquidação']"
   ]
  },
  {
   "cell_type": "code",
   "execution_count": 263,
   "metadata": {},
   "outputs": [
    {
     "data": {
      "text/plain": [
       "Descrição\n",
       "NOTA *      PREGÃO 31/03/2022                                                       04/04/2022\n",
       "JUROS S/CAPITAL 500                ITUB4                                            01/04/2022\n",
       "JUROS S/CAPITAL 300                MDIA3                                            31/03/2022\n",
       "JUROS S/CAPITAL 100                BBAS3                                            31/03/2022\n",
       "NOTA *      PREGÃO 24/03/2022                                                       28/03/2022\n",
       "RENDIMENTO 143                PAPEL XPML11                                          25/03/2022\n",
       "NOTA *      PREGÃO 23/03/2022                                                       25/03/2022\n",
       "NOTA *      PREGÃO 17/03/2022                                                       21/03/2022\n",
       "RENDIMENTO 72                 PAPEL XPPR11                                          15/03/2022\n",
       "RENDIMENTO 170                PAPEL XPLG11                                          15/03/2022\n",
       "RENDIMENTO 168                PAPEL VISC11                                          15/03/2022\n",
       "RENDIMENTO 316                PAPEL VINO11                                          15/03/2022\n",
       "RENDIMENTO 175                PAPEL VILG11                                          15/03/2022\n",
       "RENDIMENTO 62                 PAPEL RECT11                                          15/03/2022\n",
       "RENDIMENTO 74                 PAPEL RBFF11                                          15/03/2022\n",
       "DIVIDENDOS 1.400              JHSF3                                                 14/03/2022\n",
       "JUROS S/CAPITAL 700                ITUB4                                            11/03/2022\n",
       "JUROS S/CAPITAL 100                BBAS3                                            11/03/2022\n",
       "JUROS S/CAPITAL 500                ITUB4                                            11/03/2022\n",
       "RENDIMENTO 100                PAPEL BBAS3                                           11/03/2022\n",
       "DIVIDENDOS 100                BBAS3                                                 11/03/2022\n",
       "RENDIMENTO 100                PAPEL BBAS3                                           11/03/2022\n",
       "NOTA *      PREGÃO 02/03/2022                                                       04/03/2022\n",
       "JUROS S/CAPITAL 700                ITUB4                                            02/03/2022\n",
       "RENDIMENTO 143                PAPEL XPML11                                          25/02/2022\n",
       "TED BCO 104 AGE 1642  CTA 217427  - RETIRADA EM C/C                                 21/02/2022\n",
       "JUROS S/CAPITAL 300                MDIA3                                            18/02/2022\n",
       "NOTA *      PREGÃO 15/02/2022                                                       17/02/2022\n",
       "RENDIMENTO 74                 PAPEL RBFF11                                          15/02/2022\n",
       "RENDIMENTO 72                 PAPEL XPPR11                                          14/02/2022\n",
       "RENDIMENTO 170                PAPEL XPLG11                                          14/02/2022\n",
       "RENDIMENTO 168                PAPEL VISC11                                          14/02/2022\n",
       "RENDIMENTO 316                PAPEL VINO11                                          14/02/2022\n",
       "RENDIMENTO 175                PAPEL VILG11                                          14/02/2022\n",
       "RENDIMENTO 62                 PAPEL RECT11                                          14/02/2022\n",
       "JUROS S/CAPITAL 310                RENT3                                            11/02/2022\n",
       "NOTA *      PREGÃO 07/02/2022                                                       09/02/2022\n",
       "NOTA *      PREGÃO 03/02/2022                                                       07/02/2022\n",
       "NOTA *      PREGÃO 02/02/2022                                                       04/02/2022\n",
       "JUROS S/CAPITAL 700                ITUB4                                            01/02/2022\n",
       "Name: Liquidação, dtype: object"
      ]
     },
     "execution_count": 263,
     "metadata": {},
     "output_type": "execute_result"
    }
   ],
   "source": [
    "dataset.Liquidação"
   ]
  },
  {
   "cell_type": "markdown",
   "metadata": {},
   "source": [
    "Teste de igualdade"
   ]
  },
  {
   "cell_type": "code",
   "execution_count": 264,
   "metadata": {},
   "outputs": [
    {
     "data": {
      "text/plain": [
       "Descrição\n",
       "NOTA *      PREGÃO 31/03/2022                                                       False\n",
       "JUROS S/CAPITAL 500                ITUB4                                            False\n",
       "JUROS S/CAPITAL 300                MDIA3                                            False\n",
       "JUROS S/CAPITAL 100                BBAS3                                            False\n",
       "NOTA *      PREGÃO 24/03/2022                                                       False\n",
       "RENDIMENTO 143                PAPEL XPML11                                          False\n",
       "NOTA *      PREGÃO 23/03/2022                                                       False\n",
       "NOTA *      PREGÃO 17/03/2022                                                       False\n",
       "RENDIMENTO 72                 PAPEL XPPR11                                          False\n",
       "RENDIMENTO 170                PAPEL XPLG11                                          False\n",
       "RENDIMENTO 168                PAPEL VISC11                                          False\n",
       "RENDIMENTO 316                PAPEL VINO11                                          False\n",
       "RENDIMENTO 175                PAPEL VILG11                                          False\n",
       "RENDIMENTO 62                 PAPEL RECT11                                          False\n",
       "RENDIMENTO 74                 PAPEL RBFF11                                          False\n",
       "DIVIDENDOS 1.400              JHSF3                                                 False\n",
       "JUROS S/CAPITAL 700                ITUB4                                            False\n",
       "JUROS S/CAPITAL 100                BBAS3                                            False\n",
       "JUROS S/CAPITAL 500                ITUB4                                            False\n",
       "RENDIMENTO 100                PAPEL BBAS3                                           False\n",
       "DIVIDENDOS 100                BBAS3                                                 False\n",
       "RENDIMENTO 100                PAPEL BBAS3                                           False\n",
       "NOTA *      PREGÃO 02/03/2022                                                       False\n",
       "JUROS S/CAPITAL 700                ITUB4                                            False\n",
       "RENDIMENTO 143                PAPEL XPML11                                          False\n",
       "TED BCO 104 AGE 1642  CTA 217427  - RETIRADA EM C/C                                 False\n",
       "JUROS S/CAPITAL 300                MDIA3                                            False\n",
       "NOTA *      PREGÃO 15/02/2022                                                        True\n",
       "RENDIMENTO 74                 PAPEL RBFF11                                           True\n",
       "RENDIMENTO 72                 PAPEL XPPR11                                          False\n",
       "RENDIMENTO 170                PAPEL XPLG11                                          False\n",
       "RENDIMENTO 168                PAPEL VISC11                                          False\n",
       "RENDIMENTO 316                PAPEL VINO11                                          False\n",
       "RENDIMENTO 175                PAPEL VILG11                                          False\n",
       "RENDIMENTO 62                 PAPEL RECT11                                          False\n",
       "JUROS S/CAPITAL 310                RENT3                                            False\n",
       "NOTA *      PREGÃO 07/02/2022                                                       False\n",
       "NOTA *      PREGÃO 03/02/2022                                                       False\n",
       "NOTA *      PREGÃO 02/02/2022                                                       False\n",
       "JUROS S/CAPITAL 700                ITUB4                                            False\n",
       "Name: Operação, dtype: bool"
      ]
     },
     "execution_count": 264,
     "metadata": {},
     "output_type": "execute_result"
    }
   ],
   "source": [
    "select = dataset.Operação == '15/02/2022'\n",
    "select"
   ]
  },
  {
   "cell_type": "code",
   "execution_count": 265,
   "metadata": {},
   "outputs": [
    {
     "data": {
      "text/plain": [
       "pandas.core.series.Series"
      ]
     },
     "execution_count": 265,
     "metadata": {},
     "output_type": "execute_result"
    }
   ],
   "source": [
    "type(select)"
   ]
  },
  {
   "cell_type": "code",
   "execution_count": 266,
   "metadata": {},
   "outputs": [
    {
     "data": {
      "text/html": [
       "<div>\n",
       "<style scoped>\n",
       "    .dataframe tbody tr th:only-of-type {\n",
       "        vertical-align: middle;\n",
       "    }\n",
       "\n",
       "    .dataframe tbody tr th {\n",
       "        vertical-align: top;\n",
       "    }\n",
       "\n",
       "    .dataframe thead th {\n",
       "        text-align: right;\n",
       "    }\n",
       "</style>\n",
       "<table border=\"1\" class=\"dataframe\">\n",
       "  <thead>\n",
       "    <tr style=\"text-align: right;\">\n",
       "      <th></th>\n",
       "      <th>Operação</th>\n",
       "      <th>Liquidação</th>\n",
       "      <th>Valor</th>\n",
       "      <th>Saldo Final</th>\n",
       "    </tr>\n",
       "    <tr>\n",
       "      <th>Descrição</th>\n",
       "      <th></th>\n",
       "      <th></th>\n",
       "      <th></th>\n",
       "      <th></th>\n",
       "    </tr>\n",
       "  </thead>\n",
       "  <tbody>\n",
       "    <tr>\n",
       "      <th>NOTA *      PREGÃO 15/02/2022</th>\n",
       "      <td>15/02/2022</td>\n",
       "      <td>17/02/2022</td>\n",
       "      <td>2.699,18</td>\n",
       "      <td>20.808,79</td>\n",
       "    </tr>\n",
       "    <tr>\n",
       "      <th>RENDIMENTO 74                 PAPEL RBFF11</th>\n",
       "      <td>15/02/2022</td>\n",
       "      <td>15/02/2022</td>\n",
       "      <td>34,78</td>\n",
       "      <td>18.109,61</td>\n",
       "    </tr>\n",
       "  </tbody>\n",
       "</table>\n",
       "</div>"
      ],
      "text/plain": [
       "                                                    Operação  Liquidação  \\\n",
       "Descrição                                                                  \n",
       "NOTA *      PREGÃO 15/02/2022                     15/02/2022  17/02/2022   \n",
       "RENDIMENTO 74                 PAPEL RBFF11        15/02/2022  15/02/2022   \n",
       "\n",
       "                                                     Valor Saldo Final  \n",
       "Descrição                                                               \n",
       "NOTA *      PREGÃO 15/02/2022                     2.699,18   20.808,79  \n",
       "RENDIMENTO 74                 PAPEL RBFF11           34,78   18.109,61  "
      ]
     },
     "execution_count": 266,
     "metadata": {},
     "output_type": "execute_result"
    }
   ],
   "source": [
    "dataset[select]"
   ]
  },
  {
   "cell_type": "code",
   "execution_count": 267,
   "metadata": {},
   "outputs": [
    {
     "data": {
      "text/html": [
       "<div>\n",
       "<style scoped>\n",
       "    .dataframe tbody tr th:only-of-type {\n",
       "        vertical-align: middle;\n",
       "    }\n",
       "\n",
       "    .dataframe tbody tr th {\n",
       "        vertical-align: top;\n",
       "    }\n",
       "\n",
       "    .dataframe thead th {\n",
       "        text-align: right;\n",
       "    }\n",
       "</style>\n",
       "<table border=\"1\" class=\"dataframe\">\n",
       "  <thead>\n",
       "    <tr style=\"text-align: right;\">\n",
       "      <th></th>\n",
       "      <th>Operação</th>\n",
       "      <th>Liquidação</th>\n",
       "      <th>Valor</th>\n",
       "      <th>Saldo Final</th>\n",
       "    </tr>\n",
       "    <tr>\n",
       "      <th>Descrição</th>\n",
       "      <th></th>\n",
       "      <th></th>\n",
       "      <th></th>\n",
       "      <th></th>\n",
       "    </tr>\n",
       "  </thead>\n",
       "  <tbody>\n",
       "    <tr>\n",
       "      <th>RENDIMENTO 74                 PAPEL RBFF11</th>\n",
       "      <td>15/02/2022</td>\n",
       "      <td>15/02/2022</td>\n",
       "      <td>34,78</td>\n",
       "      <td>18.109,61</td>\n",
       "    </tr>\n",
       "  </tbody>\n",
       "</table>\n",
       "</div>"
      ],
      "text/plain": [
       "                                                    Operação  Liquidação  \\\n",
       "Descrição                                                                  \n",
       "RENDIMENTO 74                 PAPEL RBFF11        15/02/2022  15/02/2022   \n",
       "\n",
       "                                                  Valor Saldo Final  \n",
       "Descrição                                                            \n",
       "RENDIMENTO 74                 PAPEL RBFF11        34,78   18.109,61  "
      ]
     },
     "execution_count": 267,
     "metadata": {},
     "output_type": "execute_result"
    }
   ],
   "source": [
    "dataset[(dataset.Operação == '15/02/2022') & (dataset.Liquidação == '15/02/2022')]"
   ]
  },
  {
   "cell_type": "raw",
   "metadata": {},
   "source": [
    "Series booleana"
   ]
  },
  {
   "cell_type": "code",
   "execution_count": 268,
   "metadata": {},
   "outputs": [
    {
     "data": {
      "text/plain": [
       "Descrição\n",
       "NOTA *      PREGÃO 31/03/2022                                                       False\n",
       "JUROS S/CAPITAL 500                ITUB4                                            False\n",
       "JUROS S/CAPITAL 300                MDIA3                                            False\n",
       "JUROS S/CAPITAL 100                BBAS3                                            False\n",
       "NOTA *      PREGÃO 24/03/2022                                                       False\n",
       "RENDIMENTO 143                PAPEL XPML11                                          False\n",
       "NOTA *      PREGÃO 23/03/2022                                                       False\n",
       "NOTA *      PREGÃO 17/03/2022                                                       False\n",
       "RENDIMENTO 72                 PAPEL XPPR11                                          False\n",
       "RENDIMENTO 170                PAPEL XPLG11                                          False\n",
       "RENDIMENTO 168                PAPEL VISC11                                          False\n",
       "RENDIMENTO 316                PAPEL VINO11                                          False\n",
       "RENDIMENTO 175                PAPEL VILG11                                          False\n",
       "RENDIMENTO 62                 PAPEL RECT11                                          False\n",
       "RENDIMENTO 74                 PAPEL RBFF11                                          False\n",
       "DIVIDENDOS 1.400              JHSF3                                                 False\n",
       "JUROS S/CAPITAL 700                ITUB4                                            False\n",
       "JUROS S/CAPITAL 100                BBAS3                                            False\n",
       "JUROS S/CAPITAL 500                ITUB4                                            False\n",
       "RENDIMENTO 100                PAPEL BBAS3                                           False\n",
       "DIVIDENDOS 100                BBAS3                                                 False\n",
       "RENDIMENTO 100                PAPEL BBAS3                                           False\n",
       "NOTA *      PREGÃO 02/03/2022                                                       False\n",
       "JUROS S/CAPITAL 700                ITUB4                                            False\n",
       "RENDIMENTO 143                PAPEL XPML11                                          False\n",
       "TED BCO 104 AGE 1642  CTA 217427  - RETIRADA EM C/C                                 False\n",
       "JUROS S/CAPITAL 300                MDIA3                                            False\n",
       "NOTA *      PREGÃO 15/02/2022                                                       False\n",
       "RENDIMENTO 74                 PAPEL RBFF11                                           True\n",
       "RENDIMENTO 72                 PAPEL XPPR11                                          False\n",
       "RENDIMENTO 170                PAPEL XPLG11                                          False\n",
       "RENDIMENTO 168                PAPEL VISC11                                          False\n",
       "RENDIMENTO 316                PAPEL VINO11                                          False\n",
       "RENDIMENTO 175                PAPEL VILG11                                          False\n",
       "RENDIMENTO 62                 PAPEL RECT11                                          False\n",
       "JUROS S/CAPITAL 310                RENT3                                            False\n",
       "NOTA *      PREGÃO 07/02/2022                                                       False\n",
       "NOTA *      PREGÃO 03/02/2022                                                       False\n",
       "NOTA *      PREGÃO 02/02/2022                                                       False\n",
       "JUROS S/CAPITAL 700                ITUB4                                            False\n",
       "dtype: bool"
      ]
     },
     "execution_count": 268,
     "metadata": {},
     "output_type": "execute_result"
    }
   ],
   "source": [
    "(dataset.Operação == '15/02/2022') & (dataset.Liquidação == '15/02/2022')"
   ]
  },
  {
   "cell_type": "code",
   "execution_count": 269,
   "metadata": {},
   "outputs": [
    {
     "data": {
      "text/html": [
       "<div>\n",
       "<style scoped>\n",
       "    .dataframe tbody tr th:only-of-type {\n",
       "        vertical-align: middle;\n",
       "    }\n",
       "\n",
       "    .dataframe tbody tr th {\n",
       "        vertical-align: top;\n",
       "    }\n",
       "\n",
       "    .dataframe thead th {\n",
       "        text-align: right;\n",
       "    }\n",
       "</style>\n",
       "<table border=\"1\" class=\"dataframe\">\n",
       "  <thead>\n",
       "    <tr style=\"text-align: right;\">\n",
       "      <th></th>\n",
       "      <th>Operação</th>\n",
       "      <th>Liquidação</th>\n",
       "      <th>Valor</th>\n",
       "      <th>Saldo Final</th>\n",
       "    </tr>\n",
       "    <tr>\n",
       "      <th>Descrição</th>\n",
       "      <th></th>\n",
       "      <th></th>\n",
       "      <th></th>\n",
       "      <th></th>\n",
       "    </tr>\n",
       "  </thead>\n",
       "  <tbody>\n",
       "    <tr>\n",
       "      <th>RENDIMENTO 74                 PAPEL RBFF11</th>\n",
       "      <td>15/02/2022</td>\n",
       "      <td>15/02/2022</td>\n",
       "      <td>34,78</td>\n",
       "      <td>18.109,61</td>\n",
       "    </tr>\n",
       "  </tbody>\n",
       "</table>\n",
       "</div>"
      ],
      "text/plain": [
       "                                                    Operação  Liquidação  \\\n",
       "Descrição                                                                  \n",
       "RENDIMENTO 74                 PAPEL RBFF11        15/02/2022  15/02/2022   \n",
       "\n",
       "                                                  Valor Saldo Final  \n",
       "Descrição                                                            \n",
       "RENDIMENTO 74                 PAPEL RBFF11        34,78   18.109,61  "
      ]
     },
     "execution_count": 269,
     "metadata": {},
     "output_type": "execute_result"
    }
   ],
   "source": [
    "dataset.query('Operação == \"15/02/2022\" and Liquidação == \"15/02/2022\"')"
   ]
  },
  {
   "cell_type": "markdown",
   "metadata": {
    "id": "C0_lrz7A1Yxq"
   },
   "source": [
    "## Seleções com DataFrames"
   ]
  },
  {
   "cell_type": "markdown",
   "metadata": {},
   "source": [
    "rodando um for, irá mostrar o nome das colunas ou series"
   ]
  },
  {
   "cell_type": "code",
   "execution_count": 270,
   "metadata": {},
   "outputs": [
    {
     "name": "stdout",
     "output_type": "stream",
     "text": [
      "Operação\n",
      "Liquidação\n",
      "Valor\n",
      "Saldo Final\n"
     ]
    }
   ],
   "source": [
    "for item in dataset:\n",
    "    print(item)"
   ]
  },
  {
   "cell_type": "code",
   "execution_count": 271,
   "metadata": {},
   "outputs": [
    {
     "data": {
      "text/plain": [
       "[('NOTA *      PREGÃO 31/03/2022',\n",
       "  Operação       31/03/2022\n",
       "  Liquidação     04/04/2022\n",
       "  Valor            1.693,50\n",
       "  Saldo Final     20.201,98\n",
       "  Name: NOTA *      PREGÃO 31/03/2022, dtype: object),\n",
       " ('JUROS S/CAPITAL 500                ITUB4       ',\n",
       "  Operação       01/04/2022\n",
       "  Liquidação     01/04/2022\n",
       "  Valor                7,50\n",
       "  Saldo Final     18.508,48\n",
       "  Name: JUROS S/CAPITAL 500                ITUB4       , dtype: object),\n",
       " ('JUROS S/CAPITAL 300                MDIA3       ',\n",
       "  Operação       31/03/2022\n",
       "  Liquidação     31/03/2022\n",
       "  Valor               12,75\n",
       "  Saldo Final     18.500,98\n",
       "  Name: JUROS S/CAPITAL 300                MDIA3       , dtype: object),\n",
       " ('JUROS S/CAPITAL 100                BBAS3       ',\n",
       "  Operação       31/03/2022\n",
       "  Liquidação     31/03/2022\n",
       "  Valor               17,91\n",
       "  Saldo Final     18.488,23\n",
       "  Name: JUROS S/CAPITAL 100                BBAS3       , dtype: object),\n",
       " ('NOTA *      PREGÃO 24/03/2022',\n",
       "  Operação       24/03/2022\n",
       "  Liquidação     28/03/2022\n",
       "  Valor            8.567,43\n",
       "  Saldo Final     18.470,32\n",
       "  Name: NOTA *      PREGÃO 24/03/2022, dtype: object),\n",
       " ('RENDIMENTO 143                PAPEL XPML11      ',\n",
       "  Operação       25/03/2022\n",
       "  Liquidação     25/03/2022\n",
       "  Valor               91,52\n",
       "  Saldo Final      9.902,89\n",
       "  Name: RENDIMENTO 143                PAPEL XPML11      , dtype: object),\n",
       " ('NOTA *      PREGÃO 23/03/2022',\n",
       "  Operação       23/03/2022\n",
       "  Liquidação     25/03/2022\n",
       "  Valor            2.729,18\n",
       "  Saldo Final      9.811,37\n",
       "  Name: NOTA *      PREGÃO 23/03/2022, dtype: object),\n",
       " ('NOTA *      PREGÃO 17/03/2022',\n",
       "  Operação       17/03/2022\n",
       "  Liquidação     21/03/2022\n",
       "  Valor            1.163,65\n",
       "  Saldo Final      7.082,19\n",
       "  Name: NOTA *      PREGÃO 17/03/2022, dtype: object),\n",
       " ('RENDIMENTO 72                 PAPEL XPPR11      ',\n",
       "  Operação       15/03/2022\n",
       "  Liquidação     15/03/2022\n",
       "  Valor               32,40\n",
       "  Saldo Final      5.918,54\n",
       "  Name: RENDIMENTO 72                 PAPEL XPPR11      , dtype: object),\n",
       " ('RENDIMENTO 170                PAPEL XPLG11      ',\n",
       "  Operação       15/03/2022\n",
       "  Liquidação     15/03/2022\n",
       "  Valor              112,20\n",
       "  Saldo Final      5.886,14\n",
       "  Name: RENDIMENTO 170                PAPEL XPLG11      , dtype: object),\n",
       " ('RENDIMENTO 168                PAPEL VISC11      ',\n",
       "  Operação       15/03/2022\n",
       "  Liquidação     15/03/2022\n",
       "  Valor              114,24\n",
       "  Saldo Final      5.773,94\n",
       "  Name: RENDIMENTO 168                PAPEL VISC11      , dtype: object),\n",
       " ('RENDIMENTO 316                PAPEL VINO11      ',\n",
       "  Operação       15/03/2022\n",
       "  Liquidação     15/03/2022\n",
       "  Valor              107,44\n",
       "  Saldo Final      5.659,70\n",
       "  Name: RENDIMENTO 316                PAPEL VINO11      , dtype: object),\n",
       " ('RENDIMENTO 175                PAPEL VILG11      ',\n",
       "  Operação       15/03/2022\n",
       "  Liquidação     15/03/2022\n",
       "  Valor              122,50\n",
       "  Saldo Final      5.552,26\n",
       "  Name: RENDIMENTO 175                PAPEL VILG11      , dtype: object),\n",
       " ('RENDIMENTO 62                 PAPEL RECT11      ',\n",
       "  Operação       15/03/2022\n",
       "  Liquidação     15/03/2022\n",
       "  Valor               31,11\n",
       "  Saldo Final      5.429,76\n",
       "  Name: RENDIMENTO 62                 PAPEL RECT11      , dtype: object),\n",
       " ('RENDIMENTO 74                 PAPEL RBFF11      ',\n",
       "  Operação       15/03/2022\n",
       "  Liquidação     15/03/2022\n",
       "  Valor               34,78\n",
       "  Saldo Final      5.398,65\n",
       "  Name: RENDIMENTO 74                 PAPEL RBFF11      , dtype: object),\n",
       " ('DIVIDENDOS 1.400              JHSF3       ',\n",
       "  Operação       14/03/2022\n",
       "  Liquidação     14/03/2022\n",
       "  Valor              224,91\n",
       "  Saldo Final      5.363,87\n",
       "  Name: DIVIDENDOS 1.400              JHSF3       , dtype: object),\n",
       " ('JUROS S/CAPITAL 700                ITUB4       ',\n",
       "  Operação       11/03/2022\n",
       "  Liquidação     11/03/2022\n",
       "  Valor              157,41\n",
       "  Saldo Final      5.138,96\n",
       "  Name: JUROS S/CAPITAL 700                ITUB4       , dtype: object),\n",
       " ('JUROS S/CAPITAL 100                BBAS3       ',\n",
       "  Operação       11/03/2022\n",
       "  Liquidação     11/03/2022\n",
       "  Valor               38,61\n",
       "  Saldo Final      4.981,55\n",
       "  Name: JUROS S/CAPITAL 100                BBAS3       , dtype: object),\n",
       " ('JUROS S/CAPITAL 500                ITUB4       ',\n",
       "  Operação       11/03/2022\n",
       "  Liquidação     11/03/2022\n",
       "  Valor                5,81\n",
       "  Saldo Final      4.942,94\n",
       "  Name: JUROS S/CAPITAL 500                ITUB4       , dtype: object),\n",
       " ('RENDIMENTO 100                PAPEL BBAS3       ',\n",
       "  Operação       11/03/2022\n",
       "  Liquidação     11/03/2022\n",
       "  Valor                0,64\n",
       "  Saldo Final      4.937,13\n",
       "  Name: RENDIMENTO 100                PAPEL BBAS3       , dtype: object),\n",
       " ('DIVIDENDOS 100                BBAS3       ',\n",
       "  Operação       11/03/2022\n",
       "  Liquidação     11/03/2022\n",
       "  Valor               35,58\n",
       "  Saldo Final      4.936,49\n",
       "  Name: DIVIDENDOS 100                BBAS3       , dtype: object),\n",
       " ('RENDIMENTO 100                PAPEL BBAS3       ',\n",
       "  Operação       11/03/2022\n",
       "  Liquidação     11/03/2022\n",
       "  Valor                0,50\n",
       "  Saldo Final      4.900,91\n",
       "  Name: RENDIMENTO 100                PAPEL BBAS3       , dtype: object),\n",
       " ('NOTA *      PREGÃO 02/03/2022',\n",
       "  Operação       02/03/2022\n",
       "  Liquidação     04/03/2022\n",
       "  Valor            3.549,93\n",
       "  Saldo Final      4.900,41\n",
       "  Name: NOTA *      PREGÃO 02/03/2022, dtype: object),\n",
       " ('JUROS S/CAPITAL 700                ITUB4       ',\n",
       "  Operação       02/03/2022\n",
       "  Liquidação     02/03/2022\n",
       "  Valor               10,50\n",
       "  Saldo Final      1.350,48\n",
       "  Name: JUROS S/CAPITAL 700                ITUB4       , dtype: object),\n",
       " ('RENDIMENTO 143                PAPEL XPML11      ',\n",
       "  Operação       25/02/2022\n",
       "  Liquidação     25/02/2022\n",
       "  Valor               85,80\n",
       "  Saldo Final      1.339,98\n",
       "  Name: RENDIMENTO 143                PAPEL XPML11      , dtype: object),\n",
       " ('TED BCO 104 AGE 1642  CTA 217427  - RETIRADA EM C/C                             ',\n",
       "  Operação       21/02/2022\n",
       "  Liquidação     21/02/2022\n",
       "  Valor          -20.000,00\n",
       "  Saldo Final      1.254,18\n",
       "  Name: TED BCO 104 AGE 1642  CTA 217427  - RETIRADA EM C/C                             , dtype: object),\n",
       " ('JUROS S/CAPITAL 300                MDIA3       ',\n",
       "  Operação       18/02/2022\n",
       "  Liquidação     18/02/2022\n",
       "  Valor              445,39\n",
       "  Saldo Final     21.254,18\n",
       "  Name: JUROS S/CAPITAL 300                MDIA3       , dtype: object),\n",
       " ('NOTA *      PREGÃO 15/02/2022',\n",
       "  Operação       15/02/2022\n",
       "  Liquidação     17/02/2022\n",
       "  Valor            2.699,18\n",
       "  Saldo Final     20.808,79\n",
       "  Name: NOTA *      PREGÃO 15/02/2022, dtype: object),\n",
       " ('RENDIMENTO 74                 PAPEL RBFF11      ',\n",
       "  Operação       15/02/2022\n",
       "  Liquidação     15/02/2022\n",
       "  Valor               34,78\n",
       "  Saldo Final     18.109,61\n",
       "  Name: RENDIMENTO 74                 PAPEL RBFF11      , dtype: object),\n",
       " ('RENDIMENTO 72                 PAPEL XPPR11      ',\n",
       "  Operação       14/02/2022\n",
       "  Liquidação     14/02/2022\n",
       "  Valor               32,40\n",
       "  Saldo Final     18.074,83\n",
       "  Name: RENDIMENTO 72                 PAPEL XPPR11      , dtype: object),\n",
       " ('RENDIMENTO 170                PAPEL XPLG11      ',\n",
       "  Operação       14/02/2022\n",
       "  Liquidação     14/02/2022\n",
       "  Valor              108,80\n",
       "  Saldo Final     18.042,43\n",
       "  Name: RENDIMENTO 170                PAPEL XPLG11      , dtype: object),\n",
       " ('RENDIMENTO 168                PAPEL VISC11      ',\n",
       "  Operação       14/02/2022\n",
       "  Liquidação     14/02/2022\n",
       "  Valor              114,24\n",
       "  Saldo Final     17.933,63\n",
       "  Name: RENDIMENTO 168                PAPEL VISC11      , dtype: object),\n",
       " ('RENDIMENTO 316                PAPEL VINO11      ',\n",
       "  Operação       14/02/2022\n",
       "  Liquidação     14/02/2022\n",
       "  Valor              107,44\n",
       "  Saldo Final     17.819,39\n",
       "  Name: RENDIMENTO 316                PAPEL VINO11      , dtype: object),\n",
       " ('RENDIMENTO 175                PAPEL VILG11      ',\n",
       "  Operação       14/02/2022\n",
       "  Liquidação     14/02/2022\n",
       "  Valor              122,50\n",
       "  Saldo Final     17.711,95\n",
       "  Name: RENDIMENTO 175                PAPEL VILG11      , dtype: object),\n",
       " ('RENDIMENTO 62                 PAPEL RECT11      ',\n",
       "  Operação       14/02/2022\n",
       "  Liquidação     14/02/2022\n",
       "  Valor               32,36\n",
       "  Saldo Final     17.589,45\n",
       "  Name: RENDIMENTO 62                 PAPEL RECT11      , dtype: object),\n",
       " ('JUROS S/CAPITAL 310                RENT3       ',\n",
       "  Operação       11/02/2022\n",
       "  Liquidação     11/02/2022\n",
       "  Valor               34,04\n",
       "  Saldo Final     17.557,09\n",
       "  Name: JUROS S/CAPITAL 310                RENT3       , dtype: object),\n",
       " ('NOTA *      PREGÃO 07/02/2022',\n",
       "  Operação       07/02/2022\n",
       "  Liquidação     09/02/2022\n",
       "  Valor            4.328,70\n",
       "  Saldo Final     17.523,05\n",
       "  Name: NOTA *      PREGÃO 07/02/2022, dtype: object),\n",
       " ('NOTA *      PREGÃO 03/02/2022',\n",
       "  Operação       03/02/2022\n",
       "  Liquidação     07/02/2022\n",
       "  Valor            5.032,49\n",
       "  Saldo Final     13.194,35\n",
       "  Name: NOTA *      PREGÃO 03/02/2022, dtype: object),\n",
       " ('NOTA *      PREGÃO 02/02/2022',\n",
       "  Operação       02/02/2022\n",
       "  Liquidação     04/02/2022\n",
       "  Valor              641,81\n",
       "  Saldo Final      8.161,86\n",
       "  Name: NOTA *      PREGÃO 02/02/2022, dtype: object),\n",
       " ('JUROS S/CAPITAL 700                ITUB4       ',\n",
       "  Operação       01/02/2022\n",
       "  Liquidação     01/02/2022\n",
       "  Valor               10,50\n",
       "  Saldo Final      7.520,05\n",
       "  Name: JUROS S/CAPITAL 700                ITUB4       , dtype: object)]"
      ]
     },
     "execution_count": 271,
     "metadata": {},
     "output_type": "execute_result"
    }
   ],
   "source": [
    "list(dataset.iterrows())"
   ]
  },
  {
   "cell_type": "code",
   "execution_count": 272,
   "metadata": {},
   "outputs": [
    {
     "name": "stdout",
     "output_type": "stream",
     "text": [
      "Operação       31/03/2022\n",
      "Liquidação     04/04/2022\n",
      "Valor            1.693,50\n",
      "Saldo Final     20.201,98\n",
      "Name: NOTA *      PREGÃO 31/03/2022, dtype: object\n",
      "Operação       01/04/2022\n",
      "Liquidação     01/04/2022\n",
      "Valor                7,50\n",
      "Saldo Final     18.508,48\n",
      "Name: JUROS S/CAPITAL 500                ITUB4       , dtype: object\n",
      "Operação       31/03/2022\n",
      "Liquidação     31/03/2022\n",
      "Valor               12,75\n",
      "Saldo Final     18.500,98\n",
      "Name: JUROS S/CAPITAL 300                MDIA3       , dtype: object\n",
      "Operação       31/03/2022\n",
      "Liquidação     31/03/2022\n",
      "Valor               17,91\n",
      "Saldo Final     18.488,23\n",
      "Name: JUROS S/CAPITAL 100                BBAS3       , dtype: object\n",
      "Operação       24/03/2022\n",
      "Liquidação     28/03/2022\n",
      "Valor            8.567,43\n",
      "Saldo Final     18.470,32\n",
      "Name: NOTA *      PREGÃO 24/03/2022, dtype: object\n",
      "Operação       25/03/2022\n",
      "Liquidação     25/03/2022\n",
      "Valor               91,52\n",
      "Saldo Final      9.902,89\n",
      "Name: RENDIMENTO 143                PAPEL XPML11      , dtype: object\n",
      "Operação       23/03/2022\n",
      "Liquidação     25/03/2022\n",
      "Valor            2.729,18\n",
      "Saldo Final      9.811,37\n",
      "Name: NOTA *      PREGÃO 23/03/2022, dtype: object\n",
      "Operação       17/03/2022\n",
      "Liquidação     21/03/2022\n",
      "Valor            1.163,65\n",
      "Saldo Final      7.082,19\n",
      "Name: NOTA *      PREGÃO 17/03/2022, dtype: object\n",
      "Operação       15/03/2022\n",
      "Liquidação     15/03/2022\n",
      "Valor               32,40\n",
      "Saldo Final      5.918,54\n",
      "Name: RENDIMENTO 72                 PAPEL XPPR11      , dtype: object\n",
      "Operação       15/03/2022\n",
      "Liquidação     15/03/2022\n",
      "Valor              112,20\n",
      "Saldo Final      5.886,14\n",
      "Name: RENDIMENTO 170                PAPEL XPLG11      , dtype: object\n",
      "Operação       15/03/2022\n",
      "Liquidação     15/03/2022\n",
      "Valor              114,24\n",
      "Saldo Final      5.773,94\n",
      "Name: RENDIMENTO 168                PAPEL VISC11      , dtype: object\n",
      "Operação       15/03/2022\n",
      "Liquidação     15/03/2022\n",
      "Valor              107,44\n",
      "Saldo Final      5.659,70\n",
      "Name: RENDIMENTO 316                PAPEL VINO11      , dtype: object\n",
      "Operação       15/03/2022\n",
      "Liquidação     15/03/2022\n",
      "Valor              122,50\n",
      "Saldo Final      5.552,26\n",
      "Name: RENDIMENTO 175                PAPEL VILG11      , dtype: object\n",
      "Operação       15/03/2022\n",
      "Liquidação     15/03/2022\n",
      "Valor               31,11\n",
      "Saldo Final      5.429,76\n",
      "Name: RENDIMENTO 62                 PAPEL RECT11      , dtype: object\n",
      "Operação       15/03/2022\n",
      "Liquidação     15/03/2022\n",
      "Valor               34,78\n",
      "Saldo Final      5.398,65\n",
      "Name: RENDIMENTO 74                 PAPEL RBFF11      , dtype: object\n",
      "Operação       14/03/2022\n",
      "Liquidação     14/03/2022\n",
      "Valor              224,91\n",
      "Saldo Final      5.363,87\n",
      "Name: DIVIDENDOS 1.400              JHSF3       , dtype: object\n",
      "Operação       11/03/2022\n",
      "Liquidação     11/03/2022\n",
      "Valor              157,41\n",
      "Saldo Final      5.138,96\n",
      "Name: JUROS S/CAPITAL 700                ITUB4       , dtype: object\n",
      "Operação       11/03/2022\n",
      "Liquidação     11/03/2022\n",
      "Valor               38,61\n",
      "Saldo Final      4.981,55\n",
      "Name: JUROS S/CAPITAL 100                BBAS3       , dtype: object\n",
      "Operação       11/03/2022\n",
      "Liquidação     11/03/2022\n",
      "Valor                5,81\n",
      "Saldo Final      4.942,94\n",
      "Name: JUROS S/CAPITAL 500                ITUB4       , dtype: object\n",
      "Operação       11/03/2022\n",
      "Liquidação     11/03/2022\n",
      "Valor                0,64\n",
      "Saldo Final      4.937,13\n",
      "Name: RENDIMENTO 100                PAPEL BBAS3       , dtype: object\n",
      "Operação       11/03/2022\n",
      "Liquidação     11/03/2022\n",
      "Valor               35,58\n",
      "Saldo Final      4.936,49\n",
      "Name: DIVIDENDOS 100                BBAS3       , dtype: object\n",
      "Operação       11/03/2022\n",
      "Liquidação     11/03/2022\n",
      "Valor                0,50\n",
      "Saldo Final      4.900,91\n",
      "Name: RENDIMENTO 100                PAPEL BBAS3       , dtype: object\n",
      "Operação       02/03/2022\n",
      "Liquidação     04/03/2022\n",
      "Valor            3.549,93\n",
      "Saldo Final      4.900,41\n",
      "Name: NOTA *      PREGÃO 02/03/2022, dtype: object\n",
      "Operação       02/03/2022\n",
      "Liquidação     02/03/2022\n",
      "Valor               10,50\n",
      "Saldo Final      1.350,48\n",
      "Name: JUROS S/CAPITAL 700                ITUB4       , dtype: object\n",
      "Operação       25/02/2022\n",
      "Liquidação     25/02/2022\n",
      "Valor               85,80\n",
      "Saldo Final      1.339,98\n",
      "Name: RENDIMENTO 143                PAPEL XPML11      , dtype: object\n",
      "Operação       21/02/2022\n",
      "Liquidação     21/02/2022\n",
      "Valor          -20.000,00\n",
      "Saldo Final      1.254,18\n",
      "Name: TED BCO 104 AGE 1642  CTA 217427  - RETIRADA EM C/C                             , dtype: object\n",
      "Operação       18/02/2022\n",
      "Liquidação     18/02/2022\n",
      "Valor              445,39\n",
      "Saldo Final     21.254,18\n",
      "Name: JUROS S/CAPITAL 300                MDIA3       , dtype: object\n",
      "Operação       15/02/2022\n",
      "Liquidação     17/02/2022\n",
      "Valor            2.699,18\n",
      "Saldo Final     20.808,79\n",
      "Name: NOTA *      PREGÃO 15/02/2022, dtype: object\n",
      "Operação       15/02/2022\n",
      "Liquidação     15/02/2022\n",
      "Valor               34,78\n",
      "Saldo Final     18.109,61\n",
      "Name: RENDIMENTO 74                 PAPEL RBFF11      , dtype: object\n",
      "Operação       14/02/2022\n",
      "Liquidação     14/02/2022\n",
      "Valor               32,40\n",
      "Saldo Final     18.074,83\n",
      "Name: RENDIMENTO 72                 PAPEL XPPR11      , dtype: object\n",
      "Operação       14/02/2022\n",
      "Liquidação     14/02/2022\n",
      "Valor              108,80\n",
      "Saldo Final     18.042,43\n",
      "Name: RENDIMENTO 170                PAPEL XPLG11      , dtype: object\n",
      "Operação       14/02/2022\n",
      "Liquidação     14/02/2022\n",
      "Valor              114,24\n",
      "Saldo Final     17.933,63\n",
      "Name: RENDIMENTO 168                PAPEL VISC11      , dtype: object\n",
      "Operação       14/02/2022\n",
      "Liquidação     14/02/2022\n",
      "Valor              107,44\n",
      "Saldo Final     17.819,39\n",
      "Name: RENDIMENTO 316                PAPEL VINO11      , dtype: object\n",
      "Operação       14/02/2022\n",
      "Liquidação     14/02/2022\n",
      "Valor              122,50\n",
      "Saldo Final     17.711,95\n",
      "Name: RENDIMENTO 175                PAPEL VILG11      , dtype: object\n",
      "Operação       14/02/2022\n",
      "Liquidação     14/02/2022\n",
      "Valor               32,36\n",
      "Saldo Final     17.589,45\n",
      "Name: RENDIMENTO 62                 PAPEL RECT11      , dtype: object\n",
      "Operação       11/02/2022\n",
      "Liquidação     11/02/2022\n",
      "Valor               34,04\n",
      "Saldo Final     17.557,09\n",
      "Name: JUROS S/CAPITAL 310                RENT3       , dtype: object\n",
      "Operação       07/02/2022\n",
      "Liquidação     09/02/2022\n",
      "Valor            4.328,70\n",
      "Saldo Final     17.523,05\n",
      "Name: NOTA *      PREGÃO 07/02/2022, dtype: object\n",
      "Operação       03/02/2022\n",
      "Liquidação     07/02/2022\n",
      "Valor            5.032,49\n",
      "Saldo Final     13.194,35\n",
      "Name: NOTA *      PREGÃO 03/02/2022, dtype: object\n",
      "Operação       02/02/2022\n",
      "Liquidação     04/02/2022\n",
      "Valor              641,81\n",
      "Saldo Final      8.161,86\n",
      "Name: NOTA *      PREGÃO 02/02/2022, dtype: object\n",
      "Operação       01/02/2022\n",
      "Liquidação     01/02/2022\n",
      "Valor               10,50\n",
      "Saldo Final      7.520,05\n",
      "Name: JUROS S/CAPITAL 700                ITUB4       , dtype: object\n"
     ]
    }
   ],
   "source": [
    "for index, rows in dataset.iterrows():\n",
    "    print(rows)"
   ]
  },
  {
   "cell_type": "code",
   "execution_count": 273,
   "metadata": {},
   "outputs": [
    {
     "data": {
      "text/html": [
       "<div>\n",
       "<style scoped>\n",
       "    .dataframe tbody tr th:only-of-type {\n",
       "        vertical-align: middle;\n",
       "    }\n",
       "\n",
       "    .dataframe tbody tr th {\n",
       "        vertical-align: top;\n",
       "    }\n",
       "\n",
       "    .dataframe thead th {\n",
       "        text-align: right;\n",
       "    }\n",
       "</style>\n",
       "<table border=\"1\" class=\"dataframe\">\n",
       "  <thead>\n",
       "    <tr style=\"text-align: right;\">\n",
       "      <th></th>\n",
       "      <th>calorias</th>\n",
       "      <th>gordura (%)</th>\n",
       "      <th>lista</th>\n",
       "    </tr>\n",
       "  </thead>\n",
       "  <tbody>\n",
       "    <tr>\n",
       "      <th>banana</th>\n",
       "      <td>200</td>\n",
       "      <td>0</td>\n",
       "      <td>[5, teste]</td>\n",
       "    </tr>\n",
       "    <tr>\n",
       "      <th>prato feito</th>\n",
       "      <td>350</td>\n",
       "      <td>6</td>\n",
       "      <td>[5, teste]</td>\n",
       "    </tr>\n",
       "    <tr>\n",
       "      <th>big mac</th>\n",
       "      <td>550</td>\n",
       "      <td>15</td>\n",
       "      <td>[5, teste]</td>\n",
       "    </tr>\n",
       "  </tbody>\n",
       "</table>\n",
       "</div>"
      ],
      "text/plain": [
       "             calorias  gordura (%)       lista\n",
       "banana            200            0  [5, teste]\n",
       "prato feito       350            6  [5, teste]\n",
       "big mac           550           15  [5, teste]"
      ]
     },
     "execution_count": 273,
     "metadata": {},
     "output_type": "execute_result"
    }
   ],
   "source": [
    "df = pd.DataFrame({'calorias':[200, 350, 550], 'gordura (%)':[0, 6, 15], 'lista':[['5', 'teste'],['5', 'teste'],['5', 'teste']]},index=['banana', 'prato feito', 'big mac'])\n",
    "df"
   ]
  },
  {
   "cell_type": "code",
   "execution_count": 274,
   "metadata": {},
   "outputs": [
    {
     "data": {
      "text/plain": [
       "['5', 'teste']"
      ]
     },
     "execution_count": 274,
     "metadata": {},
     "output_type": "execute_result"
    }
   ],
   "source": [
    "lista = ['5', 'teste']\n",
    "lista"
   ]
  },
  {
   "cell_type": "code",
   "execution_count": 275,
   "metadata": {},
   "outputs": [
    {
     "data": {
      "text/html": [
       "<div>\n",
       "<style scoped>\n",
       "    .dataframe tbody tr th:only-of-type {\n",
       "        vertical-align: middle;\n",
       "    }\n",
       "\n",
       "    .dataframe tbody tr th {\n",
       "        vertical-align: top;\n",
       "    }\n",
       "\n",
       "    .dataframe thead th {\n",
       "        text-align: right;\n",
       "    }\n",
       "</style>\n",
       "<table border=\"1\" class=\"dataframe\">\n",
       "  <thead>\n",
       "    <tr style=\"text-align: right;\">\n",
       "      <th></th>\n",
       "      <th>calorias</th>\n",
       "      <th>gordura (%)</th>\n",
       "      <th>lista</th>\n",
       "    </tr>\n",
       "  </thead>\n",
       "  <tbody>\n",
       "    <tr>\n",
       "      <th>banana</th>\n",
       "      <td>200</td>\n",
       "      <td>0</td>\n",
       "      <td>[5, teste, [5, teste]]</td>\n",
       "    </tr>\n",
       "    <tr>\n",
       "      <th>prato feito</th>\n",
       "      <td>350</td>\n",
       "      <td>6</td>\n",
       "      <td>[5, teste]</td>\n",
       "    </tr>\n",
       "    <tr>\n",
       "      <th>big mac</th>\n",
       "      <td>550</td>\n",
       "      <td>15</td>\n",
       "      <td>[5, teste]</td>\n",
       "    </tr>\n",
       "  </tbody>\n",
       "</table>\n",
       "</div>"
      ],
      "text/plain": [
       "             calorias  gordura (%)                   lista\n",
       "banana            200            0  [5, teste, [5, teste]]\n",
       "prato feito       350            6              [5, teste]\n",
       "big mac           550           15              [5, teste]"
      ]
     },
     "execution_count": 275,
     "metadata": {},
     "output_type": "execute_result"
    }
   ],
   "source": [
    "df.loc['banana','lista'].append(lista)\n",
    "df"
   ]
  },
  {
   "cell_type": "markdown",
   "metadata": {},
   "source": [
    "# Combinar dataframes"
   ]
  },
  {
   "cell_type": "code",
   "execution_count": 277,
   "metadata": {},
   "outputs": [],
   "source": [
    "import numpy as np"
   ]
  },
  {
   "cell_type": "code",
   "execution_count": 278,
   "metadata": {},
   "outputs": [
    {
     "data": {
      "text/html": [
       "<div>\n",
       "<style scoped>\n",
       "    .dataframe tbody tr th:only-of-type {\n",
       "        vertical-align: middle;\n",
       "    }\n",
       "\n",
       "    .dataframe tbody tr th {\n",
       "        vertical-align: top;\n",
       "    }\n",
       "\n",
       "    .dataframe thead th {\n",
       "        text-align: right;\n",
       "    }\n",
       "</style>\n",
       "<table border=\"1\" class=\"dataframe\">\n",
       "  <thead>\n",
       "    <tr style=\"text-align: right;\">\n",
       "      <th></th>\n",
       "      <th>A</th>\n",
       "      <th>B</th>\n",
       "      <th>C</th>\n",
       "    </tr>\n",
       "  </thead>\n",
       "  <tbody>\n",
       "    <tr>\n",
       "      <th>2015-07-09 12:00:00</th>\n",
       "      <td>1.0</td>\n",
       "      <td>1.0</td>\n",
       "      <td>1.0</td>\n",
       "    </tr>\n",
       "    <tr>\n",
       "      <th>2015-07-09 13:00:00</th>\n",
       "      <td>1.0</td>\n",
       "      <td>1.0</td>\n",
       "      <td>1.0</td>\n",
       "    </tr>\n",
       "    <tr>\n",
       "      <th>2015-07-09 14:00:00</th>\n",
       "      <td>1.0</td>\n",
       "      <td>1.0</td>\n",
       "      <td>1.0</td>\n",
       "    </tr>\n",
       "    <tr>\n",
       "      <th>2015-07-09 15:00:00</th>\n",
       "      <td>1.0</td>\n",
       "      <td>1.0</td>\n",
       "      <td>1.0</td>\n",
       "    </tr>\n",
       "  </tbody>\n",
       "</table>\n",
       "</div>"
      ],
      "text/plain": [
       "                       A    B    C\n",
       "2015-07-09 12:00:00  1.0  1.0  1.0\n",
       "2015-07-09 13:00:00  1.0  1.0  1.0\n",
       "2015-07-09 14:00:00  1.0  1.0  1.0\n",
       "2015-07-09 15:00:00  1.0  1.0  1.0"
      ]
     },
     "execution_count": 278,
     "metadata": {},
     "output_type": "execute_result"
    }
   ],
   "source": [
    "df1 = pd.DataFrame(np.ones(12).reshape(4,3), columns='A B C'.split(), index=pd.date_range('2015-07-09 12:00:00', periods=4, freq='H'))\n",
    "df1"
   ]
  },
  {
   "cell_type": "code",
   "execution_count": 279,
   "metadata": {},
   "outputs": [
    {
     "data": {
      "text/html": [
       "<div>\n",
       "<style scoped>\n",
       "    .dataframe tbody tr th:only-of-type {\n",
       "        vertical-align: middle;\n",
       "    }\n",
       "\n",
       "    .dataframe tbody tr th {\n",
       "        vertical-align: top;\n",
       "    }\n",
       "\n",
       "    .dataframe thead th {\n",
       "        text-align: right;\n",
       "    }\n",
       "</style>\n",
       "<table border=\"1\" class=\"dataframe\">\n",
       "  <thead>\n",
       "    <tr style=\"text-align: right;\">\n",
       "      <th></th>\n",
       "      <th>A</th>\n",
       "      <th>B</th>\n",
       "      <th>C</th>\n",
       "      <th>D</th>\n",
       "    </tr>\n",
       "  </thead>\n",
       "  <tbody>\n",
       "    <tr>\n",
       "      <th>2015-07-09 14:00:00</th>\n",
       "      <td>2.0</td>\n",
       "      <td>2.0</td>\n",
       "      <td>2.0</td>\n",
       "      <td>2.0</td>\n",
       "    </tr>\n",
       "    <tr>\n",
       "      <th>2015-07-09 15:00:00</th>\n",
       "      <td>2.0</td>\n",
       "      <td>2.0</td>\n",
       "      <td>2.0</td>\n",
       "      <td>2.0</td>\n",
       "    </tr>\n",
       "    <tr>\n",
       "      <th>2015-07-09 16:00:00</th>\n",
       "      <td>2.0</td>\n",
       "      <td>2.0</td>\n",
       "      <td>2.0</td>\n",
       "      <td>2.0</td>\n",
       "    </tr>\n",
       "    <tr>\n",
       "      <th>2015-07-09 17:00:00</th>\n",
       "      <td>2.0</td>\n",
       "      <td>2.0</td>\n",
       "      <td>2.0</td>\n",
       "      <td>2.0</td>\n",
       "    </tr>\n",
       "  </tbody>\n",
       "</table>\n",
       "</div>"
      ],
      "text/plain": [
       "                       A    B    C    D\n",
       "2015-07-09 14:00:00  2.0  2.0  2.0  2.0\n",
       "2015-07-09 15:00:00  2.0  2.0  2.0  2.0\n",
       "2015-07-09 16:00:00  2.0  2.0  2.0  2.0\n",
       "2015-07-09 17:00:00  2.0  2.0  2.0  2.0"
      ]
     },
     "execution_count": 279,
     "metadata": {},
     "output_type": "execute_result"
    }
   ],
   "source": [
    "df2 = pd.DataFrame(np.ones(16).reshape(4,4)*2, columns='A B C D'.split(), index=pd.date_range('2015-07-09 14:00:00', periods=4, freq='H'))\n",
    "df2"
   ]
  },
  {
   "cell_type": "code",
   "execution_count": 283,
   "metadata": {},
   "outputs": [
    {
     "data": {
      "text/plain": [
       "array(['2015-07-09T12:00:00.000000000', '2015-07-09T13:00:00.000000000',\n",
       "       '2015-07-09T14:00:00.000000000', '2015-07-09T15:00:00.000000000',\n",
       "       '2015-07-09T16:00:00.000000000', '2015-07-09T17:00:00.000000000'],\n",
       "      dtype='datetime64[ns]')"
      ]
     },
     "execution_count": 283,
     "metadata": {},
     "output_type": "execute_result"
    }
   ],
   "source": [
    "np.union1d(df1.index, df2.index)"
   ]
  },
  {
   "cell_type": "code",
   "execution_count": 280,
   "metadata": {},
   "outputs": [
    {
     "data": {
      "text/html": [
       "<div>\n",
       "<style scoped>\n",
       "    .dataframe tbody tr th:only-of-type {\n",
       "        vertical-align: middle;\n",
       "    }\n",
       "\n",
       "    .dataframe tbody tr th {\n",
       "        vertical-align: top;\n",
       "    }\n",
       "\n",
       "    .dataframe thead th {\n",
       "        text-align: right;\n",
       "    }\n",
       "</style>\n",
       "<table border=\"1\" class=\"dataframe\">\n",
       "  <thead>\n",
       "    <tr style=\"text-align: right;\">\n",
       "      <th></th>\n",
       "      <th>A</th>\n",
       "      <th>B</th>\n",
       "      <th>C</th>\n",
       "      <th>D</th>\n",
       "    </tr>\n",
       "  </thead>\n",
       "  <tbody>\n",
       "    <tr>\n",
       "      <th>2015-07-09 12:00:00</th>\n",
       "      <td>NaN</td>\n",
       "      <td>NaN</td>\n",
       "      <td>NaN</td>\n",
       "      <td>NaN</td>\n",
       "    </tr>\n",
       "    <tr>\n",
       "      <th>2015-07-09 13:00:00</th>\n",
       "      <td>NaN</td>\n",
       "      <td>NaN</td>\n",
       "      <td>NaN</td>\n",
       "      <td>NaN</td>\n",
       "    </tr>\n",
       "    <tr>\n",
       "      <th>2015-07-09 14:00:00</th>\n",
       "      <td>2.0</td>\n",
       "      <td>2.0</td>\n",
       "      <td>2.0</td>\n",
       "      <td>2.0</td>\n",
       "    </tr>\n",
       "    <tr>\n",
       "      <th>2015-07-09 15:00:00</th>\n",
       "      <td>2.0</td>\n",
       "      <td>2.0</td>\n",
       "      <td>2.0</td>\n",
       "      <td>2.0</td>\n",
       "    </tr>\n",
       "    <tr>\n",
       "      <th>2015-07-09 16:00:00</th>\n",
       "      <td>2.0</td>\n",
       "      <td>2.0</td>\n",
       "      <td>2.0</td>\n",
       "      <td>2.0</td>\n",
       "    </tr>\n",
       "    <tr>\n",
       "      <th>2015-07-09 17:00:00</th>\n",
       "      <td>2.0</td>\n",
       "      <td>2.0</td>\n",
       "      <td>2.0</td>\n",
       "      <td>2.0</td>\n",
       "    </tr>\n",
       "  </tbody>\n",
       "</table>\n",
       "</div>"
      ],
      "text/plain": [
       "                       A    B    C    D\n",
       "2015-07-09 12:00:00  NaN  NaN  NaN  NaN\n",
       "2015-07-09 13:00:00  NaN  NaN  NaN  NaN\n",
       "2015-07-09 14:00:00  2.0  2.0  2.0  2.0\n",
       "2015-07-09 15:00:00  2.0  2.0  2.0  2.0\n",
       "2015-07-09 16:00:00  2.0  2.0  2.0  2.0\n",
       "2015-07-09 17:00:00  2.0  2.0  2.0  2.0"
      ]
     },
     "execution_count": 280,
     "metadata": {},
     "output_type": "execute_result"
    }
   ],
   "source": [
    "result = df2.reindex(np.union1d(df1.index, df2.index))\n",
    "result"
   ]
  },
  {
   "cell_type": "code",
   "execution_count": 281,
   "metadata": {},
   "outputs": [
    {
     "data": {
      "text/plain": [
       "<function __main__.<lambda>(x, y)>"
      ]
     },
     "execution_count": 281,
     "metadata": {},
     "output_type": "execute_result"
    }
   ],
   "source": [
    "combiner = lambda x, y: np.where(x.isnull(), y, x)\n",
    "combiner"
   ]
  },
  {
   "cell_type": "code",
   "execution_count": 282,
   "metadata": {},
   "outputs": [
    {
     "data": {
      "text/html": [
       "<div>\n",
       "<style scoped>\n",
       "    .dataframe tbody tr th:only-of-type {\n",
       "        vertical-align: middle;\n",
       "    }\n",
       "\n",
       "    .dataframe tbody tr th {\n",
       "        vertical-align: top;\n",
       "    }\n",
       "\n",
       "    .dataframe thead th {\n",
       "        text-align: right;\n",
       "    }\n",
       "</style>\n",
       "<table border=\"1\" class=\"dataframe\">\n",
       "  <thead>\n",
       "    <tr style=\"text-align: right;\">\n",
       "      <th></th>\n",
       "      <th>A</th>\n",
       "      <th>B</th>\n",
       "      <th>C</th>\n",
       "      <th>D</th>\n",
       "    </tr>\n",
       "  </thead>\n",
       "  <tbody>\n",
       "    <tr>\n",
       "      <th>2015-07-09 12:00:00</th>\n",
       "      <td>1.0</td>\n",
       "      <td>1.0</td>\n",
       "      <td>1.0</td>\n",
       "      <td>NaN</td>\n",
       "    </tr>\n",
       "    <tr>\n",
       "      <th>2015-07-09 13:00:00</th>\n",
       "      <td>1.0</td>\n",
       "      <td>1.0</td>\n",
       "      <td>1.0</td>\n",
       "      <td>NaN</td>\n",
       "    </tr>\n",
       "    <tr>\n",
       "      <th>2015-07-09 14:00:00</th>\n",
       "      <td>2.0</td>\n",
       "      <td>2.0</td>\n",
       "      <td>2.0</td>\n",
       "      <td>2.0</td>\n",
       "    </tr>\n",
       "    <tr>\n",
       "      <th>2015-07-09 15:00:00</th>\n",
       "      <td>2.0</td>\n",
       "      <td>2.0</td>\n",
       "      <td>2.0</td>\n",
       "      <td>2.0</td>\n",
       "    </tr>\n",
       "    <tr>\n",
       "      <th>2015-07-09 16:00:00</th>\n",
       "      <td>2.0</td>\n",
       "      <td>2.0</td>\n",
       "      <td>2.0</td>\n",
       "      <td>2.0</td>\n",
       "    </tr>\n",
       "    <tr>\n",
       "      <th>2015-07-09 17:00:00</th>\n",
       "      <td>2.0</td>\n",
       "      <td>2.0</td>\n",
       "      <td>2.0</td>\n",
       "      <td>2.0</td>\n",
       "    </tr>\n",
       "  </tbody>\n",
       "</table>\n",
       "</div>"
      ],
      "text/plain": [
       "                       A    B    C    D\n",
       "2015-07-09 12:00:00  1.0  1.0  1.0  NaN\n",
       "2015-07-09 13:00:00  1.0  1.0  1.0  NaN\n",
       "2015-07-09 14:00:00  2.0  2.0  2.0  2.0\n",
       "2015-07-09 15:00:00  2.0  2.0  2.0  2.0\n",
       "2015-07-09 16:00:00  2.0  2.0  2.0  2.0\n",
       "2015-07-09 17:00:00  2.0  2.0  2.0  2.0"
      ]
     },
     "execution_count": 282,
     "metadata": {},
     "output_type": "execute_result"
    }
   ],
   "source": [
    "result.combine(df1, combiner)\n"
   ]
  },
  {
   "cell_type": "markdown",
   "metadata": {},
   "source": [
    "# Group by"
   ]
  },
  {
   "cell_type": "code",
   "execution_count": 284,
   "metadata": {},
   "outputs": [],
   "source": [
    "# assign data\n",
    "data = pd.DataFrame({'Section': ['A', 'A', 'A', 'B', 'B', 'B',\n",
    "                                 'C', 'C', 'C'],\n",
    "                     'Teacher': ['Kakeshi', 'Kakeshi', 'Iruka',\n",
    "                                 'Kakeshi', 'Kakeshi', 'Kakeshi',\n",
    "                                 'Iruka', 'Iruka', 'Guy']})"
   ]
  },
  {
   "cell_type": "code",
   "execution_count": 285,
   "metadata": {},
   "outputs": [
    {
     "name": "stdout",
     "output_type": "stream",
     "text": [
      "Data:\n"
     ]
    },
    {
     "data": {
      "text/html": [
       "<div>\n",
       "<style scoped>\n",
       "    .dataframe tbody tr th:only-of-type {\n",
       "        vertical-align: middle;\n",
       "    }\n",
       "\n",
       "    .dataframe tbody tr th {\n",
       "        vertical-align: top;\n",
       "    }\n",
       "\n",
       "    .dataframe thead th {\n",
       "        text-align: right;\n",
       "    }\n",
       "</style>\n",
       "<table border=\"1\" class=\"dataframe\">\n",
       "  <thead>\n",
       "    <tr style=\"text-align: right;\">\n",
       "      <th></th>\n",
       "      <th>Section</th>\n",
       "      <th>Teacher</th>\n",
       "    </tr>\n",
       "  </thead>\n",
       "  <tbody>\n",
       "    <tr>\n",
       "      <th>0</th>\n",
       "      <td>A</td>\n",
       "      <td>Kakeshi</td>\n",
       "    </tr>\n",
       "    <tr>\n",
       "      <th>1</th>\n",
       "      <td>A</td>\n",
       "      <td>Kakeshi</td>\n",
       "    </tr>\n",
       "    <tr>\n",
       "      <th>2</th>\n",
       "      <td>A</td>\n",
       "      <td>Iruka</td>\n",
       "    </tr>\n",
       "    <tr>\n",
       "      <th>3</th>\n",
       "      <td>B</td>\n",
       "      <td>Kakeshi</td>\n",
       "    </tr>\n",
       "    <tr>\n",
       "      <th>4</th>\n",
       "      <td>B</td>\n",
       "      <td>Kakeshi</td>\n",
       "    </tr>\n",
       "    <tr>\n",
       "      <th>5</th>\n",
       "      <td>B</td>\n",
       "      <td>Kakeshi</td>\n",
       "    </tr>\n",
       "    <tr>\n",
       "      <th>6</th>\n",
       "      <td>C</td>\n",
       "      <td>Iruka</td>\n",
       "    </tr>\n",
       "    <tr>\n",
       "      <th>7</th>\n",
       "      <td>C</td>\n",
       "      <td>Iruka</td>\n",
       "    </tr>\n",
       "    <tr>\n",
       "      <th>8</th>\n",
       "      <td>C</td>\n",
       "      <td>Guy</td>\n",
       "    </tr>\n",
       "  </tbody>\n",
       "</table>\n",
       "</div>"
      ],
      "text/plain": [
       "  Section  Teacher\n",
       "0       A  Kakeshi\n",
       "1       A  Kakeshi\n",
       "2       A    Iruka\n",
       "3       B  Kakeshi\n",
       "4       B  Kakeshi\n",
       "5       B  Kakeshi\n",
       "6       C    Iruka\n",
       "7       C    Iruka\n",
       "8       C      Guy"
      ]
     },
     "metadata": {},
     "output_type": "display_data"
    }
   ],
   "source": [
    "# display dataframe\n",
    "print('Data:')\n",
    "display(data)"
   ]
  },
  {
   "cell_type": "code",
   "execution_count": 292,
   "metadata": {},
   "outputs": [
    {
     "name": "stdout",
     "output_type": "stream",
     "text": [
      "Occurrence counts of particular columns:\n"
     ]
    },
    {
     "data": {
      "text/plain": [
       "Section\n",
       "A    3\n",
       "B    3\n",
       "C    3\n",
       "dtype: int64"
      ]
     },
     "metadata": {},
     "output_type": "display_data"
    }
   ],
   "source": [
    "print('Occurrence counts of particular columns:')\n",
    "\n",
    "# count occurrences a particular column\n",
    "occur = data.groupby(['Section']).size()\n",
    " \n",
    "# display occurrences of a particular column\n",
    "display(occur)\n"
   ]
  },
  {
   "cell_type": "code",
   "execution_count": 293,
   "metadata": {},
   "outputs": [
    {
     "data": {
      "text/plain": [
       "Section\n",
       "A    3\n",
       "B    3\n",
       "C    3\n",
       "dtype: int64"
      ]
     },
     "execution_count": 293,
     "metadata": {},
     "output_type": "execute_result"
    }
   ],
   "source": [
    "occur"
   ]
  },
  {
   "cell_type": "code",
   "execution_count": 291,
   "metadata": {},
   "outputs": [
    {
     "data": {
      "text/plain": [
       "Teacher\n",
       "Guy        1\n",
       "Iruka      3\n",
       "Kakeshi    5\n",
       "dtype: int64"
      ]
     },
     "metadata": {},
     "output_type": "display_data"
    }
   ],
   "source": [
    " \n",
    "# count occurrences a particular column\n",
    "occur = data.groupby(['Teacher']).size()\n",
    " \n",
    "# display occurrences of a particular column\n",
    "display(occur)"
   ]
  },
  {
   "cell_type": "code",
   "execution_count": 1,
   "metadata": {},
   "outputs": [],
   "source": [
    "pais = ['gercy', 'acilene']\n",
    "filhos = ['Leo', 'Nando', 'Vick']"
   ]
  },
  {
   "cell_type": "code",
   "execution_count": 2,
   "metadata": {},
   "outputs": [
    {
     "data": {
      "text/plain": [
       "['gercy', 'acilene', 'Leo', 'Nando', 'Vick']"
      ]
     },
     "execution_count": 2,
     "metadata": {},
     "output_type": "execute_result"
    }
   ],
   "source": [
    "familia = pais + filhos\n",
    "familia"
   ]
  },
  {
   "cell_type": "markdown",
   "metadata": {},
   "source": [
    "# Desempacotar lista"
   ]
  },
  {
   "cell_type": "code",
   "execution_count": 14,
   "metadata": {},
   "outputs": [
    {
     "name": "stdout",
     "output_type": "stream",
     "text": [
      "pai: gercy\n",
      "mae: acilene\n",
      "filhos: ['Leo', 'Nando', 'Vick']\n"
     ]
    }
   ],
   "source": [
    "familia = ['gercy', 'acilene', 'Leo', 'Nando', 'Vick']\n",
    "pai, mae, *filhos = familia\n",
    "print('pai:', pai)\n",
    "print('mae:',mae)\n",
    "print('filhos:', filhos)"
   ]
  },
  {
   "cell_type": "code",
   "execution_count": 3,
   "metadata": {},
   "outputs": [
    {
     "name": "stdout",
     "output_type": "stream",
     "text": [
      "gercy acilene\n"
     ]
    }
   ],
   "source": [
    "pai, mae, *_ = familia\n",
    "print(pai, mae)"
   ]
  },
  {
   "cell_type": "markdown",
   "metadata": {},
   "source": [
    "# Desempacotar Series"
   ]
  },
  {
   "cell_type": "code",
   "execution_count": 12,
   "metadata": {},
   "outputs": [],
   "source": [
    "import pandas as pd\n"
   ]
  },
  {
   "cell_type": "code",
   "execution_count": 18,
   "metadata": {},
   "outputs": [],
   "source": [
    "papeis = ['pai', 'mae', 'filhos1', 'filhos2', 'filhos3']\n",
    "pessoas = ['gercy', 'acilene', 'Leo', 'Nando', 'Vick']"
   ]
  },
  {
   "cell_type": "code",
   "execution_count": 19,
   "metadata": {},
   "outputs": [
    {
     "data": {
      "text/plain": [
       "[['pai', 'mae', 'filhos1', 'filhos2', 'filhos3'],\n",
       " ['gercy', 'acilene', 'Leo', 'Nando', 'Vick']]"
      ]
     },
     "execution_count": 19,
     "metadata": {},
     "output_type": "execute_result"
    }
   ],
   "source": [
    "familia = [papeis, pessoas]\n",
    "familia"
   ]
  },
  {
   "cell_type": "code",
   "execution_count": 26,
   "metadata": {},
   "outputs": [],
   "source": [
    "dfFamilia = pd.DataFrame(familia)"
   ]
  },
  {
   "cell_type": "code",
   "execution_count": 33,
   "metadata": {},
   "outputs": [],
   "source": [
    "dfFamilia=dfFamilia.transpose()"
   ]
  },
  {
   "cell_type": "code",
   "execution_count": 41,
   "metadata": {},
   "outputs": [],
   "source": [
    "dfFamilia.set_index=0"
   ]
  },
  {
   "cell_type": "code",
   "execution_count": 44,
   "metadata": {},
   "outputs": [],
   "source": [
    "spapeis = dfFamilia[0]"
   ]
  },
  {
   "cell_type": "code",
   "execution_count": 46,
   "metadata": {},
   "outputs": [
    {
     "name": "stdout",
     "output_type": "stream",
     "text": [
      "pai\n"
     ]
    }
   ],
   "source": [
    "pai, mae, *filhos = spapeis\n",
    "print(pai)"
   ]
  },
  {
   "cell_type": "markdown",
   "metadata": {},
   "source": [
    "# Variaveis de variaveis"
   ]
  },
  {
   "cell_type": "code",
   "execution_count": 20,
   "metadata": {},
   "outputs": [],
   "source": [
    "a = [1,5,8,44,78,3,6,58,65]\n",
    "a0 = []\n",
    "a1 = []\n",
    "a2 = []\n",
    "a3 = []\n",
    "a4 = []\n",
    "a5 = []\n",
    "a6 = []\n",
    "a7 = []\n",
    "a8 = []\n",
    "a9 = []"
   ]
  },
  {
   "cell_type": "code",
   "execution_count": 16,
   "metadata": {},
   "outputs": [
    {
     "name": "stdout",
     "output_type": "stream",
     "text": [
      "(0, 1)\n",
      "(1, 5)\n",
      "(2, 8)\n",
      "(3, 44)\n",
      "(4, 78)\n",
      "(5, 3)\n",
      "(6, 6)\n",
      "(7, 58)\n",
      "(8, 65)\n"
     ]
    }
   ],
   "source": [
    "for i in enumerate(a):\n",
    "    print(i)"
   ]
  },
  {
   "cell_type": "code",
   "execution_count": 17,
   "metadata": {},
   "outputs": [],
   "source": [
    "indice = 1\n",
    "for i,num in enumerate(a):\n",
    "    variavel = 'a' + str(indice)\n",
    "    vars()[variavel].append(num)\n",
    "    indice = indice + 1\n",
    "    if (indice>5):\n",
    "        indice = 1"
   ]
  },
  {
   "cell_type": "code",
   "execution_count": 18,
   "metadata": {},
   "outputs": [
    {
     "name": "stdout",
     "output_type": "stream",
     "text": [
      "[1, 3]\n",
      "[5, 6]\n",
      "[8, 58]\n",
      "[44, 65]\n",
      "[78]\n"
     ]
    }
   ],
   "source": [
    "print(a1)\n",
    "print(a2)\n",
    "print(a3)\n",
    "print(a4)\n",
    "print(a5)"
   ]
  },
  {
   "cell_type": "code",
   "execution_count": 21,
   "metadata": {},
   "outputs": [],
   "source": [
    "indice = 1\n",
    "for i,num in enumerate(a):\n",
    "    variavel = 'a' + str(i)\n",
    "    vars()[variavel].append(num)"
   ]
  },
  {
   "cell_type": "code",
   "execution_count": 22,
   "metadata": {},
   "outputs": [
    {
     "name": "stdout",
     "output_type": "stream",
     "text": [
      "[1]\n",
      "[5]\n",
      "[8]\n",
      "[44]\n",
      "[78]\n"
     ]
    }
   ],
   "source": [
    "print(a1)\n",
    "print(a2)\n",
    "print(a3)\n",
    "print(a4)\n",
    "print(a5)"
   ]
  },
  {
   "cell_type": "code",
   "execution_count": 24,
   "metadata": {},
   "outputs": [],
   "source": [
    "for x,num in enumerate(a):\n",
    "    variavel = 'b' + str(x)\n",
    "    vars()[variavel] = []\n",
    "    vars()[variavel].append(num)"
   ]
  },
  {
   "cell_type": "code",
   "execution_count": 26,
   "metadata": {},
   "outputs": [
    {
     "name": "stdout",
     "output_type": "stream",
     "text": [
      "[1]\n",
      "[5]\n",
      "[8]\n",
      "[44]\n",
      "[78]\n",
      "[3]\n"
     ]
    }
   ],
   "source": [
    "print(b0)\n",
    "print(b1)\n",
    "print(b2)\n",
    "print(b3)\n",
    "print(b4)\n",
    "print(b5)"
   ]
  },
  {
   "cell_type": "code",
   "execution_count": null,
   "metadata": {},
   "outputs": [],
   "source": []
  }
 ],
 "metadata": {
  "colab": {
   "authorship_tag": "ABX9TyM03bWRE49e/xGGO8AhElfP",
   "collapsed_sections": [],
   "name": "Treino para melhorar na linguagem Python.ipynb",
   "provenance": []
  },
  "kernelspec": {
   "display_name": "Python 3",
   "language": "python",
   "name": "python3"
  },
  "language_info": {
   "codemirror_mode": {
    "name": "ipython",
    "version": 3
   },
   "file_extension": ".py",
   "mimetype": "text/x-python",
   "name": "python",
   "nbconvert_exporter": "python",
   "pygments_lexer": "ipython3",
   "version": "3.8.8"
  }
 },
 "nbformat": 4,
 "nbformat_minor": 1
}
