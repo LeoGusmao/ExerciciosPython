{
 "cells": [
  {
   "cell_type": "code",
   "execution_count": 1,
   "id": "6f78c8b6",
   "metadata": {},
   "outputs": [],
   "source": [
    "import pandas as pd"
   ]
  },
  {
   "cell_type": "markdown",
   "id": "5f1fa2e6",
   "metadata": {},
   "source": [
    "# Saber versão do Pandas"
   ]
  },
  {
   "cell_type": "code",
   "execution_count": 37,
   "id": "5f4b835f",
   "metadata": {},
   "outputs": [
    {
     "data": {
      "text/plain": [
       "'2.0.3'"
      ]
     },
     "execution_count": 37,
     "metadata": {},
     "output_type": "execute_result"
    }
   ],
   "source": [
    "pd.__version__"
   ]
  },
  {
   "cell_type": "markdown",
   "id": "f06ac130",
   "metadata": {},
   "source": [
    "# Criar DataFrame a partir de dicionário"
   ]
  },
  {
   "cell_type": "code",
   "execution_count": 2,
   "id": "962f375c",
   "metadata": {},
   "outputs": [],
   "source": [
    "dados = [\n",
    "         {'Nome': 'Passat', 'Ano': 1990},\n",
    "         {'Nome': 'Fusca', 'Ano': 1985},\n",
    "         {'Nome': 'HB20', 'Marca': 'Hyunday'}\n",
    "]"
   ]
  },
  {
   "cell_type": "code",
   "execution_count": 3,
   "id": "4a42f808",
   "metadata": {},
   "outputs": [
    {
     "data": {
      "text/html": [
       "<div>\n",
       "<style scoped>\n",
       "    .dataframe tbody tr th:only-of-type {\n",
       "        vertical-align: middle;\n",
       "    }\n",
       "\n",
       "    .dataframe tbody tr th {\n",
       "        vertical-align: top;\n",
       "    }\n",
       "\n",
       "    .dataframe thead th {\n",
       "        text-align: right;\n",
       "    }\n",
       "</style>\n",
       "<table border=\"1\" class=\"dataframe\">\n",
       "  <thead>\n",
       "    <tr style=\"text-align: right;\">\n",
       "      <th></th>\n",
       "      <th>Nome</th>\n",
       "      <th>Ano</th>\n",
       "      <th>Marca</th>\n",
       "    </tr>\n",
       "  </thead>\n",
       "  <tbody>\n",
       "    <tr>\n",
       "      <th>0</th>\n",
       "      <td>Passat</td>\n",
       "      <td>1990.0</td>\n",
       "      <td>NaN</td>\n",
       "    </tr>\n",
       "    <tr>\n",
       "      <th>1</th>\n",
       "      <td>Fusca</td>\n",
       "      <td>1985.0</td>\n",
       "      <td>NaN</td>\n",
       "    </tr>\n",
       "    <tr>\n",
       "      <th>2</th>\n",
       "      <td>HB20</td>\n",
       "      <td>NaN</td>\n",
       "      <td>Hyunday</td>\n",
       "    </tr>\n",
       "  </tbody>\n",
       "</table>\n",
       "</div>"
      ],
      "text/plain": [
       "     Nome     Ano    Marca\n",
       "0  Passat  1990.0      NaN\n",
       "1   Fusca  1985.0      NaN\n",
       "2    HB20     NaN  Hyunday"
      ]
     },
     "execution_count": 3,
     "metadata": {},
     "output_type": "execute_result"
    }
   ],
   "source": [
    "df_dados = pd.DataFrame(dados)\n",
    "df_dados"
   ]
  },
  {
   "cell_type": "code",
   "execution_count": 4,
   "id": "b34ce939",
   "metadata": {},
   "outputs": [],
   "source": [
    "dados2 = {\n",
    "    'Nome': ['Fiat', 'Corsa', 'Mercedes'],\n",
    "    'Ano': [1990, 1985, 2013]\n",
    "}"
   ]
  },
  {
   "cell_type": "code",
   "execution_count": 5,
   "id": "64608b6e",
   "metadata": {},
   "outputs": [
    {
     "data": {
      "text/html": [
       "<div>\n",
       "<style scoped>\n",
       "    .dataframe tbody tr th:only-of-type {\n",
       "        vertical-align: middle;\n",
       "    }\n",
       "\n",
       "    .dataframe tbody tr th {\n",
       "        vertical-align: top;\n",
       "    }\n",
       "\n",
       "    .dataframe thead th {\n",
       "        text-align: right;\n",
       "    }\n",
       "</style>\n",
       "<table border=\"1\" class=\"dataframe\">\n",
       "  <thead>\n",
       "    <tr style=\"text-align: right;\">\n",
       "      <th></th>\n",
       "      <th>Nome</th>\n",
       "      <th>Ano</th>\n",
       "    </tr>\n",
       "  </thead>\n",
       "  <tbody>\n",
       "    <tr>\n",
       "      <th>0</th>\n",
       "      <td>Fiat</td>\n",
       "      <td>1990</td>\n",
       "    </tr>\n",
       "    <tr>\n",
       "      <th>1</th>\n",
       "      <td>Corsa</td>\n",
       "      <td>1985</td>\n",
       "    </tr>\n",
       "    <tr>\n",
       "      <th>2</th>\n",
       "      <td>Mercedes</td>\n",
       "      <td>2013</td>\n",
       "    </tr>\n",
       "  </tbody>\n",
       "</table>\n",
       "</div>"
      ],
      "text/plain": [
       "       Nome   Ano\n",
       "0      Fiat  1990\n",
       "1     Corsa  1985\n",
       "2  Mercedes  2013"
      ]
     },
     "execution_count": 5,
     "metadata": {},
     "output_type": "execute_result"
    }
   ],
   "source": [
    "df_dados2 = pd.DataFrame(dados2)\n",
    "df_dados2"
   ]
  },
  {
   "cell_type": "markdown",
   "id": "b78cf4c1",
   "metadata": {},
   "source": [
    "# Inserir linha no DataFrame"
   ]
  },
  {
   "cell_type": "markdown",
   "id": "060340c1",
   "metadata": {},
   "source": [
    "Quando insiro um dicionário é obrigatório ignorar o indice, com ignore_index = True"
   ]
  },
  {
   "cell_type": "code",
   "execution_count": 35,
   "id": "72c9a004",
   "metadata": {},
   "outputs": [
    {
     "data": {
      "text/plain": [
       "'2.0.3'"
      ]
     },
     "execution_count": 35,
     "metadata": {},
     "output_type": "execute_result"
    }
   ],
   "source": [
    "#df_dados.append({'Nome': 'Ford', 'Ano': 2020}, ignore_index = True) #Não precisa todos os campos para append funcionar. \n",
    "#append foi descontinuado na versão do pandas 2.0, com proposta de substituição pelo concat\n",
    "pd.__version__"
   ]
  },
  {
   "cell_type": "code",
   "execution_count": 7,
   "id": "7c9d62a1",
   "metadata": {
    "scrolled": true
   },
   "outputs": [
    {
     "data": {
      "text/html": [
       "<div>\n",
       "<style scoped>\n",
       "    .dataframe tbody tr th:only-of-type {\n",
       "        vertical-align: middle;\n",
       "    }\n",
       "\n",
       "    .dataframe tbody tr th {\n",
       "        vertical-align: top;\n",
       "    }\n",
       "\n",
       "    .dataframe thead th {\n",
       "        text-align: right;\n",
       "    }\n",
       "</style>\n",
       "<table border=\"1\" class=\"dataframe\">\n",
       "  <thead>\n",
       "    <tr style=\"text-align: right;\">\n",
       "      <th></th>\n",
       "      <th>Nome</th>\n",
       "      <th>Ano</th>\n",
       "      <th>Marca</th>\n",
       "    </tr>\n",
       "  </thead>\n",
       "  <tbody>\n",
       "    <tr>\n",
       "      <th>0</th>\n",
       "      <td>Passat</td>\n",
       "      <td>1990.0</td>\n",
       "      <td>NaN</td>\n",
       "    </tr>\n",
       "    <tr>\n",
       "      <th>1</th>\n",
       "      <td>Fusca</td>\n",
       "      <td>1985.0</td>\n",
       "      <td>NaN</td>\n",
       "    </tr>\n",
       "    <tr>\n",
       "      <th>2</th>\n",
       "      <td>HB20</td>\n",
       "      <td>NaN</td>\n",
       "      <td>Hyunday</td>\n",
       "    </tr>\n",
       "  </tbody>\n",
       "</table>\n",
       "</div>"
      ],
      "text/plain": [
       "     Nome     Ano    Marca\n",
       "0  Passat  1990.0      NaN\n",
       "1   Fusca  1985.0      NaN\n",
       "2    HB20     NaN  Hyunday"
      ]
     },
     "execution_count": 7,
     "metadata": {},
     "output_type": "execute_result"
    }
   ],
   "source": [
    "df_dados"
   ]
  },
  {
   "cell_type": "code",
   "execution_count": 11,
   "id": "1d003e93",
   "metadata": {},
   "outputs": [
    {
     "ename": "AttributeError",
     "evalue": "'DataFrame' object has no attribute 'append'",
     "output_type": "error",
     "traceback": [
      "\u001b[1;31m---------------------------------------------------------------------------\u001b[0m",
      "\u001b[1;31mAttributeError\u001b[0m                            Traceback (most recent call last)",
      "\u001b[1;32m<ipython-input-11-87a89a296bbc>\u001b[0m in \u001b[0;36m<module>\u001b[1;34m\u001b[0m\n\u001b[1;32m----> 1\u001b[1;33m \u001b[0mdf_dados\u001b[0m \u001b[1;33m=\u001b[0m \u001b[0mdf_dados\u001b[0m\u001b[1;33m.\u001b[0m\u001b[0mappend\u001b[0m\u001b[1;33m(\u001b[0m\u001b[1;33m{\u001b[0m\u001b[1;34m'Nome'\u001b[0m\u001b[1;33m:\u001b[0m \u001b[1;34m'Ford'\u001b[0m\u001b[1;33m,\u001b[0m \u001b[1;34m'Ano'\u001b[0m\u001b[1;33m:\u001b[0m \u001b[1;36m2020\u001b[0m\u001b[1;33m}\u001b[0m\u001b[1;33m,\u001b[0m \u001b[0mignore_index\u001b[0m \u001b[1;33m=\u001b[0m \u001b[1;32mTrue\u001b[0m\u001b[1;33m)\u001b[0m\u001b[1;33m\u001b[0m\u001b[1;33m\u001b[0m\u001b[0m\n\u001b[0m\u001b[0;32m      2\u001b[0m \u001b[0mdf_dados\u001b[0m\u001b[1;33m\u001b[0m\u001b[1;33m\u001b[0m\u001b[0m\n",
      "\u001b[1;32m~\\anaconda3\\lib\\site-packages\\pandas\\core\\generic.py\u001b[0m in \u001b[0;36m__getattr__\u001b[1;34m(self, name)\u001b[0m\n\u001b[0;32m   5987\u001b[0m         ):\n\u001b[0;32m   5988\u001b[0m             \u001b[1;32mreturn\u001b[0m \u001b[0mself\u001b[0m\u001b[1;33m[\u001b[0m\u001b[0mname\u001b[0m\u001b[1;33m]\u001b[0m\u001b[1;33m\u001b[0m\u001b[1;33m\u001b[0m\u001b[0m\n\u001b[1;32m-> 5989\u001b[1;33m         \u001b[1;32mreturn\u001b[0m \u001b[0mobject\u001b[0m\u001b[1;33m.\u001b[0m\u001b[0m__getattribute__\u001b[0m\u001b[1;33m(\u001b[0m\u001b[0mself\u001b[0m\u001b[1;33m,\u001b[0m \u001b[0mname\u001b[0m\u001b[1;33m)\u001b[0m\u001b[1;33m\u001b[0m\u001b[1;33m\u001b[0m\u001b[0m\n\u001b[0m\u001b[0;32m   5990\u001b[0m \u001b[1;33m\u001b[0m\u001b[0m\n\u001b[0;32m   5991\u001b[0m     \u001b[1;32mdef\u001b[0m \u001b[0m__setattr__\u001b[0m\u001b[1;33m(\u001b[0m\u001b[0mself\u001b[0m\u001b[1;33m,\u001b[0m \u001b[0mname\u001b[0m\u001b[1;33m:\u001b[0m \u001b[0mstr\u001b[0m\u001b[1;33m,\u001b[0m \u001b[0mvalue\u001b[0m\u001b[1;33m)\u001b[0m \u001b[1;33m->\u001b[0m \u001b[1;32mNone\u001b[0m\u001b[1;33m:\u001b[0m\u001b[1;33m\u001b[0m\u001b[1;33m\u001b[0m\u001b[0m\n",
      "\u001b[1;31mAttributeError\u001b[0m: 'DataFrame' object has no attribute 'append'"
     ]
    }
   ],
   "source": [
    "df_dados = df_dados.append({'Nome': 'Ford', 'Ano': 2020}, ignore_index = True)\n",
    "df_dados"
   ]
  },
  {
   "cell_type": "code",
   "execution_count": 12,
   "id": "0f8273d2",
   "metadata": {},
   "outputs": [
    {
     "data": {
      "text/html": [
       "<div>\n",
       "<style scoped>\n",
       "    .dataframe tbody tr th:only-of-type {\n",
       "        vertical-align: middle;\n",
       "    }\n",
       "\n",
       "    .dataframe tbody tr th {\n",
       "        vertical-align: top;\n",
       "    }\n",
       "\n",
       "    .dataframe thead th {\n",
       "        text-align: right;\n",
       "    }\n",
       "</style>\n",
       "<table border=\"1\" class=\"dataframe\">\n",
       "  <thead>\n",
       "    <tr style=\"text-align: right;\">\n",
       "      <th></th>\n",
       "      <th>Ativo</th>\n",
       "      <th>Data</th>\n",
       "      <th>Preço</th>\n",
       "    </tr>\n",
       "  </thead>\n",
       "  <tbody>\n",
       "  </tbody>\n",
       "</table>\n",
       "</div>"
      ],
      "text/plain": [
       "Empty DataFrame\n",
       "Columns: [Ativo, Data, Preço]\n",
       "Index: []"
      ]
     },
     "execution_count": 12,
     "metadata": {},
     "output_type": "execute_result"
    }
   ],
   "source": [
    "dfCotacoes=pd.DataFrame(columns=['Ativo', 'Data', 'Preço'])\n",
    "dfCotacoes"
   ]
  },
  {
   "cell_type": "code",
   "execution_count": 13,
   "id": "d9bbd062",
   "metadata": {},
   "outputs": [
    {
     "ename": "AttributeError",
     "evalue": "'DataFrame' object has no attribute 'append'",
     "output_type": "error",
     "traceback": [
      "\u001b[1;31m---------------------------------------------------------------------------\u001b[0m",
      "\u001b[1;31mAttributeError\u001b[0m                            Traceback (most recent call last)",
      "\u001b[1;32m<ipython-input-13-92be55644bd8>\u001b[0m in \u001b[0;36m<module>\u001b[1;34m\u001b[0m\n\u001b[1;32m----> 1\u001b[1;33m \u001b[0mdfCotacoes\u001b[0m\u001b[1;33m.\u001b[0m\u001b[0mappend\u001b[0m\u001b[1;33m(\u001b[0m\u001b[1;33m{\u001b[0m\u001b[1;34m'Ativo'\u001b[0m\u001b[1;33m:\u001b[0m \u001b[1;34m'ITUB4'\u001b[0m\u001b[1;33m,\u001b[0m  \u001b[1;34m'Preço'\u001b[0m\u001b[1;33m:\u001b[0m \u001b[1;36m29\u001b[0m\u001b[1;33m}\u001b[0m\u001b[1;33m,\u001b[0m \u001b[0mignore_index\u001b[0m \u001b[1;33m=\u001b[0m \u001b[1;32mTrue\u001b[0m\u001b[1;33m)\u001b[0m\u001b[1;33m\u001b[0m\u001b[1;33m\u001b[0m\u001b[0m\n\u001b[0m",
      "\u001b[1;32m~\\anaconda3\\lib\\site-packages\\pandas\\core\\generic.py\u001b[0m in \u001b[0;36m__getattr__\u001b[1;34m(self, name)\u001b[0m\n\u001b[0;32m   5987\u001b[0m         ):\n\u001b[0;32m   5988\u001b[0m             \u001b[1;32mreturn\u001b[0m \u001b[0mself\u001b[0m\u001b[1;33m[\u001b[0m\u001b[0mname\u001b[0m\u001b[1;33m]\u001b[0m\u001b[1;33m\u001b[0m\u001b[1;33m\u001b[0m\u001b[0m\n\u001b[1;32m-> 5989\u001b[1;33m         \u001b[1;32mreturn\u001b[0m \u001b[0mobject\u001b[0m\u001b[1;33m.\u001b[0m\u001b[0m__getattribute__\u001b[0m\u001b[1;33m(\u001b[0m\u001b[0mself\u001b[0m\u001b[1;33m,\u001b[0m \u001b[0mname\u001b[0m\u001b[1;33m)\u001b[0m\u001b[1;33m\u001b[0m\u001b[1;33m\u001b[0m\u001b[0m\n\u001b[0m\u001b[0;32m   5990\u001b[0m \u001b[1;33m\u001b[0m\u001b[0m\n\u001b[0;32m   5991\u001b[0m     \u001b[1;32mdef\u001b[0m \u001b[0m__setattr__\u001b[0m\u001b[1;33m(\u001b[0m\u001b[0mself\u001b[0m\u001b[1;33m,\u001b[0m \u001b[0mname\u001b[0m\u001b[1;33m:\u001b[0m \u001b[0mstr\u001b[0m\u001b[1;33m,\u001b[0m \u001b[0mvalue\u001b[0m\u001b[1;33m)\u001b[0m \u001b[1;33m->\u001b[0m \u001b[1;32mNone\u001b[0m\u001b[1;33m:\u001b[0m\u001b[1;33m\u001b[0m\u001b[1;33m\u001b[0m\u001b[0m\n",
      "\u001b[1;31mAttributeError\u001b[0m: 'DataFrame' object has no attribute 'append'"
     ]
    }
   ],
   "source": [
    "dfCotacoes.append({'Ativo': 'ITUB4',  'Preço': 29}, ignore_index = True)"
   ]
  },
  {
   "cell_type": "markdown",
   "id": "a6c9b12a",
   "metadata": {},
   "source": [
    "# Incluir coluna"
   ]
  },
  {
   "cell_type": "code",
   "execution_count": 14,
   "id": "825d2e44",
   "metadata": {},
   "outputs": [
    {
     "ename": "ValueError",
     "evalue": "Length of values (4) does not match length of index (3)",
     "output_type": "error",
     "traceback": [
      "\u001b[1;31m---------------------------------------------------------------------------\u001b[0m",
      "\u001b[1;31mValueError\u001b[0m                                Traceback (most recent call last)",
      "\u001b[1;32m<ipython-input-14-b698db8a59ae>\u001b[0m in \u001b[0;36m<module>\u001b[1;34m\u001b[0m\n\u001b[1;32m----> 1\u001b[1;33m \u001b[0mdf_dados\u001b[0m\u001b[1;33m[\u001b[0m\u001b[1;34m'Km rodados'\u001b[0m\u001b[1;33m]\u001b[0m \u001b[1;33m=\u001b[0m \u001b[1;33m[\u001b[0m\u001b[1;36m100000\u001b[0m\u001b[1;33m,\u001b[0m \u001b[1;36m130000\u001b[0m\u001b[1;33m,\u001b[0m\u001b[1;36m10000\u001b[0m\u001b[1;33m,\u001b[0m \u001b[1;36m10000\u001b[0m\u001b[1;33m]\u001b[0m\u001b[1;33m\u001b[0m\u001b[1;33m\u001b[0m\u001b[0m\n\u001b[0m\u001b[0;32m      2\u001b[0m \u001b[0mdf_dados\u001b[0m\u001b[1;33m\u001b[0m\u001b[1;33m\u001b[0m\u001b[0m\n",
      "\u001b[1;32m~\\anaconda3\\lib\\site-packages\\pandas\\core\\frame.py\u001b[0m in \u001b[0;36m__setitem__\u001b[1;34m(self, key, value)\u001b[0m\n\u001b[0;32m   3948\u001b[0m         \u001b[1;32melse\u001b[0m\u001b[1;33m:\u001b[0m\u001b[1;33m\u001b[0m\u001b[1;33m\u001b[0m\u001b[0m\n\u001b[0;32m   3949\u001b[0m             \u001b[1;31m# set column\u001b[0m\u001b[1;33m\u001b[0m\u001b[1;33m\u001b[0m\u001b[1;33m\u001b[0m\u001b[0m\n\u001b[1;32m-> 3950\u001b[1;33m             \u001b[0mself\u001b[0m\u001b[1;33m.\u001b[0m\u001b[0m_set_item\u001b[0m\u001b[1;33m(\u001b[0m\u001b[0mkey\u001b[0m\u001b[1;33m,\u001b[0m \u001b[0mvalue\u001b[0m\u001b[1;33m)\u001b[0m\u001b[1;33m\u001b[0m\u001b[1;33m\u001b[0m\u001b[0m\n\u001b[0m\u001b[0;32m   3951\u001b[0m \u001b[1;33m\u001b[0m\u001b[0m\n\u001b[0;32m   3952\u001b[0m     \u001b[1;32mdef\u001b[0m \u001b[0m_setitem_slice\u001b[0m\u001b[1;33m(\u001b[0m\u001b[0mself\u001b[0m\u001b[1;33m,\u001b[0m \u001b[0mkey\u001b[0m\u001b[1;33m:\u001b[0m \u001b[0mslice\u001b[0m\u001b[1;33m,\u001b[0m \u001b[0mvalue\u001b[0m\u001b[1;33m)\u001b[0m \u001b[1;33m->\u001b[0m \u001b[1;32mNone\u001b[0m\u001b[1;33m:\u001b[0m\u001b[1;33m\u001b[0m\u001b[1;33m\u001b[0m\u001b[0m\n",
      "\u001b[1;32m~\\anaconda3\\lib\\site-packages\\pandas\\core\\frame.py\u001b[0m in \u001b[0;36m_set_item\u001b[1;34m(self, key, value)\u001b[0m\n\u001b[0;32m   4141\u001b[0m         \u001b[0mensure\u001b[0m \u001b[0mhomogeneity\u001b[0m\u001b[1;33m.\u001b[0m\u001b[1;33m\u001b[0m\u001b[1;33m\u001b[0m\u001b[0m\n\u001b[0;32m   4142\u001b[0m         \"\"\"\n\u001b[1;32m-> 4143\u001b[1;33m         \u001b[0mvalue\u001b[0m \u001b[1;33m=\u001b[0m \u001b[0mself\u001b[0m\u001b[1;33m.\u001b[0m\u001b[0m_sanitize_column\u001b[0m\u001b[1;33m(\u001b[0m\u001b[0mvalue\u001b[0m\u001b[1;33m)\u001b[0m\u001b[1;33m\u001b[0m\u001b[1;33m\u001b[0m\u001b[0m\n\u001b[0m\u001b[0;32m   4144\u001b[0m \u001b[1;33m\u001b[0m\u001b[0m\n\u001b[0;32m   4145\u001b[0m         if (\n",
      "\u001b[1;32m~\\anaconda3\\lib\\site-packages\\pandas\\core\\frame.py\u001b[0m in \u001b[0;36m_sanitize_column\u001b[1;34m(self, value)\u001b[0m\n\u001b[0;32m   4868\u001b[0m \u001b[1;33m\u001b[0m\u001b[0m\n\u001b[0;32m   4869\u001b[0m         \u001b[1;32mif\u001b[0m \u001b[0mis_list_like\u001b[0m\u001b[1;33m(\u001b[0m\u001b[0mvalue\u001b[0m\u001b[1;33m)\u001b[0m\u001b[1;33m:\u001b[0m\u001b[1;33m\u001b[0m\u001b[1;33m\u001b[0m\u001b[0m\n\u001b[1;32m-> 4870\u001b[1;33m             \u001b[0mcom\u001b[0m\u001b[1;33m.\u001b[0m\u001b[0mrequire_length_match\u001b[0m\u001b[1;33m(\u001b[0m\u001b[0mvalue\u001b[0m\u001b[1;33m,\u001b[0m \u001b[0mself\u001b[0m\u001b[1;33m.\u001b[0m\u001b[0mindex\u001b[0m\u001b[1;33m)\u001b[0m\u001b[1;33m\u001b[0m\u001b[1;33m\u001b[0m\u001b[0m\n\u001b[0m\u001b[0;32m   4871\u001b[0m         \u001b[1;32mreturn\u001b[0m \u001b[0msanitize_array\u001b[0m\u001b[1;33m(\u001b[0m\u001b[0mvalue\u001b[0m\u001b[1;33m,\u001b[0m \u001b[0mself\u001b[0m\u001b[1;33m.\u001b[0m\u001b[0mindex\u001b[0m\u001b[1;33m,\u001b[0m \u001b[0mcopy\u001b[0m\u001b[1;33m=\u001b[0m\u001b[1;32mTrue\u001b[0m\u001b[1;33m,\u001b[0m \u001b[0mallow_2d\u001b[0m\u001b[1;33m=\u001b[0m\u001b[1;32mTrue\u001b[0m\u001b[1;33m)\u001b[0m\u001b[1;33m\u001b[0m\u001b[1;33m\u001b[0m\u001b[0m\n\u001b[0;32m   4872\u001b[0m \u001b[1;33m\u001b[0m\u001b[0m\n",
      "\u001b[1;32m~\\anaconda3\\lib\\site-packages\\pandas\\core\\common.py\u001b[0m in \u001b[0;36mrequire_length_match\u001b[1;34m(data, index)\u001b[0m\n\u001b[0;32m    574\u001b[0m     \"\"\"\n\u001b[0;32m    575\u001b[0m     \u001b[1;32mif\u001b[0m \u001b[0mlen\u001b[0m\u001b[1;33m(\u001b[0m\u001b[0mdata\u001b[0m\u001b[1;33m)\u001b[0m \u001b[1;33m!=\u001b[0m \u001b[0mlen\u001b[0m\u001b[1;33m(\u001b[0m\u001b[0mindex\u001b[0m\u001b[1;33m)\u001b[0m\u001b[1;33m:\u001b[0m\u001b[1;33m\u001b[0m\u001b[1;33m\u001b[0m\u001b[0m\n\u001b[1;32m--> 576\u001b[1;33m         raise ValueError(\n\u001b[0m\u001b[0;32m    577\u001b[0m             \u001b[1;34m\"Length of values \"\u001b[0m\u001b[1;33m\u001b[0m\u001b[1;33m\u001b[0m\u001b[0m\n\u001b[0;32m    578\u001b[0m             \u001b[1;34mf\"({len(data)}) \"\u001b[0m\u001b[1;33m\u001b[0m\u001b[1;33m\u001b[0m\u001b[0m\n",
      "\u001b[1;31mValueError\u001b[0m: Length of values (4) does not match length of index (3)"
     ]
    }
   ],
   "source": [
    "df_dados['Km rodados'] = [100000, 130000,10000, 10000]\n",
    "df_dados"
   ]
  },
  {
   "cell_type": "markdown",
   "id": "0cdc6f2f",
   "metadata": {},
   "source": [
    "# Alterar um registro"
   ]
  },
  {
   "cell_type": "code",
   "execution_count": 15,
   "id": "0334edb0",
   "metadata": {},
   "outputs": [
    {
     "data": {
      "text/html": [
       "<div>\n",
       "<style scoped>\n",
       "    .dataframe tbody tr th:only-of-type {\n",
       "        vertical-align: middle;\n",
       "    }\n",
       "\n",
       "    .dataframe tbody tr th {\n",
       "        vertical-align: top;\n",
       "    }\n",
       "\n",
       "    .dataframe thead th {\n",
       "        text-align: right;\n",
       "    }\n",
       "</style>\n",
       "<table border=\"1\" class=\"dataframe\">\n",
       "  <thead>\n",
       "    <tr style=\"text-align: right;\">\n",
       "      <th></th>\n",
       "      <th>Nome</th>\n",
       "      <th>Ano</th>\n",
       "      <th>Marca</th>\n",
       "    </tr>\n",
       "  </thead>\n",
       "  <tbody>\n",
       "    <tr>\n",
       "      <th>0</th>\n",
       "      <td>Passat</td>\n",
       "      <td>1990.0</td>\n",
       "      <td>NaN</td>\n",
       "    </tr>\n",
       "    <tr>\n",
       "      <th>1</th>\n",
       "      <td>Fusca</td>\n",
       "      <td>1985.0</td>\n",
       "      <td>NaN</td>\n",
       "    </tr>\n",
       "    <tr>\n",
       "      <th>2</th>\n",
       "      <td>HB20</td>\n",
       "      <td>2018.0</td>\n",
       "      <td>Hyunday</td>\n",
       "    </tr>\n",
       "  </tbody>\n",
       "</table>\n",
       "</div>"
      ],
      "text/plain": [
       "     Nome     Ano    Marca\n",
       "0  Passat  1990.0      NaN\n",
       "1   Fusca  1985.0      NaN\n",
       "2    HB20  2018.0  Hyunday"
      ]
     },
     "execution_count": 15,
     "metadata": {},
     "output_type": "execute_result"
    }
   ],
   "source": [
    "df_dados.loc[df_dados.Nome == 'HB20', 'Ano'] = 2018\n",
    "df_dados"
   ]
  },
  {
   "cell_type": "markdown",
   "id": "5d8a45a6",
   "metadata": {},
   "source": [
    "Alterar um registro iterando sobre o df"
   ]
  },
  {
   "cell_type": "markdown",
   "id": "33f9c847",
   "metadata": {},
   "source": [
    "# Exportar para Excel"
   ]
  },
  {
   "cell_type": "code",
   "execution_count": 16,
   "id": "5fce1bcc",
   "metadata": {},
   "outputs": [
    {
     "name": "stderr",
     "output_type": "stream",
     "text": [
      "<ipython-input-16-443699dd266b>:1: UserWarning: Pandas requires version '1.4.3' or newer of 'xlsxwriter' (version '1.3.8' currently installed).\n",
      "  df_dados.to_excel('df_dados.xlsx')\n"
     ]
    }
   ],
   "source": [
    "df_dados.to_excel('df_dados.xlsx')"
   ]
  },
  {
   "cell_type": "code",
   "execution_count": 17,
   "id": "da0cc116",
   "metadata": {},
   "outputs": [],
   "source": [
    "df_dados2.to_csv('df_dados2')"
   ]
  },
  {
   "cell_type": "markdown",
   "id": "a4e3780b",
   "metadata": {},
   "source": [
    "# Replicar função procv"
   ]
  },
  {
   "cell_type": "code",
   "execution_count": 18,
   "id": "25ff9219",
   "metadata": {},
   "outputs": [
    {
     "data": {
      "text/html": [
       "<div>\n",
       "<style scoped>\n",
       "    .dataframe tbody tr th:only-of-type {\n",
       "        vertical-align: middle;\n",
       "    }\n",
       "\n",
       "    .dataframe tbody tr th {\n",
       "        vertical-align: top;\n",
       "    }\n",
       "\n",
       "    .dataframe thead th {\n",
       "        text-align: right;\n",
       "    }\n",
       "</style>\n",
       "<table border=\"1\" class=\"dataframe\">\n",
       "  <thead>\n",
       "    <tr style=\"text-align: right;\">\n",
       "      <th></th>\n",
       "      <th>Nome</th>\n",
       "      <th>Preco</th>\n",
       "      <th>Ano</th>\n",
       "    </tr>\n",
       "  </thead>\n",
       "  <tbody>\n",
       "    <tr>\n",
       "      <th>0</th>\n",
       "      <td>Fusca</td>\n",
       "      <td>4000</td>\n",
       "      <td>1990</td>\n",
       "    </tr>\n",
       "    <tr>\n",
       "      <th>1</th>\n",
       "      <td>Ford</td>\n",
       "      <td>10000</td>\n",
       "      <td>1990</td>\n",
       "    </tr>\n",
       "    <tr>\n",
       "      <th>2</th>\n",
       "      <td>Passat</td>\n",
       "      <td>5000</td>\n",
       "      <td>1990</td>\n",
       "    </tr>\n",
       "    <tr>\n",
       "      <th>3</th>\n",
       "      <td>Fiat</td>\n",
       "      <td>8000</td>\n",
       "      <td>1990</td>\n",
       "    </tr>\n",
       "  </tbody>\n",
       "</table>\n",
       "</div>"
      ],
      "text/plain": [
       "     Nome  Preco   Ano\n",
       "0   Fusca   4000  1990\n",
       "1    Ford  10000  1990\n",
       "2  Passat   5000  1990\n",
       "3    Fiat   8000  1990"
      ]
     },
     "execution_count": 18,
     "metadata": {},
     "output_type": "execute_result"
    }
   ],
   "source": [
    "df_precos = pd.DataFrame({\n",
    "    'Nome':['Fusca', 'Ford', 'Passat', 'Fiat'],\n",
    "    'Preco':[4000, 10000, 5000, 8000],\n",
    "    'Ano':[1990,1990,1990,1990]\n",
    "})\n",
    "df_precos"
   ]
  },
  {
   "cell_type": "code",
   "execution_count": 19,
   "id": "a64e35ce",
   "metadata": {},
   "outputs": [
    {
     "data": {
      "text/html": [
       "<div>\n",
       "<style scoped>\n",
       "    .dataframe tbody tr th:only-of-type {\n",
       "        vertical-align: middle;\n",
       "    }\n",
       "\n",
       "    .dataframe tbody tr th {\n",
       "        vertical-align: top;\n",
       "    }\n",
       "\n",
       "    .dataframe thead th {\n",
       "        text-align: right;\n",
       "    }\n",
       "</style>\n",
       "<table border=\"1\" class=\"dataframe\">\n",
       "  <thead>\n",
       "    <tr style=\"text-align: right;\">\n",
       "      <th></th>\n",
       "      <th>Nome</th>\n",
       "      <th>Ano</th>\n",
       "      <th>Marca</th>\n",
       "    </tr>\n",
       "  </thead>\n",
       "  <tbody>\n",
       "    <tr>\n",
       "      <th>0</th>\n",
       "      <td>Passat</td>\n",
       "      <td>1990.0</td>\n",
       "      <td>NaN</td>\n",
       "    </tr>\n",
       "    <tr>\n",
       "      <th>1</th>\n",
       "      <td>Fusca</td>\n",
       "      <td>1985.0</td>\n",
       "      <td>NaN</td>\n",
       "    </tr>\n",
       "    <tr>\n",
       "      <th>2</th>\n",
       "      <td>HB20</td>\n",
       "      <td>2018.0</td>\n",
       "      <td>Hyunday</td>\n",
       "    </tr>\n",
       "  </tbody>\n",
       "</table>\n",
       "</div>"
      ],
      "text/plain": [
       "     Nome     Ano    Marca\n",
       "0  Passat  1990.0      NaN\n",
       "1   Fusca  1985.0      NaN\n",
       "2    HB20  2018.0  Hyunday"
      ]
     },
     "execution_count": 19,
     "metadata": {},
     "output_type": "execute_result"
    }
   ],
   "source": [
    "df_dados"
   ]
  },
  {
   "cell_type": "markdown",
   "id": "407517c0",
   "metadata": {},
   "source": [
    "# Merge"
   ]
  },
  {
   "cell_type": "code",
   "execution_count": 20,
   "id": "599f7aae",
   "metadata": {},
   "outputs": [
    {
     "data": {
      "text/html": [
       "<div>\n",
       "<style scoped>\n",
       "    .dataframe tbody tr th:only-of-type {\n",
       "        vertical-align: middle;\n",
       "    }\n",
       "\n",
       "    .dataframe tbody tr th {\n",
       "        vertical-align: top;\n",
       "    }\n",
       "\n",
       "    .dataframe thead th {\n",
       "        text-align: right;\n",
       "    }\n",
       "</style>\n",
       "<table border=\"1\" class=\"dataframe\">\n",
       "  <thead>\n",
       "    <tr style=\"text-align: right;\">\n",
       "      <th></th>\n",
       "      <th>Nome</th>\n",
       "      <th>Ano_x</th>\n",
       "      <th>Marca</th>\n",
       "      <th>Preco</th>\n",
       "      <th>Ano_y</th>\n",
       "    </tr>\n",
       "  </thead>\n",
       "  <tbody>\n",
       "    <tr>\n",
       "      <th>0</th>\n",
       "      <td>Passat</td>\n",
       "      <td>1990.0</td>\n",
       "      <td>NaN</td>\n",
       "      <td>5000.0</td>\n",
       "      <td>1990.0</td>\n",
       "    </tr>\n",
       "    <tr>\n",
       "      <th>1</th>\n",
       "      <td>Fusca</td>\n",
       "      <td>1985.0</td>\n",
       "      <td>NaN</td>\n",
       "      <td>4000.0</td>\n",
       "      <td>1990.0</td>\n",
       "    </tr>\n",
       "    <tr>\n",
       "      <th>2</th>\n",
       "      <td>HB20</td>\n",
       "      <td>2018.0</td>\n",
       "      <td>Hyunday</td>\n",
       "      <td>NaN</td>\n",
       "      <td>NaN</td>\n",
       "    </tr>\n",
       "  </tbody>\n",
       "</table>\n",
       "</div>"
      ],
      "text/plain": [
       "     Nome   Ano_x    Marca   Preco   Ano_y\n",
       "0  Passat  1990.0      NaN  5000.0  1990.0\n",
       "1   Fusca  1985.0      NaN  4000.0  1990.0\n",
       "2    HB20  2018.0  Hyunday     NaN     NaN"
      ]
     },
     "execution_count": 20,
     "metadata": {},
     "output_type": "execute_result"
    }
   ],
   "source": [
    "#A coluna 'Ano' existe nas duas df, mas não é critério de filtro. Portanto, o nome fica sucedido de '_x' e _y para diferenciar\n",
    "df_dados_left = pd.merge(df_dados, df_precos, on='Nome', how='left')\n",
    "df_dados_left"
   ]
  },
  {
   "cell_type": "code",
   "execution_count": 21,
   "id": "caad4849",
   "metadata": {},
   "outputs": [
    {
     "data": {
      "text/html": [
       "<div>\n",
       "<style scoped>\n",
       "    .dataframe tbody tr th:only-of-type {\n",
       "        vertical-align: middle;\n",
       "    }\n",
       "\n",
       "    .dataframe tbody tr th {\n",
       "        vertical-align: top;\n",
       "    }\n",
       "\n",
       "    .dataframe thead th {\n",
       "        text-align: right;\n",
       "    }\n",
       "</style>\n",
       "<table border=\"1\" class=\"dataframe\">\n",
       "  <thead>\n",
       "    <tr style=\"text-align: right;\">\n",
       "      <th></th>\n",
       "      <th>Nome</th>\n",
       "      <th>Ano</th>\n",
       "      <th>Marca</th>\n",
       "      <th>Preco</th>\n",
       "    </tr>\n",
       "  </thead>\n",
       "  <tbody>\n",
       "    <tr>\n",
       "      <th>0</th>\n",
       "      <td>Fusca</td>\n",
       "      <td>1985.0</td>\n",
       "      <td>NaN</td>\n",
       "      <td>4000</td>\n",
       "    </tr>\n",
       "    <tr>\n",
       "      <th>1</th>\n",
       "      <td>Ford</td>\n",
       "      <td>NaN</td>\n",
       "      <td>NaN</td>\n",
       "      <td>10000</td>\n",
       "    </tr>\n",
       "    <tr>\n",
       "      <th>2</th>\n",
       "      <td>Passat</td>\n",
       "      <td>1990.0</td>\n",
       "      <td>NaN</td>\n",
       "      <td>5000</td>\n",
       "    </tr>\n",
       "    <tr>\n",
       "      <th>3</th>\n",
       "      <td>Fiat</td>\n",
       "      <td>NaN</td>\n",
       "      <td>NaN</td>\n",
       "      <td>8000</td>\n",
       "    </tr>\n",
       "  </tbody>\n",
       "</table>\n",
       "</div>"
      ],
      "text/plain": [
       "     Nome     Ano Marca  Preco\n",
       "0   Fusca  1985.0   NaN   4000\n",
       "1    Ford     NaN   NaN  10000\n",
       "2  Passat  1990.0   NaN   5000\n",
       "3    Fiat     NaN   NaN   8000"
      ]
     },
     "execution_count": 21,
     "metadata": {},
     "output_type": "execute_result"
    }
   ],
   "source": [
    "# Neste caso eu não trouxe a coluna repetida para manter somente do primeiro df e manter o nome\n",
    "df_dados_right = pd.merge(df_dados, df_precos[['Nome','Preco']], on='Nome', how='right')\n",
    "df_dados_right"
   ]
  },
  {
   "cell_type": "code",
   "execution_count": 22,
   "id": "fc4d8789",
   "metadata": {},
   "outputs": [
    {
     "data": {
      "text/html": [
       "<div>\n",
       "<style scoped>\n",
       "    .dataframe tbody tr th:only-of-type {\n",
       "        vertical-align: middle;\n",
       "    }\n",
       "\n",
       "    .dataframe tbody tr th {\n",
       "        vertical-align: top;\n",
       "    }\n",
       "\n",
       "    .dataframe thead th {\n",
       "        text-align: right;\n",
       "    }\n",
       "</style>\n",
       "<table border=\"1\" class=\"dataframe\">\n",
       "  <thead>\n",
       "    <tr style=\"text-align: right;\">\n",
       "      <th></th>\n",
       "      <th>Nome</th>\n",
       "      <th>Ano_x</th>\n",
       "      <th>Marca</th>\n",
       "      <th>Preco</th>\n",
       "      <th>Ano_y</th>\n",
       "    </tr>\n",
       "  </thead>\n",
       "  <tbody>\n",
       "    <tr>\n",
       "      <th>0</th>\n",
       "      <td>Passat</td>\n",
       "      <td>1990.0</td>\n",
       "      <td>NaN</td>\n",
       "      <td>5000</td>\n",
       "      <td>1990</td>\n",
       "    </tr>\n",
       "    <tr>\n",
       "      <th>1</th>\n",
       "      <td>Fusca</td>\n",
       "      <td>1985.0</td>\n",
       "      <td>NaN</td>\n",
       "      <td>4000</td>\n",
       "      <td>1990</td>\n",
       "    </tr>\n",
       "  </tbody>\n",
       "</table>\n",
       "</div>"
      ],
      "text/plain": [
       "     Nome   Ano_x Marca  Preco  Ano_y\n",
       "0  Passat  1990.0   NaN   5000   1990\n",
       "1   Fusca  1985.0   NaN   4000   1990"
      ]
     },
     "execution_count": 22,
     "metadata": {},
     "output_type": "execute_result"
    }
   ],
   "source": [
    "df_dados_inner = pd.merge(df_dados, df_precos, on='Nome', how='inner')\n",
    "df_dados_inner"
   ]
  },
  {
   "cell_type": "code",
   "execution_count": 23,
   "id": "10c0976f",
   "metadata": {},
   "outputs": [
    {
     "data": {
      "text/html": [
       "<div>\n",
       "<style scoped>\n",
       "    .dataframe tbody tr th:only-of-type {\n",
       "        vertical-align: middle;\n",
       "    }\n",
       "\n",
       "    .dataframe tbody tr th {\n",
       "        vertical-align: top;\n",
       "    }\n",
       "\n",
       "    .dataframe thead th {\n",
       "        text-align: right;\n",
       "    }\n",
       "</style>\n",
       "<table border=\"1\" class=\"dataframe\">\n",
       "  <thead>\n",
       "    <tr style=\"text-align: right;\">\n",
       "      <th></th>\n",
       "      <th>Nome</th>\n",
       "      <th>Ano</th>\n",
       "      <th>Marca</th>\n",
       "      <th>Preco</th>\n",
       "    </tr>\n",
       "  </thead>\n",
       "  <tbody>\n",
       "    <tr>\n",
       "      <th>0</th>\n",
       "      <td>Passat</td>\n",
       "      <td>1990.0</td>\n",
       "      <td>NaN</td>\n",
       "      <td>5000</td>\n",
       "    </tr>\n",
       "  </tbody>\n",
       "</table>\n",
       "</div>"
      ],
      "text/plain": [
       "     Nome     Ano Marca  Preco\n",
       "0  Passat  1990.0   NaN   5000"
      ]
     },
     "execution_count": 23,
     "metadata": {},
     "output_type": "execute_result"
    }
   ],
   "source": [
    "# Colocando duas colunas como lista no campo 'on' as duas serão usadas como critério.\n",
    "pd.merge(df_dados, df_precos,on=['Nome','Ano'],how='inner')"
   ]
  },
  {
   "cell_type": "markdown",
   "id": "38b9d76a",
   "metadata": {},
   "source": [
    "É possível não trazer todas as colunas (...pd.merge(df_dados[['Nome']],..).\n",
    "\n",
    "Deve-se usar left_on e right_on quando os nomes das colunas não coincidem"
   ]
  },
  {
   "cell_type": "code",
   "execution_count": 24,
   "id": "32481ce5",
   "metadata": {},
   "outputs": [
    {
     "data": {
      "text/html": [
       "<div>\n",
       "<style scoped>\n",
       "    .dataframe tbody tr th:only-of-type {\n",
       "        vertical-align: middle;\n",
       "    }\n",
       "\n",
       "    .dataframe tbody tr th {\n",
       "        vertical-align: top;\n",
       "    }\n",
       "\n",
       "    .dataframe thead th {\n",
       "        text-align: right;\n",
       "    }\n",
       "</style>\n",
       "<table border=\"1\" class=\"dataframe\">\n",
       "  <thead>\n",
       "    <tr style=\"text-align: right;\">\n",
       "      <th></th>\n",
       "      <th>Nome</th>\n",
       "      <th>Preco</th>\n",
       "      <th>Ano</th>\n",
       "    </tr>\n",
       "  </thead>\n",
       "  <tbody>\n",
       "    <tr>\n",
       "      <th>0</th>\n",
       "      <td>Passat</td>\n",
       "      <td>5000.0</td>\n",
       "      <td>1990.0</td>\n",
       "    </tr>\n",
       "    <tr>\n",
       "      <th>1</th>\n",
       "      <td>Fusca</td>\n",
       "      <td>4000.0</td>\n",
       "      <td>1990.0</td>\n",
       "    </tr>\n",
       "    <tr>\n",
       "      <th>2</th>\n",
       "      <td>HB20</td>\n",
       "      <td>NaN</td>\n",
       "      <td>NaN</td>\n",
       "    </tr>\n",
       "    <tr>\n",
       "      <th>3</th>\n",
       "      <td>Ford</td>\n",
       "      <td>10000.0</td>\n",
       "      <td>1990.0</td>\n",
       "    </tr>\n",
       "    <tr>\n",
       "      <th>4</th>\n",
       "      <td>Fiat</td>\n",
       "      <td>8000.0</td>\n",
       "      <td>1990.0</td>\n",
       "    </tr>\n",
       "  </tbody>\n",
       "</table>\n",
       "</div>"
      ],
      "text/plain": [
       "     Nome    Preco     Ano\n",
       "0  Passat   5000.0  1990.0\n",
       "1   Fusca   4000.0  1990.0\n",
       "2    HB20      NaN     NaN\n",
       "3    Ford  10000.0  1990.0\n",
       "4    Fiat   8000.0  1990.0"
      ]
     },
     "execution_count": 24,
     "metadata": {},
     "output_type": "execute_result"
    }
   ],
   "source": [
    "df_dados_outer = pd.merge(df_dados[['Nome']], df_precos, left_on='Nome', right_on='Nome', how='outer')\n",
    "df_dados_outer"
   ]
  },
  {
   "cell_type": "markdown",
   "id": "9729dae7",
   "metadata": {},
   "source": [
    "# CONCAT"
   ]
  },
  {
   "cell_type": "code",
   "execution_count": 49,
   "id": "709f992a",
   "metadata": {},
   "outputs": [
    {
     "data": {
      "text/html": [
       "<div>\n",
       "<style scoped>\n",
       "    .dataframe tbody tr th:only-of-type {\n",
       "        vertical-align: middle;\n",
       "    }\n",
       "\n",
       "    .dataframe tbody tr th {\n",
       "        vertical-align: top;\n",
       "    }\n",
       "\n",
       "    .dataframe thead th {\n",
       "        text-align: right;\n",
       "    }\n",
       "</style>\n",
       "<table border=\"1\" class=\"dataframe\">\n",
       "  <thead>\n",
       "    <tr style=\"text-align: right;\">\n",
       "      <th></th>\n",
       "      <th>letter</th>\n",
       "      <th>number</th>\n",
       "    </tr>\n",
       "  </thead>\n",
       "  <tbody>\n",
       "    <tr>\n",
       "      <th>0</th>\n",
       "      <td>a</td>\n",
       "      <td>1</td>\n",
       "    </tr>\n",
       "    <tr>\n",
       "      <th>1</th>\n",
       "      <td>b</td>\n",
       "      <td>2</td>\n",
       "    </tr>\n",
       "  </tbody>\n",
       "</table>\n",
       "</div>"
      ],
      "text/plain": [
       "  letter  number\n",
       "0      a       1\n",
       "1      b       2"
      ]
     },
     "execution_count": 49,
     "metadata": {},
     "output_type": "execute_result"
    }
   ],
   "source": [
    ">>> df1 = pd.DataFrame([['a', 1], ['b', 2]], columns=['letter', 'number'])\n",
    "df1"
   ]
  },
  {
   "cell_type": "code",
   "execution_count": 48,
   "id": "db7978f1",
   "metadata": {},
   "outputs": [
    {
     "data": {
      "text/html": [
       "<div>\n",
       "<style scoped>\n",
       "    .dataframe tbody tr th:only-of-type {\n",
       "        vertical-align: middle;\n",
       "    }\n",
       "\n",
       "    .dataframe tbody tr th {\n",
       "        vertical-align: top;\n",
       "    }\n",
       "\n",
       "    .dataframe thead th {\n",
       "        text-align: right;\n",
       "    }\n",
       "</style>\n",
       "<table border=\"1\" class=\"dataframe\">\n",
       "  <thead>\n",
       "    <tr style=\"text-align: right;\">\n",
       "      <th></th>\n",
       "      <th>letter</th>\n",
       "      <th>number</th>\n",
       "    </tr>\n",
       "  </thead>\n",
       "  <tbody>\n",
       "    <tr>\n",
       "      <th>0</th>\n",
       "      <td>c</td>\n",
       "      <td>3</td>\n",
       "    </tr>\n",
       "    <tr>\n",
       "      <th>1</th>\n",
       "      <td>d</td>\n",
       "      <td>4</td>\n",
       "    </tr>\n",
       "  </tbody>\n",
       "</table>\n",
       "</div>"
      ],
      "text/plain": [
       "  letter  number\n",
       "0      c       3\n",
       "1      d       4"
      ]
     },
     "execution_count": 48,
     "metadata": {},
     "output_type": "execute_result"
    }
   ],
   "source": [
    "df2 = pd.DataFrame([['c', 3], ['d', 4]], columns=['letter', 'number'])\n",
    "df2"
   ]
  },
  {
   "cell_type": "code",
   "execution_count": 50,
   "id": "ccea09c1",
   "metadata": {},
   "outputs": [
    {
     "data": {
      "text/html": [
       "<div>\n",
       "<style scoped>\n",
       "    .dataframe tbody tr th:only-of-type {\n",
       "        vertical-align: middle;\n",
       "    }\n",
       "\n",
       "    .dataframe tbody tr th {\n",
       "        vertical-align: top;\n",
       "    }\n",
       "\n",
       "    .dataframe thead th {\n",
       "        text-align: right;\n",
       "    }\n",
       "</style>\n",
       "<table border=\"1\" class=\"dataframe\">\n",
       "  <thead>\n",
       "    <tr style=\"text-align: right;\">\n",
       "      <th></th>\n",
       "      <th>letter</th>\n",
       "      <th>number</th>\n",
       "    </tr>\n",
       "  </thead>\n",
       "  <tbody>\n",
       "    <tr>\n",
       "      <th>0</th>\n",
       "      <td>a</td>\n",
       "      <td>1</td>\n",
       "    </tr>\n",
       "    <tr>\n",
       "      <th>1</th>\n",
       "      <td>b</td>\n",
       "      <td>2</td>\n",
       "    </tr>\n",
       "    <tr>\n",
       "      <th>0</th>\n",
       "      <td>c</td>\n",
       "      <td>3</td>\n",
       "    </tr>\n",
       "    <tr>\n",
       "      <th>1</th>\n",
       "      <td>d</td>\n",
       "      <td>4</td>\n",
       "    </tr>\n",
       "  </tbody>\n",
       "</table>\n",
       "</div>"
      ],
      "text/plain": [
       "  letter  number\n",
       "0      a       1\n",
       "1      b       2\n",
       "0      c       3\n",
       "1      d       4"
      ]
     },
     "execution_count": 50,
     "metadata": {},
     "output_type": "execute_result"
    }
   ],
   "source": [
    "pd.concat([df1, df2])"
   ]
  },
  {
   "cell_type": "code",
   "execution_count": 25,
   "id": "2a6eeb7f",
   "metadata": {},
   "outputs": [
    {
     "data": {
      "text/html": [
       "<div>\n",
       "<style scoped>\n",
       "    .dataframe tbody tr th:only-of-type {\n",
       "        vertical-align: middle;\n",
       "    }\n",
       "\n",
       "    .dataframe tbody tr th {\n",
       "        vertical-align: top;\n",
       "    }\n",
       "\n",
       "    .dataframe thead th {\n",
       "        text-align: right;\n",
       "    }\n",
       "</style>\n",
       "<table border=\"1\" class=\"dataframe\">\n",
       "  <thead>\n",
       "    <tr style=\"text-align: right;\">\n",
       "      <th></th>\n",
       "      <th>Nome</th>\n",
       "      <th>Preco</th>\n",
       "      <th>Ano</th>\n",
       "    </tr>\n",
       "  </thead>\n",
       "  <tbody>\n",
       "    <tr>\n",
       "      <th>0</th>\n",
       "      <td>Fusca</td>\n",
       "      <td>4000</td>\n",
       "      <td>1990</td>\n",
       "    </tr>\n",
       "    <tr>\n",
       "      <th>1</th>\n",
       "      <td>Ford</td>\n",
       "      <td>10000</td>\n",
       "      <td>1990</td>\n",
       "    </tr>\n",
       "    <tr>\n",
       "      <th>2</th>\n",
       "      <td>Passat</td>\n",
       "      <td>5000</td>\n",
       "      <td>1990</td>\n",
       "    </tr>\n",
       "    <tr>\n",
       "      <th>3</th>\n",
       "      <td>Fiat</td>\n",
       "      <td>8000</td>\n",
       "      <td>1990</td>\n",
       "    </tr>\n",
       "  </tbody>\n",
       "</table>\n",
       "</div>"
      ],
      "text/plain": [
       "     Nome  Preco   Ano\n",
       "0   Fusca   4000  1990\n",
       "1    Ford  10000  1990\n",
       "2  Passat   5000  1990\n",
       "3    Fiat   8000  1990"
      ]
     },
     "execution_count": 25,
     "metadata": {},
     "output_type": "execute_result"
    }
   ],
   "source": [
    "df_precos"
   ]
  },
  {
   "cell_type": "code",
   "execution_count": 26,
   "id": "4098843a",
   "metadata": {},
   "outputs": [
    {
     "data": {
      "text/html": [
       "<div>\n",
       "<style scoped>\n",
       "    .dataframe tbody tr th:only-of-type {\n",
       "        vertical-align: middle;\n",
       "    }\n",
       "\n",
       "    .dataframe tbody tr th {\n",
       "        vertical-align: top;\n",
       "    }\n",
       "\n",
       "    .dataframe thead th {\n",
       "        text-align: right;\n",
       "    }\n",
       "</style>\n",
       "<table border=\"1\" class=\"dataframe\">\n",
       "  <thead>\n",
       "    <tr style=\"text-align: right;\">\n",
       "      <th></th>\n",
       "      <th>Nome</th>\n",
       "      <th>Ano</th>\n",
       "      <th>Marca</th>\n",
       "    </tr>\n",
       "  </thead>\n",
       "  <tbody>\n",
       "    <tr>\n",
       "      <th>0</th>\n",
       "      <td>Passat</td>\n",
       "      <td>1990.0</td>\n",
       "      <td>NaN</td>\n",
       "    </tr>\n",
       "    <tr>\n",
       "      <th>1</th>\n",
       "      <td>Fusca</td>\n",
       "      <td>1985.0</td>\n",
       "      <td>NaN</td>\n",
       "    </tr>\n",
       "    <tr>\n",
       "      <th>2</th>\n",
       "      <td>HB20</td>\n",
       "      <td>2018.0</td>\n",
       "      <td>Hyunday</td>\n",
       "    </tr>\n",
       "  </tbody>\n",
       "</table>\n",
       "</div>"
      ],
      "text/plain": [
       "     Nome     Ano    Marca\n",
       "0  Passat  1990.0      NaN\n",
       "1   Fusca  1985.0      NaN\n",
       "2    HB20  2018.0  Hyunday"
      ]
     },
     "execution_count": 26,
     "metadata": {},
     "output_type": "execute_result"
    }
   ],
   "source": [
    "df_dados"
   ]
  },
  {
   "cell_type": "code",
   "execution_count": 52,
   "id": "5f206eeb",
   "metadata": {},
   "outputs": [
    {
     "data": {
      "text/html": [
       "<div>\n",
       "<style scoped>\n",
       "    .dataframe tbody tr th:only-of-type {\n",
       "        vertical-align: middle;\n",
       "    }\n",
       "\n",
       "    .dataframe tbody tr th {\n",
       "        vertical-align: top;\n",
       "    }\n",
       "\n",
       "    .dataframe thead th {\n",
       "        text-align: right;\n",
       "    }\n",
       "</style>\n",
       "<table border=\"1\" class=\"dataframe\">\n",
       "  <thead>\n",
       "    <tr style=\"text-align: right;\">\n",
       "      <th></th>\n",
       "      <th>Nome</th>\n",
       "      <th>Ano</th>\n",
       "    </tr>\n",
       "  </thead>\n",
       "  <tbody>\n",
       "    <tr>\n",
       "      <th>0</th>\n",
       "      <td>Passat</td>\n",
       "      <td>1990.0</td>\n",
       "    </tr>\n",
       "    <tr>\n",
       "      <th>1</th>\n",
       "      <td>Fusca</td>\n",
       "      <td>1985.0</td>\n",
       "    </tr>\n",
       "    <tr>\n",
       "      <th>2</th>\n",
       "      <td>HB20</td>\n",
       "      <td>2018.0</td>\n",
       "    </tr>\n",
       "  </tbody>\n",
       "</table>\n",
       "</div>"
      ],
      "text/plain": [
       "     Nome     Ano\n",
       "0  Passat  1990.0\n",
       "1   Fusca  1985.0\n",
       "2    HB20  2018.0"
      ]
     },
     "execution_count": 52,
     "metadata": {},
     "output_type": "execute_result"
    }
   ],
   "source": [
    "df1 =df_dados[['Nome','Ano']]\n",
    "df1"
   ]
  },
  {
   "cell_type": "code",
   "execution_count": 53,
   "id": "ae6298e0",
   "metadata": {},
   "outputs": [
    {
     "data": {
      "text/html": [
       "<div>\n",
       "<style scoped>\n",
       "    .dataframe tbody tr th:only-of-type {\n",
       "        vertical-align: middle;\n",
       "    }\n",
       "\n",
       "    .dataframe tbody tr th {\n",
       "        vertical-align: top;\n",
       "    }\n",
       "\n",
       "    .dataframe thead th {\n",
       "        text-align: right;\n",
       "    }\n",
       "</style>\n",
       "<table border=\"1\" class=\"dataframe\">\n",
       "  <thead>\n",
       "    <tr style=\"text-align: right;\">\n",
       "      <th></th>\n",
       "      <th>Nome</th>\n",
       "      <th>Ano</th>\n",
       "    </tr>\n",
       "  </thead>\n",
       "  <tbody>\n",
       "    <tr>\n",
       "      <th>0</th>\n",
       "      <td>Fusca</td>\n",
       "      <td>1990</td>\n",
       "    </tr>\n",
       "    <tr>\n",
       "      <th>1</th>\n",
       "      <td>Ford</td>\n",
       "      <td>1990</td>\n",
       "    </tr>\n",
       "    <tr>\n",
       "      <th>2</th>\n",
       "      <td>Passat</td>\n",
       "      <td>1990</td>\n",
       "    </tr>\n",
       "    <tr>\n",
       "      <th>3</th>\n",
       "      <td>Fiat</td>\n",
       "      <td>1990</td>\n",
       "    </tr>\n",
       "  </tbody>\n",
       "</table>\n",
       "</div>"
      ],
      "text/plain": [
       "     Nome   Ano\n",
       "0   Fusca  1990\n",
       "1    Ford  1990\n",
       "2  Passat  1990\n",
       "3    Fiat  1990"
      ]
     },
     "execution_count": 53,
     "metadata": {},
     "output_type": "execute_result"
    }
   ],
   "source": [
    "df2 = df_precos[['Nome','Ano']]\n",
    "df2"
   ]
  },
  {
   "cell_type": "code",
   "execution_count": 54,
   "id": "23b25086",
   "metadata": {},
   "outputs": [
    {
     "ename": "TypeError",
     "evalue": "concat() takes 1 positional argument but 2 were given",
     "output_type": "error",
     "traceback": [
      "\u001b[1;31m---------------------------------------------------------------------------\u001b[0m",
      "\u001b[1;31mTypeError\u001b[0m                                 Traceback (most recent call last)",
      "\u001b[1;32m<ipython-input-54-16e2cecd5444>\u001b[0m in \u001b[0;36m<module>\u001b[1;34m\u001b[0m\n\u001b[1;32m----> 1\u001b[1;33m \u001b[0mpd\u001b[0m\u001b[1;33m.\u001b[0m\u001b[0mconcat\u001b[0m\u001b[1;33m(\u001b[0m\u001b[0mdf1\u001b[0m\u001b[1;33m,\u001b[0m\u001b[0mdf2\u001b[0m\u001b[1;33m)\u001b[0m\u001b[1;33m\u001b[0m\u001b[1;33m\u001b[0m\u001b[0m\n\u001b[0m",
      "\u001b[1;31mTypeError\u001b[0m: concat() takes 1 positional argument but 2 were given"
     ]
    }
   ],
   "source": [
    "pd.concat(df1,df2)"
   ]
  },
  {
   "cell_type": "code",
   "execution_count": 51,
   "id": "9b268289",
   "metadata": {
    "scrolled": true
   },
   "outputs": [
    {
     "ename": "TypeError",
     "evalue": "concat() takes 1 positional argument but 2 were given",
     "output_type": "error",
     "traceback": [
      "\u001b[1;31m---------------------------------------------------------------------------\u001b[0m",
      "\u001b[1;31mTypeError\u001b[0m                                 Traceback (most recent call last)",
      "\u001b[1;32m<ipython-input-51-a7687ff22345>\u001b[0m in \u001b[0;36m<module>\u001b[1;34m\u001b[0m\n\u001b[1;32m----> 1\u001b[1;33m \u001b[0mpd\u001b[0m\u001b[1;33m.\u001b[0m\u001b[0mconcat\u001b[0m\u001b[1;33m(\u001b[0m\u001b[0mdf_dados\u001b[0m\u001b[1;33m[\u001b[0m\u001b[1;33m[\u001b[0m\u001b[1;34m'Nome'\u001b[0m\u001b[1;33m,\u001b[0m\u001b[1;34m'Ano'\u001b[0m\u001b[1;33m]\u001b[0m\u001b[1;33m]\u001b[0m\u001b[1;33m,\u001b[0m \u001b[0mdf_precos\u001b[0m\u001b[1;33m[\u001b[0m\u001b[1;33m[\u001b[0m\u001b[1;34m'Nome'\u001b[0m\u001b[1;33m,\u001b[0m\u001b[1;34m'Ano'\u001b[0m\u001b[1;33m]\u001b[0m\u001b[1;33m]\u001b[0m\u001b[1;33m)\u001b[0m\u001b[1;33m\u001b[0m\u001b[1;33m\u001b[0m\u001b[0m\n\u001b[0m",
      "\u001b[1;31mTypeError\u001b[0m: concat() takes 1 positional argument but 2 were given"
     ]
    }
   ],
   "source": [
    "pd.concat(df_dados[['Nome','Ano']], df_precos[['Nome','Ano']])"
   ]
  },
  {
   "cell_type": "markdown",
   "id": "8b08df0a",
   "metadata": {},
   "source": [
    "# Importar e organizar planilha em DataFrame"
   ]
  },
  {
   "cell_type": "markdown",
   "id": "8f0e742f",
   "metadata": {},
   "source": [
    "skiprows: pula primeiras linhas. O nome da coluna vai ser sempre a primeira linha\n",
    "index_col: define a coluna índice\n"
   ]
  },
  {
   "cell_type": "code",
   "execution_count": 28,
   "id": "23a42807",
   "metadata": {
    "scrolled": true
   },
   "outputs": [
    {
     "data": {
      "text/html": [
       "<div>\n",
       "<style scoped>\n",
       "    .dataframe tbody tr th:only-of-type {\n",
       "        vertical-align: middle;\n",
       "    }\n",
       "\n",
       "    .dataframe tbody tr th {\n",
       "        vertical-align: top;\n",
       "    }\n",
       "\n",
       "    .dataframe thead th {\n",
       "        text-align: right;\n",
       "    }\n",
       "</style>\n",
       "<table border=\"1\" class=\"dataframe\">\n",
       "  <thead>\n",
       "    <tr style=\"text-align: right;\">\n",
       "      <th></th>\n",
       "      <th>Data de negociação</th>\n",
       "      <th>Instituição</th>\n",
       "      <th>Documento</th>\n",
       "      <th>Moeda</th>\n",
       "      <th>Total de Taxas</th>\n",
       "      <th>Ativo</th>\n",
       "      <th>Grupo</th>\n",
       "      <th>Quantidade</th>\n",
       "      <th>Operação</th>\n",
       "      <th>Tipo</th>\n",
       "      <th>Preço sem taxas</th>\n",
       "      <th>Preço com taxas</th>\n",
       "      <th>Total sem taxas</th>\n",
       "      <th>Total com taxas</th>\n",
       "      <th>Obs</th>\n",
       "    </tr>\n",
       "    <tr>\n",
       "      <th>Número</th>\n",
       "      <th></th>\n",
       "      <th></th>\n",
       "      <th></th>\n",
       "      <th></th>\n",
       "      <th></th>\n",
       "      <th></th>\n",
       "      <th></th>\n",
       "      <th></th>\n",
       "      <th></th>\n",
       "      <th></th>\n",
       "      <th></th>\n",
       "      <th></th>\n",
       "      <th></th>\n",
       "      <th></th>\n",
       "      <th></th>\n",
       "    </tr>\n",
       "  </thead>\n",
       "  <tbody>\n",
       "    <tr>\n",
       "      <th>23903594</th>\n",
       "      <td>2020-12-14</td>\n",
       "      <td>Clear</td>\n",
       "      <td>Nota de corretagem</td>\n",
       "      <td>BRL</td>\n",
       "      <td>2.61</td>\n",
       "      <td>ITUBA303</td>\n",
       "      <td>Opções</td>\n",
       "      <td>-1000.0</td>\n",
       "      <td>Crédito</td>\n",
       "      <td>Venda</td>\n",
       "      <td>1.95</td>\n",
       "      <td>1.9474</td>\n",
       "      <td>1950.0</td>\n",
       "      <td>1947.39</td>\n",
       "      <td>Normal</td>\n",
       "    </tr>\n",
       "    <tr>\n",
       "      <th>23903594</th>\n",
       "      <td>2020-12-14</td>\n",
       "      <td>Clear</td>\n",
       "      <td>Nota de corretagem</td>\n",
       "      <td>BRL</td>\n",
       "      <td>1.23</td>\n",
       "      <td>ITUBA323</td>\n",
       "      <td>Opções</td>\n",
       "      <td>1000.0</td>\n",
       "      <td>Débito</td>\n",
       "      <td>Compra</td>\n",
       "      <td>0.92</td>\n",
       "      <td>0.9212</td>\n",
       "      <td>-920.0</td>\n",
       "      <td>-921.23</td>\n",
       "      <td>Normal</td>\n",
       "    </tr>\n",
       "    <tr>\n",
       "      <th>23903594</th>\n",
       "      <td>2020-12-14</td>\n",
       "      <td>Clear</td>\n",
       "      <td>Nota de corretagem</td>\n",
       "      <td>BRL</td>\n",
       "      <td>3.95</td>\n",
       "      <td>ITUBL263</td>\n",
       "      <td>Opções</td>\n",
       "      <td>1000.0</td>\n",
       "      <td>Débito</td>\n",
       "      <td>Compra</td>\n",
       "      <td>2.95</td>\n",
       "      <td>2.9539</td>\n",
       "      <td>-2950.0</td>\n",
       "      <td>-2953.95</td>\n",
       "      <td>Normal</td>\n",
       "    </tr>\n",
       "    <tr>\n",
       "      <th>23903594</th>\n",
       "      <td>2020-12-14</td>\n",
       "      <td>Clear</td>\n",
       "      <td>Nota de corretagem</td>\n",
       "      <td>BRL</td>\n",
       "      <td>1.61</td>\n",
       "      <td>ITUBL306</td>\n",
       "      <td>Opções</td>\n",
       "      <td>-1000.0</td>\n",
       "      <td>Crédito</td>\n",
       "      <td>Venda</td>\n",
       "      <td>1.20</td>\n",
       "      <td>1.1984</td>\n",
       "      <td>1200.0</td>\n",
       "      <td>1198.39</td>\n",
       "      <td>Normal</td>\n",
       "    </tr>\n",
       "    <tr>\n",
       "      <th>23903594</th>\n",
       "      <td>2020-12-14</td>\n",
       "      <td>Clear</td>\n",
       "      <td>Nota de corretagem</td>\n",
       "      <td>BRL</td>\n",
       "      <td>0.70</td>\n",
       "      <td>ITUBM293</td>\n",
       "      <td>Opções</td>\n",
       "      <td>1000.0</td>\n",
       "      <td>Débito</td>\n",
       "      <td>Compra</td>\n",
       "      <td>0.52</td>\n",
       "      <td>0.5207</td>\n",
       "      <td>-520.0</td>\n",
       "      <td>-520.70</td>\n",
       "      <td>Normal</td>\n",
       "    </tr>\n",
       "    <tr>\n",
       "      <th>...</th>\n",
       "      <td>...</td>\n",
       "      <td>...</td>\n",
       "      <td>...</td>\n",
       "      <td>...</td>\n",
       "      <td>...</td>\n",
       "      <td>...</td>\n",
       "      <td>...</td>\n",
       "      <td>...</td>\n",
       "      <td>...</td>\n",
       "      <td>...</td>\n",
       "      <td>...</td>\n",
       "      <td>...</td>\n",
       "      <td>...</td>\n",
       "      <td>...</td>\n",
       "      <td>...</td>\n",
       "    </tr>\n",
       "    <tr>\n",
       "      <th>4694389</th>\n",
       "      <td>2023-06-16</td>\n",
       "      <td>Clear</td>\n",
       "      <td>Nota de corretagem</td>\n",
       "      <td>BRL</td>\n",
       "      <td>1.71</td>\n",
       "      <td>ITUB4</td>\n",
       "      <td>Ações</td>\n",
       "      <td>-200.0</td>\n",
       "      <td>Crédito</td>\n",
       "      <td>Venda</td>\n",
       "      <td>28.58</td>\n",
       "      <td>28.5714</td>\n",
       "      <td>5716.0</td>\n",
       "      <td>5714.29</td>\n",
       "      <td>Normal</td>\n",
       "    </tr>\n",
       "    <tr>\n",
       "      <th>4694389</th>\n",
       "      <td>2023-06-16</td>\n",
       "      <td>Clear</td>\n",
       "      <td>Nota de corretagem</td>\n",
       "      <td>BRL</td>\n",
       "      <td>1.05</td>\n",
       "      <td>SLCE3</td>\n",
       "      <td>Ações</td>\n",
       "      <td>100.0</td>\n",
       "      <td>Débito</td>\n",
       "      <td>Compra</td>\n",
       "      <td>35.01</td>\n",
       "      <td>35.0205</td>\n",
       "      <td>-3501.0</td>\n",
       "      <td>-3502.05</td>\n",
       "      <td>Normal</td>\n",
       "    </tr>\n",
       "    <tr>\n",
       "      <th>7754212</th>\n",
       "      <td>2022-08-09</td>\n",
       "      <td>Clear</td>\n",
       "      <td>Nota de corretagem</td>\n",
       "      <td>BRL</td>\n",
       "      <td>1.17</td>\n",
       "      <td>BBAS3</td>\n",
       "      <td>Ações</td>\n",
       "      <td>-100.0</td>\n",
       "      <td>Crédito</td>\n",
       "      <td>Venda</td>\n",
       "      <td>39.40</td>\n",
       "      <td>39.3883</td>\n",
       "      <td>3940.0</td>\n",
       "      <td>3938.83</td>\n",
       "      <td>Normal</td>\n",
       "    </tr>\n",
       "    <tr>\n",
       "      <th>68804129</th>\n",
       "      <td>2023-06-15</td>\n",
       "      <td>XP</td>\n",
       "      <td>Nota de corretagem</td>\n",
       "      <td>BRL</td>\n",
       "      <td>2.67</td>\n",
       "      <td>SAPR3</td>\n",
       "      <td>Ações</td>\n",
       "      <td>-300.0</td>\n",
       "      <td>Crédito</td>\n",
       "      <td>Venda</td>\n",
       "      <td>4.15</td>\n",
       "      <td>4.1411</td>\n",
       "      <td>1245.0</td>\n",
       "      <td>1242.33</td>\n",
       "      <td>Normal</td>\n",
       "    </tr>\n",
       "    <tr>\n",
       "      <th>68804129</th>\n",
       "      <td>2023-06-15</td>\n",
       "      <td>XP</td>\n",
       "      <td>Nota de corretagem</td>\n",
       "      <td>BRL</td>\n",
       "      <td>10.50</td>\n",
       "      <td>BBAS3</td>\n",
       "      <td>Ações</td>\n",
       "      <td>-100.0</td>\n",
       "      <td>Crédito</td>\n",
       "      <td>Venda</td>\n",
       "      <td>48.90</td>\n",
       "      <td>48.7950</td>\n",
       "      <td>4890.0</td>\n",
       "      <td>4879.50</td>\n",
       "      <td>Normal</td>\n",
       "    </tr>\n",
       "  </tbody>\n",
       "</table>\n",
       "<p>1427 rows × 15 columns</p>\n",
       "</div>"
      ],
      "text/plain": [
       "         Data de negociação Instituição           Documento Moeda  \\\n",
       "Número                                                              \n",
       "23903594         2020-12-14       Clear  Nota de corretagem   BRL   \n",
       "23903594         2020-12-14       Clear  Nota de corretagem   BRL   \n",
       "23903594         2020-12-14       Clear  Nota de corretagem   BRL   \n",
       "23903594         2020-12-14       Clear  Nota de corretagem   BRL   \n",
       "23903594         2020-12-14       Clear  Nota de corretagem   BRL   \n",
       "...                     ...         ...                 ...   ...   \n",
       "4694389          2023-06-16       Clear  Nota de corretagem   BRL   \n",
       "4694389          2023-06-16       Clear  Nota de corretagem   BRL   \n",
       "7754212          2022-08-09       Clear  Nota de corretagem   BRL   \n",
       "68804129         2023-06-15          XP  Nota de corretagem   BRL   \n",
       "68804129         2023-06-15          XP  Nota de corretagem   BRL   \n",
       "\n",
       "          Total de Taxas     Ativo   Grupo  Quantidade Operação    Tipo  \\\n",
       "Número                                                                    \n",
       "23903594            2.61  ITUBA303  Opções     -1000.0  Crédito   Venda   \n",
       "23903594            1.23  ITUBA323  Opções      1000.0   Débito  Compra   \n",
       "23903594            3.95  ITUBL263  Opções      1000.0   Débito  Compra   \n",
       "23903594            1.61  ITUBL306  Opções     -1000.0  Crédito   Venda   \n",
       "23903594            0.70  ITUBM293  Opções      1000.0   Débito  Compra   \n",
       "...                  ...       ...     ...         ...      ...     ...   \n",
       "4694389             1.71     ITUB4   Ações      -200.0  Crédito   Venda   \n",
       "4694389             1.05     SLCE3   Ações       100.0   Débito  Compra   \n",
       "7754212             1.17     BBAS3   Ações      -100.0  Crédito   Venda   \n",
       "68804129            2.67     SAPR3   Ações      -300.0  Crédito   Venda   \n",
       "68804129           10.50     BBAS3   Ações      -100.0  Crédito   Venda   \n",
       "\n",
       "          Preço sem taxas  Preço com taxas  Total sem taxas  Total com taxas  \\\n",
       "Número                                                                         \n",
       "23903594             1.95           1.9474           1950.0          1947.39   \n",
       "23903594             0.92           0.9212           -920.0          -921.23   \n",
       "23903594             2.95           2.9539          -2950.0         -2953.95   \n",
       "23903594             1.20           1.1984           1200.0          1198.39   \n",
       "23903594             0.52           0.5207           -520.0          -520.70   \n",
       "...                   ...              ...              ...              ...   \n",
       "4694389             28.58          28.5714           5716.0          5714.29   \n",
       "4694389             35.01          35.0205          -3501.0         -3502.05   \n",
       "7754212             39.40          39.3883           3940.0          3938.83   \n",
       "68804129             4.15           4.1411           1245.0          1242.33   \n",
       "68804129            48.90          48.7950           4890.0          4879.50   \n",
       "\n",
       "             Obs  \n",
       "Número            \n",
       "23903594  Normal  \n",
       "23903594  Normal  \n",
       "23903594  Normal  \n",
       "23903594  Normal  \n",
       "23903594  Normal  \n",
       "...          ...  \n",
       "4694389   Normal  \n",
       "4694389   Normal  \n",
       "7754212   Normal  \n",
       "68804129  Normal  \n",
       "68804129  Normal  \n",
       "\n",
       "[1427 rows x 15 columns]"
      ]
     },
     "execution_count": 28,
     "metadata": {},
     "output_type": "execute_result"
    }
   ],
   "source": [
    "df_historico = pd.read_excel('myProfit - Relatório Histórico de investimentos - 012015-072023.xlsx', skiprows=4,  index_col=2)\n",
    "df_historico"
   ]
  },
  {
   "cell_type": "markdown",
   "id": "0b0a31cd",
   "metadata": {},
   "source": [
    "# Filtrar"
   ]
  },
  {
   "cell_type": "code",
   "execution_count": 29,
   "id": "3baffd90",
   "metadata": {},
   "outputs": [
    {
     "data": {
      "text/plain": [
       "Número\n",
       "23903594    False\n",
       "23903594    False\n",
       "23903594    False\n",
       "23903594    False\n",
       "23903594    False\n",
       "            ...  \n",
       "4694389     False\n",
       "4694389     False\n",
       "7754212     False\n",
       "68804129    False\n",
       "68804129    False\n",
       "Name: Grupo, Length: 1427, dtype: bool"
      ]
     },
     "execution_count": 29,
     "metadata": {},
     "output_type": "execute_result"
    }
   ],
   "source": [
    "df_historico.Grupo == 'ETF' # Atribui verdadeiro ou falso a cada registro"
   ]
  },
  {
   "cell_type": "code",
   "execution_count": 30,
   "id": "909ebafa",
   "metadata": {
    "scrolled": true
   },
   "outputs": [
    {
     "data": {
      "text/html": [
       "<div>\n",
       "<style scoped>\n",
       "    .dataframe tbody tr th:only-of-type {\n",
       "        vertical-align: middle;\n",
       "    }\n",
       "\n",
       "    .dataframe tbody tr th {\n",
       "        vertical-align: top;\n",
       "    }\n",
       "\n",
       "    .dataframe thead th {\n",
       "        text-align: right;\n",
       "    }\n",
       "</style>\n",
       "<table border=\"1\" class=\"dataframe\">\n",
       "  <thead>\n",
       "    <tr style=\"text-align: right;\">\n",
       "      <th></th>\n",
       "      <th>Data de negociação</th>\n",
       "      <th>Instituição</th>\n",
       "      <th>Documento</th>\n",
       "      <th>Moeda</th>\n",
       "      <th>Total de Taxas</th>\n",
       "      <th>Ativo</th>\n",
       "      <th>Grupo</th>\n",
       "      <th>Quantidade</th>\n",
       "      <th>Operação</th>\n",
       "      <th>Tipo</th>\n",
       "      <th>Preço sem taxas</th>\n",
       "      <th>Preço com taxas</th>\n",
       "      <th>Total sem taxas</th>\n",
       "      <th>Total com taxas</th>\n",
       "      <th>Obs</th>\n",
       "    </tr>\n",
       "    <tr>\n",
       "      <th>Número</th>\n",
       "      <th></th>\n",
       "      <th></th>\n",
       "      <th></th>\n",
       "      <th></th>\n",
       "      <th></th>\n",
       "      <th></th>\n",
       "      <th></th>\n",
       "      <th></th>\n",
       "      <th></th>\n",
       "      <th></th>\n",
       "      <th></th>\n",
       "      <th></th>\n",
       "      <th></th>\n",
       "      <th></th>\n",
       "      <th></th>\n",
       "    </tr>\n",
       "  </thead>\n",
       "  <tbody>\n",
       "    <tr>\n",
       "      <th>4518957</th>\n",
       "      <td>2019-08-19</td>\n",
       "      <td>Clear</td>\n",
       "      <td>Nota de corretagem</td>\n",
       "      <td>BRL</td>\n",
       "      <td>1.51</td>\n",
       "      <td>BOVA11</td>\n",
       "      <td>ETF</td>\n",
       "      <td>50.0</td>\n",
       "      <td>Débito</td>\n",
       "      <td>Compra</td>\n",
       "      <td>96.64</td>\n",
       "      <td>96.6702</td>\n",
       "      <td>-4832.0</td>\n",
       "      <td>-4833.51</td>\n",
       "      <td>Normal</td>\n",
       "    </tr>\n",
       "    <tr>\n",
       "      <th>5963559</th>\n",
       "      <td>2019-10-02</td>\n",
       "      <td>Clear</td>\n",
       "      <td>Nota de corretagem</td>\n",
       "      <td>BRL</td>\n",
       "      <td>1.54</td>\n",
       "      <td>BOVA11</td>\n",
       "      <td>ETF</td>\n",
       "      <td>-50.0</td>\n",
       "      <td>Crédito</td>\n",
       "      <td>Venda</td>\n",
       "      <td>97.60</td>\n",
       "      <td>97.5692</td>\n",
       "      <td>4880.0</td>\n",
       "      <td>4878.46</td>\n",
       "      <td>Normal</td>\n",
       "    </tr>\n",
       "    <tr>\n",
       "      <th>780221</th>\n",
       "      <td>2017-10-04</td>\n",
       "      <td>Rico</td>\n",
       "      <td>Nota de corretagem</td>\n",
       "      <td>BRL</td>\n",
       "      <td>22.14</td>\n",
       "      <td>IVVB11</td>\n",
       "      <td>ETF</td>\n",
       "      <td>-100.0</td>\n",
       "      <td>Crédito</td>\n",
       "      <td>Venda</td>\n",
       "      <td>83.06</td>\n",
       "      <td>82.8386</td>\n",
       "      <td>8306.0</td>\n",
       "      <td>8283.86</td>\n",
       "      <td>Normal</td>\n",
       "    </tr>\n",
       "    <tr>\n",
       "      <th>747903</th>\n",
       "      <td>2017-09-22</td>\n",
       "      <td>Rico</td>\n",
       "      <td>Nota de corretagem</td>\n",
       "      <td>BRL</td>\n",
       "      <td>20.59</td>\n",
       "      <td>IVVB11</td>\n",
       "      <td>ETF</td>\n",
       "      <td>100.0</td>\n",
       "      <td>Débito</td>\n",
       "      <td>Compra</td>\n",
       "      <td>82.11</td>\n",
       "      <td>82.3159</td>\n",
       "      <td>-8211.0</td>\n",
       "      <td>-8231.59</td>\n",
       "      <td>Normal</td>\n",
       "    </tr>\n",
       "  </tbody>\n",
       "</table>\n",
       "</div>"
      ],
      "text/plain": [
       "        Data de negociação Instituição           Documento Moeda  \\\n",
       "Número                                                             \n",
       "4518957         2019-08-19       Clear  Nota de corretagem   BRL   \n",
       "5963559         2019-10-02       Clear  Nota de corretagem   BRL   \n",
       "780221          2017-10-04        Rico  Nota de corretagem   BRL   \n",
       "747903          2017-09-22        Rico  Nota de corretagem   BRL   \n",
       "\n",
       "         Total de Taxas   Ativo Grupo  Quantidade Operação    Tipo  \\\n",
       "Número                                                               \n",
       "4518957            1.51  BOVA11   ETF        50.0   Débito  Compra   \n",
       "5963559            1.54  BOVA11   ETF       -50.0  Crédito   Venda   \n",
       "780221            22.14  IVVB11   ETF      -100.0  Crédito   Venda   \n",
       "747903            20.59  IVVB11   ETF       100.0   Débito  Compra   \n",
       "\n",
       "         Preço sem taxas  Preço com taxas  Total sem taxas  Total com taxas  \\\n",
       "Número                                                                        \n",
       "4518957            96.64          96.6702          -4832.0         -4833.51   \n",
       "5963559            97.60          97.5692           4880.0          4878.46   \n",
       "780221             83.06          82.8386           8306.0          8283.86   \n",
       "747903             82.11          82.3159          -8211.0         -8231.59   \n",
       "\n",
       "            Obs  \n",
       "Número           \n",
       "4518957  Normal  \n",
       "5963559  Normal  \n",
       "780221   Normal  \n",
       "747903   Normal  "
      ]
     },
     "execution_count": 30,
     "metadata": {},
     "output_type": "execute_result"
    }
   ],
   "source": [
    "df_historico[df_historico.Grupo == 'ETF'] # Exibe apenas os registros True"
   ]
  },
  {
   "cell_type": "markdown",
   "id": "8a11e25c",
   "metadata": {},
   "source": [
    "### Filtrar com 2 critérios"
   ]
  },
  {
   "cell_type": "code",
   "execution_count": 31,
   "id": "51a07d35",
   "metadata": {},
   "outputs": [
    {
     "data": {
      "text/plain": [
       "{'Ações',\n",
       " 'BDR',\n",
       " 'Criptomoeda',\n",
       " 'ETF',\n",
       " 'ETF USA',\n",
       " 'Fundo Imobiliário',\n",
       " 'Opções',\n",
       " 'Opções EUA',\n",
       " 'Tesouro Direto'}"
      ]
     },
     "execution_count": 31,
     "metadata": {},
     "output_type": "execute_result"
    }
   ],
   "source": [
    "set(df_historico['Grupo'])"
   ]
  },
  {
   "cell_type": "code",
   "execution_count": 32,
   "id": "5bd311b7",
   "metadata": {
    "scrolled": true
   },
   "outputs": [
    {
     "data": {
      "text/html": [
       "<div>\n",
       "<style scoped>\n",
       "    .dataframe tbody tr th:only-of-type {\n",
       "        vertical-align: middle;\n",
       "    }\n",
       "\n",
       "    .dataframe tbody tr th {\n",
       "        vertical-align: top;\n",
       "    }\n",
       "\n",
       "    .dataframe thead th {\n",
       "        text-align: right;\n",
       "    }\n",
       "</style>\n",
       "<table border=\"1\" class=\"dataframe\">\n",
       "  <thead>\n",
       "    <tr style=\"text-align: right;\">\n",
       "      <th></th>\n",
       "      <th>Data de negociação</th>\n",
       "      <th>Instituição</th>\n",
       "      <th>Documento</th>\n",
       "      <th>Moeda</th>\n",
       "      <th>Total de Taxas</th>\n",
       "      <th>Ativo</th>\n",
       "      <th>Grupo</th>\n",
       "      <th>Quantidade</th>\n",
       "      <th>Operação</th>\n",
       "      <th>Tipo</th>\n",
       "      <th>Preço sem taxas</th>\n",
       "      <th>Preço com taxas</th>\n",
       "      <th>Total sem taxas</th>\n",
       "      <th>Total com taxas</th>\n",
       "      <th>Obs</th>\n",
       "    </tr>\n",
       "    <tr>\n",
       "      <th>Número</th>\n",
       "      <th></th>\n",
       "      <th></th>\n",
       "      <th></th>\n",
       "      <th></th>\n",
       "      <th></th>\n",
       "      <th></th>\n",
       "      <th></th>\n",
       "      <th></th>\n",
       "      <th></th>\n",
       "      <th></th>\n",
       "      <th></th>\n",
       "      <th></th>\n",
       "      <th></th>\n",
       "      <th></th>\n",
       "      <th></th>\n",
       "    </tr>\n",
       "  </thead>\n",
       "  <tbody>\n",
       "    <tr>\n",
       "      <th>4518957</th>\n",
       "      <td>2019-08-19</td>\n",
       "      <td>Clear</td>\n",
       "      <td>Nota de corretagem</td>\n",
       "      <td>BRL</td>\n",
       "      <td>1.51</td>\n",
       "      <td>BOVA11</td>\n",
       "      <td>ETF</td>\n",
       "      <td>50.00000</td>\n",
       "      <td>Débito</td>\n",
       "      <td>Compra</td>\n",
       "      <td>96.6400</td>\n",
       "      <td>96.6702</td>\n",
       "      <td>-4832.00</td>\n",
       "      <td>-4833.51</td>\n",
       "      <td>Normal</td>\n",
       "    </tr>\n",
       "    <tr>\n",
       "      <th>5963559</th>\n",
       "      <td>2019-10-02</td>\n",
       "      <td>Clear</td>\n",
       "      <td>Nota de corretagem</td>\n",
       "      <td>BRL</td>\n",
       "      <td>1.54</td>\n",
       "      <td>BOVA11</td>\n",
       "      <td>ETF</td>\n",
       "      <td>-50.00000</td>\n",
       "      <td>Crédito</td>\n",
       "      <td>Venda</td>\n",
       "      <td>97.6000</td>\n",
       "      <td>97.5692</td>\n",
       "      <td>4880.00</td>\n",
       "      <td>4878.46</td>\n",
       "      <td>Normal</td>\n",
       "    </tr>\n",
       "    <tr>\n",
       "      <th>780221</th>\n",
       "      <td>2017-10-04</td>\n",
       "      <td>Rico</td>\n",
       "      <td>Nota de corretagem</td>\n",
       "      <td>BRL</td>\n",
       "      <td>22.14</td>\n",
       "      <td>IVVB11</td>\n",
       "      <td>ETF</td>\n",
       "      <td>-100.00000</td>\n",
       "      <td>Crédito</td>\n",
       "      <td>Venda</td>\n",
       "      <td>83.0600</td>\n",
       "      <td>82.8386</td>\n",
       "      <td>8306.00</td>\n",
       "      <td>8283.86</td>\n",
       "      <td>Normal</td>\n",
       "    </tr>\n",
       "    <tr>\n",
       "      <th>747903</th>\n",
       "      <td>2017-09-22</td>\n",
       "      <td>Rico</td>\n",
       "      <td>Nota de corretagem</td>\n",
       "      <td>BRL</td>\n",
       "      <td>20.59</td>\n",
       "      <td>IVVB11</td>\n",
       "      <td>ETF</td>\n",
       "      <td>100.00000</td>\n",
       "      <td>Débito</td>\n",
       "      <td>Compra</td>\n",
       "      <td>82.1100</td>\n",
       "      <td>82.3159</td>\n",
       "      <td>-8211.00</td>\n",
       "      <td>-8231.59</td>\n",
       "      <td>Normal</td>\n",
       "    </tr>\n",
       "    <tr>\n",
       "      <th>16490__Sobras_XPBR31_1929</th>\n",
       "      <td>2021-12-10</td>\n",
       "      <td>(Automático)</td>\n",
       "      <td>Venda</td>\n",
       "      <td>BRL</td>\n",
       "      <td>0.00</td>\n",
       "      <td>XPBR31</td>\n",
       "      <td>BDR</td>\n",
       "      <td>-0.47028</td>\n",
       "      <td>Crédito</td>\n",
       "      <td>Venda</td>\n",
       "      <td>166.3663</td>\n",
       "      <td>166.3663</td>\n",
       "      <td>78.24</td>\n",
       "      <td>78.24</td>\n",
       "      <td>Normal</td>\n",
       "    </tr>\n",
       "  </tbody>\n",
       "</table>\n",
       "</div>"
      ],
      "text/plain": [
       "                          Data de negociação   Instituição  \\\n",
       "Número                                                       \n",
       "4518957                           2019-08-19         Clear   \n",
       "5963559                           2019-10-02         Clear   \n",
       "780221                            2017-10-04          Rico   \n",
       "747903                            2017-09-22          Rico   \n",
       "16490__Sobras_XPBR31_1929         2021-12-10  (Automático)   \n",
       "\n",
       "                                    Documento Moeda  Total de Taxas   Ativo  \\\n",
       "Número                                                                        \n",
       "4518957                    Nota de corretagem   BRL            1.51  BOVA11   \n",
       "5963559                    Nota de corretagem   BRL            1.54  BOVA11   \n",
       "780221                     Nota de corretagem   BRL           22.14  IVVB11   \n",
       "747903                     Nota de corretagem   BRL           20.59  IVVB11   \n",
       "16490__Sobras_XPBR31_1929               Venda   BRL            0.00  XPBR31   \n",
       "\n",
       "                          Grupo  Quantidade Operação    Tipo  Preço sem taxas  \\\n",
       "Número                                                                          \n",
       "4518957                     ETF    50.00000   Débito  Compra          96.6400   \n",
       "5963559                     ETF   -50.00000  Crédito   Venda          97.6000   \n",
       "780221                      ETF  -100.00000  Crédito   Venda          83.0600   \n",
       "747903                      ETF   100.00000   Débito  Compra          82.1100   \n",
       "16490__Sobras_XPBR31_1929   BDR    -0.47028  Crédito   Venda         166.3663   \n",
       "\n",
       "                           Preço com taxas  Total sem taxas  Total com taxas  \\\n",
       "Número                                                                         \n",
       "4518957                            96.6702         -4832.00         -4833.51   \n",
       "5963559                            97.5692          4880.00          4878.46   \n",
       "780221                             82.8386          8306.00          8283.86   \n",
       "747903                             82.3159         -8211.00         -8231.59   \n",
       "16490__Sobras_XPBR31_1929         166.3663            78.24            78.24   \n",
       "\n",
       "                              Obs  \n",
       "Número                             \n",
       "4518957                    Normal  \n",
       "5963559                    Normal  \n",
       "780221                     Normal  \n",
       "747903                     Normal  \n",
       "16490__Sobras_XPBR31_1929  Normal  "
      ]
     },
     "execution_count": 32,
     "metadata": {},
     "output_type": "execute_result"
    }
   ],
   "source": [
    "df_historico[df_historico.Grupo.isin(['BDR','ETF'])]"
   ]
  },
  {
   "cell_type": "code",
   "execution_count": 33,
   "id": "5be02b11",
   "metadata": {
    "scrolled": true
   },
   "outputs": [
    {
     "data": {
      "text/html": [
       "<div>\n",
       "<style scoped>\n",
       "    .dataframe tbody tr th:only-of-type {\n",
       "        vertical-align: middle;\n",
       "    }\n",
       "\n",
       "    .dataframe tbody tr th {\n",
       "        vertical-align: top;\n",
       "    }\n",
       "\n",
       "    .dataframe thead th {\n",
       "        text-align: right;\n",
       "    }\n",
       "</style>\n",
       "<table border=\"1\" class=\"dataframe\">\n",
       "  <thead>\n",
       "    <tr style=\"text-align: right;\">\n",
       "      <th></th>\n",
       "      <th>Data de negociação</th>\n",
       "      <th>Instituição</th>\n",
       "      <th>Documento</th>\n",
       "      <th>Moeda</th>\n",
       "      <th>Total de Taxas</th>\n",
       "      <th>Ativo</th>\n",
       "      <th>Grupo</th>\n",
       "      <th>Quantidade</th>\n",
       "      <th>Operação</th>\n",
       "      <th>Tipo</th>\n",
       "      <th>Preço sem taxas</th>\n",
       "      <th>Preço com taxas</th>\n",
       "      <th>Total sem taxas</th>\n",
       "      <th>Total com taxas</th>\n",
       "      <th>Obs</th>\n",
       "    </tr>\n",
       "    <tr>\n",
       "      <th>Número</th>\n",
       "      <th></th>\n",
       "      <th></th>\n",
       "      <th></th>\n",
       "      <th></th>\n",
       "      <th></th>\n",
       "      <th></th>\n",
       "      <th></th>\n",
       "      <th></th>\n",
       "      <th></th>\n",
       "      <th></th>\n",
       "      <th></th>\n",
       "      <th></th>\n",
       "      <th></th>\n",
       "      <th></th>\n",
       "      <th></th>\n",
       "    </tr>\n",
       "  </thead>\n",
       "  <tbody>\n",
       "    <tr>\n",
       "      <th>5963559</th>\n",
       "      <td>2019-10-02</td>\n",
       "      <td>Clear</td>\n",
       "      <td>Nota de corretagem</td>\n",
       "      <td>BRL</td>\n",
       "      <td>1.54</td>\n",
       "      <td>BOVA11</td>\n",
       "      <td>ETF</td>\n",
       "      <td>-50.0</td>\n",
       "      <td>Crédito</td>\n",
       "      <td>Venda</td>\n",
       "      <td>97.60</td>\n",
       "      <td>97.5692</td>\n",
       "      <td>4880.0</td>\n",
       "      <td>4878.46</td>\n",
       "      <td>Normal</td>\n",
       "    </tr>\n",
       "    <tr>\n",
       "      <th>780221</th>\n",
       "      <td>2017-10-04</td>\n",
       "      <td>Rico</td>\n",
       "      <td>Nota de corretagem</td>\n",
       "      <td>BRL</td>\n",
       "      <td>22.14</td>\n",
       "      <td>IVVB11</td>\n",
       "      <td>ETF</td>\n",
       "      <td>-100.0</td>\n",
       "      <td>Crédito</td>\n",
       "      <td>Venda</td>\n",
       "      <td>83.06</td>\n",
       "      <td>82.8386</td>\n",
       "      <td>8306.0</td>\n",
       "      <td>8283.86</td>\n",
       "      <td>Normal</td>\n",
       "    </tr>\n",
       "  </tbody>\n",
       "</table>\n",
       "</div>"
      ],
      "text/plain": [
       "        Data de negociação Instituição           Documento Moeda  \\\n",
       "Número                                                             \n",
       "5963559         2019-10-02       Clear  Nota de corretagem   BRL   \n",
       "780221          2017-10-04        Rico  Nota de corretagem   BRL   \n",
       "\n",
       "         Total de Taxas   Ativo Grupo  Quantidade Operação   Tipo  \\\n",
       "Número                                                              \n",
       "5963559            1.54  BOVA11   ETF       -50.0  Crédito  Venda   \n",
       "780221            22.14  IVVB11   ETF      -100.0  Crédito  Venda   \n",
       "\n",
       "         Preço sem taxas  Preço com taxas  Total sem taxas  Total com taxas  \\\n",
       "Número                                                                        \n",
       "5963559            97.60          97.5692           4880.0          4878.46   \n",
       "780221             83.06          82.8386           8306.0          8283.86   \n",
       "\n",
       "            Obs  \n",
       "Número           \n",
       "5963559  Normal  \n",
       "780221   Normal  "
      ]
     },
     "execution_count": 33,
     "metadata": {},
     "output_type": "execute_result"
    }
   ],
   "source": [
    "df_historico.query('Grupo == \"ETF\" & Operação == \"Crédito\"')"
   ]
  },
  {
   "cell_type": "code",
   "execution_count": 34,
   "id": "b6ad7950",
   "metadata": {},
   "outputs": [
    {
     "data": {
      "text/html": [
       "<div>\n",
       "<style scoped>\n",
       "    .dataframe tbody tr th:only-of-type {\n",
       "        vertical-align: middle;\n",
       "    }\n",
       "\n",
       "    .dataframe tbody tr th {\n",
       "        vertical-align: top;\n",
       "    }\n",
       "\n",
       "    .dataframe thead th {\n",
       "        text-align: right;\n",
       "    }\n",
       "</style>\n",
       "<table border=\"1\" class=\"dataframe\">\n",
       "  <thead>\n",
       "    <tr style=\"text-align: right;\">\n",
       "      <th></th>\n",
       "      <th>Data de negociação</th>\n",
       "      <th>Instituição</th>\n",
       "      <th>Documento</th>\n",
       "      <th>Moeda</th>\n",
       "      <th>Total de Taxas</th>\n",
       "      <th>Ativo</th>\n",
       "      <th>Grupo</th>\n",
       "      <th>Quantidade</th>\n",
       "      <th>Operação</th>\n",
       "      <th>Tipo</th>\n",
       "      <th>Preço sem taxas</th>\n",
       "      <th>Preço com taxas</th>\n",
       "      <th>Total sem taxas</th>\n",
       "      <th>Total com taxas</th>\n",
       "      <th>Obs</th>\n",
       "    </tr>\n",
       "    <tr>\n",
       "      <th>Número</th>\n",
       "      <th></th>\n",
       "      <th></th>\n",
       "      <th></th>\n",
       "      <th></th>\n",
       "      <th></th>\n",
       "      <th></th>\n",
       "      <th></th>\n",
       "      <th></th>\n",
       "      <th></th>\n",
       "      <th></th>\n",
       "      <th></th>\n",
       "      <th></th>\n",
       "      <th></th>\n",
       "      <th></th>\n",
       "      <th></th>\n",
       "    </tr>\n",
       "  </thead>\n",
       "  <tbody>\n",
       "    <tr>\n",
       "      <th>4518957</th>\n",
       "      <td>2019-08-19</td>\n",
       "      <td>Clear</td>\n",
       "      <td>Nota de corretagem</td>\n",
       "      <td>BRL</td>\n",
       "      <td>1.51</td>\n",
       "      <td>BOVA11</td>\n",
       "      <td>ETF</td>\n",
       "      <td>50.00000</td>\n",
       "      <td>Débito</td>\n",
       "      <td>Compra</td>\n",
       "      <td>96.6400</td>\n",
       "      <td>96.6702</td>\n",
       "      <td>-4832.00</td>\n",
       "      <td>-4833.51</td>\n",
       "      <td>Normal</td>\n",
       "    </tr>\n",
       "    <tr>\n",
       "      <th>5963559</th>\n",
       "      <td>2019-10-02</td>\n",
       "      <td>Clear</td>\n",
       "      <td>Nota de corretagem</td>\n",
       "      <td>BRL</td>\n",
       "      <td>1.54</td>\n",
       "      <td>BOVA11</td>\n",
       "      <td>ETF</td>\n",
       "      <td>-50.00000</td>\n",
       "      <td>Crédito</td>\n",
       "      <td>Venda</td>\n",
       "      <td>97.6000</td>\n",
       "      <td>97.5692</td>\n",
       "      <td>4880.00</td>\n",
       "      <td>4878.46</td>\n",
       "      <td>Normal</td>\n",
       "    </tr>\n",
       "    <tr>\n",
       "      <th>780221</th>\n",
       "      <td>2017-10-04</td>\n",
       "      <td>Rico</td>\n",
       "      <td>Nota de corretagem</td>\n",
       "      <td>BRL</td>\n",
       "      <td>22.14</td>\n",
       "      <td>IVVB11</td>\n",
       "      <td>ETF</td>\n",
       "      <td>-100.00000</td>\n",
       "      <td>Crédito</td>\n",
       "      <td>Venda</td>\n",
       "      <td>83.0600</td>\n",
       "      <td>82.8386</td>\n",
       "      <td>8306.00</td>\n",
       "      <td>8283.86</td>\n",
       "      <td>Normal</td>\n",
       "    </tr>\n",
       "    <tr>\n",
       "      <th>747903</th>\n",
       "      <td>2017-09-22</td>\n",
       "      <td>Rico</td>\n",
       "      <td>Nota de corretagem</td>\n",
       "      <td>BRL</td>\n",
       "      <td>20.59</td>\n",
       "      <td>IVVB11</td>\n",
       "      <td>ETF</td>\n",
       "      <td>100.00000</td>\n",
       "      <td>Débito</td>\n",
       "      <td>Compra</td>\n",
       "      <td>82.1100</td>\n",
       "      <td>82.3159</td>\n",
       "      <td>-8211.00</td>\n",
       "      <td>-8231.59</td>\n",
       "      <td>Normal</td>\n",
       "    </tr>\n",
       "    <tr>\n",
       "      <th>16490__Sobras_XPBR31_1929</th>\n",
       "      <td>2021-12-10</td>\n",
       "      <td>(Automático)</td>\n",
       "      <td>Venda</td>\n",
       "      <td>BRL</td>\n",
       "      <td>0.00</td>\n",
       "      <td>XPBR31</td>\n",
       "      <td>BDR</td>\n",
       "      <td>-0.47028</td>\n",
       "      <td>Crédito</td>\n",
       "      <td>Venda</td>\n",
       "      <td>166.3663</td>\n",
       "      <td>166.3663</td>\n",
       "      <td>78.24</td>\n",
       "      <td>78.24</td>\n",
       "      <td>Normal</td>\n",
       "    </tr>\n",
       "  </tbody>\n",
       "</table>\n",
       "</div>"
      ],
      "text/plain": [
       "                          Data de negociação   Instituição  \\\n",
       "Número                                                       \n",
       "4518957                           2019-08-19         Clear   \n",
       "5963559                           2019-10-02         Clear   \n",
       "780221                            2017-10-04          Rico   \n",
       "747903                            2017-09-22          Rico   \n",
       "16490__Sobras_XPBR31_1929         2021-12-10  (Automático)   \n",
       "\n",
       "                                    Documento Moeda  Total de Taxas   Ativo  \\\n",
       "Número                                                                        \n",
       "4518957                    Nota de corretagem   BRL            1.51  BOVA11   \n",
       "5963559                    Nota de corretagem   BRL            1.54  BOVA11   \n",
       "780221                     Nota de corretagem   BRL           22.14  IVVB11   \n",
       "747903                     Nota de corretagem   BRL           20.59  IVVB11   \n",
       "16490__Sobras_XPBR31_1929               Venda   BRL            0.00  XPBR31   \n",
       "\n",
       "                          Grupo  Quantidade Operação    Tipo  Preço sem taxas  \\\n",
       "Número                                                                          \n",
       "4518957                     ETF    50.00000   Débito  Compra          96.6400   \n",
       "5963559                     ETF   -50.00000  Crédito   Venda          97.6000   \n",
       "780221                      ETF  -100.00000  Crédito   Venda          83.0600   \n",
       "747903                      ETF   100.00000   Débito  Compra          82.1100   \n",
       "16490__Sobras_XPBR31_1929   BDR    -0.47028  Crédito   Venda         166.3663   \n",
       "\n",
       "                           Preço com taxas  Total sem taxas  Total com taxas  \\\n",
       "Número                                                                         \n",
       "4518957                            96.6702         -4832.00         -4833.51   \n",
       "5963559                            97.5692          4880.00          4878.46   \n",
       "780221                             82.8386          8306.00          8283.86   \n",
       "747903                             82.3159         -8211.00         -8231.59   \n",
       "16490__Sobras_XPBR31_1929         166.3663            78.24            78.24   \n",
       "\n",
       "                              Obs  \n",
       "Número                             \n",
       "4518957                    Normal  \n",
       "5963559                    Normal  \n",
       "780221                     Normal  \n",
       "747903                     Normal  \n",
       "16490__Sobras_XPBR31_1929  Normal  "
      ]
     },
     "execution_count": 34,
     "metadata": {},
     "output_type": "execute_result"
    }
   ],
   "source": [
    "df_historico[(df_historico.Grupo == 'BDR')|(df_historico.Grupo == 'ETF')]"
   ]
  },
  {
   "cell_type": "code",
   "execution_count": null,
   "id": "01d0c518",
   "metadata": {
    "scrolled": true
   },
   "outputs": [],
   "source": [
    "df_historico[(df_historico.Grupo == 'ETF')&(df_historico['Operação'] == 'Crédito')]"
   ]
  },
  {
   "cell_type": "code",
   "execution_count": null,
   "id": "0e240e47",
   "metadata": {},
   "outputs": [],
   "source": [
    "# Ao usar vários filtros é importante atentar para os parenteses\n",
    "df_historico[((df_historico.Grupo == 'BDR')|(df_historico.Grupo == 'ETF'))&(df_historico['Operação'] == 'Crédito')]"
   ]
  },
  {
   "cell_type": "code",
   "execution_count": null,
   "id": "a88cadbd",
   "metadata": {},
   "outputs": [],
   "source": [
    "# Ao usar vários filtros é importante atentar para os parenteses\n",
    "df_historico[(df_historico.Grupo == 'ETF')&(df_historico['Operação'] == 'Crédito')|(df_historico.Grupo == 'BDR')]"
   ]
  },
  {
   "cell_type": "code",
   "execution_count": null,
   "id": "3927df61",
   "metadata": {
    "scrolled": true
   },
   "outputs": [],
   "source": [
    "df_historico.head(1)"
   ]
  },
  {
   "cell_type": "code",
   "execution_count": null,
   "id": "4b55427c",
   "metadata": {},
   "outputs": [],
   "source": [
    "df_historico.last"
   ]
  },
  {
   "cell_type": "markdown",
   "id": "10e54f6a",
   "metadata": {},
   "source": [
    "# Contase, somase, mediase"
   ]
  },
  {
   "cell_type": "markdown",
   "id": "d8aba20c",
   "metadata": {},
   "source": [
    "Conta a quantidade de Ativos por grupo"
   ]
  },
  {
   "cell_type": "code",
   "execution_count": null,
   "id": "42a25945",
   "metadata": {},
   "outputs": [],
   "source": [
    "df_historico.groupby('Grupo')['Ativo'].count()"
   ]
  },
  {
   "cell_type": "markdown",
   "id": "b98f352a",
   "metadata": {},
   "source": [
    "Soma as quantidades agrupadas por ativo"
   ]
  },
  {
   "cell_type": "code",
   "execution_count": null,
   "id": "19cb2d4c",
   "metadata": {
    "scrolled": true
   },
   "outputs": [],
   "source": [
    "df_historico.groupby('Ativo')['Quantidade'].sum()"
   ]
  },
  {
   "cell_type": "markdown",
   "id": "7c0bddc9",
   "metadata": {},
   "source": [
    "Calcula a média de preços por ativo"
   ]
  },
  {
   "cell_type": "code",
   "execution_count": null,
   "id": "d83204c6",
   "metadata": {},
   "outputs": [],
   "source": [
    "df_historico.groupby('Ativo')['Preço sem taxas'].mean()"
   ]
  },
  {
   "cell_type": "markdown",
   "id": "9f849f1b",
   "metadata": {},
   "source": [
    "Atribuir mais de um critério para somar: Conta quantidade de ativos por grupo por ano"
   ]
  },
  {
   "cell_type": "markdown",
   "id": "41d3ac4d",
   "metadata": {},
   "source": [
    "# Classificar"
   ]
  },
  {
   "cell_type": "code",
   "execution_count": null,
   "id": "35de0924",
   "metadata": {},
   "outputs": [],
   "source": [
    "df_historico.sort_values('Data de negociação', ascending=False, inplace=True)\n",
    "df_historico"
   ]
  },
  {
   "cell_type": "markdown",
   "id": "0823b4a9",
   "metadata": {},
   "source": [
    "# Criar uma coluna de acumulado"
   ]
  },
  {
   "cell_type": "code",
   "execution_count": null,
   "id": "e191716a",
   "metadata": {
    "scrolled": true
   },
   "outputs": [],
   "source": [
    "df_itub4 = df_historico[df_historico['Ativo'] == 'ITUB4'][['Data de negociação','Quantidade']]\n",
    "df_itub4"
   ]
  },
  {
   "cell_type": "code",
   "execution_count": null,
   "id": "b174815a",
   "metadata": {},
   "outputs": [],
   "source": [
    "type(df_itub4.iloc[0, 0])"
   ]
  },
  {
   "cell_type": "code",
   "execution_count": null,
   "id": "0d5fb47e",
   "metadata": {
    "scrolled": true
   },
   "outputs": [],
   "source": [
    "df_itub4.sort_values('Data de negociação', ascending=True, inplace=True)\n",
    "df_itub4.head(5)"
   ]
  },
  {
   "cell_type": "code",
   "execution_count": null,
   "id": "0c1f828e",
   "metadata": {},
   "outputs": [],
   "source": [
    "df_itub4['Acumulado'] = df_itub4['Quantidade'].cumsum()"
   ]
  },
  {
   "cell_type": "code",
   "execution_count": null,
   "id": "2510f856",
   "metadata": {},
   "outputs": [],
   "source": [
    "df_itub4"
   ]
  },
  {
   "cell_type": "markdown",
   "id": "49d4a7cc",
   "metadata": {},
   "source": [
    "# Registros distintos"
   ]
  },
  {
   "cell_type": "code",
   "execution_count": null,
   "id": "93cb2bfd",
   "metadata": {},
   "outputs": [],
   "source": [
    "df_historico['Grupo'].unique()"
   ]
  },
  {
   "cell_type": "code",
   "execution_count": null,
   "id": "21132b29",
   "metadata": {},
   "outputs": [],
   "source": [
    "df_dados1 = df_dados.copy()\n",
    "df_dados1"
   ]
  },
  {
   "cell_type": "markdown",
   "id": "4ba3650b",
   "metadata": {},
   "source": [
    "fillna: #Substitui os campos Nan pelo valor especificado.\n",
    "\n",
    "value: Valor a ser substituido\n",
    "\n",
    "method: maneira de propagação\n",
    "'backfill', 'bfill': repete o anterior\n",
    "'pad', 'ffill': repete o posterior\n",
    "\n",
    "axis: eixo onde irá buscar os valores nulos\n",
    "\n",
    "inplace: modifica o objeto, não apenas visualiza\n",
    "\n",
    "limit: Quantidade de nulos consecutivos para forward/backward fill.\n",
    "\n",
    "downcast:"
   ]
  },
  {
   "cell_type": "code",
   "execution_count": null,
   "id": "b9324f50",
   "metadata": {},
   "outputs": [],
   "source": [
    "df_dados1.fillna('Não informado', inplace=False)"
   ]
  },
  {
   "cell_type": "code",
   "execution_count": null,
   "id": "bf557fd0",
   "metadata": {},
   "outputs": [],
   "source": [
    "df_dados1.fillna(method='ffill')"
   ]
  },
  {
   "cell_type": "code",
   "execution_count": null,
   "id": "7cd8220f",
   "metadata": {},
   "outputs": [],
   "source": [
    "df_dados1.fillna(method='bfill',limit=1) #substitui 1 (limit) registro nulo pelo anterior"
   ]
  },
  {
   "cell_type": "code",
   "execution_count": null,
   "id": "8676e65c",
   "metadata": {
    "scrolled": true
   },
   "outputs": [],
   "source": [
    "df_dados1['Marca'].fillna(axis=0,value={0:'Chevrolet', 1:'volkswagen',3:'Ford'}, inplace=True)\n",
    "df_dados1"
   ]
  },
  {
   "cell_type": "markdown",
   "id": "e7eeee12",
   "metadata": {},
   "source": [
    "dropna subset, na_position\n",
    "\n",
    "thresh: quantidade de itens não nulos que mantém a linha ou coluna\n",
    "\n",
    "axis: define se irá apagar as linhas (0 ou rows) ou colunas (1, ou columns)\n",
    "\n",
    "subset: define quais colunas ou quais linhas será verificado valores nulos"
   ]
  },
  {
   "cell_type": "code",
   "execution_count": null,
   "id": "424eba30",
   "metadata": {},
   "outputs": [],
   "source": [
    "df_dados1 = df_dados.copy()\n",
    "df_dados1"
   ]
  },
  {
   "cell_type": "code",
   "execution_count": null,
   "id": "1ed4b2ce",
   "metadata": {},
   "outputs": [],
   "source": [
    "df_dados1.dropna()"
   ]
  },
  {
   "cell_type": "code",
   "execution_count": null,
   "id": "79bced9a",
   "metadata": {},
   "outputs": [],
   "source": [
    "df_dados1.dropna(axis=0, subset=['Ano','Marca'])"
   ]
  },
  {
   "cell_type": "markdown",
   "id": "fe2a9716",
   "metadata": {},
   "source": [
    "interpolate\n",
    "\n",
    "Completa valores nulos calculando a partir do metodo aplicado aos demais valores da serie\n",
    "\n",
    "'nearest', 'zero', 'slinear', 'quadratic', 'cubic', 'spline', 'barycentric', 'polynomial'"
   ]
  },
  {
   "cell_type": "code",
   "execution_count": null,
   "id": "a7e58cf9",
   "metadata": {},
   "outputs": [],
   "source": [
    "df_dados_outer"
   ]
  },
  {
   "cell_type": "code",
   "execution_count": null,
   "id": "a7328c88",
   "metadata": {
    "scrolled": true
   },
   "outputs": [],
   "source": [
    "df_dados_outer.interpolate()"
   ]
  },
  {
   "cell_type": "code",
   "execution_count": null,
   "id": "ece9b63e",
   "metadata": {},
   "outputs": [],
   "source": [
    "df_dados_outer.interpolate(method='nearest')"
   ]
  },
  {
   "cell_type": "code",
   "execution_count": null,
   "id": "752aa3a5",
   "metadata": {},
   "outputs": [],
   "source": [
    "df_dados_outer.interpolate(method='polynomial', order=2)"
   ]
  },
  {
   "cell_type": "markdown",
   "id": "b688311c",
   "metadata": {},
   "source": [
    "replace"
   ]
  },
  {
   "cell_type": "code",
   "execution_count": null,
   "id": "7735afa4",
   "metadata": {},
   "outputs": [],
   "source": [
    "df_dados.replace(to_replace='Ford',value='Ford Focus', inplace=True)\n",
    "df_dados"
   ]
  },
  {
   "cell_type": "markdown",
   "id": "ea79f494",
   "metadata": {},
   "source": [
    "## Append um DataFrame"
   ]
  },
  {
   "cell_type": "code",
   "execution_count": null,
   "id": "93eeab56",
   "metadata": {
    "scrolled": false
   },
   "outputs": [],
   "source": [
    "df_dados2 = df_dados.append(df_dados.loc[1])\n",
    "df_dados2"
   ]
  },
  {
   "cell_type": "code",
   "execution_count": null,
   "id": "6b3655df",
   "metadata": {
    "scrolled": true
   },
   "outputs": [],
   "source": [
    "df_dados"
   ]
  },
  {
   "cell_type": "code",
   "execution_count": null,
   "id": "45777785",
   "metadata": {},
   "outputs": [],
   "source": [
    "df_dados2"
   ]
  },
  {
   "cell_type": "code",
   "execution_count": null,
   "id": "126d5276",
   "metadata": {},
   "outputs": [],
   "source": [
    "df_dados2.append(df_dados)"
   ]
  },
  {
   "cell_type": "code",
   "execution_count": null,
   "id": "5b10e158",
   "metadata": {},
   "outputs": [],
   "source": [
    "df_dados3 = pd.DataFrame(columns=['Nome','Ano','Marca'])\n",
    "df_dados3"
   ]
  },
  {
   "cell_type": "code",
   "execution_count": null,
   "id": "3867053e",
   "metadata": {},
   "outputs": [],
   "source": [
    "df_dados3.append(df_dados2)"
   ]
  },
  {
   "cell_type": "markdown",
   "id": "21699e94",
   "metadata": {},
   "source": [
    "### Adicionar com colunas diferentes"
   ]
  },
  {
   "cell_type": "code",
   "execution_count": null,
   "id": "eb83d0a0",
   "metadata": {},
   "outputs": [],
   "source": [
    "df_dados"
   ]
  },
  {
   "cell_type": "code",
   "execution_count": null,
   "id": "24566624",
   "metadata": {},
   "outputs": [],
   "source": [
    "df_dados4 = df_dados.copy()\n",
    "df_dados4.columns = [['Nome1', 'Ano1', 'Marca1', 'Km rodados1']]"
   ]
  },
  {
   "cell_type": "code",
   "execution_count": null,
   "id": "52f8ec3f",
   "metadata": {},
   "outputs": [],
   "source": [
    "df_dados4"
   ]
  },
  {
   "cell_type": "code",
   "execution_count": null,
   "id": "e31013d7",
   "metadata": {},
   "outputs": [],
   "source": [
    "df_dados4.columns=['Nome', 'Ano', 'Marca', 'Km rodados']\n",
    "df_dados.append(df_dados4)"
   ]
  },
  {
   "cell_type": "code",
   "execution_count": null,
   "id": "1cef89e7",
   "metadata": {},
   "outputs": [],
   "source": [
    "df_dados.append(df_dados4)"
   ]
  },
  {
   "cell_type": "markdown",
   "id": "e43996e4",
   "metadata": {},
   "source": [
    "drop, drop_duplicates"
   ]
  },
  {
   "cell_type": "code",
   "execution_count": null,
   "id": "8a944e8c",
   "metadata": {
    "scrolled": true
   },
   "outputs": [],
   "source": [
    "df_dados2.drop_duplicates()"
   ]
  },
  {
   "cell_type": "markdown",
   "id": "5cdffbce",
   "metadata": {},
   "source": [
    "filter"
   ]
  },
  {
   "cell_type": "code",
   "execution_count": null,
   "id": "03e567e4",
   "metadata": {
    "scrolled": true
   },
   "outputs": [],
   "source": [
    "df_dados2.filter(items=[\"Nome\",\"Ano\"])"
   ]
  },
  {
   "cell_type": "code",
   "execution_count": null,
   "id": "ac140bf8",
   "metadata": {},
   "outputs": [],
   "source": [
    "df_dados2[[\"Nome\",\"Ano\"]]"
   ]
  },
  {
   "cell_type": "code",
   "execution_count": null,
   "id": "9587adb6",
   "metadata": {},
   "outputs": [],
   "source": [
    "df_dados2.filter(items=[\"Nome\"])"
   ]
  },
  {
   "cell_type": "code",
   "execution_count": null,
   "id": "06bff14c",
   "metadata": {},
   "outputs": [],
   "source": [
    "df_dados2.filter(like=\"N\")"
   ]
  },
  {
   "cell_type": "code",
   "execution_count": null,
   "id": "11a71bde",
   "metadata": {},
   "outputs": [],
   "source": [
    "df_dados2.filter(regex=\"o.\", axis=1)"
   ]
  },
  {
   "cell_type": "markdown",
   "id": "e37b35f9",
   "metadata": {},
   "source": [
    "sort_index"
   ]
  },
  {
   "cell_type": "code",
   "execution_count": null,
   "id": "0bdaf521",
   "metadata": {},
   "outputs": [],
   "source": [
    "df_dados2.sort_index(ascending=False, inplace=False, axis=0)"
   ]
  },
  {
   "cell_type": "markdown",
   "id": "8a334947",
   "metadata": {},
   "source": [
    "sort_values"
   ]
  },
  {
   "cell_type": "code",
   "execution_count": null,
   "id": "5c6f82f8",
   "metadata": {},
   "outputs": [],
   "source": [
    "df_dados2.sort_values(by=['Marca','Ano'],na_position='first')"
   ]
  },
  {
   "cell_type": "markdown",
   "id": "004281e1",
   "metadata": {},
   "source": [
    "index"
   ]
  },
  {
   "cell_type": "code",
   "execution_count": null,
   "id": "047bb340",
   "metadata": {
    "scrolled": true
   },
   "outputs": [],
   "source": [
    "df_dados2.index=df_dados2[\"Nome\"]\n",
    "df_dados2"
   ]
  },
  {
   "cell_type": "markdown",
   "id": "8c9aab33",
   "metadata": {},
   "source": [
    "regex"
   ]
  },
  {
   "cell_type": "code",
   "execution_count": null,
   "id": "013fc50a",
   "metadata": {},
   "outputs": [],
   "source": [
    "df_dados2.filter(regex='^[PH].*', axis=0)"
   ]
  },
  {
   "cell_type": "markdown",
   "id": "17c6b7fa",
   "metadata": {},
   "source": [
    "lambda"
   ]
  },
  {
   "cell_type": "code",
   "execution_count": null,
   "id": "f12c2a86",
   "metadata": {},
   "outputs": [],
   "source": [
    "x = 2\n",
    "somar_um = lambda x: x+1\n",
    "print(somar_um(x))"
   ]
  },
  {
   "cell_type": "code",
   "execution_count": null,
   "id": "b5b609c0",
   "metadata": {},
   "outputs": [],
   "source": [
    "dividir_dois = lambda x: x/2\n",
    "print(somar_um(dividir_dois(x)))"
   ]
  },
  {
   "cell_type": "markdown",
   "id": "6c5ff70d",
   "metadata": {},
   "source": [
    "apply"
   ]
  },
  {
   "cell_type": "code",
   "execution_count": null,
   "id": "92a15ec4",
   "metadata": {},
   "outputs": [],
   "source": [
    "def metade(valor):\n",
    "    return valor/2\n",
    "metade(10)"
   ]
  },
  {
   "cell_type": "code",
   "execution_count": null,
   "id": "c4105793",
   "metadata": {},
   "outputs": [],
   "source": [
    "df_dados2['Km rodados'].apply(metade)"
   ]
  },
  {
   "cell_type": "code",
   "execution_count": null,
   "id": "beca635c",
   "metadata": {
    "scrolled": true
   },
   "outputs": [],
   "source": [
    "df_dados2['Meia vida']=df_dados2['Km rodados'].apply(metade)\n",
    "df_dados2"
   ]
  },
  {
   "cell_type": "markdown",
   "id": "2ba93362",
   "metadata": {},
   "source": [
    "apply x map"
   ]
  },
  {
   "cell_type": "code",
   "execution_count": null,
   "id": "a9c52b36",
   "metadata": {},
   "outputs": [],
   "source": [
    "def media(ano, km):\n",
    "    return km/(2023-ano)"
   ]
  },
  {
   "cell_type": "code",
   "execution_count": null,
   "id": "f1b8a06a",
   "metadata": {},
   "outputs": [],
   "source": [
    "df_dados2.loc['Passat','Ano']"
   ]
  },
  {
   "cell_type": "code",
   "execution_count": null,
   "id": "b83f9d1d",
   "metadata": {},
   "outputs": [],
   "source": [
    "df_dados2.loc['Passat','Media'] = 50000\n",
    "df_dados2"
   ]
  },
  {
   "cell_type": "markdown",
   "id": "343ac6dc",
   "metadata": {},
   "source": [
    "## Para iterar registros do DataFrame usando células do DataFrame só consegui até agora usando index ou chamando cada coluna\n",
    "#### Não consegui ir alterando dentro do item (nome) sem chamar o dataframe pai"
   ]
  },
  {
   "cell_type": "code",
   "execution_count": null,
   "id": "f03a3ab4",
   "metadata": {},
   "outputs": [],
   "source": [
    "for nome in df_dados2['Nome']:\n",
    "    df_dados2.loc[nome,'Media'] = media(df_dados2.loc[nome,'Ano'],df_dados2.loc[nome,'Km rodados'])\n",
    "df_dados2"
   ]
  },
  {
   "cell_type": "code",
   "execution_count": null,
   "id": "690e102f",
   "metadata": {},
   "outputs": [],
   "source": [
    "for nome in df_dados2.index:\n",
    "    df_dados2.loc[nome,'Media'] = media(df_dados2.loc[nome,'Ano'],df_dados2.loc[nome,'Km rodados'])\n",
    "df_dados2"
   ]
  },
  {
   "cell_type": "markdown",
   "id": "953d3a87",
   "metadata": {},
   "source": [
    "# Não consegui fazer apply com função de 2 argumentos"
   ]
  },
  {
   "cell_type": "code",
   "execution_count": null,
   "id": "79014b01",
   "metadata": {
    "scrolled": true
   },
   "outputs": [],
   "source": [
    "#df_dados2['Ano','Km rodados'].apply(media, axis=0)\n"
   ]
  },
  {
   "cell_type": "code",
   "execution_count": null,
   "id": "38f47afd",
   "metadata": {},
   "outputs": [],
   "source": [
    "# creating a DataFrame\n",
    "df = pd.DataFrame({'String 1' :['Tom', 'Nick', 'Krish', 'Jack'], \n",
    "                   'String 2' :['Jane', 'John', 'Doe', 'Mohan']})\n",
    "df"
   ]
  },
  {
   "cell_type": "code",
   "execution_count": null,
   "id": "de76dc8c",
   "metadata": {},
   "outputs": [],
   "source": [
    "# function for prepending 'Geek'\n",
    "def prepend_geek(name1, name2):\n",
    "    return name1+' ' + name2"
   ]
  },
  {
   "cell_type": "code",
   "execution_count": null,
   "id": "836636eb",
   "metadata": {},
   "outputs": [],
   "source": [
    "# executing the function\n",
    "#df[[\"String 1\", \"String 2\"]] = df[[\"String 1\", \"String 2\"]].apply(prepend_geek)\n",
    "#df"
   ]
  },
  {
   "cell_type": "markdown",
   "id": "494c57a3",
   "metadata": {},
   "source": [
    "# Map"
   ]
  },
  {
   "cell_type": "code",
   "execution_count": null,
   "id": "9944ead7",
   "metadata": {
    "scrolled": true
   },
   "outputs": [],
   "source": [
    "pd.Series(map(metade, df_dados2['Km rodados']))"
   ]
  },
  {
   "cell_type": "code",
   "execution_count": null,
   "id": "534895a2",
   "metadata": {},
   "outputs": [],
   "source": [
    "list(map(lambda x: x/2, df_dados2['Km rodados']))"
   ]
  },
  {
   "cell_type": "code",
   "execution_count": null,
   "id": "81f5674c",
   "metadata": {},
   "outputs": [],
   "source": [
    "df_dados2['Meia vida']=map(lambda x: x/2, df_dados2['Km rodados'])\n",
    "df_dados2"
   ]
  },
  {
   "cell_type": "code",
   "execution_count": 10,
   "id": "ae7a773c",
   "metadata": {},
   "outputs": [
    {
     "ename": "KeyError",
     "evalue": "'Km rodados'",
     "output_type": "error",
     "traceback": [
      "\u001b[1;31m---------------------------------------------------------------------------\u001b[0m",
      "\u001b[1;31mKeyError\u001b[0m                                  Traceback (most recent call last)",
      "\u001b[1;32m~\\anaconda3\\lib\\site-packages\\pandas\\core\\indexes\\base.py\u001b[0m in \u001b[0;36mget_loc\u001b[1;34m(self, key)\u001b[0m\n\u001b[0;32m   3652\u001b[0m         \u001b[1;32mtry\u001b[0m\u001b[1;33m:\u001b[0m\u001b[1;33m\u001b[0m\u001b[1;33m\u001b[0m\u001b[0m\n\u001b[1;32m-> 3653\u001b[1;33m             \u001b[1;32mreturn\u001b[0m \u001b[0mself\u001b[0m\u001b[1;33m.\u001b[0m\u001b[0m_engine\u001b[0m\u001b[1;33m.\u001b[0m\u001b[0mget_loc\u001b[0m\u001b[1;33m(\u001b[0m\u001b[0mcasted_key\u001b[0m\u001b[1;33m)\u001b[0m\u001b[1;33m\u001b[0m\u001b[1;33m\u001b[0m\u001b[0m\n\u001b[0m\u001b[0;32m   3654\u001b[0m         \u001b[1;32mexcept\u001b[0m \u001b[0mKeyError\u001b[0m \u001b[1;32mas\u001b[0m \u001b[0merr\u001b[0m\u001b[1;33m:\u001b[0m\u001b[1;33m\u001b[0m\u001b[1;33m\u001b[0m\u001b[0m\n",
      "\u001b[1;32m~\\anaconda3\\lib\\site-packages\\pandas\\_libs\\index.pyx\u001b[0m in \u001b[0;36mpandas._libs.index.IndexEngine.get_loc\u001b[1;34m()\u001b[0m\n",
      "\u001b[1;32m~\\anaconda3\\lib\\site-packages\\pandas\\_libs\\index.pyx\u001b[0m in \u001b[0;36mpandas._libs.index.IndexEngine.get_loc\u001b[1;34m()\u001b[0m\n",
      "\u001b[1;32mpandas\\_libs\\hashtable_class_helper.pxi\u001b[0m in \u001b[0;36mpandas._libs.hashtable.PyObjectHashTable.get_item\u001b[1;34m()\u001b[0m\n",
      "\u001b[1;32mpandas\\_libs\\hashtable_class_helper.pxi\u001b[0m in \u001b[0;36mpandas._libs.hashtable.PyObjectHashTable.get_item\u001b[1;34m()\u001b[0m\n",
      "\u001b[1;31mKeyError\u001b[0m: 'Km rodados'",
      "\nThe above exception was the direct cause of the following exception:\n",
      "\u001b[1;31mKeyError\u001b[0m                                  Traceback (most recent call last)",
      "\u001b[1;32m<ipython-input-10-c456e97fecb5>\u001b[0m in \u001b[0;36m<module>\u001b[1;34m\u001b[0m\n\u001b[0;32m      1\u001b[0m \u001b[1;31m#Usando list com map funciona\u001b[0m\u001b[1;33m\u001b[0m\u001b[1;33m\u001b[0m\u001b[1;33m\u001b[0m\u001b[0m\n\u001b[1;32m----> 2\u001b[1;33m \u001b[0mdf_dados2\u001b[0m\u001b[1;33m[\u001b[0m\u001b[1;34m'Meia vida'\u001b[0m\u001b[1;33m]\u001b[0m\u001b[1;33m=\u001b[0m\u001b[0mlist\u001b[0m\u001b[1;33m(\u001b[0m\u001b[0mmap\u001b[0m\u001b[1;33m(\u001b[0m\u001b[1;32mlambda\u001b[0m \u001b[0mx\u001b[0m\u001b[1;33m:\u001b[0m \u001b[0mx\u001b[0m\u001b[1;33m/\u001b[0m\u001b[1;36m2\u001b[0m\u001b[1;33m,\u001b[0m \u001b[0mdf_dados2\u001b[0m\u001b[1;33m[\u001b[0m\u001b[1;34m'Km rodados'\u001b[0m\u001b[1;33m]\u001b[0m\u001b[1;33m)\u001b[0m\u001b[1;33m)\u001b[0m\u001b[1;33m\u001b[0m\u001b[1;33m\u001b[0m\u001b[0m\n\u001b[0m\u001b[0;32m      3\u001b[0m \u001b[0mdf_dados2\u001b[0m\u001b[1;33m\u001b[0m\u001b[1;33m\u001b[0m\u001b[0m\n",
      "\u001b[1;32m~\\anaconda3\\lib\\site-packages\\pandas\\core\\frame.py\u001b[0m in \u001b[0;36m__getitem__\u001b[1;34m(self, key)\u001b[0m\n\u001b[0;32m   3759\u001b[0m             \u001b[1;32mif\u001b[0m \u001b[0mself\u001b[0m\u001b[1;33m.\u001b[0m\u001b[0mcolumns\u001b[0m\u001b[1;33m.\u001b[0m\u001b[0mnlevels\u001b[0m \u001b[1;33m>\u001b[0m \u001b[1;36m1\u001b[0m\u001b[1;33m:\u001b[0m\u001b[1;33m\u001b[0m\u001b[1;33m\u001b[0m\u001b[0m\n\u001b[0;32m   3760\u001b[0m                 \u001b[1;32mreturn\u001b[0m \u001b[0mself\u001b[0m\u001b[1;33m.\u001b[0m\u001b[0m_getitem_multilevel\u001b[0m\u001b[1;33m(\u001b[0m\u001b[0mkey\u001b[0m\u001b[1;33m)\u001b[0m\u001b[1;33m\u001b[0m\u001b[1;33m\u001b[0m\u001b[0m\n\u001b[1;32m-> 3761\u001b[1;33m             \u001b[0mindexer\u001b[0m \u001b[1;33m=\u001b[0m \u001b[0mself\u001b[0m\u001b[1;33m.\u001b[0m\u001b[0mcolumns\u001b[0m\u001b[1;33m.\u001b[0m\u001b[0mget_loc\u001b[0m\u001b[1;33m(\u001b[0m\u001b[0mkey\u001b[0m\u001b[1;33m)\u001b[0m\u001b[1;33m\u001b[0m\u001b[1;33m\u001b[0m\u001b[0m\n\u001b[0m\u001b[0;32m   3762\u001b[0m             \u001b[1;32mif\u001b[0m \u001b[0mis_integer\u001b[0m\u001b[1;33m(\u001b[0m\u001b[0mindexer\u001b[0m\u001b[1;33m)\u001b[0m\u001b[1;33m:\u001b[0m\u001b[1;33m\u001b[0m\u001b[1;33m\u001b[0m\u001b[0m\n\u001b[0;32m   3763\u001b[0m                 \u001b[0mindexer\u001b[0m \u001b[1;33m=\u001b[0m \u001b[1;33m[\u001b[0m\u001b[0mindexer\u001b[0m\u001b[1;33m]\u001b[0m\u001b[1;33m\u001b[0m\u001b[1;33m\u001b[0m\u001b[0m\n",
      "\u001b[1;32m~\\anaconda3\\lib\\site-packages\\pandas\\core\\indexes\\base.py\u001b[0m in \u001b[0;36mget_loc\u001b[1;34m(self, key)\u001b[0m\n\u001b[0;32m   3653\u001b[0m             \u001b[1;32mreturn\u001b[0m \u001b[0mself\u001b[0m\u001b[1;33m.\u001b[0m\u001b[0m_engine\u001b[0m\u001b[1;33m.\u001b[0m\u001b[0mget_loc\u001b[0m\u001b[1;33m(\u001b[0m\u001b[0mcasted_key\u001b[0m\u001b[1;33m)\u001b[0m\u001b[1;33m\u001b[0m\u001b[1;33m\u001b[0m\u001b[0m\n\u001b[0;32m   3654\u001b[0m         \u001b[1;32mexcept\u001b[0m \u001b[0mKeyError\u001b[0m \u001b[1;32mas\u001b[0m \u001b[0merr\u001b[0m\u001b[1;33m:\u001b[0m\u001b[1;33m\u001b[0m\u001b[1;33m\u001b[0m\u001b[0m\n\u001b[1;32m-> 3655\u001b[1;33m             \u001b[1;32mraise\u001b[0m \u001b[0mKeyError\u001b[0m\u001b[1;33m(\u001b[0m\u001b[0mkey\u001b[0m\u001b[1;33m)\u001b[0m \u001b[1;32mfrom\u001b[0m \u001b[0merr\u001b[0m\u001b[1;33m\u001b[0m\u001b[1;33m\u001b[0m\u001b[0m\n\u001b[0m\u001b[0;32m   3656\u001b[0m         \u001b[1;32mexcept\u001b[0m \u001b[0mTypeError\u001b[0m\u001b[1;33m:\u001b[0m\u001b[1;33m\u001b[0m\u001b[1;33m\u001b[0m\u001b[0m\n\u001b[0;32m   3657\u001b[0m             \u001b[1;31m# If we have a listlike key, _check_indexing_error will raise\u001b[0m\u001b[1;33m\u001b[0m\u001b[1;33m\u001b[0m\u001b[1;33m\u001b[0m\u001b[0m\n",
      "\u001b[1;31mKeyError\u001b[0m: 'Km rodados'"
     ]
    }
   ],
   "source": [
    "#Usando list com map funciona\n",
    "df_dados2['Meia vida']=list(map(lambda x: x/2, df_dados2['Km rodados']))\n",
    "df_dados2"
   ]
  },
  {
   "cell_type": "code",
   "execution_count": null,
   "id": "725d5919",
   "metadata": {},
   "outputs": [],
   "source": [
    "#Usando Series com map não funciona\n",
    "df_dados2['Meia vida']=pd.Series(map(lambda x: x/2, df_dados2['Km rodados']) )\n",
    "df_dados2"
   ]
  },
  {
   "cell_type": "code",
   "execution_count": null,
   "id": "dc20e195",
   "metadata": {},
   "outputs": [],
   "source": [
    "df = pd.DataFrame([[4, 9]] * 3, columns=['A', 'B'])\n",
    "df"
   ]
  },
  {
   "cell_type": "code",
   "execution_count": null,
   "id": "149152a2",
   "metadata": {},
   "outputs": [],
   "source": [
    "df.apply(lambda x: [1, 2], axis=0)"
   ]
  },
  {
   "cell_type": "code",
   "execution_count": null,
   "id": "ccc6b62b",
   "metadata": {},
   "outputs": [],
   "source": [
    "df.apply(lambda x: [1, 2], axis=1)"
   ]
  },
  {
   "cell_type": "code",
   "execution_count": null,
   "id": "37c481a8",
   "metadata": {},
   "outputs": [],
   "source": [
    "df['C'] = df.apply( lambda x: [1,2], axis=1)\n",
    "df"
   ]
  },
  {
   "cell_type": "code",
   "execution_count": null,
   "id": "5dee0039",
   "metadata": {},
   "outputs": [],
   "source": [
    "df.apply(lambda x: [1,2], axis=1, result_type='expand')"
   ]
  },
  {
   "cell_type": "code",
   "execution_count": null,
   "id": "1a62bb31",
   "metadata": {},
   "outputs": [],
   "source": [
    "df[['D','E']]=df.apply(lambda x: [1,2], axis=1, result_type='expand')\n",
    "df"
   ]
  },
  {
   "cell_type": "code",
   "execution_count": null,
   "id": "7d2327ea",
   "metadata": {},
   "outputs": [],
   "source": [
    "type(df.apply(lambda x:[1,2], axis=1, result_type='expand'))"
   ]
  },
  {
   "cell_type": "code",
   "execution_count": null,
   "id": "40e10c01",
   "metadata": {},
   "outputs": [],
   "source": [
    "type(df.apply(lambda x: [1,2], axis=1))"
   ]
  },
  {
   "cell_type": "code",
   "execution_count": null,
   "id": "ae7e1486",
   "metadata": {},
   "outputs": [],
   "source": [
    "pd.Series([3,4], index=['E','F'])"
   ]
  },
  {
   "cell_type": "code",
   "execution_count": null,
   "id": "e3c85089",
   "metadata": {},
   "outputs": [],
   "source": [
    "df.apply(lambda x: pd.Series([3,4], index=['F','G']), axis=1)"
   ]
  },
  {
   "cell_type": "code",
   "execution_count": null,
   "id": "5bf4ed39",
   "metadata": {},
   "outputs": [],
   "source": [
    "df[['F','G']]=df.apply(lambda x: pd.Series([3,4], index=['F','G']), axis=1)\n",
    "df"
   ]
  },
  {
   "cell_type": "markdown",
   "id": "9aa6f920",
   "metadata": {},
   "source": [
    "list comprehension x, y for x in ..."
   ]
  },
  {
   "cell_type": "code",
   "execution_count": null,
   "id": "83ccd3af",
   "metadata": {},
   "outputs": [],
   "source": [
    "df2 = [1,2,3,4,5]\n",
    "df2\n"
   ]
  },
  {
   "cell_type": "code",
   "execution_count": null,
   "id": "ab7ee8b7",
   "metadata": {
    "scrolled": true
   },
   "outputs": [],
   "source": [
    "x = []\n",
    "for a in df2:\n",
    "    if a > 3:\n",
    "        x.append(a*2)\n",
    "print(x)"
   ]
  },
  {
   "cell_type": "code",
   "execution_count": null,
   "id": "09963b38",
   "metadata": {},
   "outputs": [],
   "source": [
    "x = [a*2 for a in df2 if a > 3]\n",
    "x"
   ]
  },
  {
   "cell_type": "markdown",
   "id": "9fcddd5e",
   "metadata": {},
   "source": [
    "concat"
   ]
  },
  {
   "cell_type": "code",
   "execution_count": null,
   "id": "025a04c4",
   "metadata": {},
   "outputs": [],
   "source": []
  },
  {
   "cell_type": "markdown",
   "id": "c4801bd9",
   "metadata": {},
   "source": [
    "# Agregate agg"
   ]
  },
  {
   "cell_type": "code",
   "execution_count": null,
   "id": "1e3c758e",
   "metadata": {},
   "outputs": [],
   "source": [
    "import pandas as pd\n",
    "df = pd.DataFrame({'foo':['a','b','c'], 'bar':[1, 2, 3]})\n",
    "\n",
    "df['baz'] = df.agg('{0[bar]} is {0[foo]}'.format, axis=1)\n",
    "df"
   ]
  },
  {
   "cell_type": "markdown",
   "id": "e31f54e5",
   "metadata": {},
   "source": [
    "append series, dicionarios, listas"
   ]
  },
  {
   "cell_type": "markdown",
   "id": "4480de7f",
   "metadata": {},
   "source": [
    "adicionar linha usando loc ou iloc"
   ]
  },
  {
   "cell_type": "markdown",
   "id": "5f29bda3",
   "metadata": {},
   "source": [
    "labels e axis x index e columns"
   ]
  },
  {
   "cell_type": "markdown",
   "id": "0938fd95",
   "metadata": {},
   "source": [
    "negação ~, or | , xor"
   ]
  },
  {
   "cell_type": "markdown",
   "id": "32eb605e",
   "metadata": {},
   "source": [
    "para o df todo preciso usar o copy ao invés do =. Para a coluna tem diferença?"
   ]
  },
  {
   "cell_type": "markdown",
   "id": "ac2044cf",
   "metadata": {},
   "source": [
    "del df todo ou apenas coluna, linha, selecao"
   ]
  },
  {
   "cell_type": "markdown",
   "id": "e5ad3dfc",
   "metadata": {},
   "source": [
    "reset_index"
   ]
  },
  {
   "cell_type": "markdown",
   "id": "8a443786",
   "metadata": {},
   "source": [
    "Trocar nome coluna"
   ]
  },
  {
   "cell_type": "markdown",
   "id": "3c87436c",
   "metadata": {},
   "source": [
    "rename"
   ]
  },
  {
   "cell_type": "markdown",
   "id": "f2d1307f",
   "metadata": {},
   "source": [
    "unique"
   ]
  },
  {
   "cell_type": "markdown",
   "id": "e9a13b23",
   "metadata": {},
   "source": [
    "value_counts"
   ]
  },
  {
   "cell_type": "markdown",
   "id": "d5ae9840",
   "metadata": {},
   "source": [
    "min, max, mean, sum"
   ]
  },
  {
   "cell_type": "markdown",
   "id": "78828221",
   "metadata": {},
   "source": [
    "describe"
   ]
  },
  {
   "cell_type": "markdown",
   "id": "5db2bc17",
   "metadata": {},
   "source": [
    "corr() correlacao"
   ]
  },
  {
   "cell_type": "markdown",
   "id": "4a9ce1f3",
   "metadata": {},
   "source": [
    "quando aceita ter 2 índices (ex linhas) e qndo não aceita?"
   ]
  },
  {
   "cell_type": "markdown",
   "id": "09585d3d",
   "metadata": {},
   "source": [
    "Quando aceita ter valores duplicados nos índices"
   ]
  },
  {
   "cell_type": "markdown",
   "id": "9f64af40",
   "metadata": {},
   "source": [
    "groupby groups"
   ]
  },
  {
   "cell_type": "markdown",
   "id": "db422bd4",
   "metadata": {},
   "source": [
    "to_frame"
   ]
  },
  {
   "cell_type": "markdown",
   "id": "42437e58",
   "metadata": {},
   "source": [
    "multiIndex"
   ]
  },
  {
   "cell_type": "markdown",
   "id": "50ab9d83",
   "metadata": {},
   "source": [
    "# Numpy"
   ]
  },
  {
   "cell_type": "markdown",
   "id": "580cabc3",
   "metadata": {},
   "source": [
    "Array"
   ]
  },
  {
   "cell_type": "markdown",
   "id": "8ac3d4a7",
   "metadata": {},
   "source": [
    "Dtype\n"
   ]
  },
  {
   "cell_type": "code",
   "execution_count": null,
   "id": "a7ad7483",
   "metadata": {},
   "outputs": [],
   "source": []
  }
 ],
 "metadata": {
  "kernelspec": {
   "display_name": "Python 3",
   "language": "python",
   "name": "python3"
  },
  "language_info": {
   "codemirror_mode": {
    "name": "ipython",
    "version": 3
   },
   "file_extension": ".py",
   "mimetype": "text/x-python",
   "name": "python",
   "nbconvert_exporter": "python",
   "pygments_lexer": "ipython3",
   "version": "3.8.8"
  }
 },
 "nbformat": 4,
 "nbformat_minor": 5
}
